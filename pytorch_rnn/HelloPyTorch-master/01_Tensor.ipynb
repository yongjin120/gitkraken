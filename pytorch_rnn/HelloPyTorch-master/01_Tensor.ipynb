{
 "cells": [
  {
   "cell_type": "markdown",
   "metadata": {},
   "source": [
    "# 01_Tensor"
   ]
  },
  {
   "cell_type": "code",
   "execution_count": 5,
   "metadata": {
    "ExecuteTime": {
     "end_time": "2017-08-07T06:25:48.811809Z",
     "start_time": "2017-08-07T06:25:48.323161Z"
    }
   },
   "outputs": [
    {
     "data": {
      "text/plain": [
       "<torch._C.Generator at 0x7f3cfc2d03a8>"
      ]
     },
     "execution_count": 5,
     "metadata": {},
     "output_type": "execute_result"
    }
   ],
   "source": [
    "import numpy as np\n",
    "import torch \n",
    "torch.manual_seed(1)"
   ]
  },
  {
   "cell_type": "markdown",
   "metadata": {},
   "source": [
    "## Tensor is a matrix!"
   ]
  },
  {
   "cell_type": "code",
   "execution_count": 9,
   "metadata": {
    "ExecuteTime": {
     "end_time": "2017-08-07T06:25:49.903875Z",
     "start_time": "2017-08-07T06:25:49.890816Z"
    },
    "scrolled": true
   },
   "outputs": [
    {
     "data": {
      "text/plain": [
       "\n",
       " 3.2882e-25  4.5644e-41\n",
       " 3.2882e-25  4.5644e-41\n",
       "[torch.FloatTensor of size 2x2]"
      ]
     },
     "execution_count": 9,
     "metadata": {},
     "output_type": "execute_result"
    }
   ],
   "source": [
    "x = torch.Tensor(2,2) # 2D Tensor\n",
    "x"
   ]
  },
  {
   "cell_type": "code",
   "execution_count": 10,
   "metadata": {},
   "outputs": [
    {
     "data": {
      "text/plain": [
       "('torch.FloatTensor', torch.Size([2, 2]), 4)"
      ]
     },
     "execution_count": 10,
     "metadata": {},
     "output_type": "execute_result"
    }
   ],
   "source": [
    "x.type(), x.size(), x.numel()"
   ]
  },
  {
   "cell_type": "code",
   "execution_count": 12,
   "metadata": {
    "ExecuteTime": {
     "end_time": "2017-08-07T06:25:50.515647Z",
     "start_time": "2017-08-07T06:25:50.505238Z"
    }
   },
   "outputs": [
    {
     "data": {
      "text/plain": [
       "\n",
       "(0 ,.,.) = \n",
       "1.00000e-25 *\n",
       "   3.2882  0.0000  3.2882\n",
       "   0.0000  0.0000  0.0000\n",
       "   0.0000  0.0000  0.0000\n",
       "\n",
       "(1 ,.,.) = \n",
       "1.00000e-25 *\n",
       "   0.0000  0.0000  0.0000\n",
       "   0.0000  0.0000  0.0000\n",
       "   0.0000  0.0000  0.0000\n",
       "\n",
       "(2 ,.,.) = \n",
       "1.00000e-25 *\n",
       "   0.0000  0.0000  0.0000\n",
       "   0.0000  0.0000  0.0000\n",
       "   0.0000  0.0000  0.0000\n",
       "[torch.FloatTensor of size 3x3x3]"
      ]
     },
     "execution_count": 12,
     "metadata": {},
     "output_type": "execute_result"
    }
   ],
   "source": [
    "y = torch.Tensor(3,3,3) # 3D Tensor\n",
    "y"
   ]
  },
  {
   "cell_type": "code",
   "execution_count": 13,
   "metadata": {},
   "outputs": [
    {
     "data": {
      "text/plain": [
       "('torch.FloatTensor', torch.Size([3, 3, 3]), 27)"
      ]
     },
     "execution_count": 13,
     "metadata": {},
     "output_type": "execute_result"
    }
   ],
   "source": [
    "y.type(), y.size(), y.numel()"
   ]
  },
  {
   "cell_type": "markdown",
   "metadata": {
    "ExecuteTime": {
     "end_time": "2017-08-03T12:34:51.726159Z",
     "start_time": "2017-08-03T12:34:51.718763Z"
    }
   },
   "source": [
    "## A few other methods to create a Tensor"
   ]
  },
  {
   "cell_type": "code",
   "execution_count": 15,
   "metadata": {
    "ExecuteTime": {
     "end_time": "2017-08-07T06:25:51.175067Z",
     "start_time": "2017-08-07T06:25:51.165429Z"
    }
   },
   "outputs": [
    {
     "data": {
      "text/plain": [
       "(\n",
       "  1  1  1\n",
       "  1  1  1\n",
       "  1  1  1\n",
       " [torch.FloatTensor of size 3x3], \n",
       "  0  0  0\n",
       "  0  0  0\n",
       "  0  0  0\n",
       " [torch.FloatTensor of size 3x3], \n",
       "  1  0  0\n",
       "  0  1  0\n",
       "  0  0  1\n",
       " [torch.FloatTensor of size 3x3], \n",
       "  0.0923  0.3966  0.1863\n",
       "  0.3879  0.3456  0.6697\n",
       "  0.3968  0.9355  0.5388\n",
       " [torch.FloatTensor of size 3x3], \n",
       "  0.5848  0.5930 -0.8573\n",
       " -0.5887  1.4019 -0.6683\n",
       " -0.1039 -1.9235  0.7137\n",
       " [torch.FloatTensor of size 3x3])"
      ]
     },
     "execution_count": 15,
     "metadata": {},
     "output_type": "execute_result"
    }
   ],
   "source": [
    "torch.ones(3,3), torch.zeros(3,3), torch.eye(3,3), torch.rand(3,3), torch.randn(3,3) # pre-defined"
   ]
  },
  {
   "cell_type": "code",
   "execution_count": 20,
   "metadata": {
    "ExecuteTime": {
     "end_time": "2017-08-07T06:25:51.655449Z",
     "start_time": "2017-08-07T06:25:51.648961Z"
    }
   },
   "outputs": [
    {
     "data": {
      "text/plain": [
       "\n",
       " 0.0000\n",
       " 0.5000\n",
       " 1.0000\n",
       " 1.5000\n",
       " 2.0000\n",
       " 2.5000\n",
       "[torch.FloatTensor of size 6]"
      ]
     },
     "execution_count": 20,
     "metadata": {},
     "output_type": "execute_result"
    }
   ],
   "source": [
    "torch.arange(0, 3, step=0.5) # This is Vector, Not a Matrix, Don't Get Confused"
   ]
  },
  {
   "cell_type": "code",
   "execution_count": 23,
   "metadata": {
    "ExecuteTime": {
     "end_time": "2017-08-07T06:25:52.090228Z",
     "start_time": "2017-08-07T06:25:52.082982Z"
    }
   },
   "outputs": [
    {
     "data": {
      "text/plain": [
       "\n",
       " 1  2\n",
       " 3  4\n",
       " 5  6\n",
       "[torch.FloatTensor of size 3x2]"
      ]
     },
     "execution_count": 23,
     "metadata": {},
     "output_type": "execute_result"
    }
   ],
   "source": [
    "torch.Tensor([[1,2],[3,4],[5,6]]) # Tensor with User-Input (multi-dimentional list)"
   ]
  },
  {
   "cell_type": "code",
   "execution_count": 25,
   "metadata": {
    "ExecuteTime": {
     "end_time": "2017-08-07T06:25:52.530553Z",
     "start_time": "2017-08-07T06:25:52.522735Z"
    }
   },
   "outputs": [
    {
     "data": {
      "text/plain": [
       "\n",
       " 5  6\n",
       " 7  8\n",
       "[torch.LongTensor of size 2x2]"
      ]
     },
     "execution_count": 25,
     "metadata": {},
     "output_type": "execute_result"
    }
   ],
   "source": [
    "numpy_matrix = np.array([[5,6],[7,8]])\n",
    "torch.from_numpy(numpy_matrix) # Cerate Tensor with numpy matrix"
   ]
  },
  {
   "cell_type": "markdown",
   "metadata": {},
   "source": [
    "## Slicing, Concatenating, and Masking Tensor"
   ]
  },
  {
   "cell_type": "code",
   "execution_count": 26,
   "metadata": {
    "ExecuteTime": {
     "end_time": "2017-08-07T06:25:53.241768Z",
     "start_time": "2017-08-07T06:25:53.231854Z"
    }
   },
   "outputs": [
    {
     "data": {
      "text/plain": [
       "\n",
       " 1  1  1\n",
       " 2  2  2\n",
       " 3  3  3\n",
       "[torch.FloatTensor of size 3x3]"
      ]
     },
     "execution_count": 26,
     "metadata": {},
     "output_type": "execute_result"
    }
   ],
   "source": [
    "x = torch.Tensor([[1,1,1],[2,2,2],[3,3,3]])\n",
    "x"
   ]
  },
  {
   "cell_type": "code",
   "execution_count": 27,
   "metadata": {},
   "outputs": [
    {
     "data": {
      "text/plain": [
       "\n",
       " 1  1  1\n",
       " 2  2  2\n",
       "[torch.FloatTensor of size 2x3]"
      ]
     },
     "execution_count": 27,
     "metadata": {},
     "output_type": "execute_result"
    }
   ],
   "source": [
    "x[0:2,:]"
   ]
  },
  {
   "cell_type": "code",
   "execution_count": 29,
   "metadata": {},
   "outputs": [
    {
     "data": {
      "text/plain": [
       "\n",
       " 1\n",
       " 2\n",
       " 3\n",
       "[torch.FloatTensor of size 3]"
      ]
     },
     "execution_count": 29,
     "metadata": {},
     "output_type": "execute_result"
    }
   ],
   "source": [
    "x[0:3,0]"
   ]
  },
  {
   "cell_type": "code",
   "execution_count": 30,
   "metadata": {
    "ExecuteTime": {
     "end_time": "2017-08-07T06:25:53.625479Z",
     "start_time": "2017-08-07T06:25:53.617643Z"
    }
   },
   "outputs": [
    {
     "data": {
      "text/plain": [
       "\n",
       " 0  0  0\n",
       " 2  2  2\n",
       " 3  3  3\n",
       "[torch.FloatTensor of size 3x3]"
      ]
     },
     "execution_count": 30,
     "metadata": {},
     "output_type": "execute_result"
    }
   ],
   "source": [
    "x[0,:] = torch.Tensor([0,0,0])\n",
    "x"
   ]
  },
  {
   "cell_type": "code",
   "execution_count": 37,
   "metadata": {
    "ExecuteTime": {
     "end_time": "2017-08-07T06:25:53.908358Z",
     "start_time": "2017-08-07T06:25:53.901740Z"
    },
    "scrolled": true
   },
   "outputs": [
    {
     "data": {
      "text/plain": [
       "(\n",
       "  0  0  0\n",
       " [torch.FloatTensor of size 1x3], \n",
       "  2  2  2\n",
       " [torch.FloatTensor of size 1x3], \n",
       "  3  3  3\n",
       " [torch.FloatTensor of size 1x3])"
      ]
     },
     "execution_count": 37,
     "metadata": {},
     "output_type": "execute_result"
    }
   ],
   "source": [
    "split_x = torch.split(x, split_size=1, dim=0) # Return Tuple of splited tesnors\n",
    "split_x"
   ]
  },
  {
   "cell_type": "code",
   "execution_count": 11,
   "metadata": {
    "ExecuteTime": {
     "end_time": "2017-08-07T06:25:54.257571Z",
     "start_time": "2017-08-07T06:25:54.250946Z"
    }
   },
   "outputs": [
    {
     "data": {
      "text/plain": [
       "\n",
       " 0  0  0\n",
       " 2  2  2\n",
       " 3  3  3\n",
       "[torch.FloatTensor of size 3x3]"
      ]
     },
     "execution_count": 11,
     "metadata": {},
     "output_type": "execute_result"
    }
   ],
   "source": [
    "torch.cat(split, dim=0) # concatentae Tensor "
   ]
  },
  {
   "cell_type": "code",
   "execution_count": 12,
   "metadata": {
    "ExecuteTime": {
     "end_time": "2017-08-07T06:25:54.550388Z",
     "start_time": "2017-08-07T06:25:54.543416Z"
    },
    "scrolled": true
   },
   "outputs": [
    {
     "data": {
      "text/plain": [
       "\n",
       "(0 ,.,.) = \n",
       "  0  0  0\n",
       "  2  2  2\n",
       "  3  3  3\n",
       "[torch.FloatTensor of size 1x3x3]"
      ]
     },
     "execution_count": 12,
     "metadata": {},
     "output_type": "execute_result"
    }
   ],
   "source": [
    "torch.stack(split, dim=1) # concatenate Tensor with New dimenstion"
   ]
  },
  {
   "cell_type": "code",
   "execution_count": 40,
   "metadata": {
    "ExecuteTime": {
     "end_time": "2017-08-07T06:25:54.970773Z",
     "start_time": "2017-08-07T06:25:54.957336Z"
    }
   },
   "outputs": [
    {
     "data": {
      "text/plain": [
       "(\n",
       " -1.2331  0.3398 -0.4987\n",
       "  0.2320  0.6165 -0.2480\n",
       " [torch.FloatTensor of size 2x3], \n",
       "  0  0  1\n",
       "  0  1  0\n",
       " [torch.ByteTensor of size 2x3], \n",
       " -0.4987\n",
       "  0.6165\n",
       " [torch.FloatTensor of size 2])"
      ]
     },
     "execution_count": 40,
     "metadata": {},
     "output_type": "execute_result"
    }
   ],
   "source": [
    "# torch.masked_select(input, mask)\n",
    "\n",
    "x = torch.randn(2,3)\n",
    "\n",
    "mask = torch.ByteTensor([[0,0,1],[0,1,0]])\n",
    "\n",
    "out = torch.masked_select(x,mask) # Extracting Values with ByteType Index Tensor\n",
    "\n",
    "x, mask, out"
   ]
  },
  {
   "cell_type": "markdown",
   "metadata": {
    "ExecuteTime": {
     "end_time": "2017-08-03T13:05:51.955648Z",
     "start_time": "2017-08-03T13:05:51.948906Z"
    }
   },
   "source": [
    "## Reshaping on Dimension of Tensor"
   ]
  },
  {
   "cell_type": "code",
   "execution_count": 50,
   "metadata": {
    "ExecuteTime": {
     "end_time": "2017-08-07T06:25:55.730362Z",
     "start_time": "2017-08-07T06:25:55.716130Z"
    }
   },
   "outputs": [
    {
     "data": {
      "text/plain": [
       "\n",
       "(0 ,.,.) = \n",
       "  0  0\n",
       "\n",
       "(1 ,.,.) = \n",
       "  0  0\n",
       "[torch.FloatTensor of size 2x1x2]"
      ]
     },
     "execution_count": 50,
     "metadata": {},
     "output_type": "execute_result"
    }
   ],
   "source": [
    "x  = torch.zeros(2, 1, 2)\n",
    "x"
   ]
  },
  {
   "cell_type": "code",
   "execution_count": 15,
   "metadata": {
    "ExecuteTime": {
     "end_time": "2017-08-07T06:25:56.118363Z",
     "start_time": "2017-08-07T06:25:56.111824Z"
    }
   },
   "outputs": [
    {
     "data": {
      "text/plain": [
       "\n",
       " 0  0\n",
       " 0  0\n",
       "[torch.FloatTensor of size 2x2]"
      ]
     },
     "execution_count": 15,
     "metadata": {},
     "output_type": "execute_result"
    }
   ],
   "source": [
    "x.view(2,2) # Reahspe Tensor with view funciton"
   ]
  },
  {
   "cell_type": "code",
   "execution_count": 56,
   "metadata": {
    "ExecuteTime": {
     "end_time": "2017-08-07T06:25:56.526879Z",
     "start_time": "2017-08-07T06:25:56.519886Z"
    }
   },
   "outputs": [
    {
     "data": {
      "text/plain": [
       "\n",
       " 0\n",
       " 0\n",
       " 0\n",
       " 0\n",
       "[torch.FloatTensor of size 4]"
      ]
     },
     "execution_count": 56,
     "metadata": {},
     "output_type": "execute_result"
    }
   ],
   "source": [
    "x.view(-1) # -1 is special \"Don't Care\" symbol "
   ]
  },
  {
   "cell_type": "code",
   "execution_count": 54,
   "metadata": {
    "ExecuteTime": {
     "end_time": "2017-08-07T06:25:56.899686Z",
     "start_time": "2017-08-07T06:25:56.892614Z"
    }
   },
   "outputs": [
    {
     "data": {
      "text/plain": [
       "\n",
       " 0  0  0  0\n",
       "[torch.FloatTensor of size 1x4]"
      ]
     },
     "execution_count": 54,
     "metadata": {},
     "output_type": "execute_result"
    }
   ],
   "source": [
    "x.view(-1,4) "
   ]
  },
  {
   "cell_type": "code",
   "execution_count": 55,
   "metadata": {},
   "outputs": [
    {
     "data": {
      "text/plain": [
       "\n",
       " 0\n",
       " 0\n",
       " 0\n",
       " 0\n",
       "[torch.FloatTensor of size 4x1]"
      ]
     },
     "execution_count": 55,
     "metadata": {},
     "output_type": "execute_result"
    }
   ],
   "source": [
    "x.view(4,-1)"
   ]
  },
  {
   "cell_type": "code",
   "execution_count": 61,
   "metadata": {},
   "outputs": [
    {
     "data": {
      "text/plain": [
       "\n",
       " 0  0\n",
       " 0  0\n",
       "[torch.FloatTensor of size 2x2]"
      ]
     },
     "execution_count": 61,
     "metadata": {},
     "output_type": "execute_result"
    }
   ],
   "source": [
    "y = x.squeeze()  # remove dimension of 1 \n",
    "y"
   ]
  },
  {
   "cell_type": "code",
   "execution_count": 67,
   "metadata": {
    "ExecuteTime": {
     "end_time": "2017-08-07T06:25:57.326572Z",
     "start_time": "2017-08-07T06:25:57.319798Z"
    }
   },
   "outputs": [
    {
     "data": {
      "text/plain": [
       "\n",
       "(0 ,.,.) = \n",
       "  0  0\n",
       "\n",
       "(1 ,.,.) = \n",
       "  0  0\n",
       "[torch.FloatTensor of size 2x1x2]"
      ]
     },
     "execution_count": 67,
     "metadata": {},
     "output_type": "execute_result"
    }
   ],
   "source": [
    "y.unsqueeze(1)  # insert dimension of 1"
   ]
  },
  {
   "cell_type": "markdown",
   "metadata": {},
   "source": [
    "## Tensor Operations"
   ]
  },
  {
   "cell_type": "markdown",
   "metadata": {},
   "source": [
    "### Arthmetic Operations"
   ]
  },
  {
   "cell_type": "code",
   "execution_count": 73,
   "metadata": {
    "ExecuteTime": {
     "end_time": "2017-08-07T06:25:58.504661Z",
     "start_time": "2017-08-07T06:25:58.491969Z"
    }
   },
   "outputs": [
    {
     "data": {
      "text/plain": [
       "(\n",
       "  1  2  3\n",
       "  4  5  6\n",
       " [torch.FloatTensor of size 2x3], \n",
       "  1  2  3\n",
       "  4  5  6\n",
       " [torch.FloatTensor of size 2x3])"
      ]
     },
     "execution_count": 73,
     "metadata": {},
     "output_type": "execute_result"
    }
   ],
   "source": [
    "x1 = torch.FloatTensor([[1,2,3],[4,5,6]])\n",
    "x2 = torch.FloatTensor([[1,2,3],[4,5,6]])\n",
    "x1, x2"
   ]
  },
  {
   "cell_type": "code",
   "execution_count": 74,
   "metadata": {},
   "outputs": [
    {
     "data": {
      "text/plain": [
       "(\n",
       "   2   4   6\n",
       "   8  10  12\n",
       " [torch.FloatTensor of size 2x3], \n",
       "   2   4   6\n",
       "   8  10  12\n",
       " [torch.FloatTensor of size 2x3], \n",
       "   2   4   6\n",
       "   8  10  12\n",
       " [torch.FloatTensor of size 2x3])"
      ]
     },
     "execution_count": 74,
     "metadata": {},
     "output_type": "execute_result"
    }
   ],
   "source": [
    "x1 + x2 , x1.add(x2), torch.add(x1,x2)"
   ]
  },
  {
   "cell_type": "code",
   "execution_count": 69,
   "metadata": {
    "ExecuteTime": {
     "end_time": "2017-08-07T06:25:58.849426Z",
     "start_time": "2017-08-07T06:25:58.843613Z"
    }
   },
   "outputs": [
    {
     "data": {
      "text/plain": [
       "\n",
       " 11  12  13\n",
       " 14  15  16\n",
       "[torch.FloatTensor of size 2x3]"
      ]
     },
     "execution_count": 69,
     "metadata": {},
     "output_type": "execute_result"
    }
   ],
   "source": [
    "x1 + 10 # broadingcasting"
   ]
  },
  {
   "cell_type": "code",
   "execution_count": 70,
   "metadata": {
    "ExecuteTime": {
     "end_time": "2017-08-07T06:25:59.151399Z",
     "start_time": "2017-08-07T06:25:59.144094Z"
    }
   },
   "outputs": [
    {
     "data": {
      "text/plain": [
       "(\n",
       "   1   4   9\n",
       "  16  25  36\n",
       " [torch.FloatTensor of size 2x3], \n",
       "   1   4   9\n",
       "  16  25  36\n",
       " [torch.FloatTensor of size 2x3], \n",
       "   1   4   9\n",
       "  16  25  36\n",
       " [torch.FloatTensor of size 2x3])"
      ]
     },
     "execution_count": 70,
     "metadata": {},
     "output_type": "execute_result"
    }
   ],
   "source": [
    "x1 * x2, x1.mul(x2), torch.mul(x1,x2) # Element-wise multiplication"
   ]
  },
  {
   "cell_type": "code",
   "execution_count": 71,
   "metadata": {
    "ExecuteTime": {
     "end_time": "2017-08-07T06:25:59.375870Z",
     "start_time": "2017-08-07T06:25:59.369448Z"
    }
   },
   "outputs": [
    {
     "data": {
      "text/plain": [
       "\n",
       " 10  20  30\n",
       " 40  50  60\n",
       "[torch.FloatTensor of size 2x3]"
      ]
     },
     "execution_count": 71,
     "metadata": {},
     "output_type": "execute_result"
    }
   ],
   "source": [
    "x1 * 10 # broadingcasting"
   ]
  },
  {
   "cell_type": "markdown",
   "metadata": {},
   "source": [
    "### Other useful math Operation"
   ]
  },
  {
   "cell_type": "code",
   "execution_count": 75,
   "metadata": {
    "ExecuteTime": {
     "end_time": "2017-08-07T06:25:59.910756Z",
     "start_time": "2017-08-07T06:25:59.902649Z"
    }
   },
   "outputs": [
    {
     "data": {
      "text/plain": [
       "(\n",
       "   1   4   9\n",
       "  16  25  36\n",
       " [torch.FloatTensor of size 2x3], \n",
       "   1   4   9\n",
       "  16  25  36\n",
       " [torch.FloatTensor of size 2x3], \n",
       "   1   4   9\n",
       "  16  25  36\n",
       " [torch.FloatTensor of size 2x3])"
      ]
     },
     "execution_count": 75,
     "metadata": {},
     "output_type": "execute_result"
    }
   ],
   "source": [
    "x1.pow(2), torch.pow(x1,2), x1**2 # elementwise Power operation"
   ]
  },
  {
   "cell_type": "code",
   "execution_count": 81,
   "metadata": {},
   "outputs": [
    {
     "data": {
      "text/plain": [
       "\n",
       " 1.0000  1.4142  1.7321\n",
       " 2.0000  2.2361  2.4495\n",
       "[torch.FloatTensor of size 2x3]"
      ]
     },
     "execution_count": 81,
     "metadata": {},
     "output_type": "execute_result"
    }
   ],
   "source": [
    "x1.sqrt() # element-wise square root"
   ]
  },
  {
   "cell_type": "code",
   "execution_count": 76,
   "metadata": {
    "ExecuteTime": {
     "end_time": "2017-08-07T06:26:00.178976Z",
     "start_time": "2017-08-07T06:26:00.172100Z"
    }
   },
   "outputs": [
    {
     "data": {
      "text/plain": [
       "(\n",
       "  0.0000  0.6931  1.0986\n",
       "  1.3863  1.6094  1.7918\n",
       " [torch.FloatTensor of size 2x3], \n",
       "  0.0000  0.6931  1.0986\n",
       "  1.3863  1.6094  1.7918\n",
       " [torch.FloatTensor of size 2x3])"
      ]
     },
     "execution_count": 76,
     "metadata": {},
     "output_type": "execute_result"
    }
   ],
   "source": [
    "x1.log(), torch.log(x1)"
   ]
  },
  {
   "cell_type": "code",
   "execution_count": 78,
   "metadata": {
    "ExecuteTime": {
     "end_time": "2017-08-07T06:26:00.390151Z",
     "start_time": "2017-08-07T06:26:00.384120Z"
    }
   },
   "outputs": [
    {
     "data": {
      "text/plain": [
       "(\n",
       "  1  0  1\n",
       "  0  1  0\n",
       " [torch.FloatTensor of size 2x3], \n",
       "  0.5000  1.0000  1.5000\n",
       "  2.0000  2.5000  3.0000\n",
       " [torch.FloatTensor of size 2x3])"
      ]
     },
     "execution_count": 78,
     "metadata": {},
     "output_type": "execute_result"
    }
   ],
   "source": [
    "x1 % 2,  x1 / 2"
   ]
  },
  {
   "cell_type": "code",
   "execution_count": 83,
   "metadata": {
    "ExecuteTime": {
     "end_time": "2017-08-07T06:26:00.586876Z",
     "start_time": "2017-08-07T06:26:00.578939Z"
    }
   },
   "outputs": [
    {
     "data": {
      "text/plain": [
       "(21.0, 6.0, 1.0, 3.5, 1.8708286933869707, \n",
       "  1  2  3\n",
       "  4  5  6\n",
       " [torch.FloatTensor of size 2x3])"
      ]
     },
     "execution_count": 83,
     "metadata": {},
     "output_type": "execute_result"
    }
   ],
   "source": [
    "x1.sum(), x1.max(), x1.min(), x1.mean(), x1.std(), x1.abs()"
   ]
  },
  {
   "cell_type": "code",
   "execution_count": 86,
   "metadata": {
    "ExecuteTime": {
     "end_time": "2017-08-07T06:26:00.789320Z",
     "start_time": "2017-08-07T06:26:00.781938Z"
    }
   },
   "outputs": [
    {
     "data": {
      "text/plain": [
       "(\n",
       "  4\n",
       "  5\n",
       "  6\n",
       " [torch.FloatTensor of size 3], \n",
       "  1\n",
       "  1\n",
       "  1\n",
       " [torch.LongTensor of size 3])"
      ]
     },
     "execution_count": 86,
     "metadata": {},
     "output_type": "execute_result"
    }
   ],
   "source": [
    "value, index = x1.max(0) # Find maximum index in the Tensor\n",
    "value, index"
   ]
  },
  {
   "cell_type": "markdown",
   "metadata": {},
   "source": [
    "### Matrix operations"
   ]
  },
  {
   "cell_type": "code",
   "execution_count": 88,
   "metadata": {
    "ExecuteTime": {
     "end_time": "2017-08-07T06:26:01.201823Z",
     "start_time": "2017-08-07T06:26:01.184287Z"
    }
   },
   "outputs": [
    {
     "data": {
      "text/plain": [
       "(\n",
       " -0.0849  2.4467 -0.6911 -4.5922 -0.6745\n",
       "  1.3303  0.6727  1.4115 -0.6136  0.9251\n",
       " -1.5624 -3.8531  1.9747  1.8572 -2.4631\n",
       " [torch.FloatTensor of size 3x5], \n",
       " -0.0849  2.4467 -0.6911 -4.5922 -0.6745\n",
       "  1.3303  0.6727  1.4115 -0.6136  0.9251\n",
       " -1.5624 -3.8531  1.9747  1.8572 -2.4631\n",
       " [torch.FloatTensor of size 3x5])"
      ]
     },
     "execution_count": 88,
     "metadata": {},
     "output_type": "execute_result"
    }
   ],
   "source": [
    "# torch.mm(mat1, mat2) -> matrix multiplication\n",
    "\n",
    "x1 = torch.randn(3,4)\n",
    "x2 = torch.randn(4,5)\n",
    "\n",
    "torch.mm(x1,x2), x1.mm(x2)"
   ]
  },
  {
   "cell_type": "code",
   "execution_count": 89,
   "metadata": {
    "ExecuteTime": {
     "end_time": "2017-08-07T06:26:01.394828Z",
     "start_time": "2017-08-07T06:26:01.383884Z"
    }
   },
   "outputs": [
    {
     "data": {
      "text/plain": [
       "(\n",
       "  0.1719\n",
       " -1.0797\n",
       " -1.8741\n",
       " [torch.FloatTensor of size 3], \n",
       "  0.1719\n",
       " -1.0797\n",
       " -1.8741\n",
       " [torch.FloatTensor of size 3])"
      ]
     },
     "execution_count": 89,
     "metadata": {},
     "output_type": "execute_result"
    }
   ],
   "source": [
    "# torch.mv(mat1, vector) -> matrix vector multiplication\n",
    "\n",
    "x = torch.randn(3,4)\n",
    "v = torch.randn(4)\n",
    "\n",
    "torch.mv(x,v), x.mv(v)"
   ]
  },
  {
   "cell_type": "code",
   "execution_count": 90,
   "metadata": {
    "ExecuteTime": {
     "end_time": "2017-08-07T06:26:01.629750Z",
     "start_time": "2017-08-07T06:26:01.619859Z"
    },
    "scrolled": true
   },
   "outputs": [
    {
     "data": {
      "text/plain": [
       "torch.Size([10, 3, 5])"
      ]
     },
     "execution_count": 90,
     "metadata": {},
     "output_type": "execute_result"
    }
   ],
   "source": [
    "# torch.bmm(batch1, batch2) -> batch matrix multiplication\n",
    "\n",
    "x1 = torch.randn(10,3,4)\n",
    "x2 = torch.randn(10,4,5)\n",
    "\n",
    "torch.bmm(x1,x2).size()"
   ]
  },
  {
   "cell_type": "code",
   "execution_count": 92,
   "metadata": {
    "ExecuteTime": {
     "end_time": "2017-08-07T06:26:01.882026Z",
     "start_time": "2017-08-07T06:26:01.871531Z"
    }
   },
   "outputs": [
    {
     "data": {
      "text/plain": [
       "-3.142329692840576"
      ]
     },
     "execution_count": 92,
     "metadata": {},
     "output_type": "execute_result"
    }
   ],
   "source": [
    "# torch.dot(tensor1,tensor2) -> dot product of two tensor\n",
    "\n",
    "x1 = torch.randn(2,2)\n",
    "x2 = torch.randn(2,2)\n",
    "\n",
    "torch.dot(x1.view(-1), x2.view(-1))"
   ]
  },
  {
   "cell_type": "code",
   "execution_count": 94,
   "metadata": {
    "ExecuteTime": {
     "end_time": "2017-08-07T06:26:02.082024Z",
     "start_time": "2017-08-07T06:26:02.073480Z"
    }
   },
   "outputs": [
    {
     "data": {
      "text/plain": [
       "(\n",
       "  0.8130  0.8287  1.2860 -0.4175\n",
       " -0.0689  0.1630  1.2832 -0.3919\n",
       "  0.2104  1.0454  0.0148  1.8148\n",
       " [torch.FloatTensor of size 3x4], \n",
       "  0.8130 -0.0689  0.2104\n",
       "  0.8287  0.1630  1.0454\n",
       "  1.2860  1.2832  0.0148\n",
       " -0.4175 -0.3919  1.8148\n",
       " [torch.FloatTensor of size 4x3])"
      ]
     },
     "execution_count": 94,
     "metadata": {},
     "output_type": "execute_result"
    }
   ],
   "source": [
    "# torch.t(matrix) -> transposed matrix\n",
    "\n",
    "x1 = torch.randn(3,4)\n",
    "\n",
    "x1, x1.t()"
   ]
  },
  {
   "cell_type": "code",
   "execution_count": 95,
   "metadata": {
    "ExecuteTime": {
     "end_time": "2017-08-07T06:26:02.304739Z",
     "start_time": "2017-08-07T06:26:02.290349Z"
    }
   },
   "outputs": [
    {
     "data": {
      "text/plain": [
       "\n",
       "  8.7900   9.9300   9.8300   5.4500   3.1600\n",
       "  6.1100   6.9100   5.0400  -0.2700   7.9800\n",
       " -9.1500  -7.9300   4.8600   4.8500   3.0100\n",
       "  9.5700   1.6400   8.8300   0.7400   5.8000\n",
       " -3.4900   4.0200   9.8000  10.0000   4.2700\n",
       "  9.8400   0.1500  -8.9900  -6.0200  -5.3100\n",
       "[torch.FloatTensor of size 6x5]"
      ]
     },
     "execution_count": 95,
     "metadata": {},
     "output_type": "execute_result"
    }
   ],
   "source": [
    "a = torch.Tensor([[8.79,  6.11, -9.15,  9.57, -3.49,  9.84],\n",
    "                  [9.93,  6.91, -7.93,  1.64,  4.02,  0.15],\n",
    "                  [9.83,  5.04,  4.86,  8.83,  9.80, -8.99],\n",
    "                  [5.45, -0.27,  4.85,  0.74, 10.00, -6.02],\n",
    "                  [3.16,  7.98,  3.01,  5.80,  4.27, -5.31]]).t()\n",
    "a"
   ]
  },
  {
   "cell_type": "code",
   "execution_count": 96,
   "metadata": {
    "ExecuteTime": {
     "end_time": "2017-08-07T06:26:02.498952Z",
     "start_time": "2017-08-07T06:26:02.490591Z"
    }
   },
   "outputs": [
    {
     "data": {
      "text/plain": [
       "(\n",
       " -0.5911  0.2632  0.3554  0.3143  0.2299\n",
       " -0.3976  0.2438 -0.2224 -0.7535 -0.3636\n",
       " -0.0335 -0.6003 -0.4508  0.2334 -0.3055\n",
       " -0.4297  0.2362 -0.6859  0.3319  0.1649\n",
       " -0.4697 -0.3509  0.3874  0.1587 -0.5183\n",
       "  0.2934  0.5763 -0.0209  0.3791 -0.6526\n",
       " [torch.FloatTensor of size 6x5], \n",
       "  27.4687\n",
       "  22.6432\n",
       "   8.5584\n",
       "   5.9857\n",
       "   2.0149\n",
       " [torch.FloatTensor of size 5], \n",
       " -0.2514  0.8148 -0.2606  0.3967 -0.2180\n",
       " -0.3968  0.3587  0.7008 -0.4507  0.1402\n",
       " -0.6922 -0.2489 -0.2208  0.2513  0.5891\n",
       " -0.3662 -0.3686  0.3859  0.4342 -0.6265\n",
       " -0.4076 -0.0980 -0.4933 -0.6227 -0.4396\n",
       " [torch.FloatTensor of size 5x5])"
      ]
     },
     "execution_count": 96,
     "metadata": {},
     "output_type": "execute_result"
    }
   ],
   "source": [
    "u, s, v = torch.svd(a)\n",
    "u, s, v"
   ]
  },
  {
   "cell_type": "code",
   "execution_count": 97,
   "metadata": {
    "ExecuteTime": {
     "end_time": "2017-08-07T06:26:02.749028Z",
     "start_time": "2017-08-07T06:26:02.741997Z"
    },
    "scrolled": true
   },
   "outputs": [
    {
     "data": {
      "text/plain": [
       "1.091761987481732e-05"
      ]
     },
     "execution_count": 97,
     "metadata": {},
     "output_type": "execute_result"
    }
   ],
   "source": [
    "torch.dist(a, torch.mm(torch.mm(u, torch.diag(s)), v.t()))"
   ]
  },
  {
   "cell_type": "markdown",
   "metadata": {},
   "source": [
    "## Tensor Data Type"
   ]
  },
  {
   "cell_type": "code",
   "execution_count": 98,
   "metadata": {
    "ExecuteTime": {
     "end_time": "2017-08-07T06:26:03.307054Z",
     "start_time": "2017-08-07T06:26:03.299854Z"
    }
   },
   "outputs": [
    {
     "data": {
      "text/plain": [
       "\n",
       " 0.8638  0.3152\n",
       " 0.2353  0.8929\n",
       "[torch.FloatTensor of size 2x2]"
      ]
     },
     "execution_count": 98,
     "metadata": {},
     "output_type": "execute_result"
    }
   ],
   "source": [
    "x = torch.rand(2,2)\n",
    "x"
   ]
  },
  {
   "cell_type": "code",
   "execution_count": 99,
   "metadata": {
    "ExecuteTime": {
     "end_time": "2017-08-07T06:26:03.547200Z",
     "start_time": "2017-08-07T06:26:03.540148Z"
    }
   },
   "outputs": [
    {
     "data": {
      "text/plain": [
       "\n",
       " 1\n",
       " 1\n",
       "[torch.LongTensor of size 2]"
      ]
     },
     "execution_count": 99,
     "metadata": {},
     "output_type": "execute_result"
    }
   ],
   "source": [
    "x = torch.LongTensor([1,1])\n",
    "x"
   ]
  },
  {
   "cell_type": "code",
   "execution_count": 100,
   "metadata": {
    "ExecuteTime": {
     "end_time": "2017-08-07T06:26:03.842014Z",
     "start_time": "2017-08-07T06:26:03.835772Z"
    }
   },
   "outputs": [
    {
     "data": {
      "text/plain": [
       "\n",
       " 1\n",
       " 1\n",
       "[torch.FloatTensor of size 2]"
      ]
     },
     "execution_count": 100,
     "metadata": {},
     "output_type": "execute_result"
    }
   ],
   "source": [
    "x.float()"
   ]
  },
  {
   "cell_type": "code",
   "execution_count": 101,
   "metadata": {
    "ExecuteTime": {
     "end_time": "2017-08-07T06:26:04.126380Z",
     "start_time": "2017-08-07T06:26:04.120664Z"
    }
   },
   "outputs": [
    {
     "data": {
      "text/plain": [
       "\n",
       " 1\n",
       " 1\n",
       "[torch.DoubleTensor of size 2]"
      ]
     },
     "execution_count": 101,
     "metadata": {},
     "output_type": "execute_result"
    }
   ],
   "source": [
    "x.double()"
   ]
  },
  {
   "cell_type": "code",
   "execution_count": 102,
   "metadata": {
    "ExecuteTime": {
     "end_time": "2017-08-07T06:26:04.387937Z",
     "start_time": "2017-08-07T06:26:04.381967Z"
    }
   },
   "outputs": [
    {
     "data": {
      "text/plain": [
       "\n",
       " 1\n",
       " 1\n",
       "[torch.ByteTensor of size 2]"
      ]
     },
     "execution_count": 102,
     "metadata": {},
     "output_type": "execute_result"
    }
   ],
   "source": [
    "x.byte()"
   ]
  },
  {
   "cell_type": "code",
   "execution_count": 103,
   "metadata": {
    "ExecuteTime": {
     "end_time": "2017-08-07T06:26:37.395758Z",
     "start_time": "2017-08-07T06:26:37.388196Z"
    }
   },
   "outputs": [
    {
     "data": {
      "text/plain": [
       "\n",
       " 1\n",
       " 1\n",
       "[torch.cuda.LongTensor of size 2 (GPU 0)]"
      ]
     },
     "execution_count": 103,
     "metadata": {},
     "output_type": "execute_result"
    }
   ],
   "source": [
    "x = x.cuda() # This only work if you have CUDA supported Device\n",
    "x"
   ]
  },
  {
   "cell_type": "code",
   "execution_count": 104,
   "metadata": {
    "ExecuteTime": {
     "end_time": "2017-08-07T06:26:38.042443Z",
     "start_time": "2017-08-07T06:26:38.035569Z"
    }
   },
   "outputs": [
    {
     "data": {
      "text/plain": [
       "\n",
       " 1\n",
       " 1\n",
       "[torch.LongTensor of size 2]"
      ]
     },
     "execution_count": 104,
     "metadata": {},
     "output_type": "execute_result"
    }
   ],
   "source": [
    "x = x.cpu()\n",
    "x"
   ]
  },
  {
   "cell_type": "code",
   "execution_count": 105,
   "metadata": {
    "ExecuteTime": {
     "end_time": "2017-08-07T06:26:38.474864Z",
     "start_time": "2017-08-07T06:26:38.468758Z"
    }
   },
   "outputs": [
    {
     "data": {
      "text/plain": [
       "array([1, 1])"
      ]
     },
     "execution_count": 105,
     "metadata": {},
     "output_type": "execute_result"
    }
   ],
   "source": [
    "x.numpy() # numpy array"
   ]
  },
  {
   "cell_type": "code",
   "execution_count": 106,
   "metadata": {
    "ExecuteTime": {
     "end_time": "2017-08-07T06:26:38.957279Z",
     "start_time": "2017-08-07T06:26:38.950221Z"
    }
   },
   "outputs": [
    {
     "data": {
      "text/plain": [
       "\n",
       " 2  3\n",
       " 1  2\n",
       "[torch.LongTensor of size 2x2]"
      ]
     },
     "execution_count": 106,
     "metadata": {},
     "output_type": "execute_result"
    }
   ],
   "source": [
    "torch.from_numpy(np.array([[2,3],[1,2]]))"
   ]
  },
  {
   "cell_type": "code",
   "execution_count": null,
   "metadata": {},
   "outputs": [],
   "source": []
  }
 ],
 "metadata": {
  "kernelspec": {
   "display_name": "Python [conda env:lab_conda]",
   "language": "python",
   "name": "conda-env-lab_conda-py"
  },
  "language_info": {
   "codemirror_mode": {
    "name": "ipython",
    "version": 3
   },
   "file_extension": ".py",
   "mimetype": "text/x-python",
   "name": "python",
   "nbconvert_exporter": "python",
   "pygments_lexer": "ipython3",
   "version": "3.6.2"
  }
 },
 "nbformat": 4,
 "nbformat_minor": 2
}
