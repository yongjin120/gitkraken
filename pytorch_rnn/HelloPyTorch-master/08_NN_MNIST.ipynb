{
 "cells": [
  {
   "cell_type": "markdown",
   "metadata": {},
   "source": [
    "# 08_NN_MNIST"
   ]
  },
  {
   "cell_type": "code",
   "execution_count": 1,
   "metadata": {
    "ExecuteTime": {
     "end_time": "2017-08-07T06:39:41.893651Z",
     "start_time": "2017-08-07T06:39:41.453855Z"
    }
   },
   "outputs": [
    {
     "data": {
      "text/plain": [
       "<torch._C.Generator at 0x7f5a207063a8>"
      ]
     },
     "execution_count": 1,
     "metadata": {},
     "output_type": "execute_result"
    }
   ],
   "source": [
    "# Pytorch Library\n",
    "import torch\n",
    "import torch.nn.init\n",
    "from torch.autograd import Variable\n",
    "\n"
   ]
  },
  {
   "cell_type": "code",
   "execution_count": 4,
   "metadata": {
    "ExecuteTime": {
     "end_time": "2017-08-07T06:39:41.958243Z",
     "start_time": "2017-08-07T06:39:41.896505Z"
    },
    "collapsed": true
   },
   "outputs": [
    {
     "data": {
      "text/plain": [
       "<torch._C.Generator at 0x7f5a207063a8>"
      ]
     },
     "execution_count": 4,
     "metadata": {},
     "output_type": "execute_result"
    }
   ],
   "source": [
    "import torchvision.utils as utils\n",
    "import torchvision.datasets as dsets\n",
    "import torchvision.transforms as transforms\n",
    "torch.manual_seed(777)  # reproducibility"
   ]
  },
  {
   "cell_type": "code",
   "execution_count": 5,
   "metadata": {
    "ExecuteTime": {
     "end_time": "2017-08-07T06:39:42.612257Z",
     "start_time": "2017-08-07T06:39:42.348121Z"
    },
    "collapsed": true
   },
   "outputs": [],
   "source": [
    "# Other Python Library\n",
    "%matplotlib inline\n",
    "import matplotlib.pyplot as plt\n",
    "import numpy as np\n",
    "import random"
   ]
  },
  {
   "cell_type": "markdown",
   "metadata": {},
   "source": [
    "### Loading MNIST dataset"
   ]
  },
  {
   "cell_type": "code",
   "execution_count": 6,
   "metadata": {
    "ExecuteTime": {
     "end_time": "2017-08-07T06:39:43.148791Z",
     "start_time": "2017-08-07T06:39:43.100958Z"
    },
    "collapsed": true
   },
   "outputs": [],
   "source": [
    "# MNIST dataset\n",
    "mnist_train = dsets.MNIST(root='data/',\n",
    "                          train=True,\n",
    "                          transform=transforms.ToTensor(),\n",
    "                          download=True)\n",
    "\n",
    "mnist_test = dsets.MNIST(root='data/',\n",
    "                         train=False,\n",
    "                         transform=transforms.ToTensor(),\n",
    "                         download=True)"
   ]
  },
  {
   "cell_type": "code",
   "execution_count": 7,
   "metadata": {
    "ExecuteTime": {
     "end_time": "2017-08-07T06:39:43.754090Z",
     "start_time": "2017-08-07T06:39:43.531722Z"
    }
   },
   "outputs": [
    {
     "name": "stdout",
     "output_type": "stream",
     "text": [
      "torch.Size([60000, 28, 28])\n",
      "torch.Size([60000])\n"
     ]
    },
    {
     "data": {
      "text/plain": [
       "<matplotlib.text.Text at 0x7f5a34f45390>"
      ]
     },
     "execution_count": 7,
     "metadata": {},
     "output_type": "execute_result"
    },
    {
     "data": {
      "image/png": "[encoded data removed]",
      "text/plain": [
       "<matplotlib.figure.Figure at 0x7f5a34f62978>"
      ]
     },
     "metadata": {},
     "output_type": "display_data"
    }
   ],
   "source": [
    "# plot one example\n",
    "print(mnist_train.train_data.size())                 # (60000, 28, 28)\n",
    "print(mnist_train.train_labels.size())               # (60000)\n",
    "\n",
    "idx = 0\n",
    "plt.imshow(mnist_train.train_data[idx,:,:].numpy(), cmap='gray')\n",
    "plt.title('%i' % mnist_train.train_labels[idx])"
   ]
  },
  {
   "cell_type": "markdown",
   "metadata": {},
   "source": [
    "### Data Loader (= 전체 Data를 쪼개서 Batch Size 단위로 불러 오는 역할)"
   ]
  },
  {
   "cell_type": "code",
   "execution_count": 8,
   "metadata": {
    "ExecuteTime": {
     "end_time": "2017-08-07T06:39:44.604489Z",
     "start_time": "2017-08-07T06:39:44.596164Z"
    },
    "collapsed": true
   },
   "outputs": [],
   "source": [
    "# Hyper-parameters\n",
    "batch_size = 100\n",
    "\n",
    "# dataset loader\n",
    "data_loader = torch.utils.data.DataLoader(dataset=mnist_train,\n",
    "                                          batch_size=batch_size,\n",
    "                                          shuffle=True,\n",
    "                                          num_workers=1)"
   ]
  },
  {
   "cell_type": "code",
   "execution_count": 9,
   "metadata": {
    "ExecuteTime": {
     "end_time": "2017-08-07T06:39:45.351916Z",
     "start_time": "2017-08-07T06:39:44.980801Z"
    }
   },
   "outputs": [
    {
     "name": "stdout",
     "output_type": "stream",
     "text": [
      "torch.Size([100, 1, 28, 28])\n",
      "torch.Size([100])\n"
     ]
    },
    {
     "data": {
      "image/png": "[encoded data removed]",
      "text/plain": [
       "<matplotlib.figure.Figure at 0x7f5a34f9b550>"
      ]
     },
     "metadata": {},
     "output_type": "display_data"
    },
    {
     "data": {
      "text/plain": [
       "array([4, 1, 6, 6, 5, 3, 1, 0, 7, 6, 1, 3, 2, 0, 7, 0, 2, 3, 2, 2, 1, 6, 6,\n",
       "       5, 5, 5, 4, 4, 1, 4, 6, 1, 9, 1, 0, 1, 1, 0, 6, 5, 1, 2, 0, 7, 1, 7,\n",
       "       0, 9, 0, 4, 1, 7, 6, 0, 2, 4, 0, 2, 3, 6, 7, 9, 1, 6, 1, 4, 5, 4, 2,\n",
       "       9, 8, 6, 9, 2, 9, 6, 3, 7, 2, 4, 6, 2, 9, 0, 0, 4, 5, 2, 5, 9, 1, 5,\n",
       "       8, 1, 4, 8, 0, 3, 7, 4])"
      ]
     },
     "execution_count": 9,
     "metadata": {},
     "output_type": "execute_result"
    }
   ],
   "source": [
    "def imshow(img):\n",
    "    img = img / 2 + 0.5     # unnormalize\n",
    "    npimg = img.numpy()\n",
    "    plt.imshow(np.transpose(npimg, (1, 2, 0)))\n",
    "    plt.show()\n",
    "\n",
    "# #예를 들어서.. data_loader로 부터 데이터 뭉치를 하나만 불러 오자\n",
    "batch_images, batch_labels = next(iter(data_loader))\n",
    "\n",
    "print(batch_images.size())\n",
    "print(batch_labels.size())\n",
    "\n",
    "# show images and print labels\n",
    "imshow(utils.make_grid(batch_images))\n",
    "batch_labels.numpy()\n",
    "\n",
    "# 실제 사용 예시 for loop를 이용해서 image와 label을 읽어 온다.\n",
    "# for batch_images, batch_labels in data_loader:\n",
    "#     print(img.size())\n",
    "#     print(label)\n",
    "\n",
    "#enumerate를 사용하는 경우 image와 label을 읽는 것 뿐만 아니라 iter도 같이 계산\n",
    "# for i, (batch_images, batch_labels) in enumerate(data_loader):\n",
    "#     print(batch_images.size())\n",
    "#     print(batch_labels)"
   ]
  },
  {
   "cell_type": "markdown",
   "metadata": {},
   "source": [
    "### Define Neural Network Model"
   ]
  },
  {
   "cell_type": "code",
   "execution_count": 10,
   "metadata": {
    "ExecuteTime": {
     "end_time": "2017-08-07T06:39:46.288644Z",
     "start_time": "2017-08-07T06:39:46.261996Z"
    }
   },
   "outputs": [
    {
     "name": "stdout",
     "output_type": "stream",
     "text": [
      "Sequential (\n",
      "  (0): Linear (784 -> 512)\n",
      "  (1): ReLU ()\n",
      "  (2): Linear (512 -> 10)\n",
      ")\n"
     ]
    }
   ],
   "source": [
    "# Neural Network\n",
    "linear1 = torch.nn.Linear(784, 512, bias=True)\n",
    "linear2 = torch.nn.Linear(512, 10, bias=True)\n",
    "relu = torch.nn.ReLU()\n",
    "#sigmoid = torch.nn.Sigmoid()\n",
    "\n",
    "# model\n",
    "model = torch.nn.Sequential(linear1, relu, linear2)   \n",
    "\n",
    "#model.load_state_dict(torch.load('NN.pkl'))  # Load the Trained Model\n",
    "print(model)"
   ]
  },
  {
   "cell_type": "markdown",
   "metadata": {},
   "source": [
    "### Cost 함수 정의"
   ]
  },
  {
   "cell_type": "code",
   "execution_count": 11,
   "metadata": {
    "ExecuteTime": {
     "end_time": "2017-08-07T06:39:46.978034Z",
     "start_time": "2017-08-07T06:39:46.973528Z"
    },
    "collapsed": true
   },
   "outputs": [],
   "source": [
    "# Softmax 함수가 Cost를 계산할 때 내장되어 있다.\n",
    "cost_func = torch.nn.CrossEntropyLoss()    "
   ]
  },
  {
   "cell_type": "markdown",
   "metadata": {},
   "source": [
    "### Model 학습"
   ]
  },
  {
   "cell_type": "code",
   "execution_count": 15,
   "metadata": {
    "ExecuteTime": {
     "end_time": "2017-08-07T06:40:06.002102Z",
     "start_time": "2017-08-07T06:39:48.250484Z"
    }
   },
   "outputs": [
    {
     "name": "stdout",
     "output_type": "stream",
     "text": [
      "[Epoch:    1] cost = 0.0327359401\n",
      "[Epoch:    2] cost = 0.0230310094\n",
      "[Epoch:    3] cost = 0.0159843769\n",
      "[Epoch:    4] cost = 0.0135255037\n"
     ]
    },
    {
     "name": "stderr",
     "output_type": "stream",
     "text": [
      "Process Process-8:\n",
      "Traceback (most recent call last):\n",
      "  File \"/home/isjeon/anaconda3/envs/lab_conda/lib/python3.6/multiprocessing/process.py\", line 249, in _bootstrap\n",
      "    self.run()\n"
     ]
    },
    {
     "ename": "KeyboardInterrupt",
     "evalue": "",
     "output_type": "error",
     "traceback": [
      "\u001b[0;31m--------------------------------------------------------\u001b[0m",
      "\u001b[0;31mKeyboardInterrupt\u001b[0m      Traceback (most recent call last)",
      "\u001b[0;32m<ipython-input-15-4be1ca11e69a>\u001b[0m in \u001b[0;36m<module>\u001b[0;34m()\u001b[0m\n\u001b[1;32m     19\u001b[0m \u001b[0;34m\u001b[0m\u001b[0m\n\u001b[1;32m     20\u001b[0m         \u001b[0moptimizer\u001b[0m\u001b[0;34m.\u001b[0m\u001b[0mzero_grad\u001b[0m\u001b[0;34m(\u001b[0m\u001b[0;34m)\u001b[0m             \u001b[0;31m# Zero Gradient Container\u001b[0m\u001b[0;34m\u001b[0m\u001b[0m\n\u001b[0;32m---> 21\u001b[0;31m         \u001b[0mY_prediction\u001b[0m \u001b[0;34m=\u001b[0m \u001b[0mmodel\u001b[0m\u001b[0;34m(\u001b[0m\u001b[0mX\u001b[0m\u001b[0;34m)\u001b[0m           \u001b[0;31m# Forward Propagation\u001b[0m\u001b[0;34m\u001b[0m\u001b[0m\n\u001b[0m\u001b[1;32m     22\u001b[0m         \u001b[0mcost\u001b[0m \u001b[0;34m=\u001b[0m \u001b[0mcost_func\u001b[0m\u001b[0;34m(\u001b[0m\u001b[0mY_prediction\u001b[0m\u001b[0;34m,\u001b[0m \u001b[0mY\u001b[0m\u001b[0;34m)\u001b[0m \u001b[0;31m# compute cost\u001b[0m\u001b[0;34m\u001b[0m\u001b[0m\n\u001b[1;32m     23\u001b[0m         \u001b[0mcost\u001b[0m\u001b[0;34m.\u001b[0m\u001b[0mbackward\u001b[0m\u001b[0;34m(\u001b[0m\u001b[0;34m)\u001b[0m                   \u001b[0;31m# compute gradient\u001b[0m\u001b[0;34m\u001b[0m\u001b[0m\n",
      "\u001b[0;32m~/anaconda3/envs/lab_conda/lib/python3.6/site-packages/torch/nn/modules/module.py\u001b[0m in \u001b[0;36m__call__\u001b[0;34m(self, *input, **kwargs)\u001b[0m\n\u001b[1;32m    222\u001b[0m         \u001b[0;32mfor\u001b[0m \u001b[0mhook\u001b[0m \u001b[0;32min\u001b[0m \u001b[0mself\u001b[0m\u001b[0;34m.\u001b[0m\u001b[0m_forward_pre_hooks\u001b[0m\u001b[0;34m.\u001b[0m\u001b[0mvalues\u001b[0m\u001b[0;34m(\u001b[0m\u001b[0;34m)\u001b[0m\u001b[0;34m:\u001b[0m\u001b[0;34m\u001b[0m\u001b[0m\n\u001b[1;32m    223\u001b[0m             \u001b[0mhook\u001b[0m\u001b[0;34m(\u001b[0m\u001b[0mself\u001b[0m\u001b[0;34m,\u001b[0m \u001b[0minput\u001b[0m\u001b[0;34m)\u001b[0m\u001b[0;34m\u001b[0m\u001b[0m\n\u001b[0;32m--> 224\u001b[0;31m         \u001b[0mresult\u001b[0m \u001b[0;34m=\u001b[0m \u001b[0mself\u001b[0m\u001b[0;34m.\u001b[0m\u001b[0mforward\u001b[0m\u001b[0;34m(\u001b[0m\u001b[0;34m*\u001b[0m\u001b[0minput\u001b[0m\u001b[0;34m,\u001b[0m \u001b[0;34m**\u001b[0m\u001b[0mkwargs\u001b[0m\u001b[0;34m)\u001b[0m\u001b[0;34m\u001b[0m\u001b[0m\n\u001b[0m\u001b[1;32m    225\u001b[0m         \u001b[0;32mfor\u001b[0m \u001b[0mhook\u001b[0m \u001b[0;32min\u001b[0m \u001b[0mself\u001b[0m\u001b[0;34m.\u001b[0m\u001b[0m_forward_hooks\u001b[0m\u001b[0;34m.\u001b[0m\u001b[0mvalues\u001b[0m\u001b[0;34m(\u001b[0m\u001b[0;34m)\u001b[0m\u001b[0;34m:\u001b[0m\u001b[0;34m\u001b[0m\u001b[0m\n\u001b[1;32m    226\u001b[0m             \u001b[0mhook_result\u001b[0m \u001b[0;34m=\u001b[0m \u001b[0mhook\u001b[0m\u001b[0;34m(\u001b[0m\u001b[0mself\u001b[0m\u001b[0;34m,\u001b[0m \u001b[0minput\u001b[0m\u001b[0;34m,\u001b[0m \u001b[0mresult\u001b[0m\u001b[0;34m)\u001b[0m\u001b[0;34m\u001b[0m\u001b[0m\n",
      "\u001b[0;32m~/anaconda3/envs/lab_conda/lib/python3.6/site-packages/torch/nn/modules/container.py\u001b[0m in \u001b[0;36mforward\u001b[0;34m(self, input)\u001b[0m\n\u001b[1;32m     65\u001b[0m     \u001b[0;32mdef\u001b[0m \u001b[0mforward\u001b[0m\u001b[0;34m(\u001b[0m\u001b[0mself\u001b[0m\u001b[0;34m,\u001b[0m \u001b[0minput\u001b[0m\u001b[0;34m)\u001b[0m\u001b[0;34m:\u001b[0m\u001b[0;34m\u001b[0m\u001b[0m\n\u001b[1;32m     66\u001b[0m         \u001b[0;32mfor\u001b[0m \u001b[0mmodule\u001b[0m \u001b[0;32min\u001b[0m \u001b[0mself\u001b[0m\u001b[0;34m.\u001b[0m\u001b[0m_modules\u001b[0m\u001b[0;34m.\u001b[0m\u001b[0mvalues\u001b[0m\u001b[0;34m(\u001b[0m\u001b[0;34m)\u001b[0m\u001b[0;34m:\u001b[0m\u001b[0;34m\u001b[0m\u001b[0m\n\u001b[0;32m---> 67\u001b[0;31m             \u001b[0minput\u001b[0m \u001b[0;34m=\u001b[0m \u001b[0mmodule\u001b[0m\u001b[0;34m(\u001b[0m\u001b[0minput\u001b[0m\u001b[0;34m)\u001b[0m\u001b[0;34m\u001b[0m\u001b[0m\n\u001b[0m\u001b[1;32m     68\u001b[0m         \u001b[0;32mreturn\u001b[0m \u001b[0minput\u001b[0m\u001b[0;34m\u001b[0m\u001b[0m\n\u001b[1;32m     69\u001b[0m \u001b[0;34m\u001b[0m\u001b[0m\n",
      "\u001b[0;32m~/anaconda3/envs/lab_conda/lib/python3.6/site-packages/torch/nn/modules/module.py\u001b[0m in \u001b[0;36m__call__\u001b[0;34m(self, *input, **kwargs)\u001b[0m\n\u001b[1;32m    222\u001b[0m         \u001b[0;32mfor\u001b[0m \u001b[0mhook\u001b[0m \u001b[0;32min\u001b[0m \u001b[0mself\u001b[0m\u001b[0;34m.\u001b[0m\u001b[0m_forward_pre_hooks\u001b[0m\u001b[0;34m.\u001b[0m\u001b[0mvalues\u001b[0m\u001b[0;34m(\u001b[0m\u001b[0;34m)\u001b[0m\u001b[0;34m:\u001b[0m\u001b[0;34m\u001b[0m\u001b[0m\n\u001b[1;32m    223\u001b[0m             \u001b[0mhook\u001b[0m\u001b[0;34m(\u001b[0m\u001b[0mself\u001b[0m\u001b[0;34m,\u001b[0m \u001b[0minput\u001b[0m\u001b[0;34m)\u001b[0m\u001b[0;34m\u001b[0m\u001b[0m\n\u001b[0;32m--> 224\u001b[0;31m         \u001b[0mresult\u001b[0m \u001b[0;34m=\u001b[0m \u001b[0mself\u001b[0m\u001b[0;34m.\u001b[0m\u001b[0mforward\u001b[0m\u001b[0;34m(\u001b[0m\u001b[0;34m*\u001b[0m\u001b[0minput\u001b[0m\u001b[0;34m,\u001b[0m \u001b[0;34m**\u001b[0m\u001b[0mkwargs\u001b[0m\u001b[0;34m)\u001b[0m\u001b[0;34m\u001b[0m\u001b[0m\n\u001b[0m\u001b[1;32m    225\u001b[0m         \u001b[0;32mfor\u001b[0m \u001b[0mhook\u001b[0m \u001b[0;32min\u001b[0m \u001b[0mself\u001b[0m\u001b[0;34m.\u001b[0m\u001b[0m_forward_hooks\u001b[0m\u001b[0;34m.\u001b[0m\u001b[0mvalues\u001b[0m\u001b[0;34m(\u001b[0m\u001b[0;34m)\u001b[0m\u001b[0;34m:\u001b[0m\u001b[0;34m\u001b[0m\u001b[0m\n\u001b[1;32m    226\u001b[0m             \u001b[0mhook_result\u001b[0m \u001b[0;34m=\u001b[0m \u001b[0mhook\u001b[0m\u001b[0;34m(\u001b[0m\u001b[0mself\u001b[0m\u001b[0;34m,\u001b[0m \u001b[0minput\u001b[0m\u001b[0;34m,\u001b[0m \u001b[0mresult\u001b[0m\u001b[0;34m)\u001b[0m\u001b[0;34m\u001b[0m\u001b[0m\n",
      "\u001b[0;32m~/anaconda3/envs/lab_conda/lib/python3.6/site-packages/torch/nn/modules/linear.py\u001b[0m in \u001b[0;36mforward\u001b[0;34m(self, input)\u001b[0m\n\u001b[1;32m     51\u001b[0m \u001b[0;34m\u001b[0m\u001b[0m\n\u001b[1;32m     52\u001b[0m     \u001b[0;32mdef\u001b[0m \u001b[0mforward\u001b[0m\u001b[0;34m(\u001b[0m\u001b[0mself\u001b[0m\u001b[0;34m,\u001b[0m \u001b[0minput\u001b[0m\u001b[0;34m)\u001b[0m\u001b[0;34m:\u001b[0m\u001b[0;34m\u001b[0m\u001b[0m\n\u001b[0;32m---> 53\u001b[0;31m         \u001b[0;32mreturn\u001b[0m \u001b[0mF\u001b[0m\u001b[0;34m.\u001b[0m\u001b[0mlinear\u001b[0m\u001b[0;34m(\u001b[0m\u001b[0minput\u001b[0m\u001b[0;34m,\u001b[0m \u001b[0mself\u001b[0m\u001b[0;34m.\u001b[0m\u001b[0mweight\u001b[0m\u001b[0;34m,\u001b[0m \u001b[0mself\u001b[0m\u001b[0;34m.\u001b[0m\u001b[0mbias\u001b[0m\u001b[0;34m)\u001b[0m\u001b[0;34m\u001b[0m\u001b[0m\n\u001b[0m\u001b[1;32m     54\u001b[0m \u001b[0;34m\u001b[0m\u001b[0m\n\u001b[1;32m     55\u001b[0m     \u001b[0;32mdef\u001b[0m \u001b[0m__repr__\u001b[0m\u001b[0;34m(\u001b[0m\u001b[0mself\u001b[0m\u001b[0;34m)\u001b[0m\u001b[0;34m:\u001b[0m\u001b[0;34m\u001b[0m\u001b[0m\n",
      "\u001b[0;32m~/anaconda3/envs/lab_conda/lib/python3.6/site-packages/torch/nn/functional.py\u001b[0m in \u001b[0;36mlinear\u001b[0;34m(input, weight, bias)\u001b[0m\n\u001b[1;32m    551\u001b[0m     \u001b[0;32mif\u001b[0m \u001b[0minput\u001b[0m\u001b[0;34m.\u001b[0m\u001b[0mdim\u001b[0m\u001b[0;34m(\u001b[0m\u001b[0;34m)\u001b[0m \u001b[0;34m==\u001b[0m \u001b[0;36m2\u001b[0m \u001b[0;32mand\u001b[0m \u001b[0mbias\u001b[0m \u001b[0;32mis\u001b[0m \u001b[0;32mnot\u001b[0m \u001b[0;32mNone\u001b[0m\u001b[0;34m:\u001b[0m\u001b[0;34m\u001b[0m\u001b[0m\n\u001b[1;32m    552\u001b[0m         \u001b[0;31m# fused op is marginally faster\u001b[0m\u001b[0;34m\u001b[0m\u001b[0;34m\u001b[0m\u001b[0m\n\u001b[0;32m--> 553\u001b[0;31m         \u001b[0;32mreturn\u001b[0m \u001b[0mtorch\u001b[0m\u001b[0;34m.\u001b[0m\u001b[0maddmm\u001b[0m\u001b[0;34m(\u001b[0m\u001b[0mbias\u001b[0m\u001b[0;34m,\u001b[0m \u001b[0minput\u001b[0m\u001b[0;34m,\u001b[0m \u001b[0mweight\u001b[0m\u001b[0;34m.\u001b[0m\u001b[0mt\u001b[0m\u001b[0;34m(\u001b[0m\u001b[0;34m)\u001b[0m\u001b[0;34m)\u001b[0m\u001b[0;34m\u001b[0m\u001b[0m\n\u001b[0m\u001b[1;32m    554\u001b[0m \u001b[0;34m\u001b[0m\u001b[0m\n\u001b[1;32m    555\u001b[0m     \u001b[0moutput\u001b[0m \u001b[0;34m=\u001b[0m \u001b[0minput\u001b[0m\u001b[0;34m.\u001b[0m\u001b[0mmatmul\u001b[0m\u001b[0;34m(\u001b[0m\u001b[0mweight\u001b[0m\u001b[0;34m.\u001b[0m\u001b[0mt\u001b[0m\u001b[0;34m(\u001b[0m\u001b[0;34m)\u001b[0m\u001b[0;34m)\u001b[0m\u001b[0;34m\u001b[0m\u001b[0m\n",
      "\u001b[0;32m~/anaconda3/envs/lab_conda/lib/python3.6/site-packages/torch/autograd/variable.py\u001b[0m in \u001b[0;36maddmm\u001b[0;34m(cls, *args)\u001b[0m\n\u001b[1;32m    922\u001b[0m         \u001b[0;34m@\u001b[0m\u001b[0mclassmethod\u001b[0m\u001b[0;34m\u001b[0m\u001b[0m\n\u001b[1;32m    923\u001b[0m         \u001b[0;32mdef\u001b[0m \u001b[0maddmm\u001b[0m\u001b[0;34m(\u001b[0m\u001b[0mcls\u001b[0m\u001b[0;34m,\u001b[0m \u001b[0;34m*\u001b[0m\u001b[0margs\u001b[0m\u001b[0;34m)\u001b[0m\u001b[0;34m:\u001b[0m\u001b[0;34m\u001b[0m\u001b[0m\n\u001b[0;32m--> 924\u001b[0;31m             \u001b[0;32mreturn\u001b[0m \u001b[0mcls\u001b[0m\u001b[0;34m.\u001b[0m\u001b[0m_blas\u001b[0m\u001b[0;34m(\u001b[0m\u001b[0mAddmm\u001b[0m\u001b[0;34m,\u001b[0m \u001b[0margs\u001b[0m\u001b[0;34m,\u001b[0m \u001b[0;32mFalse\u001b[0m\u001b[0;34m)\u001b[0m\u001b[0;34m\u001b[0m\u001b[0m\n\u001b[0m\u001b[1;32m    925\u001b[0m \u001b[0;34m\u001b[0m\u001b[0m\n\u001b[1;32m    926\u001b[0m         \u001b[0;34m@\u001b[0m\u001b[0mclassmethod\u001b[0m\u001b[0;34m\u001b[0m\u001b[0m\n",
      "\u001b[0;32m~/anaconda3/envs/lab_conda/lib/python3.6/site-packages/torch/autograd/variable.py\u001b[0m in \u001b[0;36m_blas\u001b[0;34m(cls, args, inplace)\u001b[0m\n\u001b[1;32m    918\u001b[0m             \u001b[0;32melse\u001b[0m\u001b[0;34m:\u001b[0m\u001b[0;34m\u001b[0m\u001b[0m\n\u001b[1;32m    919\u001b[0m                 \u001b[0mtensors\u001b[0m \u001b[0;34m=\u001b[0m \u001b[0margs\u001b[0m\u001b[0;34m\u001b[0m\u001b[0m\n\u001b[0;32m--> 920\u001b[0;31m             \u001b[0;32mreturn\u001b[0m \u001b[0mcls\u001b[0m\u001b[0;34m.\u001b[0m\u001b[0mapply\u001b[0m\u001b[0;34m(\u001b[0m\u001b[0;34m*\u001b[0m\u001b[0;34m(\u001b[0m\u001b[0mtensors\u001b[0m \u001b[0;34m+\u001b[0m \u001b[0;34m(\u001b[0m\u001b[0malpha\u001b[0m\u001b[0;34m,\u001b[0m \u001b[0mbeta\u001b[0m\u001b[0;34m,\u001b[0m \u001b[0minplace\u001b[0m\u001b[0;34m)\u001b[0m\u001b[0;34m)\u001b[0m\u001b[0;34m)\u001b[0m\u001b[0;34m\u001b[0m\u001b[0m\n\u001b[0m\u001b[1;32m    921\u001b[0m \u001b[0;34m\u001b[0m\u001b[0m\n\u001b[1;32m    922\u001b[0m         \u001b[0;34m@\u001b[0m\u001b[0mclassmethod\u001b[0m\u001b[0;34m\u001b[0m\u001b[0m\n",
      "\u001b[0;31mKeyboardInterrupt\u001b[0m: "
     ]
    },
    {
     "name": "stderr",
     "output_type": "stream",
     "text": [
      "  File \"/home/isjeon/anaconda3/envs/lab_conda/lib/python3.6/multiprocessing/process.py\", line 93, in run\n",
      "    self._target(*self._args, **self._kwargs)\n",
      "  File \"/home/isjeon/anaconda3/envs/lab_conda/lib/python3.6/site-packages/torch/utils/data/dataloader.py\", line 40, in _worker_loop\n",
      "    samples = collate_fn([dataset[i] for i in batch_indices])\n",
      "  File \"/home/isjeon/anaconda3/envs/lab_conda/lib/python3.6/site-packages/torch/utils/data/dataloader.py\", line 40, in <listcomp>\n",
      "    samples = collate_fn([dataset[i] for i in batch_indices])\n",
      "  File \"/home/isjeon/anaconda3/envs/lab_conda/lib/python3.6/site-packages/torchvision/datasets/mnist.py\", line 75, in __getitem__\n",
      "    img = self.transform(img)\n",
      "  File \"/home/isjeon/anaconda3/envs/lab_conda/lib/python3.6/site-packages/torchvision/transforms.py\", line 83, in __call__\n",
      "    return img.float().div(255)\n",
      "  File \"/home/isjeon/anaconda3/envs/lab_conda/lib/python3.6/site-packages/torch/tensor.py\", line 43, in float\n",
      "    return self.type(type(self).__module__ + '.FloatTensor')\n",
      "  File \"/home/isjeon/anaconda3/envs/lab_conda/lib/python3.6/site-packages/torch/_utils.py\", line 35, in _type\n",
      "    return new_type(self.size()).copy_(self, async)\n",
      "KeyboardInterrupt\n"
     ]
    }
   ],
   "source": [
    "# Hyper-parameters\n",
    "learning_rate = 0.001 \n",
    "training_epochs = 5\n",
    "\n",
    "# Adam Optimizer\n",
    "optimizer = torch.optim.Adam(model.parameters(), lr=learning_rate)\n",
    "\n",
    "# Train model\n",
    "for epoch in range(training_epochs):\n",
    "    avg_cost = 0\n",
    "    total_batch = len(mnist_train) // batch_size\n",
    "\n",
    "    for i, (batch_images, batch_labels) in enumerate(data_loader):\n",
    "        \n",
    "        # 이미지를 [batch_size x 784] size 행렬로 변환\n",
    "        \n",
    "        X = Variable(batch_images.view(-1, 28 * 28))\n",
    "        Y = Variable(batch_labels)        # label is not one-hot encoded\n",
    "\n",
    "        optimizer.zero_grad()             # Zero Gradient Container\n",
    "        Y_prediction = model(X)           # Forward Propagation\n",
    "        cost = cost_func(Y_prediction, Y) # compute cost\n",
    "        cost.backward()                   # compute gradient\n",
    "        optimizer.step()                  # gradient update\n",
    "\n",
    "        avg_cost += cost / total_batch\n",
    "\n",
    "    print(\"[Epoch: {:>4}] cost = {:>.9}\".format(epoch + 1, avg_cost.data[0]))\n",
    "\n",
    "print('Learning Finished!')\n",
    "\n",
    "# torch.save(model.state_dict(), 'NN.pkl')  # Save the Model"
   ]
  },
  {
   "cell_type": "code",
   "execution_count": 13,
   "metadata": {
    "ExecuteTime": {
     "end_time": "2017-08-07T06:40:06.003112Z",
     "start_time": "2017-08-07T06:41:33.928Z"
    }
   },
   "outputs": [
    {
     "data": {
      "text/plain": [
       "OrderedDict([('0.weight', \n",
       "              -2.3496e-02  2.9788e-02 -1.7264e-03  ...   1.1420e-02  3.5596e-03 -2.0659e-02\n",
       "               2.5164e-03 -1.2785e-02  3.4308e-02  ...  -3.2980e-02  3.2557e-02 -2.6513e-02\n",
       "              -2.1505e-02 -2.0751e-02  1.2887e-04  ...  -1.3800e-02  1.3477e-03 -2.6379e-02\n",
       "                              ...                   ⋱                   ...                \n",
       "              -1.5719e-02 -1.9760e-02  2.7627e-02  ...   3.4418e-02  2.4713e-02  1.6831e-02\n",
       "              -9.7556e-03 -2.8041e-02  1.8751e-02  ...  -2.5325e-02  1.6545e-02  1.0813e-03\n",
       "              -3.5254e-02  2.2254e-02  3.4663e-02  ...  -1.6771e-02 -2.2863e-02 -2.9022e-02\n",
       "              [torch.FloatTensor of size 512x784]), ('0.bias', \n",
       "               0.0232\n",
       "              -0.0276\n",
       "               0.1362\n",
       "               0.0535\n",
       "               0.0070\n",
       "               0.0246\n",
       "               0.0375\n",
       "               0.0019\n",
       "               0.0503\n",
       "              -0.0069\n",
       "              -0.0326\n",
       "               0.0404\n",
       "               0.0230\n",
       "               0.0056\n",
       "              -0.0694\n",
       "              -0.0487\n",
       "               0.0237\n",
       "               0.0832\n",
       "               0.0661\n",
       "               0.0675\n",
       "              -0.0268\n",
       "              -0.0897\n",
       "              -0.0423\n",
       "              -0.0772\n",
       "               0.0165\n",
       "               0.0174\n",
       "               0.0362\n",
       "              -0.0646\n",
       "               0.0837\n",
       "               0.0653\n",
       "               0.0435\n",
       "               0.0274\n",
       "               0.1358\n",
       "               0.0370\n",
       "               0.0434\n",
       "              -0.0007\n",
       "               0.0797\n",
       "               0.0289\n",
       "               0.0470\n",
       "               0.0419\n",
       "              -0.0755\n",
       "               0.0214\n",
       "               0.1014\n",
       "              -0.0663\n",
       "              -0.0436\n",
       "               0.0038\n",
       "              -0.0911\n",
       "              -0.0366\n",
       "               0.0509\n",
       "              -0.0526\n",
       "               0.0080\n",
       "               0.0492\n",
       "               0.0989\n",
       "              -0.0405\n",
       "               0.0167\n",
       "              -0.0335\n",
       "               0.0083\n",
       "               0.0206\n",
       "              -0.0265\n",
       "               0.0000\n",
       "               0.0018\n",
       "              -0.0193\n",
       "              -0.0081\n",
       "               0.0010\n",
       "               0.0791\n",
       "               0.0857\n",
       "              -0.0530\n",
       "               0.0477\n",
       "               0.0182\n",
       "              -0.0351\n",
       "              -0.0146\n",
       "               0.0411\n",
       "              -0.0233\n",
       "               0.0724\n",
       "               0.0342\n",
       "              -0.0298\n",
       "              -0.0060\n",
       "               0.0657\n",
       "              -0.0066\n",
       "               0.0558\n",
       "               0.0129\n",
       "               0.0475\n",
       "               0.0004\n",
       "              -0.0028\n",
       "              -0.0501\n",
       "              -0.0142\n",
       "               0.0264\n",
       "               0.0742\n",
       "               0.0367\n",
       "               0.0380\n",
       "               0.0413\n",
       "               0.0455\n",
       "               0.0324\n",
       "               0.0553\n",
       "              -0.0036\n",
       "               0.0557\n",
       "              -0.0506\n",
       "               0.0168\n",
       "               0.0068\n",
       "               0.0701\n",
       "               0.0912\n",
       "               0.0644\n",
       "               0.1282\n",
       "               0.0805\n",
       "               0.0401\n",
       "               0.0983\n",
       "               0.0002\n",
       "               0.0092\n",
       "               0.0113\n",
       "               0.0336\n",
       "               0.0459\n",
       "               0.0294\n",
       "               0.1079\n",
       "              -0.0073\n",
       "               0.0054\n",
       "              -0.0391\n",
       "               0.0274\n",
       "               0.0113\n",
       "              -0.0220\n",
       "               0.0047\n",
       "               0.0162\n",
       "              -0.0627\n",
       "               0.0778\n",
       "               0.0671\n",
       "               0.0023\n",
       "               0.0337\n",
       "              -0.0291\n",
       "              -0.0057\n",
       "               0.0898\n",
       "              -0.0009\n",
       "               0.0148\n",
       "              -0.0285\n",
       "              -0.0495\n",
       "               0.0330\n",
       "               0.0769\n",
       "              -0.0461\n",
       "               0.0322\n",
       "               0.0145\n",
       "               0.0236\n",
       "               0.0212\n",
       "               0.0739\n",
       "               0.0282\n",
       "               0.0121\n",
       "               0.0893\n",
       "              -0.0196\n",
       "               0.0999\n",
       "               0.1548\n",
       "               0.0266\n",
       "               0.0255\n",
       "              -0.0420\n",
       "              -0.0214\n",
       "               0.0909\n",
       "               0.1009\n",
       "               0.0577\n",
       "               0.0255\n",
       "               0.0180\n",
       "               0.0800\n",
       "               0.1073\n",
       "               0.0078\n",
       "               0.1064\n",
       "               0.0114\n",
       "               0.0116\n",
       "               0.0060\n",
       "               0.0531\n",
       "              -0.0498\n",
       "              -0.0240\n",
       "              -0.0559\n",
       "               0.0340\n",
       "               0.0231\n",
       "               0.0398\n",
       "               0.0456\n",
       "              -0.0340\n",
       "              -0.0101\n",
       "               0.0286\n",
       "               0.0693\n",
       "              -0.0183\n",
       "              -0.0333\n",
       "              -0.0593\n",
       "              -0.0512\n",
       "               0.0669\n",
       "               0.0257\n",
       "               0.0030\n",
       "               0.0131\n",
       "               0.0311\n",
       "              -0.0435\n",
       "               0.0045\n",
       "               0.0990\n",
       "               0.0118\n",
       "               0.0286\n",
       "               0.0194\n",
       "               0.0235\n",
       "              -0.0269\n",
       "              -0.0593\n",
       "               0.1262\n",
       "               0.0222\n",
       "               0.0065\n",
       "               0.0400\n",
       "              -0.0201\n",
       "               0.0537\n",
       "               0.1052\n",
       "               0.0797\n",
       "               0.0822\n",
       "              -0.0068\n",
       "               0.0861\n",
       "               0.0014\n",
       "              -0.0206\n",
       "               0.0049\n",
       "               0.0117\n",
       "              -0.0201\n",
       "               0.0106\n",
       "               0.0408\n",
       "               0.1487\n",
       "               0.0081\n",
       "               0.0536\n",
       "              -0.0025\n",
       "              -0.0134\n",
       "               0.0753\n",
       "               0.1088\n",
       "               0.0367\n",
       "              -0.0198\n",
       "               0.0084\n",
       "              -0.0209\n",
       "               0.0469\n",
       "               0.0331\n",
       "              -0.0643\n",
       "               0.0896\n",
       "              -0.0230\n",
       "              -0.0157\n",
       "              -0.0083\n",
       "              -0.0352\n",
       "               0.0600\n",
       "               0.0599\n",
       "              -0.0270\n",
       "               0.0395\n",
       "               0.0765\n",
       "               0.0685\n",
       "               0.0984\n",
       "              -0.0279\n",
       "               0.0763\n",
       "              -0.0008\n",
       "               0.0262\n",
       "               0.0758\n",
       "               0.0021\n",
       "              -0.0050\n",
       "               0.0969\n",
       "               0.0841\n",
       "               0.0414\n",
       "              -0.0022\n",
       "               0.0740\n",
       "               0.0705\n",
       "               0.0147\n",
       "               0.0721\n",
       "              -0.0023\n",
       "               0.0029\n",
       "              -0.0519\n",
       "               0.0053\n",
       "              -0.0120\n",
       "               0.0023\n",
       "               0.0789\n",
       "               0.0154\n",
       "              -0.0100\n",
       "              -0.0567\n",
       "               0.0750\n",
       "               0.0030\n",
       "               0.0085\n",
       "              -0.0342\n",
       "               0.1104\n",
       "              -0.0664\n",
       "               0.0359\n",
       "              -0.0286\n",
       "              -0.0244\n",
       "              -0.0465\n",
       "              -0.0044\n",
       "               0.0745\n",
       "              -0.0368\n",
       "               0.0178\n",
       "               0.0418\n",
       "              -0.0362\n",
       "               0.0256\n",
       "              -0.0345\n",
       "              -0.0503\n",
       "               0.0141\n",
       "              -0.0306\n",
       "              -0.0498\n",
       "              -0.0209\n",
       "               0.0469\n",
       "               0.0512\n",
       "               0.0162\n",
       "               0.0946\n",
       "               0.0010\n",
       "              -0.0389\n",
       "               0.0551\n",
       "               0.0461\n",
       "               0.0063\n",
       "               0.0440\n",
       "               0.0156\n",
       "               0.0093\n",
       "               0.0384\n",
       "               0.0154\n",
       "              -0.0508\n",
       "               0.0159\n",
       "              -0.0031\n",
       "               0.0998\n",
       "               0.0025\n",
       "               0.0129\n",
       "               0.0227\n",
       "              -0.0659\n",
       "              -0.0027\n",
       "              -0.0688\n",
       "              -0.0383\n",
       "               0.0046\n",
       "              -0.1092\n",
       "               0.1152\n",
       "              -0.0324\n",
       "              -0.0365\n",
       "               0.0014\n",
       "              -0.0528\n",
       "               0.0437\n",
       "               0.0070\n",
       "              -0.0555\n",
       "               0.0462\n",
       "               0.0282\n",
       "               0.0388\n",
       "               0.0058\n",
       "               0.1080\n",
       "               0.0187\n",
       "              -0.0295\n",
       "              -0.0240\n",
       "              -0.0228\n",
       "              -0.0016\n",
       "              -0.0108\n",
       "               0.0374\n",
       "              -0.0123\n",
       "              -0.0044\n",
       "              -0.0333\n",
       "              -0.0540\n",
       "              -0.0218\n",
       "              -0.0227\n",
       "              -0.0437\n",
       "               0.0768\n",
       "              -0.0035\n",
       "              -0.0636\n",
       "               0.0425\n",
       "               0.0784\n",
       "               0.0354\n",
       "               0.0200\n",
       "              -0.0402\n",
       "               0.0401\n",
       "               0.0163\n",
       "               0.0430\n",
       "              -0.0228\n",
       "               0.0402\n",
       "               0.0198\n",
       "              -0.0296\n",
       "               0.0516\n",
       "               0.0812\n",
       "              -0.0144\n",
       "               0.1299\n",
       "               0.0192\n",
       "               0.0679\n",
       "               0.0595\n",
       "               0.0495\n",
       "               0.0200\n",
       "              -0.0735\n",
       "               0.1084\n",
       "               0.0922\n",
       "               0.0434\n",
       "               0.0959\n",
       "              -0.0836\n",
       "              -0.0374\n",
       "              -0.0609\n",
       "               0.0291\n",
       "              -0.0520\n",
       "               0.0591\n",
       "               0.0471\n",
       "               0.1123\n",
       "               0.0331\n",
       "               0.0147\n",
       "               0.0185\n",
       "              -0.0194\n",
       "              -0.0395\n",
       "              -0.0204\n",
       "               0.0591\n",
       "               0.0716\n",
       "               0.0597\n",
       "               0.0870\n",
       "               0.0150\n",
       "               0.0005\n",
       "               0.0431\n",
       "               0.0604\n",
       "              -0.0399\n",
       "              -0.0032\n",
       "               0.0290\n",
       "               0.0440\n",
       "               0.0051\n",
       "               0.0723\n",
       "               0.0165\n",
       "              -0.0587\n",
       "               0.1026\n",
       "               0.0578\n",
       "              -0.0082\n",
       "              -0.0220\n",
       "               0.0242\n",
       "              -0.0074\n",
       "               0.1022\n",
       "              -0.0158\n",
       "               0.0490\n",
       "               0.0355\n",
       "               0.0462\n",
       "               0.0412\n",
       "              -0.0602\n",
       "               0.0021\n",
       "               0.0659\n",
       "               0.0629\n",
       "               0.0580\n",
       "              -0.0591\n",
       "               0.0527\n",
       "               0.0366\n",
       "               0.0154\n",
       "              -0.1124\n",
       "               0.0063\n",
       "               0.1471\n",
       "               0.0277\n",
       "               0.0942\n",
       "              -0.0232\n",
       "               0.0278\n",
       "               0.0411\n",
       "               0.0420\n",
       "               0.0129\n",
       "               0.0577\n",
       "              -0.0285\n",
       "              -0.0053\n",
       "               0.0966\n",
       "              -0.0972\n",
       "               0.0742\n",
       "              -0.0239\n",
       "              -0.0511\n",
       "              -0.0627\n",
       "               0.0304\n",
       "              -0.0405\n",
       "               0.0826\n",
       "              -0.0225\n",
       "               0.0422\n",
       "               0.0428\n",
       "              -0.0287\n",
       "              -0.0047\n",
       "              -0.0152\n",
       "               0.0151\n",
       "               0.0756\n",
       "               0.0350\n",
       "               0.0436\n",
       "              -0.0212\n",
       "              -0.0063\n",
       "               0.0222\n",
       "              -0.0452\n",
       "               0.0106\n",
       "               0.0138\n",
       "              -0.0501\n",
       "               0.0315\n",
       "               0.1449\n",
       "               0.0210\n",
       "               0.0080\n",
       "               0.0779\n",
       "              -0.0050\n",
       "              -0.0346\n",
       "              -0.0660\n",
       "               0.0417\n",
       "              -0.0115\n",
       "               0.0416\n",
       "              -0.0396\n",
       "               0.0572\n",
       "               0.0628\n",
       "              -0.0203\n",
       "              -0.0197\n",
       "              -0.0580\n",
       "               0.0841\n",
       "               0.0405\n",
       "               0.0443\n",
       "              -0.0557\n",
       "               0.0110\n",
       "               0.0758\n",
       "              -0.0046\n",
       "               0.0366\n",
       "              -0.0385\n",
       "               0.0679\n",
       "               0.1454\n",
       "               0.0114\n",
       "              -0.0077\n",
       "               0.0561\n",
       "              -0.0381\n",
       "              -0.0330\n",
       "               0.0501\n",
       "               0.0603\n",
       "               0.0651\n",
       "               0.0503\n",
       "              -0.0035\n",
       "              -0.0254\n",
       "               0.0355\n",
       "              -0.0091\n",
       "              -0.0169\n",
       "               0.0072\n",
       "              -0.0073\n",
       "               0.0152\n",
       "               0.0504\n",
       "               0.0636\n",
       "               0.0855\n",
       "               0.0157\n",
       "               0.0174\n",
       "               0.0031\n",
       "              -0.0253\n",
       "              -0.0253\n",
       "              -0.0329\n",
       "              [torch.FloatTensor of size 512]), ('2.weight', \n",
       "               0.0544  0.0898 -0.1839  ...   0.0542 -0.0761  0.0628\n",
       "              -0.0308 -0.0323  0.0965  ...  -0.0197  0.0248 -0.0486\n",
       "               0.0839  0.1117 -0.1001  ...  -0.0919  0.1022  0.0237\n",
       "                        ...             ⋱             ...          \n",
       "              -0.2291  0.1081  0.0629  ...   0.0019  0.0711 -0.2217\n",
       "              -0.0366 -0.1108  0.0820  ...   0.0582  0.0668  0.0273\n",
       "              -0.1300 -0.1768  0.0520  ...   0.0452  0.0016  0.0100\n",
       "              [torch.FloatTensor of size 10x512]), ('2.bias', \n",
       "              1.00000e-02 *\n",
       "               -7.2502\n",
       "               -3.1011\n",
       "                2.9515\n",
       "               -9.0375\n",
       "                0.6664\n",
       "                8.8950\n",
       "               -1.6141\n",
       "               -5.9776\n",
       "                8.1093\n",
       "               -2.3486\n",
       "              [torch.FloatTensor of size 10])])"
      ]
     },
     "execution_count": 13,
     "metadata": {},
     "output_type": "execute_result"
    }
   ],
   "source": [
    "model.load_state_dict(torch.load('NN.pkl'))\n",
    "model.state_dict()"
   ]
  },
  {
   "cell_type": "markdown",
   "metadata": {},
   "source": [
    "### Test Dataset 이용한 모형 성능 측정"
   ]
  },
  {
   "cell_type": "code",
   "execution_count": 14,
   "metadata": {
    "ExecuteTime": {
     "end_time": "2017-08-07T06:40:06.004090Z",
     "start_time": "2017-08-07T06:41:35.101Z"
    }
   },
   "outputs": [
    {
     "name": "stdout",
     "output_type": "stream",
     "text": [
      "Accuracy of the network on the 10000 test images: 97 %\n"
     ]
    }
   ],
   "source": [
    "# Test the Model\n",
    "correct = 0\n",
    "total = 0\n",
    "for images, labels in mnist_test:\n",
    "    images = Variable(images.view(-1, 28*28))\n",
    "    outputs = model(images)\n",
    "    _, predicted = torch.max(outputs.data, 1)\n",
    "    total += 1\n",
    "    correct += (predicted == labels).sum()\n",
    "\n",
    "print('Accuracy of the network on the 10000 test images: %d %%' % (100 * correct / total))"
   ]
  },
  {
   "cell_type": "markdown",
   "metadata": {},
   "source": [
    "### Random Sample Test"
   ]
  },
  {
   "cell_type": "code",
   "execution_count": 16,
   "metadata": {
    "ExecuteTime": {
     "end_time": "2017-08-07T06:40:06.004925Z",
     "start_time": "2017-08-07T06:41:36.197Z"
    }
   },
   "outputs": [],
   "source": [
    "# Get one and predict\n",
    "r = random.randint(0, len(mnist_test) - 1)\n",
    "X_single_data = Variable(mnist_test.test_data[r:r + 1].view(-1, 28 * 28).float())\n",
    "Y_single_data = Variable(mnist_test.test_labels[r:r + 1])\n"
   ]
  },
  {
   "cell_type": "code",
   "execution_count": 17,
   "metadata": {},
   "outputs": [
    {
     "name": "stdout",
     "output_type": "stream",
     "text": [
      "Label:  \n",
      " 8\n",
      "[torch.LongTensor of size 1]\n",
      "\n",
      "Prediction:  \n",
      " 8\n",
      "[torch.LongTensor of size 1]\n",
      "\n"
     ]
    },
    {
     "data": {
      "image/png": "[encoded data removed]",
      "text/plain": [
       "<matplotlib.figure.Figure at 0x7f59c18f8a90>"
      ]
     },
     "metadata": {},
     "output_type": "display_data"
    }
   ],
   "source": [
    "single_prediction = model(X_single_data)\n",
    "plt.imshow(X_single_data.data.view(28,28).numpy() , cmap='gray')\n",
    "\n",
    "print(\"Label: \", Y_single_data.data)\n",
    "print(\"Prediction: \", torch.max(single_prediction.data, 1)[1])"
   ]
  },
  {
   "cell_type": "code",
   "execution_count": 18,
   "metadata": {
    "ExecuteTime": {
     "end_time": "2017-08-07T06:40:06.006199Z",
     "start_time": "2017-08-07T06:41:37.130Z"
    }
   },
   "outputs": [
    {
     "data": {
      "image/png": "[encoded data removed]",
      "text/plain": [
       "<matplotlib.figure.Figure at 0x7f59c18f83c8>"
      ]
     },
     "metadata": {},
     "output_type": "display_data"
    },
    {
     "data": {
      "image/png": "[encoded data removed]",
      "text/plain": [
       "<matplotlib.figure.Figure at 0x7f595c1eda90>"
      ]
     },
     "metadata": {},
     "output_type": "display_data"
    },
    {
     "data": {
      "image/png": "[encoded data removed]",
      "text/plain": [
       "<matplotlib.figure.Figure at 0x7f595c0d6be0>"
      ]
     },
     "metadata": {},
     "output_type": "display_data"
    },
    {
     "data": {
      "image/png": "[encoded data removed]",
      "text/plain": [
       "<matplotlib.figure.Figure at 0x7f59c18f23c8>"
      ]
     },
     "metadata": {},
     "output_type": "display_data"
    },
    {
     "data": {
      "image/png": "[encoded data removed]",
      "text/plain": [
       "<matplotlib.figure.Figure at 0x7f58ffb96a20>"
      ]
     },
     "metadata": {},
     "output_type": "display_data"
    },
    {
     "data": {
      "image/png": "[encoded data removed]",
      "text/plain": [
       "<matplotlib.figure.Figure at 0x7f58ffb1ad68>"
      ]
     },
     "metadata": {},
     "output_type": "display_data"
    },
    {
     "data": {
      "image/png": "[encoded data removed]",
      "text/plain": [
       "<matplotlib.figure.Figure at 0x7f595c0d6400>"
      ]
     },
     "metadata": {},
     "output_type": "display_data"
    },
    {
     "data": {
      "image/png": "[encoded data removed]",
      "text/plain": [
       "<matplotlib.figure.Figure at 0x7f595c05bda0>"
      ]
     },
     "metadata": {},
     "output_type": "display_data"
    },
    {
     "data": {
      "image/png": "[encoded data removed]",
      "text/plain": [
       "<matplotlib.figure.Figure at 0x7f58ff9619e8>"
      ]
     },
     "metadata": {},
     "output_type": "display_data"
    },
    {
     "data": {
      "image/png": "[encoded data removed]",
      "text/plain": [
       "<matplotlib.figure.Figure at 0x7f58ff8edda0>"
      ]
     },
     "metadata": {},
     "output_type": "display_data"
    },
    {
     "data": {
      "image/png": "[encoded data removed]",
      "text/plain": [
       "<matplotlib.figure.Figure at 0x7f58ff9d3d68>"
      ]
     },
     "metadata": {},
     "output_type": "display_data"
    },
    {
     "data": {
      "image/png": "[encoded data removed]",
      "text/plain": [
       "<matplotlib.figure.Figure at 0x7f58ffb06eb8>"
      ]
     },
     "metadata": {},
     "output_type": "display_data"
    },
    {
     "data": {
      "image/png": "[encoded data removed]",
      "text/plain": [
       "<matplotlib.figure.Figure at 0x7f58ff9d9f28>"
      ]
     },
     "metadata": {},
     "output_type": "display_data"
    },
    {
     "data": {
      "image/png": "[encoded data removed]",
      "text/plain": [
       "<matplotlib.figure.Figure at 0x7f596c342128>"
      ]
     },
     "metadata": {},
     "output_type": "display_data"
    },
    {
     "data": {
      "image/png": "[encoded data removed]",
      "text/plain": [
       "<matplotlib.figure.Figure at 0x7f59d41d17b8>"
      ]
     },
     "metadata": {},
     "output_type": "display_data"
    },
    {
     "data": {
      "image/png": "[encoded data removed]",
      "text/plain": [
       "<matplotlib.figure.Figure at 0x7f58ffb010b8>"
      ]
     },
     "metadata": {},
     "output_type": "display_data"
    },
    {
     "data": {
      "image/png": "[encoded data removed]",
      "text/plain": [
       "<matplotlib.figure.Figure at 0x7f58ffbc34a8>"
      ]
     },
     "metadata": {},
     "output_type": "display_data"
    },
    {
     "data": {
      "image/png": "[encoded data removed]",
      "text/plain": [
       "<matplotlib.figure.Figure at 0x7f58ffb4df28>"
      ]
     },
     "metadata": {},
     "output_type": "display_data"
    },
    {
     "data": {
      "image/png": "[encoded data removed]",
      "text/plain": [
       "<matplotlib.figure.Figure at 0x7f595c051c88>"
      ]
     },
     "metadata": {},
     "output_type": "display_data"
    },
    {
     "data": {
      "image/png": "[encoded data removed]",
      "text/plain": [
       "<matplotlib.figure.Figure at 0x7f595c08cfd0>"
      ]
     },
     "metadata": {},
     "output_type": "display_data"
    }
   ],
   "source": [
    "for i in range(20):\n",
    "    weight = model[0].weight[i,:].data.view(28,28) \n",
    "    weight = (weight - torch.min(weight))/(torch.max(weight)-torch.min(weight))\n",
    "    plt.imshow( weight.numpy(), cmap='gray')\n",
    "    plt.show()"
   ]
  },
  {
   "cell_type": "code",
   "execution_count": null,
   "metadata": {
    "collapsed": true
   },
   "outputs": [],
   "source": []
  }
 ],
 "metadata": {
  "kernelspec": {
   "display_name": "Python [default]",
   "language": "python",
   "name": "python3"
  },
  "language_info": {
   "codemirror_mode": {
    "name": "ipython",
    "version": 3
   },
   "file_extension": ".py",
   "mimetype": "text/x-python",
   "name": "python",
   "nbconvert_exporter": "python",
   "pygments_lexer": "ipython3",
   "version": "3.6.2"
  }
 },
 "nbformat": 4,
 "nbformat_minor": 2
}
