{
 "cells": [
  {
   "cell_type": "markdown",
   "metadata": {
    "slideshow": {
     "slide_type": "slide"
    }
   },
   "source": [
    "# Feed RNN inputs with variable length"
   ]
  },
  {
   "cell_type": "code",
   "execution_count": 1,
   "metadata": {
    "ExecuteTime": {
     "end_time": "2017-08-01T09:28:25.668093Z",
     "start_time": "2017-08-01T09:28:25.061010Z"
    },
    "collapsed": true,
    "nbpresent": {
     "id": "4f1e5224-72ea-4404-b0dd-ab544d20f0db"
    },
    "slideshow": {
     "slide_type": "slide"
    }
   },
   "outputs": [],
   "source": [
    "import torch\n",
    "import torch.nn as nn\n",
    "from torch.nn.utils.rnn import pack_padded_sequence, PackedSequence, pad_packed_sequence\n",
    "from torch.autograd import Variable"
   ]
  },
  {
   "cell_type": "code",
   "execution_count": 2,
   "metadata": {
    "ExecuteTime": {
     "end_time": "2017-08-01T09:28:25.707803Z",
     "start_time": "2017-08-01T09:28:25.670010Z"
    },
    "collapsed": true,
    "nbpresent": {
     "id": "9f7de1a9-47fd-420e-af45-8d8a73fc2734"
    },
    "run_control": {
     "marked": false
    },
    "slideshow": {
     "slide_type": "slide"
    }
   },
   "outputs": [],
   "source": [
    "# zero-padded input\n",
    "x = Variable(torch.Tensor([\n",
    "    [[1., 1.], [1., 1.], [1., 1.], [1., 1.], [1., 1.]],\n",
    "    [[2., 2.], [2., 2.], [2., 2.], [0., 0.], [0., 0.]],\n",
    "    [[3., 3.], [0., 0.], [0., 0.], [0., 0.], [0., 0.]]]))\n",
    "\n",
    "# list of valid length of each batch\n",
    "batch_sizes = [5, 3, 1]"
   ]
  },
  {
   "cell_type": "code",
   "execution_count": 3,
   "metadata": {
    "ExecuteTime": {
     "end_time": "2017-08-01T09:28:25.749218Z",
     "start_time": "2017-08-01T09:28:25.709228Z"
    }
   },
   "outputs": [
    {
     "data": {
      "text/plain": [
       "Variable containing:\n",
       "(0 ,.,.) = \n",
       "  1  1\n",
       "  1  1\n",
       "  1  1\n",
       "  1  1\n",
       "  1  1\n",
       "\n",
       "(1 ,.,.) = \n",
       "  2  2\n",
       "  2  2\n",
       "  2  2\n",
       "  0  0\n",
       "  0  0\n",
       "\n",
       "(2 ,.,.) = \n",
       "  3  3\n",
       "  0  0\n",
       "  0  0\n",
       "  0  0\n",
       "  0  0\n",
       "[torch.FloatTensor of size 3x5x2]"
      ]
     },
     "execution_count": 3,
     "metadata": {},
     "output_type": "execute_result"
    }
   ],
   "source": [
    "# [batch_size, max_seq_len, input_size]\n",
    "x"
   ]
  },
  {
   "cell_type": "markdown",
   "metadata": {
    "nbpresent": {
     "id": "d08c9d14-6fe3-4b37-ae4c-ec1555ac9d1b"
    },
    "slideshow": {
     "slide_type": "slide"
    }
   },
   "source": [
    "# pack_padded_sequence\n",
    "## - Save values dynamically from zero-padded inputs\n",
    "## - Frequently used as `import pack_padded sequence as pack`\n",
    "\n",
    "* Args:\n",
    "    * input (Variable)\n",
    "    * lengths (list of int)\n",
    "    * batch_first (bool)\n",
    "    \n",
    "    \n",
    "* Return:\n",
    "    * PackedSequence"
   ]
  },
  {
   "cell_type": "markdown",
   "metadata": {},
   "source": [
    "## batch_first=True"
   ]
  },
  {
   "cell_type": "code",
   "execution_count": 4,
   "metadata": {
    "ExecuteTime": {
     "end_time": "2017-08-01T09:28:25.789447Z",
     "start_time": "2017-08-01T09:28:25.751391Z"
    },
    "nbpresent": {
     "id": "4c9d1535-b168-42da-9914-27be3c07ac9b"
    },
    "slideshow": {
     "slide_type": "slide"
    }
   },
   "outputs": [
    {
     "data": {
      "text/plain": [
       "PackedSequence(data=Variable containing:\n",
       "    1     1\n",
       "    2     2\n",
       "    3     3\n",
       "    1     1\n",
       "    2     2\n",
       "    1     1\n",
       "    2     2\n",
       "    1     1\n",
       "    1     1\n",
       "[torch.FloatTensor of size 9x2]\n",
       ", batch_sizes=[3, 2, 2, 1, 1])"
      ]
     },
     "execution_count": 4,
     "metadata": {},
     "output_type": "execute_result"
    }
   ],
   "source": [
    "packed_x = pack_padded_sequence(\n",
    "    input=x,\n",
    "    lengths=[5, 3, 1], # list of length of each batch\n",
    "    batch_first=True # input shape: [batch_first, max_seq_len, input_size]\n",
    ")\n",
    "packed_x"
   ]
  },
  {
   "cell_type": "code",
   "execution_count": 5,
   "metadata": {
    "ExecuteTime": {
     "end_time": "2017-08-01T09:28:25.907519Z",
     "start_time": "2017-08-01T09:28:25.810232Z"
    },
    "nbpresent": {
     "id": "93703a55-efe6-4390-96ec-a3b6a6c80560"
    },
    "scrolled": true,
    "slideshow": {
     "slide_type": "slide"
    }
   },
   "outputs": [
    {
     "name": "stdout",
     "output_type": "stream",
     "text": [
      "Variable containing:\n",
      "    1     1\n",
      "    2     2\n",
      "    3     3\n",
      "    1     1\n",
      "    2     2\n",
      "    1     1\n",
      "    2     2\n",
      "    1     1\n",
      "    1     1\n",
      "[torch.FloatTensor of size 9x2]\n",
      "\n",
      "[3, 2, 2, 1, 1]\n"
     ]
    }
   ],
   "source": [
    "print(packed_x.data)\n",
    "print(packed_x.batch_sizes)"
   ]
  },
  {
   "cell_type": "markdown",
   "metadata": {
    "ExecuteTime": {
     "end_time": "2017-07-30T17:04:20.646707Z",
     "start_time": "2017-07-30T17:04:20.632172Z"
    }
   },
   "source": [
    "## batch_first=False"
   ]
  },
  {
   "cell_type": "code",
   "execution_count": 6,
   "metadata": {
    "ExecuteTime": {
     "end_time": "2017-08-01T09:28:25.991051Z",
     "start_time": "2017-08-01T09:28:25.909266Z"
    }
   },
   "outputs": [
    {
     "data": {
      "text/plain": [
       "Variable containing:\n",
       "(0 ,.,.) = \n",
       "  1  1\n",
       "  2  2\n",
       "  3  3\n",
       "\n",
       "(1 ,.,.) = \n",
       "  1  1\n",
       "  2  2\n",
       "  0  0\n",
       "\n",
       "(2 ,.,.) = \n",
       "  1  1\n",
       "  2  2\n",
       "  0  0\n",
       "\n",
       "(3 ,.,.) = \n",
       "  1  1\n",
       "  0  0\n",
       "  0  0\n",
       "\n",
       "(4 ,.,.) = \n",
       "  1  1\n",
       "  0  0\n",
       "  0  0\n",
       "[torch.FloatTensor of size 5x3x2]"
      ]
     },
     "execution_count": 6,
     "metadata": {},
     "output_type": "execute_result"
    }
   ],
   "source": [
    "x_T = x.transpose(0, 1)\n",
    "x_T"
   ]
  },
  {
   "cell_type": "code",
   "execution_count": 7,
   "metadata": {
    "ExecuteTime": {
     "end_time": "2017-08-01T09:28:26.075174Z",
     "start_time": "2017-08-01T09:28:25.997652Z"
    },
    "scrolled": true,
    "slideshow": {
     "slide_type": "slide"
    }
   },
   "outputs": [
    {
     "data": {
      "text/plain": [
       "PackedSequence(data=Variable containing:\n",
       "    1     1\n",
       "    2     2\n",
       "    3     3\n",
       "    1     1\n",
       "    2     2\n",
       "    1     1\n",
       "    2     2\n",
       "    1     1\n",
       "    1     1\n",
       "[torch.FloatTensor of size 9x2]\n",
       ", batch_sizes=[3, 2, 2, 1, 1])"
      ]
     },
     "execution_count": 7,
     "metadata": {},
     "output_type": "execute_result"
    }
   ],
   "source": [
    "packed_x_T = pack_padded_sequence(\n",
    "    input=x_T,\n",
    "    lengths=[5, 3, 1], # list of length of each batch\n",
    "    batch_first=False # [max_seq_len, batch_first, input_size]\n",
    ")\n",
    "packed_x_T"
   ]
  },
  {
   "cell_type": "markdown",
   "metadata": {
    "slideshow": {
     "slide_type": "slide"
    }
   },
   "source": [
    "# PackedSequence\n",
    "\n",
    "* internal\n",
    "\n",
    "```\n",
    "PackedSequence_ = namedtuple('PackedSequence', ['data', 'batch_sizes'])\n",
    "class PackedSequence(PackedSequence_):\n",
    "    pass\n",
    "```\n",
    "* Args:\n",
    "    * data (Variable) <= **zero-padded** tensor\n",
    "    * batch_sizes (list of int) <= **in decreasing order**"
   ]
  },
  {
   "cell_type": "code",
   "execution_count": 8,
   "metadata": {
    "ExecuteTime": {
     "end_time": "2017-08-01T09:28:26.208274Z",
     "start_time": "2017-08-01T09:28:26.088350Z"
    }
   },
   "outputs": [
    {
     "data": {
      "text/plain": [
       "Variable containing:\n",
       "(0 ,.,.) = \n",
       "  1  1\n",
       "  1  1\n",
       "  1  1\n",
       "  1  1\n",
       "  1  1\n",
       "\n",
       "(1 ,.,.) = \n",
       "  2  2\n",
       "  2  2\n",
       "  2  2\n",
       "  0  0\n",
       "  0  0\n",
       "\n",
       "(2 ,.,.) = \n",
       "  3  3\n",
       "  0  0\n",
       "  0  0\n",
       "  0  0\n",
       "  0  0\n",
       "[torch.FloatTensor of size 3x5x2]"
      ]
     },
     "execution_count": 8,
     "metadata": {},
     "output_type": "execute_result"
    }
   ],
   "source": [
    "x"
   ]
  },
  {
   "cell_type": "code",
   "execution_count": 9,
   "metadata": {
    "ExecuteTime": {
     "end_time": "2017-08-01T09:28:26.293779Z",
     "start_time": "2017-08-01T09:28:26.221815Z"
    },
    "scrolled": true
   },
   "outputs": [
    {
     "data": {
      "text/plain": [
       "PackedSequence(data=Variable containing:\n",
       "(0 ,.,.) = \n",
       "  1  1\n",
       "  1  1\n",
       "  1  1\n",
       "  1  1\n",
       "  1  1\n",
       "\n",
       "(1 ,.,.) = \n",
       "  2  2\n",
       "  2  2\n",
       "  2  2\n",
       "  0  0\n",
       "  0  0\n",
       "\n",
       "(2 ,.,.) = \n",
       "  3  3\n",
       "  0  0\n",
       "  0  0\n",
       "  0  0\n",
       "  0  0\n",
       "[torch.FloatTensor of size 3x5x2]\n",
       ", batch_sizes=[5, 3, 1])"
      ]
     },
     "execution_count": 9,
     "metadata": {},
     "output_type": "execute_result"
    }
   ],
   "source": [
    "PackedSequence(x, batch_sizes)"
   ]
  },
  {
   "cell_type": "markdown",
   "metadata": {},
   "source": [
    "# RNN takes PackedSequence"
   ]
  },
  {
   "cell_type": "code",
   "execution_count": 10,
   "metadata": {
    "ExecuteTime": {
     "end_time": "2017-08-01T09:28:26.336585Z",
     "start_time": "2017-08-01T09:28:26.303369Z"
    },
    "collapsed": true
   },
   "outputs": [],
   "source": [
    "linear = nn.Linear(2, 2)\n",
    "rnn = nn.RNN(2, 2, batch_first=True)"
   ]
  },
  {
   "cell_type": "code",
   "execution_count": 11,
   "metadata": {
    "ExecuteTime": {
     "end_time": "2017-08-01T09:28:26.397927Z",
     "start_time": "2017-08-01T09:28:26.338414Z"
    }
   },
   "outputs": [
    {
     "data": {
      "text/plain": [
       "PackedSequence(data=Variable containing:\n",
       "    1     1\n",
       "    2     2\n",
       "    3     3\n",
       "    1     1\n",
       "    2     2\n",
       "    1     1\n",
       "    2     2\n",
       "    1     1\n",
       "    1     1\n",
       "[torch.FloatTensor of size 9x2]\n",
       ", batch_sizes=[3, 2, 2, 1, 1])"
      ]
     },
     "execution_count": 11,
     "metadata": {},
     "output_type": "execute_result"
    }
   ],
   "source": [
    "packed_x"
   ]
  },
  {
   "cell_type": "code",
   "execution_count": 12,
   "metadata": {
    "ExecuteTime": {
     "end_time": "2017-08-01T09:28:26.554097Z",
     "start_time": "2017-08-01T09:28:26.410897Z"
    },
    "nbpresent": {
     "id": "d730a330-c885-43fd-b67c-77a9b5f90c0e"
    },
    "scrolled": true,
    "slideshow": {
     "slide_type": "subslide"
    }
   },
   "outputs": [
    {
     "data": {
      "text/plain": [
       "PackedSequence(data=Variable containing:\n",
       " 1.2840  0.2970\n",
       " 2.3917  0.1153\n",
       " 3.4993 -0.0664\n",
       " 1.2840  0.2970\n",
       " 2.3917  0.1153\n",
       " 1.2840  0.2970\n",
       " 2.3917  0.1153\n",
       " 1.2840  0.2970\n",
       " 1.2840  0.2970\n",
       "[torch.FloatTensor of size 9x2]\n",
       ", batch_sizes=[3, 2, 2, 1, 1])"
      ]
     },
     "execution_count": 12,
     "metadata": {},
     "output_type": "execute_result"
    }
   ],
   "source": [
    "packed_h = PackedSequence(linear(packed_x.data), packed_x.batch_sizes)\n",
    "packed_h"
   ]
  },
  {
   "cell_type": "code",
   "execution_count": 13,
   "metadata": {
    "ExecuteTime": {
     "end_time": "2017-08-01T09:28:26.610976Z",
     "start_time": "2017-08-01T09:28:26.557756Z"
    },
    "nbpresent": {
     "id": "91ec52e3-7ef8-4504-80a5-cbbb387dc98c"
    },
    "scrolled": false,
    "slideshow": {
     "slide_type": "subslide"
    }
   },
   "outputs": [
    {
     "data": {
      "text/plain": [
       "(PackedSequence(data=Variable containing:\n",
       " 0.9480 -0.8677\n",
       " 0.9865 -0.9700\n",
       " 0.9966 -0.9935\n",
       " 0.9856 -0.6243\n",
       " 0.9966 -0.8922\n",
       " 0.9849 -0.7109\n",
       " 0.9965 -0.9020\n",
       " 0.9854 -0.6820\n",
       " 0.9852 -0.6919\n",
       "[torch.FloatTensor of size 9x2]\n",
       ", batch_sizes=[3, 2, 2, 1, 1]),\n",
       " Variable containing:\n",
       " (0 ,.,.) = \n",
       "   0.9852 -0.6919\n",
       "   0.9965 -0.9020\n",
       "   0.9966 -0.9935\n",
       " [torch.FloatTensor of size 1x3x2])"
      ]
     },
     "execution_count": 13,
     "metadata": {},
     "output_type": "execute_result"
    }
   ],
   "source": [
    "packed_y, last_h = rnn(packed_h)\n",
    "packed_y, last_h"
   ]
  },
  {
   "cell_type": "markdown",
   "metadata": {
    "nbpresent": {
     "id": "387077cf-0bfa-49d3-8a72-bb79b624f0e1"
    },
    "slideshow": {
     "slide_type": "slide"
    }
   },
   "source": [
    "# pad_packed_sequence\n",
    "## - zero-pad inputs and make it Tensor again\n",
    "## - Frequently used as `import pad_packed sequence as pad`\n",
    "\n",
    "* Args:\n",
    "    * sequence (PackedSequence)\n",
    "    * batch_first (bool)\n",
    "\n",
    "\n",
    "* Return:\n",
    "    * output (tuple of Variable)\n",
    "    * lengths (list of int)"
   ]
  },
  {
   "cell_type": "code",
   "execution_count": 14,
   "metadata": {
    "ExecuteTime": {
     "end_time": "2017-08-01T09:28:26.656791Z",
     "start_time": "2017-08-01T09:28:26.614484Z"
    }
   },
   "outputs": [
    {
     "data": {
      "text/plain": [
       "PackedSequence(data=Variable containing:\n",
       " 0.9480 -0.8677\n",
       " 0.9865 -0.9700\n",
       " 0.9966 -0.9935\n",
       " 0.9856 -0.6243\n",
       " 0.9966 -0.8922\n",
       " 0.9849 -0.7109\n",
       " 0.9965 -0.9020\n",
       " 0.9854 -0.6820\n",
       " 0.9852 -0.6919\n",
       "[torch.FloatTensor of size 9x2]\n",
       ", batch_sizes=[3, 2, 2, 1, 1])"
      ]
     },
     "execution_count": 14,
     "metadata": {},
     "output_type": "execute_result"
    }
   ],
   "source": [
    "packed_y"
   ]
  },
  {
   "cell_type": "code",
   "execution_count": 15,
   "metadata": {
    "ExecuteTime": {
     "end_time": "2017-08-01T09:28:26.709260Z",
     "start_time": "2017-08-01T09:28:26.659577Z"
    },
    "nbpresent": {
     "id": "40db5f6f-6aa7-420e-ac35-ee9616a749d0"
    },
    "slideshow": {
     "slide_type": "slide"
    }
   },
   "outputs": [
    {
     "data": {
      "text/plain": [
       "(Variable containing:\n",
       " (0 ,.,.) = \n",
       "   0.9480 -0.8677\n",
       "   0.9856 -0.6243\n",
       "   0.9849 -0.7109\n",
       "   0.9854 -0.6820\n",
       "   0.9852 -0.6919\n",
       " \n",
       " (1 ,.,.) = \n",
       "   0.9865 -0.9700\n",
       "   0.9966 -0.8922\n",
       "   0.9965 -0.9020\n",
       "   0.0000  0.0000\n",
       "   0.0000  0.0000\n",
       " \n",
       " (2 ,.,.) = \n",
       "   0.9966 -0.9935\n",
       "   0.0000  0.0000\n",
       "   0.0000  0.0000\n",
       "   0.0000  0.0000\n",
       "   0.0000  0.0000\n",
       " [torch.FloatTensor of size 3x5x2], [5, 3, 1])"
      ]
     },
     "execution_count": 15,
     "metadata": {},
     "output_type": "execute_result"
    }
   ],
   "source": [
    "pad_packed_sequence(packed_y, batch_first=True)"
   ]
  }
 ],
 "metadata": {
  "anaconda-cloud": {},
  "celltoolbar": "Slideshow",
  "kernelspec": {
   "display_name": "Python 3",
   "language": "python",
   "name": "python3"
  },
  "language_info": {
   "codemirror_mode": {
    "name": "ipython",
    "version": 3
   },
   "file_extension": ".py",
   "mimetype": "text/x-python",
   "name": "python",
   "nbconvert_exporter": "python",
   "pygments_lexer": "ipython3",
   "version": "3.6.5"
  },
  "nbpresent": {
   "slides": {
    "5693e635-36e4-4ee8-b7ed-1baf00f1a1b8": {
     "id": "5693e635-36e4-4ee8-b7ed-1baf00f1a1b8",
     "prev": null,
     "regions": {
      "f8f52537-2009-46b6-b3af-856c16fa4b7c": {
       "attrs": {
        "height": 1,
        "width": 1,
        "x": 0,
        "y": 0
       },
       "content": {
        "cell": "4f1e5224-72ea-4404-b0dd-ab544d20f0db",
        "part": "source"
       },
       "id": "f8f52537-2009-46b6-b3af-856c16fa4b7c"
      }
     }
    },
    "ec72478a-ed16-4b6f-9ae6-453e395bd9e5": {
     "id": "ec72478a-ed16-4b6f-9ae6-453e395bd9e5",
     "prev": "5693e635-36e4-4ee8-b7ed-1baf00f1a1b8",
     "regions": {
      "414fc7ef-3d13-4d20-80d3-d22ebc122b00": {
       "attrs": {
        "height": 1,
        "width": 1,
        "x": 0,
        "y": 0
       },
       "content": {
        "cell": "4f1e5224-72ea-4404-b0dd-ab544d20f0db",
        "part": "whole"
       },
       "id": "414fc7ef-3d13-4d20-80d3-d22ebc122b00"
      }
     }
    }
   },
   "themes": {
    "default": "5cea64e4-c8cb-4fa0-a719-7f064297fbad",
    "theme": {
     "105f10ec-c70d-4ab1-8350-ac0768887440": {
      "backgrounds": {
       "backgroundColor": {
        "background-color": "backgroundColor",
        "id": "backgroundColor"
       }
      },
      "id": "105f10ec-c70d-4ab1-8350-ac0768887440",
      "palette": {
       "backgroundColor": {
        "id": "backgroundColor",
        "rgb": [
         253,
         246,
         227
        ]
       },
       "headingColor": {
        "id": "headingColor",
        "rgb": [
         88,
         110,
         117
        ]
       },
       "linkColor": {
        "id": "linkColor",
        "rgb": [
         38,
         139,
         210
        ]
       },
       "mainColor": {
        "id": "mainColor",
        "rgb": [
         101,
         123,
         131
        ]
       }
      },
      "rules": {
       "a": {
        "color": "linkColor"
       },
       "h1": {
        "color": "headingColor",
        "font-family": "Oswald",
        "font-size": 7
       },
       "h2": {
        "color": "headingColor",
        "font-family": "Oswald",
        "font-size": 5
       },
       "h3": {
        "color": "headingColor",
        "font-family": "Oswald",
        "font-size": 3.75
       },
       "h4": {
        "color": "headingColor",
        "font-family": "Oswald",
        "font-size": 3
       },
       "h5": {
        "color": "headingColor",
        "font-family": "Oswald"
       },
       "h6": {
        "color": "headingColor",
        "font-family": "Oswald"
       },
       "h7": {
        "color": "headingColor",
        "font-family": "Oswald"
       },
       "li": {
        "color": "mainColor",
        "font-family": "Lato",
        "font-size": 5
       },
       "p": {
        "color": "mainColor",
        "font-family": "Lato",
        "font-size": 5
       }
      },
      "text-base": {
       "color": "mainColor",
       "font-family": "Lato",
       "font-size": 5
      }
     },
     "29add8b3-7d00-4cc5-98e2-7b445bd863f6": {
      "backgrounds": {
       "backgroundColor": {
        "background-color": "backgroundColor",
        "id": "backgroundColor"
       }
      },
      "id": "29add8b3-7d00-4cc5-98e2-7b445bd863f6",
      "palette": {
       "backgroundColor": {
        "id": "backgroundColor",
        "rgb": [
         247,
         243,
         222
        ]
       },
       "headingColor": {
        "id": "headingColor",
        "rgb": [
         51,
         51,
         51
        ]
       },
       "linkColor": {
        "id": "linkColor",
        "rgb": [
         139,
         116,
         61
        ]
       },
       "mainColor": {
        "id": "mainColor",
        "rgb": [
         51,
         51,
         51
        ]
       }
      },
      "rules": {
       "a": {
        "color": "linkColor"
       },
       "h1": {
        "color": "headingColor",
        "font-family": "Oswald",
        "font-size": 7
       },
       "h2": {
        "color": "headingColor",
        "font-family": "Oswald",
        "font-size": 5
       },
       "h3": {
        "color": "headingColor",
        "font-family": "Oswald",
        "font-size": 3.75
       },
       "h4": {
        "color": "headingColor",
        "font-family": "Oswald",
        "font-size": 3
       },
       "h5": {
        "color": "headingColor",
        "font-family": "Oswald"
       },
       "h6": {
        "color": "headingColor",
        "font-family": "Oswald"
       },
       "h7": {
        "color": "headingColor",
        "font-family": "Oswald"
       },
       "li": {
        "color": "mainColor",
        "font-family": "Lato",
        "font-size": 5
       },
       "p": {
        "color": "mainColor",
        "font-family": "Lato",
        "font-size": 5
       }
      },
      "text-base": {
       "color": "mainColor",
       "font-family": "Lato",
       "font-size": 5
      }
     },
     "32a9cfde-38e7-46ac-b123-c025483160ff": {
      "backgrounds": {
       "backgroundColor": {
        "background-color": "backgroundColor",
        "id": "backgroundColor"
       }
      },
      "id": "32a9cfde-38e7-46ac-b123-c025483160ff",
      "palette": {
       "backgroundColor": {
        "id": "backgroundColor",
        "rgb": [
         247,
         251,
         252
        ]
       },
       "headingColor": {
        "id": "headingColor",
        "rgb": [
         51,
         51,
         51
        ]
       },
       "linkColor": {
        "id": "linkColor",
        "rgb": [
         59,
         117,
         158
        ]
       },
       "mainColor": {
        "id": "mainColor",
        "rgb": [
         51,
         51,
         51
        ]
       }
      },
      "rules": {
       "a": {
        "color": "linkColor"
       },
       "h1": {
        "color": "headingColor",
        "font-family": "Quicksand",
        "font-size": 7
       },
       "h2": {
        "color": "headingColor",
        "font-family": "Quicksand",
        "font-size": 5
       },
       "h3": {
        "color": "headingColor",
        "font-family": "Quicksand",
        "font-size": 3.75
       },
       "h4": {
        "color": "headingColor",
        "font-family": "Quicksand",
        "font-size": 3
       },
       "h5": {
        "color": "headingColor",
        "font-family": "Quicksand"
       },
       "h6": {
        "color": "headingColor",
        "font-family": "Quicksand"
       },
       "h7": {
        "color": "headingColor",
        "font-family": "Quicksand"
       },
       "li": {
        "color": "mainColor",
        "font-family": "Open Sans",
        "font-size": 5
       },
       "p": {
        "color": "mainColor",
        "font-family": "Open Sans",
        "font-size": 5
       }
      },
      "text-base": {
       "color": "mainColor",
       "font-family": "Open Sans",
       "font-size": 5
      }
     },
     "570ce768-9a63-4235-bc78-d5816d6e7530": {
      "backgrounds": {
       "backgroundColor": {
        "background-color": "backgroundColor",
        "id": "backgroundColor"
       }
      },
      "id": "570ce768-9a63-4235-bc78-d5816d6e7530",
      "palette": {
       "backgroundColor": {
        "id": "backgroundColor",
        "rgb": [
         247,
         251,
         252
        ]
       },
       "headingColor": {
        "id": "headingColor",
        "rgb": [
         51,
         51,
         51
        ]
       },
       "linkColor": {
        "id": "linkColor",
        "rgb": [
         59,
         117,
         158
        ]
       },
       "mainColor": {
        "id": "mainColor",
        "rgb": [
         51,
         51,
         51
        ]
       }
      },
      "rules": {
       "a": {
        "color": "linkColor"
       },
       "h1": {
        "color": "headingColor",
        "font-family": "Quicksand",
        "font-size": 7
       },
       "h2": {
        "color": "headingColor",
        "font-family": "Quicksand",
        "font-size": 5
       },
       "h3": {
        "color": "headingColor",
        "font-family": "Quicksand",
        "font-size": 3.75
       },
       "h4": {
        "color": "headingColor",
        "font-family": "Quicksand",
        "font-size": 3
       },
       "h5": {
        "color": "headingColor",
        "font-family": "Quicksand"
       },
       "h6": {
        "color": "headingColor",
        "font-family": "Quicksand"
       },
       "h7": {
        "color": "headingColor",
        "font-family": "Quicksand"
       },
       "li": {
        "color": "mainColor",
        "font-family": "Open Sans",
        "font-size": 5
       },
       "p": {
        "color": "mainColor",
        "font-family": "Open Sans",
        "font-size": 5
       }
      },
      "text-base": {
       "color": "mainColor",
       "font-family": "Open Sans",
       "font-size": 5
      }
     },
     "5cea64e4-c8cb-4fa0-a719-7f064297fbad": {
      "backgrounds": {
       "backgroundColor": {
        "background-color": "backgroundColor",
        "id": "backgroundColor"
       }
      },
      "id": "5cea64e4-c8cb-4fa0-a719-7f064297fbad",
      "palette": {
       "backgroundColor": {
        "id": "backgroundColor",
        "rgb": [
         34,
         34,
         34
        ]
       },
       "headingColor": {
        "id": "headingColor",
        "rgb": [
         238,
         238,
         238
        ]
       },
       "linkColor": {
        "id": "linkColor",
        "rgb": [
         170,
         34,
         51
        ]
       },
       "mainColor": {
        "id": "mainColor",
        "rgb": [
         238,
         238,
         238
        ]
       }
      },
      "rules": {
       "a": {
        "color": "linkColor"
       },
       "h1": {
        "color": "headingColor",
        "font-family": "Ubuntu",
        "font-size": 7
       },
       "h2": {
        "color": "headingColor",
        "font-family": "Ubuntu",
        "font-size": 5
       },
       "h3": {
        "color": "headingColor",
        "font-family": "Ubuntu",
        "font-size": 3.75
       },
       "h4": {
        "color": "headingColor",
        "font-family": "Ubuntu",
        "font-size": 3
       },
       "h5": {
        "color": "headingColor",
        "font-family": "Ubuntu"
       },
       "h6": {
        "color": "headingColor",
        "font-family": "Ubuntu"
       },
       "h7": {
        "color": "headingColor",
        "font-family": "Ubuntu"
       },
       "li": {
        "color": "mainColor",
        "font-family": "Ubuntu",
        "font-size": 5
       },
       "p": {
        "color": "mainColor",
        "font-family": "Ubuntu",
        "font-size": 5
       }
      },
      "text-base": {
       "color": "mainColor",
       "font-family": "Ubuntu",
       "font-size": 5
      }
     },
     "d0770bf9-ebde-4a7e-8ee2-4aaef5c61466": {
      "backgrounds": {
       "backgroundColor": {
        "background-color": "backgroundColor",
        "id": "backgroundColor"
       }
      },
      "id": "d0770bf9-ebde-4a7e-8ee2-4aaef5c61466",
      "palette": {
       "backgroundColor": {
        "id": "backgroundColor",
        "rgb": [
         0,
         43,
         54
        ]
       },
       "headingColor": {
        "id": "headingColor",
        "rgb": [
         238,
         232,
         213
        ]
       },
       "linkColor": {
        "id": "linkColor",
        "rgb": [
         38,
         139,
         210
        ]
       },
       "mainColor": {
        "id": "mainColor",
        "rgb": [
         147,
         161,
         161
        ]
       }
      },
      "rules": {
       "a": {
        "color": "linkColor"
       },
       "h1": {
        "color": "headingColor",
        "font-family": "Oswald",
        "font-size": 7
       },
       "h2": {
        "color": "headingColor",
        "font-family": "Oswald",
        "font-size": 5
       },
       "h3": {
        "color": "headingColor",
        "font-family": "Oswald",
        "font-size": 3.75
       },
       "h4": {
        "color": "headingColor",
        "font-family": "Oswald",
        "font-size": 3
       },
       "h5": {
        "color": "headingColor",
        "font-family": "Oswald"
       },
       "h6": {
        "color": "headingColor",
        "font-family": "Oswald"
       },
       "h7": {
        "color": "headingColor",
        "font-family": "Oswald"
       },
       "li": {
        "color": "mainColor",
        "font-family": "Lato",
        "font-size": 5
       },
       "p": {
        "color": "mainColor",
        "font-family": "Lato",
        "font-size": 5
       }
      },
      "text-base": {
       "color": "mainColor",
       "font-family": "Lato",
       "font-size": 5
      }
     }
    }
   }
  },
  "varInspector": {
   "cols": {
    "lenName": 16,
    "lenType": 16,
    "lenVar": 40
   },
   "kernels_config": {
    "python": {
     "delete_cmd_postfix": "",
     "delete_cmd_prefix": "del ",
     "library": "var_list.py",
     "varRefreshCmd": "print(var_dic_list())"
    },
    "r": {
     "delete_cmd_postfix": ") ",
     "delete_cmd_prefix": "rm(",
     "library": "var_list.r",
     "varRefreshCmd": "cat(var_dic_list()) "
    }
   },
   "types_to_exclude": [
    "module",
    "function",
    "builtin_function_or_method",
    "instance",
    "_Feature"
   ],
   "window_display": false
  }
 },
 "nbformat": 4,
 "nbformat_minor": 2
}
