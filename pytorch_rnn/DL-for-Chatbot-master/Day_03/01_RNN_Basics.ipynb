{
 "cells": [
  {
   "cell_type": "code",
   "execution_count": 1,
   "metadata": {
    "ExecuteTime": {
     "end_time": "2017-07-30T20:02:02.411933Z",
     "start_time": "2017-07-30T20:02:01.914629Z"
    }
   },
   "outputs": [],
   "source": [
    "import torch\n",
    "import torch.nn as nn\n",
    "from torch.autograd import Variable"
   ]
  },
  {
   "cell_type": "code",
   "execution_count": 2,
   "metadata": {
    "ExecuteTime": {
     "end_time": "2017-07-30T20:02:02.439301Z",
     "start_time": "2017-07-30T20:02:02.413401Z"
    }
   },
   "outputs": [],
   "source": [
    "batch_size = 3\n",
    "input_length = [[2,5,3], [5,3,4]]\n",
    "input_dim = 2\n",
    "hidden_dim = 4\n",
    "num_layers = 1"
   ]
  },
  {
   "cell_type": "markdown",
   "metadata": {},
   "source": [
    "# RNN vs RNNCell\n",
    "\n",
    "|              nn.RNN              |                 nn.RNNCell                 |\n",
    "|:--------------------------------:|:------------------------------------------:|\n",
    "|       unrolling whole steps      |            unrolling single step           |\n",
    "| internally uses CuDNN => faster! | similar to TensorFlow's RNN implementation |"
   ]
  },
  {
   "cell_type": "markdown",
   "metadata": {},
   "source": [
    "## nn.RNN\n",
    "\n",
    "* Args:\n",
    "    * input_size (int)\n",
    "    * hidden_size (int)\n",
    "    \n",
    "    \n",
    "* Optional Args\n",
    "    * num_layers (int)\n",
    "    * nonlinearity (activation function; ex. nn.Tanh, nn.ReLU)\n",
    "    * bias (bool)\n",
    "    * batch_first (bool)\n",
    "    * dropout (float)\n",
    "    * bidirectional (bool)\n",
    "\n",
    "\n",
    "* inputs:\n",
    "    * input (seq_len, batch_size, input_size)\n",
    "    * h_0 (num_layers*num_directions, batch_size, hidden_size) => default: zeros\n",
    "\n",
    "\n",
    "* outputs:\n",
    "    * output (seq_len, batch_size, hidden_size* num_directions) => outputs from whole steps\n",
    "    * h_n (num_layers, num_directions, batch, hidden_size) => last output"
   ]
  },
  {
   "cell_type": "code",
   "execution_count": 3,
   "metadata": {
    "ExecuteTime": {
     "end_time": "2017-07-30T20:02:02.473323Z",
     "start_time": "2017-07-30T20:02:02.440897Z"
    }
   },
   "outputs": [
    {
     "data": {
      "text/plain": [
       "RNN(2, 4, batch_first=True)"
      ]
     },
     "execution_count": 3,
     "metadata": {},
     "output_type": "execute_result"
    }
   ],
   "source": [
    "rnn = nn.RNN(input_dim, hidden_dim, batch_first=True)\n",
    "rnn"
   ]
  },
  {
   "cell_type": "code",
   "execution_count": 4,
   "metadata": {
    "ExecuteTime": {
     "end_time": "2017-07-30T20:02:02.505016Z",
     "start_time": "2017-07-30T20:02:02.475743Z"
    },
    "scrolled": true
   },
   "outputs": [
    {
     "data": {
      "text/plain": [
       "{'_backend': <torch.nn.backends.thnn.THNNFunctionBackend at 0x60de6d8>,\n",
       " '_parameters': OrderedDict([('weight_ih_l0', Parameter containing:\n",
       "                0.1513  0.2242\n",
       "               -0.0615 -0.0894\n",
       "                0.4656  0.0848\n",
       "                0.4766 -0.4431\n",
       "               [torch.FloatTensor of size 4x2]),\n",
       "              ('weight_hh_l0', Parameter containing:\n",
       "                0.0736  0.1527 -0.0864  0.0758\n",
       "               -0.1699 -0.1154  0.4878  0.1662\n",
       "               -0.2771  0.0470 -0.0406  0.1085\n",
       "               -0.4232 -0.4884 -0.2893 -0.2546\n",
       "               [torch.FloatTensor of size 4x4]),\n",
       "              ('bias_ih_l0', Parameter containing:\n",
       "               -0.2122\n",
       "               -0.0692\n",
       "               -0.2338\n",
       "                0.3507\n",
       "               [torch.FloatTensor of size 4]),\n",
       "              ('bias_hh_l0', Parameter containing:\n",
       "               -0.2776\n",
       "               -0.0677\n",
       "               -0.3371\n",
       "               -0.2984\n",
       "               [torch.FloatTensor of size 4])]),\n",
       " '_buffers': OrderedDict(),\n",
       " '_backward_hooks': OrderedDict(),\n",
       " '_forward_hooks': OrderedDict(),\n",
       " '_forward_pre_hooks': OrderedDict(),\n",
       " '_modules': OrderedDict(),\n",
       " 'training': True,\n",
       " 'mode': 'RNN_TANH',\n",
       " 'input_size': 2,\n",
       " 'hidden_size': 4,\n",
       " 'num_layers': 1,\n",
       " 'bias': True,\n",
       " 'batch_first': True,\n",
       " 'dropout': 0,\n",
       " 'dropout_state': {},\n",
       " 'bidirectional': False,\n",
       " '_all_weights': [['weight_ih_l0',\n",
       "   'weight_hh_l0',\n",
       "   'bias_ih_l0',\n",
       "   'bias_hh_l0']],\n",
       " '_data_ptrs': []}"
      ]
     },
     "execution_count": 4,
     "metadata": {},
     "output_type": "execute_result"
    }
   ],
   "source": [
    "vars(rnn)"
   ]
  },
  {
   "cell_type": "code",
   "execution_count": 13,
   "metadata": {
    "ExecuteTime": {
     "end_time": "2017-07-30T20:02:02.544921Z",
     "start_time": "2017-07-30T20:02:02.507637Z"
    },
    "scrolled": true
   },
   "outputs": [
    {
     "name": "stdout",
     "output_type": "stream",
     "text": [
      "torch.Size([3, 5, 2]) torch.Size([1, 3, 4])\n"
     ]
    }
   ],
   "source": [
    "# inputs: (input, h_0)\n",
    "x = Variable(torch.randn([batch_size, max(input_length[0]), input_dim]))\n",
    "h_0 = Variable(torch.zeros([num_layers, batch_size, hidden_dim]))\n",
    "print(x.size(), h_0.size())"
   ]
  },
  {
   "cell_type": "code",
   "execution_count": 16,
   "metadata": {
    "ExecuteTime": {
     "end_time": "2017-07-30T20:02:02.624520Z",
     "start_time": "2017-07-30T20:02:02.547654Z"
    },
    "scrolled": true
   },
   "outputs": [
    {
     "data": {
      "text/plain": [
       "(Variable containing:\n",
       " (0 ,.,.) = \n",
       "  -0.0580 -0.2984 -0.7239 -0.9432\n",
       "  -0.3937 -0.5754 -0.5055  0.4437\n",
       "  -0.4399 -0.1965 -0.4601  0.2279\n",
       "  -0.6302 -0.1277 -0.2696  0.8709\n",
       "   0.2143 -0.2699  0.5924  0.2469\n",
       " \n",
       " (1 ,.,.) = \n",
       "  -0.7633  0.0701 -0.9039 -0.3039\n",
       "  -0.4974 -0.4482  0.2635  0.9667\n",
       "  -0.5247  0.2940 -0.0077  0.7316\n",
       "  -0.3111 -0.0085  0.5353  0.8912\n",
       "  -0.4104  0.2938 -0.0686  0.2933\n",
       " \n",
       " (2 ,.,.) = \n",
       "  -0.1368 -0.2716 -0.0215  0.1456\n",
       "  -0.5410 -0.0370 -0.7020 -0.2264\n",
       "  -0.7699 -0.2063 -0.7086  0.8003\n",
       "  -0.1891 -0.2924  0.1094  0.4245\n",
       "  -0.5353  0.0812 -0.4308  0.3676\n",
       " [torch.FloatTensor of size 3x5x4], Variable containing:\n",
       " (0 ,.,.) = \n",
       "   0.2143 -0.2699  0.5924  0.2469\n",
       "  -0.4104  0.2938 -0.0686  0.2933\n",
       "  -0.5353  0.0812 -0.4308  0.3676\n",
       " [torch.FloatTensor of size 1x3x4])"
      ]
     },
     "execution_count": 16,
     "metadata": {},
     "output_type": "execute_result"
    }
   ],
   "source": [
    "#outputs: (output, h_n)\n",
    "#assert rnn(x, h_0) == rnn(x) # default hidden_state: zeros\n",
    "rnn(x)"
   ]
  },
  {
   "cell_type": "markdown",
   "metadata": {},
   "source": [
    "## nn.LSTM\n",
    "\n",
    "* Args:\n",
    "    Same as RNN\n",
    "\n",
    "\n",
    "* inputs:\n",
    "    * input (seq_len, batch_size, input_size)\n",
    "    * (h_0, c_0) ( (num_layers*num_directions, batch_size, hidden_size), (num_layers*num_directions, batch_size, hidden_size) )\n",
    "    \n",
    "\n",
    "* outputs:\n",
    "    * output (seq_len, batch_size, hidden_size*num_directions)\n",
    "    * (h_n, c_n) ( (num_layers*num_directions, batch_size, hidden_size), (num_layers*num_directions, batch_size, hidden_size) )"
   ]
  },
  {
   "cell_type": "code",
   "execution_count": 7,
   "metadata": {
    "ExecuteTime": {
     "end_time": "2017-07-30T20:02:02.656619Z",
     "start_time": "2017-07-30T20:02:02.627283Z"
    }
   },
   "outputs": [
    {
     "data": {
      "text/plain": [
       "LSTM(2, 4, batch_first=True)"
      ]
     },
     "execution_count": 7,
     "metadata": {},
     "output_type": "execute_result"
    }
   ],
   "source": [
    "lstm = nn.LSTM(input_dim, hidden_dim, batch_first=True)\n",
    "lstm"
   ]
  },
  {
   "cell_type": "code",
   "execution_count": 8,
   "metadata": {
    "ExecuteTime": {
     "end_time": "2017-07-30T20:02:02.699734Z",
     "start_time": "2017-07-30T20:02:02.663785Z"
    },
    "scrolled": true
   },
   "outputs": [
    {
     "data": {
      "text/plain": [
       "{'_backend': <torch.nn.backends.thnn.THNNFunctionBackend at 0x60de6d8>,\n",
       " '_parameters': OrderedDict([('weight_ih_l0', Parameter containing:\n",
       "               -0.3700  0.0155\n",
       "                0.2055  0.3116\n",
       "                0.4719 -0.0947\n",
       "               -0.4622  0.0939\n",
       "                0.2665 -0.2940\n",
       "               -0.4777 -0.2390\n",
       "               -0.1258  0.0485\n",
       "               -0.2348 -0.0667\n",
       "               -0.0078 -0.3306\n",
       "                0.4739 -0.0022\n",
       "                0.4337  0.0581\n",
       "               -0.0034 -0.3160\n",
       "                0.4169 -0.0563\n",
       "                0.1696  0.2869\n",
       "                0.0442  0.4298\n",
       "               -0.0640 -0.3694\n",
       "               [torch.FloatTensor of size 16x2]),\n",
       "              ('weight_hh_l0', Parameter containing:\n",
       "                0.2901 -0.4752  0.3359 -0.0818\n",
       "                0.2891  0.1570  0.2586 -0.2904\n",
       "               -0.1311 -0.3719  0.2260 -0.3754\n",
       "                0.0380  0.1057 -0.3771 -0.0485\n",
       "               -0.4337  0.2659  0.0312  0.1687\n",
       "               -0.2301 -0.4529 -0.1318  0.1462\n",
       "                0.2457  0.4563  0.0821 -0.1949\n",
       "               -0.4378  0.3538 -0.4998 -0.0334\n",
       "               -0.1577 -0.2858 -0.3458  0.4070\n",
       "               -0.1654 -0.4777  0.2678 -0.3500\n",
       "                0.1124  0.4740  0.4434 -0.4855\n",
       "                0.2402  0.1399 -0.4714 -0.2547\n",
       "               -0.4752  0.2602  0.4039 -0.0056\n",
       "                0.2667 -0.0947  0.0173  0.4974\n",
       "                0.1540 -0.3033 -0.4280  0.2508\n",
       "                0.1560  0.2338 -0.3290 -0.0182\n",
       "               [torch.FloatTensor of size 16x4]),\n",
       "              ('bias_ih_l0', Parameter containing:\n",
       "               -0.4119\n",
       "                0.1362\n",
       "               -0.2236\n",
       "               -0.2192\n",
       "                0.4098\n",
       "                0.2898\n",
       "                0.2530\n",
       "                0.2775\n",
       "               -0.4600\n",
       "               -0.2070\n",
       "                0.2400\n",
       "               -0.1373\n",
       "               -0.0828\n",
       "               -0.0026\n",
       "               -0.1474\n",
       "                0.4121\n",
       "               [torch.FloatTensor of size 16]),\n",
       "              ('bias_hh_l0', Parameter containing:\n",
       "                0.2639\n",
       "                0.0480\n",
       "                0.4045\n",
       "                0.1981\n",
       "               -0.1970\n",
       "               -0.0422\n",
       "                0.3917\n",
       "               -0.0349\n",
       "               -0.1198\n",
       "                0.1537\n",
       "               -0.0865\n",
       "               -0.1927\n",
       "               -0.3024\n",
       "               -0.3423\n",
       "                0.1020\n",
       "                0.3869\n",
       "               [torch.FloatTensor of size 16])]),\n",
       " '_buffers': OrderedDict(),\n",
       " '_backward_hooks': OrderedDict(),\n",
       " '_forward_hooks': OrderedDict(),\n",
       " '_forward_pre_hooks': OrderedDict(),\n",
       " '_modules': OrderedDict(),\n",
       " 'training': True,\n",
       " 'mode': 'LSTM',\n",
       " 'input_size': 2,\n",
       " 'hidden_size': 4,\n",
       " 'num_layers': 1,\n",
       " 'bias': True,\n",
       " 'batch_first': True,\n",
       " 'dropout': 0,\n",
       " 'dropout_state': {},\n",
       " 'bidirectional': False,\n",
       " '_all_weights': [['weight_ih_l0',\n",
       "   'weight_hh_l0',\n",
       "   'bias_ih_l0',\n",
       "   'bias_hh_l0']],\n",
       " '_data_ptrs': []}"
      ]
     },
     "execution_count": 8,
     "metadata": {},
     "output_type": "execute_result"
    }
   ],
   "source": [
    "vars(lstm)"
   ]
  },
  {
   "cell_type": "code",
   "execution_count": 9,
   "metadata": {
    "ExecuteTime": {
     "end_time": "2017-07-30T20:02:02.738931Z",
     "start_time": "2017-07-30T20:02:02.707276Z"
    },
    "scrolled": true
   },
   "outputs": [
    {
     "name": "stdout",
     "output_type": "stream",
     "text": [
      "torch.Size([3, 5, 2]) torch.Size([1, 3, 4]) torch.Size([1, 3, 4])\n"
     ]
    }
   ],
   "source": [
    "# inputs: (input, (h_0, c_0))\n",
    "x = Variable(torch.randn([batch_size, max(input_length[0]), input_dim]))\n",
    "h_0 = Variable(torch.zeros([num_layers, batch_size, hidden_dim]))\n",
    "c_0 = Variable(torch.zeros([num_layers, batch_size, hidden_dim]))\n",
    "print(x.size(), h_0.size(), c_0.size())"
   ]
  },
  {
   "cell_type": "code",
   "execution_count": 12,
   "metadata": {
    "ExecuteTime": {
     "end_time": "2017-07-30T20:02:02.778434Z",
     "start_time": "2017-07-30T20:02:02.740722Z"
    }
   },
   "outputs": [
    {
     "data": {
      "text/plain": [
       "(Variable containing:\n",
       " (0 ,.,.) = \n",
       "  -0.0787 -0.1039 -0.0809 -0.1441\n",
       "  -0.1235 -0.1224 -0.1028 -0.1770\n",
       "  -0.2277  0.1088  0.1591 -0.1730\n",
       "  -0.3193  0.2741  0.3421 -0.1345\n",
       "  -0.2500  0.1349  0.1999 -0.0978\n",
       " \n",
       " (1 ,.,.) = \n",
       "  -0.0917  0.0111  0.0637 -0.0908\n",
       "  -0.1116  0.1216  0.1719 -0.0053\n",
       "  -0.1650  0.1685  0.2994 -0.0833\n",
       "  -0.2222  0.1393  0.3304 -0.1721\n",
       "  -0.2460  0.0905  0.2836 -0.2194\n",
       " \n",
       " (2 ,.,.) = \n",
       "   0.0726  0.0544  0.0793  0.1321\n",
       "   0.0303  0.0765  0.1467  0.0973\n",
       "  -0.1188  0.0769  0.2721 -0.1178\n",
       "  -0.2039  0.0764  0.2692 -0.2036\n",
       "  -0.2039 -0.0323  0.2360 -0.3087\n",
       " [torch.FloatTensor of size 3x5x4], (Variable containing:\n",
       "  (0 ,.,.) = \n",
       "   -0.2500  0.1349  0.1999 -0.0978\n",
       "   -0.2460  0.0905  0.2836 -0.2194\n",
       "   -0.2039 -0.0323  0.2360 -0.3087\n",
       "  [torch.FloatTensor of size 1x3x4], Variable containing:\n",
       "  (0 ,.,.) = \n",
       "   -0.4636  0.4878  0.9469 -0.1271\n",
       "   -0.5572  0.2467  0.8449 -0.3372\n",
       "   -0.6386 -0.0783  0.4731 -0.5787\n",
       "  [torch.FloatTensor of size 1x3x4]))"
      ]
     },
     "execution_count": 12,
     "metadata": {},
     "output_type": "execute_result"
    }
   ],
   "source": [
    "# outputs: (output, (h_n, c_n))\n",
    "#assert (lstm(x, (h_0, c_0)) == lstm(x)) # default hidden_state: zeros\n",
    "lstm(x)"
   ]
  },
  {
   "cell_type": "markdown",
   "metadata": {},
   "source": [
    "## nn.RNNCell\n",
    "\n",
    "* Args:\n",
    "    * input_size (int)\n",
    "    * hidden_size (int)\n",
    "\n",
    "\n",
    "* Optional Args\n",
    "    * nonlinearity (activation function; ex. nn.Tanh, nn.ReLU)\n",
    "    * bias (bool)\n",
    "    \n",
    "    \n",
    "* inputs:\n",
    "    * input (batch_size, input_size)\n",
    "    * hidden (batch_size, hidden_size)\n",
    "\n",
    "\n",
    "* outputs:\n",
    "    * h (batch, hidden_size) => current output"
   ]
  },
  {
   "cell_type": "code",
   "execution_count": 11,
   "metadata": {
    "ExecuteTime": {
     "end_time": "2017-07-30T20:02:02.834450Z",
     "start_time": "2017-07-30T20:02:02.781821Z"
    }
   },
   "outputs": [
    {
     "data": {
      "text/plain": [
       "RNNCell(2, 4)"
      ]
     },
     "execution_count": 11,
     "metadata": {},
     "output_type": "execute_result"
    }
   ],
   "source": [
    "rnncell = nn.RNNCell(input_dim, hidden_dim)\n",
    "rnncell"
   ]
  },
  {
   "cell_type": "code",
   "execution_count": 12,
   "metadata": {
    "ExecuteTime": {
     "end_time": "2017-07-30T20:02:02.900609Z",
     "start_time": "2017-07-30T20:02:02.848642Z"
    },
    "scrolled": false
   },
   "outputs": [
    {
     "data": {
      "text/plain": [
       "{'_backend': <torch.nn.backends.thnn.THNNFunctionBackend at 0x10cce1358>,\n",
       " '_backward_hooks': OrderedDict(),\n",
       " '_buffers': OrderedDict(),\n",
       " '_forward_hooks': OrderedDict(),\n",
       " '_modules': OrderedDict(),\n",
       " '_parameters': OrderedDict([('weight_ih', Parameter containing:\n",
       "                0.0462 -0.4683\n",
       "                0.3904  0.3451\n",
       "                0.4196  0.3587\n",
       "               -0.0410  0.4752\n",
       "               [torch.FloatTensor of size 4x2]),\n",
       "              ('weight_hh', Parameter containing:\n",
       "               -0.4353  0.3403  0.3750  0.2516\n",
       "                0.3241 -0.2271 -0.0170  0.1571\n",
       "               -0.0019 -0.2814 -0.0746  0.0587\n",
       "               -0.1815 -0.0939  0.2721 -0.3193\n",
       "               [torch.FloatTensor of size 4x4]),\n",
       "              ('bias_ih', Parameter containing:\n",
       "                0.4209\n",
       "                0.0529\n",
       "               -0.2916\n",
       "                0.2168\n",
       "               [torch.FloatTensor of size 4]),\n",
       "              ('bias_hh', Parameter containing:\n",
       "                0.1012\n",
       "               -0.1058\n",
       "               -0.4751\n",
       "                0.0169\n",
       "               [torch.FloatTensor of size 4])]),\n",
       " 'bias': True,\n",
       " 'hidden_size': 4,\n",
       " 'input_size': 2,\n",
       " 'nonlinearity': 'tanh',\n",
       " 'training': True}"
      ]
     },
     "execution_count": 12,
     "metadata": {},
     "output_type": "execute_result"
    }
   ],
   "source": [
    "vars(rnncell)"
   ]
  },
  {
   "cell_type": "code",
   "execution_count": 13,
   "metadata": {
    "ExecuteTime": {
     "end_time": "2017-07-30T20:02:02.957101Z",
     "start_time": "2017-07-30T20:02:02.903418Z"
    },
    "scrolled": true
   },
   "outputs": [
    {
     "data": {
      "text/plain": [
       "[Variable containing:\n",
       "  0.4928  0.4206 -0.2249  0.2194\n",
       "  0.5528 -0.5719 -0.8863  0.1242\n",
       "  0.9087 -0.5160 -0.8612 -0.6502\n",
       " [torch.FloatTensor of size 3x4], Variable containing:\n",
       " -0.6993  0.8970  0.5518  0.8582\n",
       "  0.3512 -0.7760 -0.9596 -0.6016\n",
       " -0.3001  0.2738 -0.5236 -0.1354\n",
       " [torch.FloatTensor of size 3x4], Variable containing:\n",
       "  0.8768  0.1437 -0.4419  0.3393\n",
       "  0.0924  0.1465 -0.4722 -0.3160\n",
       "  0.6768 -0.3463 -0.7402 -0.1467\n",
       " [torch.FloatTensor of size 3x4], Variable containing:\n",
       " -0.6900  0.7996  0.1189  0.6671\n",
       "  0.4396  0.2118 -0.4229 -0.0176\n",
       " -0.7075  0.3605 -0.4519  0.5858\n",
       " [torch.FloatTensor of size 3x4], Variable containing:\n",
       "  0.8538 -0.1093 -0.6029  0.1427\n",
       "  0.0054 -0.0776 -0.7328  0.2528\n",
       "  0.3136  0.0215 -0.4674  0.5588\n",
       " [torch.FloatTensor of size 3x4]]"
      ]
     },
     "execution_count": 13,
     "metadata": {},
     "output_type": "execute_result"
    }
   ],
   "source": [
    "# input\n",
    "x = Variable(torch.randn([batch_size, max(input_length[0]), input_dim]))\n",
    "\n",
    "# initial hidden\n",
    "h = Variable(torch.zeros(batch_size, hidden_dim))\n",
    "\n",
    "outputs = []\n",
    "for i in range(max(input_length[0])):\n",
    "    h = rnncell(x[:, i, :], h)\n",
    "    outputs.append(h)\n",
    "\n",
    "outputs"
   ]
  },
  {
   "cell_type": "markdown",
   "metadata": {},
   "source": [
    "## nn.LSTMCell\n",
    "\n",
    "* Args:\n",
    "    * input_size (int)\n",
    "    * hidden_size (int)\n",
    "\n",
    "\n",
    "* Optional Args\n",
    "    * bias (bool)\n",
    "    \n",
    "    \n",
    "* inputs:\n",
    "    * input (batch_size, input_size)\n",
    "    * (h_0, c_0) ( (batch_size, hidden_size), (batch_size, hidden_size) )\n",
    "\n",
    "\n",
    "* outputs:\n",
    "    * (h_1, c_1) ( (batch_size, hidden_size), (batch_size, hidden_size) ) => current output"
   ]
  },
  {
   "cell_type": "code",
   "execution_count": 17,
   "metadata": {
    "ExecuteTime": {
     "end_time": "2017-07-30T20:02:02.977813Z",
     "start_time": "2017-07-30T20:02:02.959528Z"
    }
   },
   "outputs": [
    {
     "data": {
      "text/plain": [
       "LSTMCell(2, 4)"
      ]
     },
     "execution_count": 17,
     "metadata": {},
     "output_type": "execute_result"
    }
   ],
   "source": [
    "lstmcell = nn.LSTMCell(input_dim, hidden_dim)\n",
    "lstmcell"
   ]
  },
  {
   "cell_type": "code",
   "execution_count": 22,
   "metadata": {
    "ExecuteTime": {
     "end_time": "2017-07-30T20:02:03.025788Z",
     "start_time": "2017-07-30T20:02:02.981596Z"
    },
    "scrolled": true
   },
   "outputs": [
    {
     "data": {
      "text/plain": [
       "{'_backend': <torch.nn.backends.thnn.THNNFunctionBackend at 0x60de6d8>,\n",
       " '_parameters': OrderedDict([('weight_ih', Parameter containing:\n",
       "                0.2813  0.1976\n",
       "                0.4892 -0.3305\n",
       "               -0.0484 -0.4095\n",
       "                0.3371  0.4489\n",
       "                0.3281  0.0793\n",
       "                0.4522 -0.4446\n",
       "                0.1620  0.4201\n",
       "               -0.1592  0.1441\n",
       "                0.3379 -0.0239\n",
       "               -0.2831  0.2630\n",
       "                0.4839 -0.0566\n",
       "               -0.0617  0.1634\n",
       "                0.0112  0.1042\n",
       "               -0.0808 -0.3628\n",
       "                0.0280 -0.4231\n",
       "               -0.1648  0.3465\n",
       "               [torch.FloatTensor of size 16x2]),\n",
       "              ('weight_hh', Parameter containing:\n",
       "               -0.1062  0.4362  0.1465  0.1387\n",
       "               -0.1221  0.4445  0.4812  0.4958\n",
       "               -0.4253 -0.0245  0.3111 -0.1871\n",
       "                0.3447 -0.0616 -0.0035 -0.3534\n",
       "               -0.3448 -0.4124 -0.3245  0.3042\n",
       "                0.1346  0.3399 -0.1567  0.1421\n",
       "                0.4371 -0.1242  0.4418 -0.0849\n",
       "               -0.3343  0.0246 -0.0327 -0.1281\n",
       "               -0.1758  0.2408  0.2346  0.4975\n",
       "                0.3331  0.4755 -0.2020 -0.1890\n",
       "               -0.0366  0.2217 -0.0017  0.0482\n",
       "               -0.4179 -0.1573  0.1739 -0.4155\n",
       "               -0.1432 -0.2324 -0.3590  0.3085\n",
       "               -0.3262 -0.2291  0.3641 -0.1055\n",
       "                0.3213 -0.3282 -0.0821 -0.2677\n",
       "                0.4872  0.4951  0.2666  0.1276\n",
       "               [torch.FloatTensor of size 16x4]),\n",
       "              ('bias_ih', Parameter containing:\n",
       "               -0.0107\n",
       "                0.4173\n",
       "                0.1669\n",
       "               -0.0962\n",
       "                0.2858\n",
       "               -0.0462\n",
       "               -0.3460\n",
       "               -0.0458\n",
       "               -0.0010\n",
       "               -0.2329\n",
       "                0.1101\n",
       "                0.4311\n",
       "               -0.0025\n",
       "                0.4988\n",
       "               -0.2043\n",
       "                0.1688\n",
       "               [torch.FloatTensor of size 16]),\n",
       "              ('bias_hh', Parameter containing:\n",
       "                0.3974\n",
       "               -0.4589\n",
       "               -0.2262\n",
       "                0.2470\n",
       "                0.4780\n",
       "               -0.1501\n",
       "                0.4071\n",
       "                0.2891\n",
       "                0.1063\n",
       "                0.0819\n",
       "               -0.2080\n",
       "               -0.2700\n",
       "               -0.2621\n",
       "               -0.3336\n",
       "               -0.3438\n",
       "                0.2631\n",
       "               [torch.FloatTensor of size 16])]),\n",
       " '_buffers': OrderedDict(),\n",
       " '_backward_hooks': OrderedDict(),\n",
       " '_forward_hooks': OrderedDict(),\n",
       " '_forward_pre_hooks': OrderedDict(),\n",
       " '_modules': OrderedDict(),\n",
       " 'training': True,\n",
       " 'input_size': 2,\n",
       " 'hidden_size': 4,\n",
       " 'bias': True}"
      ]
     },
     "execution_count": 22,
     "metadata": {},
     "output_type": "execute_result"
    }
   ],
   "source": [
    "vars(lstmcell)"
   ]
  },
  {
   "cell_type": "code",
   "execution_count": 16,
   "metadata": {
    "ExecuteTime": {
     "end_time": "2017-07-30T20:02:03.083541Z",
     "start_time": "2017-07-30T20:02:03.028320Z"
    },
    "scrolled": true
   },
   "outputs": [
    {
     "data": {
      "text/plain": [
       "[(Variable containing:\n",
       "   0.0239  0.0653 -0.0766 -0.1305\n",
       "  -0.0394 -0.0399 -0.1233 -0.2497\n",
       "   0.0266  0.0803 -0.0728 -0.1402\n",
       "  [torch.FloatTensor of size 3x4], Variable containing:\n",
       "   0.0717  0.1722 -0.1206 -0.2100\n",
       "  -0.0871 -0.1005 -0.2579 -0.3753\n",
       "   0.0849  0.2139 -0.1184 -0.2210\n",
       "  [torch.FloatTensor of size 3x4]), (Variable containing:\n",
       "  -0.1323 -0.1289 -0.1874 -0.2948\n",
       "  -0.0244 -0.0166 -0.1732 -0.3553\n",
       "  -0.0934 -0.0941 -0.1721 -0.1685\n",
       "  [torch.FloatTensor of size 3x4], Variable containing:\n",
       "  -0.2126 -0.3268 -0.3410 -0.5166\n",
       "  -0.0610 -0.0423 -0.3720 -0.5718\n",
       "  -0.1590 -0.2392 -0.2537 -0.3164\n",
       "  [torch.FloatTensor of size 3x4]), (Variable containing:\n",
       "  -0.0877 -0.1197 -0.2127 -0.3029\n",
       "   0.0088  0.0429 -0.1944 -0.3726\n",
       "  -0.1382 -0.1583 -0.2033 -0.3050\n",
       "  [torch.FloatTensor of size 3x4], Variable containing:\n",
       "  -0.1927 -0.3154 -0.3559 -0.5410\n",
       "   0.0256  0.1121 -0.4053 -0.6216\n",
       "  -0.2564 -0.4212 -0.3663 -0.5253\n",
       "  [torch.FloatTensor of size 3x4]), (Variable containing:\n",
       "   0.0350  0.0593 -0.2094 -0.1713\n",
       "   0.0508  0.0428 -0.2242 -0.2017\n",
       "  -0.0987 -0.1326 -0.2011 -0.4292\n",
       "  [torch.FloatTensor of size 3x4], Variable containing:\n",
       "   0.1437  0.1629 -0.2999 -0.3070\n",
       "   0.1309  0.1131 -0.3223 -0.3941\n",
       "  -0.2126 -0.3467 -0.4490 -0.7287\n",
       "  [torch.FloatTensor of size 3x4]), (Variable containing:\n",
       "  -0.1835 -0.1583 -0.2301 -0.3009\n",
       "   0.0758  0.0205 -0.2029 -0.0702\n",
       "  -0.2575 -0.2391 -0.2426 -0.2392\n",
       "  [torch.FloatTensor of size 3x4], Variable containing:\n",
       "  -0.2664 -0.4117 -0.4078 -0.5620\n",
       "   0.1842  0.0549 -0.2607 -0.1460\n",
       "  -0.4235 -0.6498 -0.3456 -0.5054\n",
       "  [torch.FloatTensor of size 3x4])]"
      ]
     },
     "execution_count": 16,
     "metadata": {},
     "output_type": "execute_result"
    }
   ],
   "source": [
    "# input\n",
    "x = Variable(torch.randn([batch_size, max(input_length[0]), input_dim]))\n",
    "\n",
    "# initial hidden\n",
    "h = Variable(torch.zeros(batch_size, hidden_dim))\n",
    "c = Variable(torch.zeros(batch_size, hidden_dim))\n",
    "\n",
    "outputs = []\n",
    "for i in range(max(input_length[0])):\n",
    "    h, c = lstmcell(x[:, i, :], (h, c))\n",
    "    outputs.append((h, c))\n",
    "\n",
    "outputs"
   ]
  },
  {
   "cell_type": "markdown",
   "metadata": {},
   "source": [
    "# (Naive) Speed Comparison between LSTM vs LSTMCell"
   ]
  },
  {
   "cell_type": "code",
   "execution_count": 23,
   "metadata": {
    "ExecuteTime": {
     "end_time": "2017-07-30T20:02:03.117826Z",
     "start_time": "2017-07-30T20:02:03.086205Z"
    }
   },
   "outputs": [],
   "source": [
    "from time import time"
   ]
  },
  {
   "cell_type": "code",
   "execution_count": 24,
   "metadata": {
    "ExecuteTime": {
     "end_time": "2017-07-30T20:02:57.417465Z",
     "start_time": "2017-07-30T20:02:57.395568Z"
    }
   },
   "outputs": [],
   "source": [
    "batch_size = 30\n",
    "input_dim = 40\n",
    "hidden_dim = 40\n",
    "max_seq_len = 50\n",
    "num_layers = 1\n",
    "\n",
    "n_epochs = 1000"
   ]
  },
  {
   "cell_type": "code",
   "execution_count": 25,
   "metadata": {
    "ExecuteTime": {
     "end_time": "2017-07-30T20:02:58.120523Z",
     "start_time": "2017-07-30T20:02:58.101593Z"
    }
   },
   "outputs": [],
   "source": [
    "lstm = nn.LSTM(input_dim, hidden_dim, batch_first=True)\n",
    "lstmcell = lstmcell = nn.LSTMCell(input_dim, hidden_dim)"
   ]
  },
  {
   "cell_type": "markdown",
   "metadata": {},
   "source": [
    "## Feeding predefined inputs\n",
    "### - used in RNN Encoder"
   ]
  },
  {
   "cell_type": "markdown",
   "metadata": {
    "ExecuteTime": {
     "end_time": "2017-07-30T15:34:38.349961Z",
     "start_time": "2017-07-30T15:34:38.334025Z"
    }
   },
   "source": [
    "### LSTM"
   ]
  },
  {
   "cell_type": "code",
   "execution_count": 26,
   "metadata": {
    "ExecuteTime": {
     "end_time": "2017-07-30T20:03:18.449299Z",
     "start_time": "2017-07-30T20:03:02.396960Z"
    },
    "scrolled": false
   },
   "outputs": [
    {
     "name": "stdout",
     "output_type": "stream",
     "text": [
      "10.429596662521362\n"
     ]
    }
   ],
   "source": [
    "%timeit\n",
    "x = Variable(torch.randn([batch_size, max_seq_len, input_dim]))\n",
    "h_0 = Variable(torch.zeros(num_layers, batch_size, hidden_dim))\n",
    "c_0 = Variable(torch.zeros(num_layers, batch_size, hidden_dim))\n",
    "\n",
    "start = time()\n",
    "\n",
    "for _ in range(n_epochs):\n",
    "    outputs_ = lstm(x, (h_0, c_0))\n",
    "\n",
    "print(time() - start)"
   ]
  },
  {
   "cell_type": "markdown",
   "metadata": {},
   "source": [
    "### LSTMCell"
   ]
  },
  {
   "cell_type": "code",
   "execution_count": 27,
   "metadata": {
    "ExecuteTime": {
     "end_time": "2017-07-30T20:04:02.543777Z",
     "start_time": "2017-07-30T20:03:46.318994Z"
    },
    "scrolled": false
   },
   "outputs": [
    {
     "name": "stdout",
     "output_type": "stream",
     "text": [
      "10.514601469039917\n"
     ]
    }
   ],
   "source": [
    "%timeit\n",
    "x = Variable(torch.randn([batch_size, max_seq_len, input_dim]))\n",
    "\n",
    "start = time()\n",
    "\n",
    "for _ in range(n_epochs):\n",
    "    \n",
    "    h = Variable(torch.zeros(batch_size, hidden_dim))\n",
    "    c = Variable(torch.zeros(batch_size, hidden_dim))\n",
    "\n",
    "    for i in range(max_seq_len):\n",
    "        h, c = lstmcell(x[:, i, :], (h, c))\n",
    "\n",
    "print(time() - start)"
   ]
  },
  {
   "cell_type": "markdown",
   "metadata": {},
   "source": [
    "## Feeding output from last step\n",
    "### - used in RNN Decoder"
   ]
  },
  {
   "cell_type": "markdown",
   "metadata": {
    "ExecuteTime": {
     "end_time": "2017-07-30T15:34:50.622762Z",
     "start_time": "2017-07-30T15:34:50.608173Z"
    }
   },
   "source": [
    "### LSTM"
   ]
  },
  {
   "cell_type": "code",
   "execution_count": 28,
   "metadata": {
    "ExecuteTime": {
     "end_time": "2017-07-30T20:04:31.008026Z",
     "start_time": "2017-07-30T20:04:05.894188Z"
    },
    "scrolled": true
   },
   "outputs": [
    {
     "name": "stdout",
     "output_type": "stream",
     "text": [
      "16.514944791793823\n"
     ]
    }
   ],
   "source": [
    "%timeit\n",
    "x = Variable(torch.randn([batch_size, max_seq_len, input_dim]))\n",
    "\n",
    "start = time()\n",
    "\n",
    "for _ in range(n_epochs):\n",
    "    \n",
    "    h = Variable(torch.zeros(num_layers, batch_size, hidden_dim))\n",
    "    c = Variable(torch.zeros(num_layers, batch_size, hidden_dim))\n",
    "    input = x[:, 0:1, :]\n",
    "    \n",
    "    for i in range(max_seq_len):\n",
    "        output, (h, c) = lstm(input, (h, c))\n",
    "        input = output\n",
    "        \n",
    "print(time() - start)"
   ]
  },
  {
   "cell_type": "code",
   "execution_count": 29,
   "metadata": {},
   "outputs": [
    {
     "data": {
      "text/plain": [
       "Variable containing:\n",
       "(0 ,.,.) = \n",
       "  0.1053 -0.1296 -0.0428  ...   0.0479  0.0860 -0.1053\n",
       "\n",
       "(1 ,.,.) = \n",
       "  0.1053 -0.1296 -0.0428  ...   0.0479  0.0860 -0.1053\n",
       "\n",
       "(2 ,.,.) = \n",
       "  0.1053 -0.1296 -0.0428  ...   0.0479  0.0860 -0.1053\n",
       "...\n",
       "\n",
       "(27,.,.) = \n",
       "  0.1053 -0.1296 -0.0428  ...   0.0479  0.0860 -0.1053\n",
       "\n",
       "(28,.,.) = \n",
       "  0.1053 -0.1296 -0.0428  ...   0.0479  0.0860 -0.1053\n",
       "\n",
       "(29,.,.) = \n",
       "  0.1053 -0.1296 -0.0428  ...   0.0479  0.0860 -0.1053\n",
       "[torch.FloatTensor of size 30x1x40]"
      ]
     },
     "execution_count": 29,
     "metadata": {},
     "output_type": "execute_result"
    }
   ],
   "source": [
    "output"
   ]
  },
  {
   "cell_type": "markdown",
   "metadata": {
    "ExecuteTime": {
     "end_time": "2017-07-30T15:35:01.203683Z",
     "start_time": "2017-07-30T15:35:01.183090Z"
    }
   },
   "source": [
    "### LSTMCell"
   ]
  },
  {
   "cell_type": "code",
   "execution_count": 30,
   "metadata": {
    "ExecuteTime": {
     "end_time": "2017-07-30T20:06:52.459389Z",
     "start_time": "2017-07-30T20:06:37.534348Z"
    }
   },
   "outputs": [
    {
     "name": "stdout",
     "output_type": "stream",
     "text": [
      "10.070575952529907\n"
     ]
    }
   ],
   "source": [
    "%timeit\n",
    "x = Variable(torch.randn([batch_size, max_seq_len, input_dim]))\n",
    "\n",
    "start = time()\n",
    "\n",
    "for _ in range(n_epochs):\n",
    "    \n",
    "    h = Variable(torch.zeros(batch_size, hidden_dim))\n",
    "    c = Variable(torch.zeros(batch_size, hidden_dim))\n",
    "    input = x[:, 0, :]\n",
    "    \n",
    "    for i in range(max_seq_len):\n",
    "        h, c = lstmcell(input, (h, c))\n",
    "        input = input # usually argmax is used\n",
    "\n",
    "print(time() - start)"
   ]
  },
  {
   "cell_type": "code",
   "execution_count": 31,
   "metadata": {},
   "outputs": [
    {
     "data": {
      "text/plain": [
       "Variable containing:\n",
       "(0 ,.,.) = \n",
       "  0.1053 -0.1296 -0.0428  ...   0.0479  0.0860 -0.1053\n",
       "\n",
       "(1 ,.,.) = \n",
       "  0.1053 -0.1296 -0.0428  ...   0.0479  0.0860 -0.1053\n",
       "\n",
       "(2 ,.,.) = \n",
       "  0.1053 -0.1296 -0.0428  ...   0.0479  0.0860 -0.1053\n",
       "...\n",
       "\n",
       "(27,.,.) = \n",
       "  0.1053 -0.1296 -0.0428  ...   0.0479  0.0860 -0.1053\n",
       "\n",
       "(28,.,.) = \n",
       "  0.1053 -0.1296 -0.0428  ...   0.0479  0.0860 -0.1053\n",
       "\n",
       "(29,.,.) = \n",
       "  0.1053 -0.1296 -0.0428  ...   0.0479  0.0860 -0.1053\n",
       "[torch.FloatTensor of size 30x1x40]"
      ]
     },
     "execution_count": 31,
     "metadata": {},
     "output_type": "execute_result"
    }
   ],
   "source": [
    "output"
   ]
  },
  {
   "cell_type": "markdown",
   "metadata": {},
   "source": [
    "# Rule of thumbs\n",
    "## - Use RNN when Encoding\n",
    "## - Use RNNCells when decoding + (complex architecture)"
   ]
  }
 ],
 "metadata": {
  "anaconda-cloud": {},
  "kernelspec": {
   "display_name": "Python 3",
   "language": "python",
   "name": "python3"
  },
  "language_info": {
   "codemirror_mode": {
    "name": "ipython",
    "version": 3
   },
   "file_extension": ".py",
   "mimetype": "text/x-python",
   "name": "python",
   "nbconvert_exporter": "python",
   "pygments_lexer": "ipython3",
   "version": "3.6.5"
  },
  "varInspector": {
   "cols": {
    "lenName": 16,
    "lenType": 16,
    "lenVar": 40
   },
   "kernels_config": {
    "python": {
     "delete_cmd_postfix": "",
     "delete_cmd_prefix": "del ",
     "library": "var_list.py",
     "varRefreshCmd": "print(var_dic_list())"
    },
    "r": {
     "delete_cmd_postfix": ") ",
     "delete_cmd_prefix": "rm(",
     "library": "var_list.r",
     "varRefreshCmd": "cat(var_dic_list()) "
    }
   },
   "types_to_exclude": [
    "module",
    "function",
    "builtin_function_or_method",
    "instance",
    "_Feature"
   ],
   "window_display": false
  }
 },
 "nbformat": 4,
 "nbformat_minor": 2
}
