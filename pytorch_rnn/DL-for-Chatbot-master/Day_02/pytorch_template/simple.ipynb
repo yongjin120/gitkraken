{
 "cells": [
  {
   "cell_type": "code",
   "execution_count": 1,
   "metadata": {
    "ExecuteTime": {
     "end_time": "2017-07-28T21:00:18.590873Z",
     "start_time": "2017-07-28T21:00:18.056473Z"
    },
    "collapsed": true
   },
   "outputs": [],
   "source": [
    "import torch\n",
    "from torch import nn\n",
    "from torch import optim\n",
    "from torch.utils import data\n",
    "from torch.autograd import Variable\n",
    "from torchvision import datasets\n",
    "from torchvision import transforms\n",
    "\n",
    "import numpy as np\n",
    "from tqdm import tqdm"
   ]
  },
  {
   "cell_type": "markdown",
   "metadata": {},
   "source": [
    "# Data"
   ]
  },
  {
   "cell_type": "code",
   "execution_count": 3,
   "metadata": {
    "ExecuteTime": {
     "end_time": "2017-07-28T21:01:17.812550Z",
     "start_time": "2017-07-28T21:00:33.333326Z"
    }
   },
   "outputs": [
    {
     "name": "stdout",
     "output_type": "stream",
     "text": [
      "Downloading http://yann.lecun.com/exdb/mnist/train-images-idx3-ubyte.gz\n",
      "Downloading http://yann.lecun.com/exdb/mnist/train-labels-idx1-ubyte.gz\n",
      "Downloading http://yann.lecun.com/exdb/mnist/t10k-images-idx3-ubyte.gz\n",
      "Downloading http://yann.lecun.com/exdb/mnist/t10k-labels-idx1-ubyte.gz\n",
      "Processing...\n",
      "Done!\n"
     ]
    }
   ],
   "source": [
    "train_transform = transforms.Compose([\n",
    "    transforms.ToTensor(),\n",
    "    transforms.Normalize(mean=(0.5,), std=(0.5,)), # (0, 1) => (-0.5, 0.5) => (-1, 1)\n",
    "\n",
    "])\n",
    "test_transform = transforms.Compose([\n",
    "    transforms.ToTensor(),\n",
    "    transforms.Normalize(mean=(0.5,), std=(0.5,)), # (0, 1) => (-0.5, 0.5) => (-1, 1)\n",
    "])\n",
    "\n",
    "train_dataset = datasets.MNIST(root='./datasets', train=True, transform=train_transform, download=True)\n",
    "test_dataset = datasets.MNIST(root='./datasets', train=False, transform=test_transform)\n",
    "\n",
    "train_dataloader = data.DataLoader(\n",
    "    dataset=train_dataset, batch_size=100, shuffle=True)\n",
    "test_dataloader = data.DataLoader(\n",
    "    dataset=test_dataset, batch_size=100, shuffle=False)"
   ]
  },
  {
   "cell_type": "markdown",
   "metadata": {},
   "source": [
    "# Model"
   ]
  },
  {
   "cell_type": "code",
   "execution_count": 4,
   "metadata": {
    "ExecuteTime": {
     "end_time": "2017-07-28T21:01:24.296102Z",
     "start_time": "2017-07-28T21:01:24.246844Z"
    },
    "collapsed": true
   },
   "outputs": [],
   "source": [
    "class NNClassifier(nn.Module):\n",
    "    def __init__(self):\n",
    "        super(NNClassifier, self).__init__()\n",
    "        self.layer_1 = nn.Linear(28 * 28, 200)\n",
    "        self.layer_2 = nn.Linear(200, 50)\n",
    "        self.layer_3 = nn.Linear(50, 10)\n",
    "\n",
    "        self.lrelu = nn.LeakyReLU()\n",
    "\n",
    "        self.softmax = nn.Softmax()\n",
    "\n",
    "        self.net = nn.Sequential(\n",
    "            self.layer_1,  # 784 => 200\n",
    "            self.lrelu,\n",
    "            self.layer_2,  # 200 => 50\n",
    "            self.lrelu,\n",
    "            self.layer_3,  # 50 => 10\n",
    "            self.softmax,\n",
    "        )\n",
    "\n",
    "    def forward(self, x):\n",
    "        # [batch_size, 784] => [batch_size, 1]\n",
    "        return self.net(x)"
   ]
  },
  {
   "cell_type": "markdown",
   "metadata": {},
   "source": [
    "# Build"
   ]
  },
  {
   "cell_type": "code",
   "execution_count": 5,
   "metadata": {
    "ExecuteTime": {
     "end_time": "2017-07-28T21:01:24.630137Z",
     "start_time": "2017-07-28T21:01:24.596434Z"
    }
   },
   "outputs": [],
   "source": [
    "classifier = NNClassifier()\n",
    "\n",
    "loss_fn = nn.CrossEntropyLoss()\n",
    "# Args:\n",
    "#     Input: (batch_size, number of classes)\n",
    "#     Target: (batch_size)\n",
    "\n",
    "optimizer = optim.SGD(params=classifier.parameters(), lr=1e-3)"
   ]
  },
  {
   "cell_type": "markdown",
   "metadata": {},
   "source": [
    "# Train"
   ]
  },
  {
   "cell_type": "code",
   "execution_count": null,
   "metadata": {
    "ExecuteTime": {
     "start_time": "2017-07-28T21:01:24.936Z"
    }
   },
   "outputs": [
    {
     "name": "stderr",
     "output_type": "stream",
     "text": [
      "\r",
      "  0%|          | 0/10 [00:00<?, ?it/s]"
     ]
    },
    {
     "name": "stdout",
     "output_type": "stream",
     "text": [
      "Start training!\n",
      "\n"
     ]
    },
    {
     "name": "stderr",
     "output_type": "stream",
     "text": [
      "\r",
      " 10%|█         | 1/10 [00:08<01:16,  8.45s/it]"
     ]
    },
    {
     "name": "stdout",
     "output_type": "stream",
     "text": [
      "Epoch 1 | loss: 2.302\n",
      "\n"
     ]
    },
    {
     "name": "stderr",
     "output_type": "stream",
     "text": [
      "\r",
      " 20%|██        | 2/10 [00:17<01:09,  8.67s/it]"
     ]
    },
    {
     "name": "stdout",
     "output_type": "stream",
     "text": [
      "Epoch 2 | loss: 2.301\n",
      "\n"
     ]
    },
    {
     "name": "stderr",
     "output_type": "stream",
     "text": [
      "\r",
      " 30%|███       | 3/10 [00:26<01:00,  8.58s/it]"
     ]
    },
    {
     "name": "stdout",
     "output_type": "stream",
     "text": [
      "Epoch 3 | loss: 2.300\n",
      "\n"
     ]
    },
    {
     "name": "stderr",
     "output_type": "stream",
     "text": [
      "\r",
      " 40%|████      | 4/10 [00:33<00:49,  8.32s/it]"
     ]
    },
    {
     "name": "stdout",
     "output_type": "stream",
     "text": [
      "Epoch 4 | loss: 2.298\n",
      "\n"
     ]
    },
    {
     "name": "stderr",
     "output_type": "stream",
     "text": [
      "\r",
      " 50%|█████     | 5/10 [00:41<00:40,  8.19s/it]"
     ]
    },
    {
     "name": "stdout",
     "output_type": "stream",
     "text": [
      "Epoch 5 | loss: 2.297\n",
      "\n"
     ]
    },
    {
     "name": "stderr",
     "output_type": "stream",
     "text": [
      "\r",
      " 60%|██████    | 6/10 [00:49<00:32,  8.05s/it]"
     ]
    },
    {
     "name": "stdout",
     "output_type": "stream",
     "text": [
      "Epoch 6 | loss: 2.296\n",
      "\n"
     ]
    }
   ],
   "source": [
    "print('Start training!\\n')\n",
    "for epoch in tqdm(range(10)):\n",
    "    # epoch_loss = average of batch losses\n",
    "    loss_history = []\n",
    "    for images, true_labels in train_dataloader:\n",
    "        # images: [batch_size, 1, 28, 28]\n",
    "        # true_labels: [batch_size]\n",
    "\n",
    "        # Tensor -> Variable\n",
    "        images = Variable(images)\n",
    "        true_labels = Variable(true_labels)\n",
    "        \n",
    "        # Resize (for loss function)\n",
    "        images = images.view(-1, 28*28) # [batch_size, 1, 28, 28] => [batch_size, 28x28]\n",
    "        true_labels = true_labels.view(-1) # [batch_size, 1] => [batch_size]\n",
    "\n",
    "        # [batch_size, 28x28] => [batch_size, 10]\n",
    "        predicted_labels = classifier(images)\n",
    "\n",
    "\n",
    "        # Calculate loss\n",
    "        average_batch_loss = loss_fn(predicted_labels, true_labels) # [1]\n",
    "        loss_history.append(average_batch_loss.data[0])  # Variable -> Tensor\n",
    "\n",
    "        # Flush out remaining gradient\n",
    "        optimizer.zero_grad()\n",
    "\n",
    "        # Backpropagation\n",
    "        average_batch_loss.backward()\n",
    "\n",
    "        # Gradient descent\n",
    "        optimizer.step()\n",
    "\n",
    "    if (epoch + 1) % 1 == 0:\n",
    "        epoch_loss = np.mean(loss_history)\n",
    "        log_str = 'Epoch {} | loss: {:.3f}\\n'.format(epoch + 1, epoch_loss)\n",
    "        print(log_str)"
   ]
  },
  {
   "cell_type": "markdown",
   "metadata": {},
   "source": [
    "# Evaluation"
   ]
  },
  {
   "cell_type": "code",
   "execution_count": null,
   "metadata": {
    "ExecuteTime": {
     "start_time": "2017-07-28T21:01:25.327Z"
    }
   },
   "outputs": [],
   "source": [
    "print('Start Evaluation!\\n')\n",
    "test_loss_history = []\n",
    "for images, true_labels in tqdm(test_dataloader):\n",
    "    # images: [batch_size, 1, 28, 28]\n",
    "    # true_labels: [batch_size]\n",
    "\n",
    "    # Tensor -> Variable\n",
    "    images = Variable(images)\n",
    "    true_labels = Variable(true_labels)\n",
    "\n",
    "    # Resize (for loss function)\n",
    "    images = images.view(-1, 28*28) # [batch_size, 1, 28, 28] => [batch_size, 28x28]\n",
    "    true_labels = true_labels.view(-1) # [batch_size, 1] => [batch_size]\n",
    "\n",
    "    # [batch_size, 28x28] => [batch_size, 10]\n",
    "    predicted_labels = classifier(images)\n",
    "\n",
    "\n",
    "    # Calculate loss\n",
    "    average_batch_loss = loss_fn(predicted_labels, true_labels) # [1]\n",
    "    test_loss_history.append(average_batch_loss.data[0])  # Variable -> Tensor\n",
    "\n",
    "test_loss = np.mean(test_loss_history)\n",
    "log_str = 'Test loss: {:.3f}\\n'.format(test_loss)\n",
    "print(log_str)"
   ]
  },
  {
   "cell_type": "code",
   "execution_count": null,
   "metadata": {
    "collapsed": true
   },
   "outputs": [],
   "source": []
  }
 ],
 "metadata": {
  "anaconda-cloud": {},
  "kernelspec": {
   "display_name": "Python [conda env:mldemo]",
   "language": "python",
   "name": "conda-env-mldemo-py"
  },
  "language_info": {
   "codemirror_mode": {
    "name": "ipython",
    "version": 3
   },
   "file_extension": ".py",
   "mimetype": "text/x-python",
   "name": "python",
   "nbconvert_exporter": "python",
   "pygments_lexer": "ipython3",
   "version": "3.6.0"
  },
  "varInspector": {
   "cols": {
    "lenName": 16,
    "lenType": 16,
    "lenVar": 40
   },
   "kernels_config": {
    "python": {
     "delete_cmd_postfix": "",
     "delete_cmd_prefix": "del ",
     "library": "var_list.py",
     "varRefreshCmd": "print(var_dic_list())"
    },
    "r": {
     "delete_cmd_postfix": ") ",
     "delete_cmd_prefix": "rm(",
     "library": "var_list.r",
     "varRefreshCmd": "cat(var_dic_list()) "
    }
   },
   "types_to_exclude": [
    "module",
    "function",
    "builtin_function_or_method",
    "instance",
    "_Feature"
   ],
   "window_display": false
  }
 },
 "nbformat": 4,
 "nbformat_minor": 2
}
