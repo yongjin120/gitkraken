{
 "cells": [
  {
   "cell_type": "markdown",
   "metadata": {},
   "source": [
    "Minje Kim made a short but great [tutorial](https://github.com/mjc92/TorchTextTutorial/blob/master/01.%20Getting%20started.ipynb) on torchtext\n"
   ]
  },
  {
   "cell_type": "code",
   "execution_count": 1,
   "metadata": {
    "ExecuteTime": {
     "end_time": "2017-07-29T04:26:49.319043Z",
     "start_time": "2017-07-29T04:26:48.609279Z"
    },
    "collapsed": true
   },
   "outputs": [],
   "source": [
    "import torch\n",
    "from torchtext.vocab import Vocab\n",
    "from torchtext import data\n",
    "from konlpy.tag import Mecab\n",
    "import re"
   ]
  },
  {
   "cell_type": "code",
   "execution_count": 12,
   "metadata": {
    "ExecuteTime": {
     "end_time": "2017-07-29T04:27:09.385946Z",
     "start_time": "2017-07-29T04:27:09.361300Z"
    },
    "collapsed": true
   },
   "outputs": [],
   "source": [
    "train_file_path = './data/naver_train.txt'\n",
    "test_file_path = './data/naver_test.txt'"
   ]
  },
  {
   "cell_type": "code",
   "execution_count": 13,
   "metadata": {
    "ExecuteTime": {
     "end_time": "2017-07-29T04:27:09.754868Z",
     "start_time": "2017-07-29T04:27:09.725741Z"
    },
    "collapsed": true
   },
   "outputs": [],
   "source": [
    "mecab = Mecab()"
   ]
  },
  {
   "cell_type": "code",
   "execution_count": 14,
   "metadata": {
    "ExecuteTime": {
     "end_time": "2017-07-29T04:27:09.970995Z",
     "start_time": "2017-07-29T04:27:09.928235Z"
    }
   },
   "outputs": [
    {
     "data": {
      "text/plain": [
       "'안녕하세요 반갑습니다ㅋㅎ '"
      ]
     },
     "execution_count": 14,
     "metadata": {},
     "output_type": "execute_result"
    }
   ],
   "source": [
    "# hangul = re.compile('[^ ㄱ-ㅣ가-힣]+')\n",
    "hangul = re.compile('[^ ㅋㅎ가-힣]+')\n",
    "def clean(sentence):\n",
    "    clean_sentence = hangul.sub('', sentence)\n",
    "    return clean_sentence\n",
    "clean('안녕하세요 반갑습니다.?ㄴㅇㄷㅋㅎ ')"
   ]
  },
  {
   "cell_type": "code",
   "execution_count": 15,
   "metadata": {
    "ExecuteTime": {
     "end_time": "2017-07-29T04:27:10.177155Z",
     "start_time": "2017-07-29T04:27:10.143132Z"
    },
    "collapsed": true
   },
   "outputs": [],
   "source": [
    "def mecab_tokenizer(sentence):\n",
    "    out_list = []\n",
    "    for word, pos in mecab.pos(sentence):\n",
    "        out_list.append(word)\n",
    "    return out_list"
   ]
  },
  {
   "cell_type": "code",
   "execution_count": 16,
   "metadata": {
    "ExecuteTime": {
     "end_time": "2017-07-29T04:27:10.479261Z",
     "start_time": "2017-07-29T04:27:10.443776Z"
    }
   },
   "outputs": [
    {
     "data": {
      "text/plain": [
       "['안녕', '하', '세요', '반갑', '습니다', '.']"
      ]
     },
     "execution_count": 16,
     "metadata": {},
     "output_type": "execute_result"
    }
   ],
   "source": [
    "mecab_tokenizer('안녕하세요 반갑습니다.')"
   ]
  },
  {
   "cell_type": "code",
   "execution_count": 17,
   "metadata": {
    "ExecuteTime": {
     "end_time": "2017-07-29T04:27:10.962520Z",
     "start_time": "2017-07-29T04:27:10.936680Z"
    },
    "collapsed": true
   },
   "outputs": [],
   "source": [
    "def tokenizer(sentence):\n",
    "    clean_sentence = clean(sentence)\n",
    "    tokens = mecab_tokenizer(clean_sentence)\n",
    "    return tokens"
   ]
  },
  {
   "cell_type": "code",
   "execution_count": 18,
   "metadata": {
    "ExecuteTime": {
     "end_time": "2017-07-29T04:27:11.653564Z",
     "start_time": "2017-07-29T04:27:11.628284Z"
    }
   },
   "outputs": [
    {
     "data": {
      "text/plain": [
       "['안녕', '하', '세요', '반갑', '습니다', 'ㅎ', 'ㅎ', 'ㅋ']"
      ]
     },
     "execution_count": 18,
     "metadata": {},
     "output_type": "execute_result"
    }
   ],
   "source": [
    "tokenizer('안녕하세요 반갑습니다.?ㄴㅇㄷㅎㅎㅋ ')"
   ]
  },
  {
   "cell_type": "code",
   "execution_count": 19,
   "metadata": {
    "ExecuteTime": {
     "end_time": "2017-07-29T04:27:11.944567Z",
     "start_time": "2017-07-29T04:27:11.896317Z"
    },
    "collapsed": true
   },
   "outputs": [],
   "source": [
    "import pandas as pd"
   ]
  },
  {
   "cell_type": "markdown",
   "metadata": {},
   "source": [
    "Reading **tsv** with `pd.read_csv` & `delimeter=\\t`"
   ]
  },
  {
   "cell_type": "code",
   "execution_count": 20,
   "metadata": {
    "ExecuteTime": {
     "end_time": "2017-07-29T04:27:12.937080Z",
     "start_time": "2017-07-29T04:27:12.763577Z"
    },
    "scrolled": true
   },
   "outputs": [
    {
     "data": {
      "text/html": [
       "<div>\n",
       "<table border=\"1\" class=\"dataframe\">\n",
       "  <thead>\n",
       "    <tr style=\"text-align: right;\">\n",
       "      <th></th>\n",
       "      <th>id</th>\n",
       "      <th>document</th>\n",
       "      <th>label</th>\n",
       "    </tr>\n",
       "  </thead>\n",
       "  <tbody>\n",
       "    <tr>\n",
       "      <th>0</th>\n",
       "      <td>6270596</td>\n",
       "      <td>굳 ㅋ</td>\n",
       "      <td>1</td>\n",
       "    </tr>\n",
       "    <tr>\n",
       "      <th>1</th>\n",
       "      <td>9274899</td>\n",
       "      <td>GDNTOPCLASSINTHECLUB</td>\n",
       "      <td>0</td>\n",
       "    </tr>\n",
       "    <tr>\n",
       "      <th>2</th>\n",
       "      <td>8544678</td>\n",
       "      <td>뭐야 이 평점들은.... 나쁘진 않지만 10점 짜리는 더더욱 아니잖아</td>\n",
       "      <td>0</td>\n",
       "    </tr>\n",
       "    <tr>\n",
       "      <th>3</th>\n",
       "      <td>6825595</td>\n",
       "      <td>지루하지는 않은데 완전 막장임... 돈주고 보기에는....</td>\n",
       "      <td>0</td>\n",
       "    </tr>\n",
       "    <tr>\n",
       "      <th>4</th>\n",
       "      <td>6723715</td>\n",
       "      <td>3D만 아니었어도 별 다섯 개 줬을텐데.. 왜 3D로 나와서 제 심기를 불편하게 하죠??</td>\n",
       "      <td>0</td>\n",
       "    </tr>\n",
       "    <tr>\n",
       "      <th>5</th>\n",
       "      <td>7898805</td>\n",
       "      <td>음악이 주가 된, 최고의 음악영화</td>\n",
       "      <td>1</td>\n",
       "    </tr>\n",
       "    <tr>\n",
       "      <th>6</th>\n",
       "      <td>6315043</td>\n",
       "      <td>진정한 쓰레기</td>\n",
       "      <td>0</td>\n",
       "    </tr>\n",
       "    <tr>\n",
       "      <th>7</th>\n",
       "      <td>6097171</td>\n",
       "      <td>마치 미국애니에서 튀어나온듯한 창의력없는 로봇디자인부터가,고개를 젖게한다</td>\n",
       "      <td>0</td>\n",
       "    </tr>\n",
       "    <tr>\n",
       "      <th>8</th>\n",
       "      <td>8932678</td>\n",
       "      <td>갈수록 개판되가는 중국영화 유치하고 내용없음 폼잡다 끝남 말도안되는 무기에 유치한c...</td>\n",
       "      <td>0</td>\n",
       "    </tr>\n",
       "    <tr>\n",
       "      <th>9</th>\n",
       "      <td>6242223</td>\n",
       "      <td>이별의 아픔뒤에 찾아오는 새로운 인연의 기쁨 But, 모든 사람이 그렇지는 않네..</td>\n",
       "      <td>1</td>\n",
       "    </tr>\n",
       "  </tbody>\n",
       "</table>\n",
       "</div>"
      ],
      "text/plain": [
       "        id                                           document  label\n",
       "0  6270596                                                굳 ㅋ      1\n",
       "1  9274899                               GDNTOPCLASSINTHECLUB      0\n",
       "2  8544678             뭐야 이 평점들은.... 나쁘진 않지만 10점 짜리는 더더욱 아니잖아      0\n",
       "3  6825595                   지루하지는 않은데 완전 막장임... 돈주고 보기에는....      0\n",
       "4  6723715  3D만 아니었어도 별 다섯 개 줬을텐데.. 왜 3D로 나와서 제 심기를 불편하게 하죠??      0\n",
       "5  7898805                                 음악이 주가 된, 최고의 음악영화      1\n",
       "6  6315043                                            진정한 쓰레기      0\n",
       "7  6097171           마치 미국애니에서 튀어나온듯한 창의력없는 로봇디자인부터가,고개를 젖게한다      0\n",
       "8  8932678  갈수록 개판되가는 중국영화 유치하고 내용없음 폼잡다 끝남 말도안되는 무기에 유치한c...      0\n",
       "9  6242223     이별의 아픔뒤에 찾아오는 새로운 인연의 기쁨 But, 모든 사람이 그렇지는 않네..      1"
      ]
     },
     "execution_count": 20,
     "metadata": {},
     "output_type": "execute_result"
    }
   ],
   "source": [
    "df = pd.read_csv(test_file_path, delimiter='\\t', keep_default_na=False)\n",
    "df[:10]"
   ]
  },
  {
   "cell_type": "markdown",
   "metadata": {},
   "source": [
    "### Define Field"
   ]
  },
  {
   "cell_type": "code",
   "execution_count": 21,
   "metadata": {
    "ExecuteTime": {
     "end_time": "2017-07-29T04:27:14.499670Z",
     "start_time": "2017-07-29T04:27:14.468147Z"
    },
    "collapsed": true
   },
   "outputs": [],
   "source": [
    "text_field = data.Field(tokenize=tokenizer, sequential=True)\n",
    "label_field = data.Field(sequential=False, use_vocab=False, postprocessing=data.Pipeline(int))"
   ]
  },
  {
   "cell_type": "markdown",
   "metadata": {},
   "source": [
    "### Filter out invalid examples (rows)\n",
    "`filter_pred`: Use only examples for which filter_pred(ex) is True, or use all examples if None. Default: None"
   ]
  },
  {
   "cell_type": "code",
   "execution_count": 22,
   "metadata": {
    "ExecuteTime": {
     "end_time": "2017-07-29T04:27:15.433905Z",
     "start_time": "2017-07-29T04:27:15.404025Z"
    },
    "collapsed": true
   },
   "outputs": [],
   "source": [
    "def filter_pred(example):\n",
    "    if example.label in ['0', '1']:\n",
    "        if len(example.text) > 1:\n",
    "            return True\n",
    "    return False"
   ]
  },
  {
   "cell_type": "code",
   "execution_count": 23,
   "metadata": {
    "ExecuteTime": {
     "end_time": "2017-07-29T04:27:34.649675Z",
     "start_time": "2017-07-29T04:27:16.054480Z"
    },
    "code_folding": [],
    "collapsed": true
   },
   "outputs": [],
   "source": [
    "naver_train = data.TabularDataset(\n",
    "    path=train_file_path,\n",
    "    format='tsv',\n",
    "    fields=[\n",
    "        ('id', None),\n",
    "        ('text', text_field),\n",
    "        ('label', label_field)\n",
    "    ],\n",
    "    filter_pred=filter_pred\n",
    ")\n",
    "\n",
    "naver_test = data.TabularDataset(\n",
    "    path=test_file_path,\n",
    "    format='tsv',\n",
    "    fields=[\n",
    "        ('id', None),\n",
    "        ('text', text_field),\n",
    "        ('label', label_field)\n",
    "    ],\n",
    "    filter_pred=filter_pred\n",
    ")"
   ]
  },
  {
   "cell_type": "code",
   "execution_count": null,
   "metadata": {
    "ExecuteTime": {
     "end_time": "2017-07-29T04:27:34.727395Z",
     "start_time": "2017-07-29T04:27:22.813Z"
    },
    "run_control": {
     "marked": false
    },
    "scrolled": true
   },
   "outputs": [],
   "source": [
    "naver_test[:5]"
   ]
  },
  {
   "cell_type": "code",
   "execution_count": null,
   "metadata": {
    "ExecuteTime": {
     "end_time": "2017-07-29T04:27:34.732463Z",
     "start_time": "2017-07-29T04:27:24.061Z"
    }
   },
   "outputs": [],
   "source": [
    "len(naver_train)"
   ]
  },
  {
   "cell_type": "code",
   "execution_count": null,
   "metadata": {
    "ExecuteTime": {
     "end_time": "2017-07-29T04:27:34.739801Z",
     "start_time": "2017-07-29T04:27:24.280Z"
    },
    "scrolled": true
   },
   "outputs": [],
   "source": [
    "naver_test.examples[0]"
   ]
  },
  {
   "cell_type": "code",
   "execution_count": null,
   "metadata": {
    "ExecuteTime": {
     "end_time": "2017-07-29T04:27:34.744424Z",
     "start_time": "2017-07-29T04:27:25.357Z"
    },
    "scrolled": true
   },
   "outputs": [],
   "source": [
    "vars(naver_train.examples[0])"
   ]
  },
  {
   "cell_type": "code",
   "execution_count": null,
   "metadata": {
    "ExecuteTime": {
     "end_time": "2017-07-29T04:27:34.748692Z",
     "start_time": "2017-07-29T04:27:25.750Z"
    },
    "scrolled": true
   },
   "outputs": [],
   "source": [
    "vars(naver_test.examples[0])"
   ]
  },
  {
   "cell_type": "code",
   "execution_count": null,
   "metadata": {
    "ExecuteTime": {
     "end_time": "2017-07-29T04:27:34.753324Z",
     "start_time": "2017-07-29T04:27:26.077Z"
    }
   },
   "outputs": [],
   "source": [
    "vars(naver_test.examples[10])"
   ]
  },
  {
   "cell_type": "markdown",
   "metadata": {},
   "source": [
    "### Build vocabulary\n"
   ]
  },
  {
   "cell_type": "code",
   "execution_count": 24,
   "metadata": {
    "ExecuteTime": {
     "end_time": "2017-07-29T04:27:38.865757Z",
     "start_time": "2017-07-29T04:27:37.823547Z"
    },
    "collapsed": true
   },
   "outputs": [],
   "source": [
    "text_field.build_vocab(naver_train)"
   ]
  },
  {
   "cell_type": "code",
   "execution_count": 26,
   "metadata": {
    "ExecuteTime": {
     "end_time": "2017-07-29T04:27:42.752740Z",
     "start_time": "2017-07-29T04:27:42.725641Z"
    },
    "collapsed": true
   },
   "outputs": [],
   "source": [
    "vocab = text_field.vocab"
   ]
  },
  {
   "cell_type": "code",
   "execution_count": null,
   "metadata": {
    "ExecuteTime": {
     "end_time": "2017-07-29T04:27:38.935409Z",
     "start_time": "2017-07-29T04:27:38.924Z"
    }
   },
   "outputs": [],
   "source": [
    "len(vocab)"
   ]
  },
  {
   "cell_type": "code",
   "execution_count": 25,
   "metadata": {
    "ExecuteTime": {
     "end_time": "2017-07-29T04:27:39.702791Z",
     "start_time": "2017-07-29T04:27:39.670357Z"
    }
   },
   "outputs": [
    {
     "ename": "NameError",
     "evalue": "name 'vocab' is not defined",
     "output_type": "error",
     "traceback": [
      "\u001b[0;31m---------------------------------------------------------------------------\u001b[0m",
      "\u001b[0;31mNameError\u001b[0m                                 Traceback (most recent call last)",
      "\u001b[0;32m<ipython-input-25-77547d23bc3b>\u001b[0m in \u001b[0;36m<module>\u001b[0;34m()\u001b[0m\n\u001b[0;32m----> 1\u001b[0;31m \u001b[0mvocab\u001b[0m\u001b[0;34m.\u001b[0m\u001b[0mfreqs\u001b[0m\u001b[0;34m\u001b[0m\u001b[0m\n\u001b[0m",
      "\u001b[0;31mNameError\u001b[0m: name 'vocab' is not defined"
     ]
    }
   ],
   "source": [
    "vocab.freqs"
   ]
  },
  {
   "cell_type": "code",
   "execution_count": null,
   "metadata": {
    "ExecuteTime": {
     "end_time": "2017-07-29T04:26:50.484873Z",
     "start_time": "2017-07-29T04:26:48.677Z"
    }
   },
   "outputs": [],
   "source": [
    "vocab.itos[10]"
   ]
  },
  {
   "cell_type": "code",
   "execution_count": null,
   "metadata": {
    "ExecuteTime": {
     "end_time": "2017-07-29T04:26:50.486344Z",
     "start_time": "2017-07-29T04:26:48.679Z"
    }
   },
   "outputs": [],
   "source": [
    "vocab.stoi['생활']"
   ]
  },
  {
   "cell_type": "markdown",
   "metadata": {},
   "source": [
    "### Use frequent words only"
   ]
  },
  {
   "cell_type": "code",
   "execution_count": null,
   "metadata": {
    "ExecuteTime": {
     "end_time": "2017-07-29T04:26:50.487784Z",
     "start_time": "2017-07-29T04:26:48.684Z"
    },
    "collapsed": true
   },
   "outputs": [],
   "source": [
    "frequent_vocab = Vocab(counter=vocab.freqs, min_freq=5)"
   ]
  },
  {
   "cell_type": "code",
   "execution_count": null,
   "metadata": {
    "ExecuteTime": {
     "end_time": "2017-07-29T04:26:50.489123Z",
     "start_time": "2017-07-29T04:26:48.686Z"
    }
   },
   "outputs": [],
   "source": [
    "len(frequent_vocab)"
   ]
  },
  {
   "cell_type": "code",
   "execution_count": 27,
   "metadata": {
    "ExecuteTime": {
     "end_time": "2017-07-29T04:27:45.378739Z",
     "start_time": "2017-07-29T04:27:45.355611Z"
    },
    "collapsed": true
   },
   "outputs": [],
   "source": [
    "train_iter = data.Iterator(\n",
    "    dataset=naver_train,\n",
    "    batch_size=10,\n",
    "    sort_key=lambda x: len(x.text),\n",
    "    train=True, # if training set => repeat and shuffle : True \n",
    "    device=-1 # CPU: -1\n",
    ")"
   ]
  },
  {
   "cell_type": "code",
   "execution_count": 28,
   "metadata": {
    "ExecuteTime": {
     "end_time": "2017-07-29T04:27:49.034031Z",
     "start_time": "2017-07-29T04:27:49.005219Z"
    },
    "collapsed": true
   },
   "outputs": [],
   "source": [
    "test_iter = data.Iterator(\n",
    "    dataset=naver_test,\n",
    "    batch_size=10,\n",
    "    sort=False,\n",
    "    train=False,\n",
    "    device=-1)"
   ]
  },
  {
   "cell_type": "code",
   "execution_count": null,
   "metadata": {
    "ExecuteTime": {
     "end_time": "2017-07-29T04:26:50.492985Z",
     "start_time": "2017-07-29T04:26:48.694Z"
    },
    "scrolled": false
   },
   "outputs": [],
   "source": [
    "vars(next(iter(test_iter)))"
   ]
  },
  {
   "cell_type": "code",
   "execution_count": 29,
   "metadata": {
    "ExecuteTime": {
     "end_time": "2017-07-29T04:27:53.791205Z",
     "start_time": "2017-07-29T04:27:53.365636Z"
    },
    "scrolled": true
   },
   "outputs": [],
   "source": [
    "a = next(iter(train_iter))"
   ]
  },
  {
   "cell_type": "code",
   "execution_count": 30,
   "metadata": {
    "ExecuteTime": {
     "end_time": "2017-07-29T04:27:54.695881Z",
     "start_time": "2017-07-29T04:27:54.665314Z"
    }
   },
   "outputs": [
    {
     "data": {
      "text/plain": [
       "<torchtext.data.batch.Batch at 0x11a056f28>"
      ]
     },
     "execution_count": 30,
     "metadata": {},
     "output_type": "execute_result"
    }
   ],
   "source": [
    "a"
   ]
  },
  {
   "cell_type": "code",
   "execution_count": 31,
   "metadata": {
    "ExecuteTime": {
     "end_time": "2017-07-29T04:28:03.834143Z",
     "start_time": "2017-07-29T04:28:03.795760Z"
    }
   },
   "outputs": [
    {
     "data": {
      "text/plain": [
       "{'batch_size': 10,\n",
       " 'dataset': <torchtext.data.dataset.TabularDataset at 0x1134a34e0>,\n",
       " 'label': Variable containing:\n",
       "  0\n",
       "  1\n",
       "  1\n",
       "  0\n",
       "  1\n",
       "  1\n",
       "  1\n",
       "  1\n",
       "  1\n",
       "  0\n",
       " [torch.LongTensor of size 10],\n",
       " 'text': Variable containing:\n",
       "    495   1327    413    957   6830   4459    196   5635     22    725\n",
       "   1232      2     34     86     29   9826    115      7      5    118\n",
       "    722     58   1551      4     55      9     62    115   1166    746\n",
       "     10  35751     80    103     35    127   9453    440     74      3\n",
       "     20      1      2    154     25   1300      4      2   5663    341\n",
       "   1323      1    467      9   7411      2    142    632     74      6\n",
       "    267      1     29      4    297   1053    597     16    289    184\n",
       "   4314      1     34    742     81     18      1      7    194    118\n",
       "      1      1    496     82     37     18      1    115      1    746\n",
       "      1      1  10301      9     24     48      1    257      1      3\n",
       "      1      1     74   1571     13    283      1      8      1    436\n",
       "      1      1     18    397     75     62      1    632      1    119\n",
       "      1      1    180    350    300      2      1     16      1      6\n",
       "      1      1    413     44    547    201      1      7      1    429\n",
       "      1      1   1151    493     23    528      1      3      1    118\n",
       "      1      1  10521     61    222   8129      1      4      1    746\n",
       "      1      1     11    435    478      7      1      1      1      3\n",
       "      1      1   3369     17      4      3      1      1      1    110\n",
       "      1      1   2594      5      1      4      1      1      1      5\n",
       "      1      1     15    471      1      1      1      1      1      1\n",
       "      1      1   3519    137      1      1      1      1      1      1\n",
       "      1      1    457   2786      1      1      1      1      1      1\n",
       "      1      1    745     17      1      1      1      1      1      1\n",
       "      1      1     22      1      1      1      1      1      1      1\n",
       "      1      1     18      1      1      1      1      1      1      1\n",
       "      1      1     48      1      1      1      1      1      1      1\n",
       "      1      1     11      1      1      1      1      1      1      1\n",
       "      1      1  15993      1      1      1      1      1      1      1\n",
       "      1      1     32      1      1      1      1      1      1      1\n",
       "      1      1    212      1      1      1      1      1      1      1\n",
       "      1      1     11      1      1      1      1      1      1      1\n",
       "      1      1    345      1      1      1      1      1      1      1\n",
       "      1      1     17      1      1      1      1      1      1      1\n",
       "      1      1    397      1      1      1      1      1      1      1\n",
       "      1      1     87      1      1      1      1      1      1      1\n",
       "      1      1   1339      1      1      1      1      1      1      1\n",
       "      1      1     15      1      1      1      1      1      1      1\n",
       "      1      1      4      1      1      1      1      1      1      1\n",
       "      1      1    105      1      1      1      1      1      1      1\n",
       "      1      1     40      1      1      1      1      1      1      1\n",
       "      1      1      2      1      1      1      1      1      1      1\n",
       "      1      1     56      1      1      1      1      1      1      1\n",
       "      1      1      6      1      1      1      1      1      1      1\n",
       "      1      1      8      1      1      1      1      1      1      1\n",
       "      1      1    139      1      1      1      1      1      1      1\n",
       "      1      1     11      1      1      1      1      1      1      1\n",
       "      1      1    686      1      1      1      1      1      1      1\n",
       "      1      1      2      1      1      1      1      1      1      1\n",
       "      1      1    920      1      1      1      1      1      1      1\n",
       "      1      1     39      1      1      1      1      1      1      1\n",
       "      1      1     20      1      1      1      1      1      1      1\n",
       "      1      1      3      1      1      1      1      1      1      1\n",
       "      1      1    628      1      1      1      1      1      1      1\n",
       " [torch.LongTensor of size 53x10],\n",
       " 'train': True}"
      ]
     },
     "execution_count": 31,
     "metadata": {},
     "output_type": "execute_result"
    }
   ],
   "source": [
    "vars(a)"
   ]
  },
  {
   "cell_type": "code",
   "execution_count": 33,
   "metadata": {
    "ExecuteTime": {
     "end_time": "2017-07-29T04:28:22.624062Z",
     "start_time": "2017-07-29T04:28:22.590740Z"
    }
   },
   "outputs": [
    {
     "data": {
      "text/plain": [
       "Variable containing:\n",
       "   495   1327    413    957   6830   4459    196   5635     22    725\n",
       "  1232      2     34     86     29   9826    115      7      5    118\n",
       "   722     58   1551      4     55      9     62    115   1166    746\n",
       "    10  35751     80    103     35    127   9453    440     74      3\n",
       "    20      1      2    154     25   1300      4      2   5663    341\n",
       "  1323      1    467      9   7411      2    142    632     74      6\n",
       "   267      1     29      4    297   1053    597     16    289    184\n",
       "  4314      1     34    742     81     18      1      7    194    118\n",
       "     1      1    496     82     37     18      1    115      1    746\n",
       "     1      1  10301      9     24     48      1    257      1      3\n",
       "     1      1     74   1571     13    283      1      8      1    436\n",
       "     1      1     18    397     75     62      1    632      1    119\n",
       "     1      1    180    350    300      2      1     16      1      6\n",
       "     1      1    413     44    547    201      1      7      1    429\n",
       "     1      1   1151    493     23    528      1      3      1    118\n",
       "     1      1  10521     61    222   8129      1      4      1    746\n",
       "     1      1     11    435    478      7      1      1      1      3\n",
       "     1      1   3369     17      4      3      1      1      1    110\n",
       "     1      1   2594      5      1      4      1      1      1      5\n",
       "     1      1     15    471      1      1      1      1      1      1\n",
       "     1      1   3519    137      1      1      1      1      1      1\n",
       "     1      1    457   2786      1      1      1      1      1      1\n",
       "     1      1    745     17      1      1      1      1      1      1\n",
       "     1      1     22      1      1      1      1      1      1      1\n",
       "     1      1     18      1      1      1      1      1      1      1\n",
       "     1      1     48      1      1      1      1      1      1      1\n",
       "     1      1     11      1      1      1      1      1      1      1\n",
       "     1      1  15993      1      1      1      1      1      1      1\n",
       "     1      1     32      1      1      1      1      1      1      1\n",
       "     1      1    212      1      1      1      1      1      1      1\n",
       "     1      1     11      1      1      1      1      1      1      1\n",
       "     1      1    345      1      1      1      1      1      1      1\n",
       "     1      1     17      1      1      1      1      1      1      1\n",
       "     1      1    397      1      1      1      1      1      1      1\n",
       "     1      1     87      1      1      1      1      1      1      1\n",
       "     1      1   1339      1      1      1      1      1      1      1\n",
       "     1      1     15      1      1      1      1      1      1      1\n",
       "     1      1      4      1      1      1      1      1      1      1\n",
       "     1      1    105      1      1      1      1      1      1      1\n",
       "     1      1     40      1      1      1      1      1      1      1\n",
       "     1      1      2      1      1      1      1      1      1      1\n",
       "     1      1     56      1      1      1      1      1      1      1\n",
       "     1      1      6      1      1      1      1      1      1      1\n",
       "     1      1      8      1      1      1      1      1      1      1\n",
       "     1      1    139      1      1      1      1      1      1      1\n",
       "     1      1     11      1      1      1      1      1      1      1\n",
       "     1      1    686      1      1      1      1      1      1      1\n",
       "     1      1      2      1      1      1      1      1      1      1\n",
       "     1      1    920      1      1      1      1      1      1      1\n",
       "     1      1     39      1      1      1      1      1      1      1\n",
       "     1      1     20      1      1      1      1      1      1      1\n",
       "     1      1      3      1      1      1      1      1      1      1\n",
       "     1      1    628      1      1      1      1      1      1      1\n",
       "[torch.LongTensor of size 53x10]"
      ]
     },
     "execution_count": 33,
     "metadata": {},
     "output_type": "execute_result"
    }
   ],
   "source": [
    "a.text"
   ]
  },
  {
   "cell_type": "code",
   "execution_count": null,
   "metadata": {
    "collapsed": true
   },
   "outputs": [],
   "source": []
  }
 ],
 "metadata": {
  "anaconda-cloud": {},
  "kernelspec": {
   "display_name": "Python [conda env:mldemo]",
   "language": "python",
   "name": "conda-env-mldemo-py"
  },
  "language_info": {
   "codemirror_mode": {
    "name": "ipython",
    "version": 3
   },
   "file_extension": ".py",
   "mimetype": "text/x-python",
   "name": "python",
   "nbconvert_exporter": "python",
   "pygments_lexer": "ipython3",
   "version": "3.6.0"
  },
  "varInspector": {
   "cols": {
    "lenName": 16,
    "lenType": 16,
    "lenVar": 40
   },
   "kernels_config": {
    "python": {
     "delete_cmd_postfix": "",
     "delete_cmd_prefix": "del ",
     "library": "var_list.py",
     "varRefreshCmd": "print(var_dic_list())"
    },
    "r": {
     "delete_cmd_postfix": ") ",
     "delete_cmd_prefix": "rm(",
     "library": "var_list.r",
     "varRefreshCmd": "cat(var_dic_list()) "
    }
   },
   "types_to_exclude": [
    "module",
    "function",
    "builtin_function_or_method",
    "instance",
    "_Feature"
   ],
   "window_display": false
  }
 },
 "nbformat": 4,
 "nbformat_minor": 2
}
