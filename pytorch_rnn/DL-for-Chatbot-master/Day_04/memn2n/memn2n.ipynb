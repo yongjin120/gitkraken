{
 "cells": [
  {
   "cell_type": "markdown",
   "metadata": {},
   "source": [
    "* Reference: https://github.com/nmhkahn/MemN2N-pytorch/"
   ]
  },
  {
   "cell_type": "code",
   "execution_count": 1,
   "metadata": {
    "ExecuteTime": {
     "end_time": "2017-08-04T22:29:49.571486Z",
     "start_time": "2017-08-04T22:29:48.619810Z"
    }
   },
   "outputs": [],
   "source": [
    "import matplotlib.pyplot as plt\n",
    "import numpy as np\n",
    "import torch\n",
    "from torch import nn\n",
    "from torch.nn import init\n",
    "from torch import optim\n",
    "from torch.autograd import Variable\n",
    "from torch.utils.data import DataLoader\n",
    "\n",
    "from dataset import bAbIDataset\n",
    "from tqdm import tqdm"
   ]
  },
  {
   "cell_type": "markdown",
   "metadata": {},
   "source": [
    "# Configurations"
   ]
  },
  {
   "cell_type": "code",
   "execution_count": 2,
   "metadata": {
    "ExecuteTime": {
     "end_time": "2017-08-04T22:29:49.613161Z",
     "start_time": "2017-08-04T22:29:49.573466Z"
    }
   },
   "outputs": [],
   "source": [
    "dataset_dir = 'D:/jupyter/pytorch/DL-for-Chatbot-master/Day_04/memn2n/bAbl/en/'\n",
    "task = 5 # 1 ~ 20 개의 task\n",
    "max_hops = 3\n",
    "batch_size = 10\n",
    "max_epochs = 100\n",
    "embedding_dim = 20\n",
    "lr = 1e-2\n",
    "max_clip = 40.0\n",
    "decay_interval = 25\n",
    "decay_ratio = 0.5\n",
    "cuda = False"
   ]
  },
  {
   "cell_type": "markdown",
   "metadata": {},
   "source": [
    "# Load bAbI dataset / dataloader"
   ]
  },
  {
   "cell_type": "code",
   "execution_count": 3,
   "metadata": {
    "ExecuteTime": {
     "end_time": "2017-08-04T22:29:49.769891Z",
     "start_time": "2017-08-04T22:29:49.615310Z"
    },
    "scrolled": true
   },
   "outputs": [
    {
     "name": "stderr",
     "output_type": "stream",
     "text": [
      "C:\\cosmos\\envs\\env1\\lib\\re.py:212: FutureWarning: split() requires a non-empty pattern match.\n",
      "  return _compile(pattern, flags).split(string, maxsplit)\n"
     ]
    }
   ],
   "source": [
    "train_data = bAbIDataset(dataset_dir, 5)\n",
    "train_loader = DataLoader(train_data,\n",
    "                          batch_size=batch_size,\n",
    "                          num_workers=1,\n",
    "                          shuffle=True)"
   ]
  },
  {
   "cell_type": "code",
   "execution_count": 4,
   "metadata": {
    "ExecuteTime": {
     "end_time": "2017-08-04T22:29:49.962000Z",
     "start_time": "2017-08-04T22:29:49.772240Z"
    }
   },
   "outputs": [
    {
     "name": "stderr",
     "output_type": "stream",
     "text": [
      "C:\\cosmos\\envs\\env1\\lib\\re.py:212: FutureWarning: split() requires a non-empty pattern match.\n",
      "  return _compile(pattern, flags).split(string, maxsplit)\n"
     ]
    }
   ],
   "source": [
    "test_data = bAbIDataset(dataset_dir, task, train=False)\n",
    "test_loader = DataLoader(test_data,\n",
    "                          batch_size=batch_size,\n",
    "                          num_workers=1,\n",
    "                          shuffle=False)"
   ]
  },
  {
   "cell_type": "code",
   "execution_count": 5,
   "metadata": {
    "ExecuteTime": {
     "end_time": "2017-08-04T22:29:50.001624Z",
     "start_time": "2017-08-04T22:29:49.963613Z"
    }
   },
   "outputs": [
    {
     "name": "stdout",
     "output_type": "stream",
     "text": [
      "Epoch당 batch 개수 1000\n",
      "최대 문장 길이 8\n",
      "최대 지문 문장 수 102\n",
      "평균 지문당 문장 수 19\n",
      "Vocabulary 크기 90\n"
     ]
    }
   ],
   "source": [
    "print('Epoch당 batch 개수', len(train_data))\n",
    "print(\"최대 문장 길이\", train_data.sentence_size)\n",
    "print(\"최대 지문 문장 수\", train_data.max_story_size)\n",
    "print(\"평균 지문당 문장 수\", train_data.mean_story_size)\n",
    "print(\"Vocabulary 크기\", train_data.num_vocab)"
   ]
  },
  {
   "cell_type": "markdown",
   "metadata": {},
   "source": [
    "## dataloader 의 출력:\n",
    "    - story (지문): (LongTensor) [batch_size, 최대 문장 수, 최대 문장 길이]\n",
    "    - query (문제): (LongTensor) [batch_size, 최대 문장 길이]\n",
    "    - answer (정답): (LongTensor) [batch_size]"
   ]
  },
  {
   "cell_type": "code",
   "execution_count": 6,
   "metadata": {
    "ExecuteTime": {
     "end_time": "2017-08-04T22:29:50.081386Z",
     "start_time": "2017-08-04T22:29:50.004615Z"
    },
    "scrolled": true
   },
   "outputs": [
    {
     "data": {
      "text/plain": [
       "[\n",
       " (0 ,.,.) = \n",
       "   23  37  33  ...    0   0  89\n",
       "   11  34  31  ...    0   0  88\n",
       "    5  35  33  ...    0   0  87\n",
       "      ...       ⋱       ...    \n",
       "   23  29   8  ...    0   0  42\n",
       "    5  37   2  ...   26   0  41\n",
       "   23  16  31  ...    0   0  40\n",
       " \n",
       " (1 ,.,.) = \n",
       "   11  34  31  ...    0   0  85\n",
       "   19  25  33  ...    0   0  84\n",
       "   11   7  31  ...    0   0  83\n",
       "      ...       ⋱       ...    \n",
       "    0   0   0  ...    0   0   0\n",
       "    0   0   0  ...    0   0   0\n",
       "    0   0   0  ...    0   0   0\n",
       " \n",
       " (2 ,.,.) = \n",
       "   23  25  33  ...    0   0  55\n",
       "   19  37  33  ...    0   0  54\n",
       "   19  20  33  ...    0   0  53\n",
       "      ...       ⋱       ...    \n",
       "    0   0   0  ...    0   0   0\n",
       "    0   0   0  ...    0   0   0\n",
       "    0   0   0  ...    0   0   0\n",
       " ...\n",
       " \n",
       " (7 ,.,.) = \n",
       "   19  15  31  ...    0   0  51\n",
       "   19  25  33  ...    0   0  50\n",
       "   19  28  36  ...   32   0  49\n",
       "      ...       ⋱       ...    \n",
       "    0   0   0  ...    0   0   0\n",
       "    0   0   0  ...    0   0   0\n",
       "    0   0   0  ...    0   0   0\n",
       " \n",
       " (8 ,.,.) = \n",
       "    5  37   2  ...    4   0  43\n",
       "   23  16  31  ...    0   0  42\n",
       "   23  27  31  ...   11   0  41\n",
       "      ...       ⋱       ...    \n",
       "    0   0   0  ...    0   0   0\n",
       "    0   0   0  ...    0   0   0\n",
       "    0   0   0  ...    0   0   0\n",
       " \n",
       " (9 ,.,.) = \n",
       "    5  25  33  ...    0   0  59\n",
       "   19  37  33  ...    0   0  58\n",
       "   19  35  33  ...    0   0  57\n",
       "      ...       ⋱       ...    \n",
       "    0   0   0  ...    0   0   0\n",
       "    0   0   0  ...    0   0   0\n",
       "    0   0   0  ...    0   0   0\n",
       " [torch.LongTensor of size 10x50x8], \n",
       "    38     6    11    14    33    23     0     0\n",
       "    38     6    19    14    33     5     0     0\n",
       "    38     6    19    14    33     5     0     0\n",
       "    39    13    31     1     0     0     0     0\n",
       "    39     6    19    14    31    24    33     0\n",
       "    38     6     5    14    33    19     0     0\n",
       "    39    30    31    24     0     0     0     0\n",
       "    39     6    19    14    31    10    33     0\n",
       "    39    13    31    24    33    23     0     0\n",
       "    38     6    23    14    33    11     0     0\n",
       " [torch.LongTensor of size 10x8], \n",
       "   1\n",
       "  10\n",
       "  10\n",
       "  11\n",
       "   5\n",
       "   1\n",
       "  19\n",
       "   5\n",
       "  11\n",
       "  24\n",
       " [torch.LongTensor of size 10]]"
      ]
     },
     "execution_count": 6,
     "metadata": {},
     "output_type": "execute_result"
    }
   ],
   "source": [
    "next(iter(train_loader))"
   ]
  },
  {
   "cell_type": "markdown",
   "metadata": {},
   "source": [
    "# Positional Encoding\n",
    "\n",
    "$ l_{kj} = (1−j/J)−(k/d)(1−2j/J) $\n",
    "\n",
    "- k: 벡터의 몇 번째 원소인지\n",
    "- j: 문장에서 몇 번째 단어인지\n",
    "- J: 문장은 몇 개의 단어로 이루어져 있는지\n",
    "- d: 벡터의 차원"
   ]
  },
  {
   "cell_type": "code",
   "execution_count": 7,
   "metadata": {
    "ExecuteTime": {
     "end_time": "2017-08-04T22:29:50.157216Z",
     "start_time": "2017-08-04T22:29:50.084928Z"
    }
   },
   "outputs": [],
   "source": [
    "def position_encoding(sentence_size, embedding_dim):\n",
    "    encoding = np.ones((embedding_dim, sentence_size), dtype=np.float32)\n",
    "    ls = sentence_size + 1\n",
    "    le = embedding_dim + 1\n",
    "    for i in range(1, le):\n",
    "        for j in range(1, ls):\n",
    "            encoding[i-1, j-1] = (i - (embedding_dim+1)/2) * (j - (sentence_size+1)/2)\n",
    "    encoding = 1 + 4 * encoding / embedding_dim / sentence_size\n",
    "    # Make position encoding of time words identity to avoid modifying them\n",
    "    encoding[:, -1] = 1.0\n",
    "    return np.transpose(encoding)"
   ]
  },
  {
   "cell_type": "code",
   "execution_count": 8,
   "metadata": {
    "ExecuteTime": {
     "end_time": "2017-08-04T22:29:50.211255Z",
     "start_time": "2017-08-04T22:29:50.159423Z"
    }
   },
   "outputs": [
    {
     "data": {
      "text/plain": [
       "array([[1.5      , 1.1666666, 0.8333333, 0.5      ],\n",
       "       [1.       , 1.       , 1.       , 1.       ],\n",
       "       [1.       , 1.       , 1.       , 1.       ]], dtype=float32)"
      ]
     },
     "execution_count": 8,
     "metadata": {},
     "output_type": "execute_result"
    }
   ],
   "source": [
    "position_encoding(3,4)"
   ]
  },
  {
   "cell_type": "code",
   "execution_count": 9,
   "metadata": {
    "ExecuteTime": {
     "end_time": "2017-08-04T22:29:50.494119Z",
     "start_time": "2017-08-04T22:29:50.224243Z"
    }
   },
   "outputs": [
    {
     "data": {
      "image/png": "[encoded data removed]",
      "text/plain": [
       "<Figure size 432x288 with 1 Axes>"
      ]
     },
     "metadata": {},
     "output_type": "display_data"
    }
   ],
   "source": [
    "plt.plot(position_encoding(10,20))\n",
    "plt.show()"
   ]
  },
  {
   "cell_type": "markdown",
   "metadata": {},
   "source": [
    "# (Advanced) To use list of nn.Module in a nn.Module"
   ]
  },
  {
   "cell_type": "code",
   "execution_count": 10,
   "metadata": {
    "ExecuteTime": {
     "end_time": "2017-08-04T22:29:50.522049Z",
     "start_time": "2017-08-04T22:29:50.495912Z"
    }
   },
   "outputs": [],
   "source": [
    "class AttrProxy(object):\n",
    "    \"\"\"\n",
    "    Translates index lookups into attribute lookups.\n",
    "    To implement some trick which able to use list of nn.Module in a nn.Module\n",
    "    see https://discuss.pytorch.org/t/list-of-nn-module-in-a-nn-module/219/2\n",
    "    \"\"\"\n",
    "    def __init__(self, module, prefix):\n",
    "        self.module = module\n",
    "        self.prefix = prefix\n",
    "\n",
    "    def __getitem__(self, i):\n",
    "        return getattr(self.module, self.prefix + str(i))"
   ]
  },
  {
   "cell_type": "markdown",
   "metadata": {},
   "source": [
    "# Model"
   ]
  },
  {
   "cell_type": "code",
   "execution_count": 18,
   "metadata": {
    "ExecuteTime": {
     "end_time": "2017-08-04T22:29:51.192676Z",
     "start_time": "2017-08-04T22:29:50.524393Z"
    }
   },
   "outputs": [],
   "source": [
    "class MemN2N(nn.Module):\n",
    "    def __init__(self, use_cuda=False, num_vocab=32, embedding_dim=20, sentence_size=7, max_hops=3):\n",
    "        super(MemN2N, self).__init__()\n",
    "        \n",
    "        # Weight Tying Type => Adjacent\n",
    "        # Embedding matrix C\n",
    "        # W_T = C_K (최종 출력은 embedding은 C와 공유)\n",
    "        # B = A_1 (질문 embedding은 C와 공유)\n",
    "        # A_k+1 = C_k (이전 출력 embedding은 입력 embedding과 같음)\n",
    "        # => 결국 embedding matrix는 attention hop 마다 하나만 존재\n",
    "        for hop in range(max_hops+1):\n",
    "            C = nn.Embedding(num_vocab, embedding_dim, padding_idx=0)\n",
    "            C.weight.data.normal_(0, 0.1)\n",
    "            self.add_module(\"C_{}\".format(hop), C)\n",
    "        \n",
    "        # 아래와 같이 nn.Module 의 attribute로 list of nn.Module를 추가하기 위한 우회적 방법\n",
    "        # MemN2N (\n",
    "        #   (C_0): Embedding(30, 20, padding_idx=0)\n",
    "        #   (C_1): Embedding(30, 20, padding_idx=0)\n",
    "        #   (C_2): Embedding(30, 20, padding_idx=0)\n",
    "        #   (C_3): Embedding(30, 20, padding_idx=0)\n",
    "        #   (softmax): Softmax ()\n",
    "        # )\n",
    "        # self.C: list of nn.Embedding of each hop\n",
    "        self.C = AttrProxy(self, \"C_\")\n",
    "\n",
    "        self.softmax = nn.Softmax()\n",
    "        \n",
    "        # Positional Encoding\n",
    "        # 파라미터에 따라 변하는 값이 아니라 단어의 위치에 따라 변하는 값이므로, backpropagation 불필요\n",
    "        # [최대 문장 길이, embedding_dim]\n",
    "        self.encoding = Variable(torch.FloatTensor(\n",
    "            position_encoding(sentence_size, embedding_dim)), requires_grad=False)\n",
    "        \n",
    "        self.max_hops = max_hops\n",
    "\n",
    "        if use_cuda:\n",
    "            self.encoding = self.encoding.cuda()\n",
    "\n",
    "    def forward(self, story, query):\n",
    "        \"\"\"\n",
    "        Args:        \n",
    "            story: [batch_size, 최대 문장 수, 최대 문장 길이]\n",
    "            query: [batch_size, 최대 문장 길이]\n",
    "        Return:\n",
    "            a_hat: [batch_size] # => for training\n",
    "            # softmax(a_hat): [batch_size] => for evaluation\n",
    "        \"\"\"\n",
    "        \n",
    "        story_size = story.size()\n",
    "        batch_size = story_size[0]\n",
    "\n",
    "\n",
    "        # Query Embedding\n",
    "        B = self.C[0]\n",
    "        # query: [batch_size, 최대 문장 길이]\n",
    "        # => [batch_size, 최대 문장 길이, embedding_dim] (Embedding)\n",
    "        u = B(query)\n",
    "        \n",
    "        # Positional Encoding 적용\n",
    "        # [최대 문장 길이, embedding_dim]\n",
    "        # => [1, 최대 문장 길이, embedding_dim]\n",
    "        encoding = self.encoding.unsqueeze(0)\n",
    "                \n",
    "        # => [batch_size, 최대 문장 길이, embedding_dim]\n",
    "        encoding = encoding.expand_as(u)\n",
    "        \n",
    "        # 문장 벡터화\n",
    "        # Weighted sum of word vector\n",
    "        # Weight: positional encoding\n",
    "        # Element-wise product\n",
    "        # [batch_size, 최대 문장 길이, embedding_dim]\n",
    "        u = u * encoding\n",
    "        \n",
    "        # [batch_size, 1, embedding_dim]\n",
    "        u = torch.sum(u, 1)\n",
    "\n",
    "        # [batch_size, embedding_dim]\n",
    "        u = u.squeeze(1)\n",
    "        \n",
    "        u_list = [u]\n",
    "        \n",
    "        for hop in range(self.max_hops):\n",
    "            # Weigth tying\n",
    "            A = self.C[hop]\n",
    "            C = self.C[hop+1]\n",
    "            \n",
    "            #----------------------------------------------\n",
    "            \n",
    "            # story: [batch_size, 최대 문장 수, 최대 문장 길이]\n",
    "            # => [batch_size, 최대 문장 수 x 최대 문장 길이] (Embedding은 2차원만 받음)\n",
    "            # => [batch_size, 최대 문장 수 x 최대 문장 길이, embedding_dim]\n",
    "            embed_A = A(story.view(batch_size, -1))\n",
    "            \n",
    "            # => [batch_size, 최대 문장 수, 최대 문장 길이, embedding_dim]\n",
    "            embed_A = embed_A.view(story_size+(embedding_dim,))\n",
    "       \n",
    "            # Positional Encoding 적용\n",
    "            # [최대 문장 길이, embedding_dim]\n",
    "            # => [1, 1, 최대 문장 길이, embedding_dim]\n",
    "            encoding = self.encoding.unsqueeze(0).unsqueeze(1)\n",
    "            \n",
    "            # [batch_size, 최대 문장 수, 최대 문장 길이, embedding_dim]\n",
    "            encoding = encoding.expand_as(embed_A)\n",
    "            \n",
    "            # [batch_size, 최대 문장 수, 최대 문장 길이, embedding_dim]\n",
    "            m = embed_A*encoding\n",
    "            \n",
    "            # [batch_size, 최대 문장 수, 1, embedding_dim]\n",
    "            m = torch.sum(m, 2)\n",
    "            \n",
    "            # [batch_size, 최대 문장 수, embedding_dim]\n",
    "            m = m.squeeze(2)\n",
    "            \n",
    "            #----------------------------------------------\n",
    "       \n",
    "            # [batch_size, embedding_dim]\n",
    "            u = u_list[-1]\n",
    "            \n",
    "            # [batch_size, 1, embedding_dim]\n",
    "            u = u.unsqueeze(1)\n",
    "            \n",
    "            # [batch_size, 최대 문장 수, embedding_dim]\n",
    "            u = u.expand_as(m)\n",
    "            \n",
    "            #----------------------------------------------\n",
    "            # match score\n",
    "            # => m_i 과 u가 서로 얼마나 관계가 있는지 (p_i)\n",
    "            \n",
    "            # [batch_size, 최대 문장 수, embedding_dim]\n",
    "            score = m*u\n",
    "            \n",
    "            # [batch_size, 최대 문장 수, 1]\n",
    "            score = torch.sum(score, 2)\n",
    "            \n",
    "            # [batch_size, 최대 문장 수]\n",
    "            score = score.squeeze(1)\n",
    "            \n",
    "            # Normalize score\n",
    "            # [batch_size, 최대 문장 수]\n",
    "            p = self.softmax(score)\n",
    "            \n",
    "            #----------------------------------------------\n",
    "            # c\n",
    "            # story: [batch_size, 최대 문장 수, 최대 문장 길이]\n",
    "            # => [batch_size, 최대 문장 수 x 최대 문장 길이] (Embedding은 2차원만 받음)\n",
    "            # => [batch_size, 최대 문장 수 x 최대 문장 길이, embedding_dim]\n",
    "            embed_C = C(story.view(batch_size, -1))\n",
    "            \n",
    "            # => [batch_size, 최대 문장 수, 최대 문장 길이, embedding_dim]\n",
    "            embed_C = embed_C.view(story_size+(embedding_dim,))\n",
    "            \n",
    "            # [batch_size, 최대 문장 수, 최대 문장 길이, embedding_dim]\n",
    "            c = embed_C * encoding\n",
    "            \n",
    "            # [batch_size, 최대 문장 수, 1, embedding_dim]\n",
    "            c = torch.sum(c, 2)\n",
    "            \n",
    "            # [batch_size, 최대 문장 수, embedding_dim]\n",
    "            c = c.squeeze(2)\n",
    "            \n",
    "            #----------------------------------------------\n",
    "            # 출력\n",
    "            # [batch_size, 최대 문장 수, 1]\n",
    "            p = p.unsqueeze(2)\n",
    "            \n",
    "            # [batch_size, 최대 문장 수, embedding_dim]\n",
    "            p = p.expand_as(c)\n",
    "            \n",
    "            # [batch_size, 최대 문장 수, embedding_dim]\n",
    "            o = c*p\n",
    "            \n",
    "            # [batch_size, 1, embedding_dim]\n",
    "            o = torch.sum(o, 1)\n",
    "            \n",
    "            # [batch_size, embedding_dim]\n",
    "            o_k  = o.squeeze(1)\n",
    "       \n",
    "            # Residual Connection\n",
    "            # 다음 입력 = 이전 입력 + 현재 출력\n",
    "            # u_k+1 = u_k + o_k\n",
    "            # [batch_size, embedding_dim]\n",
    "            u_k_1 = u_list[-1] + o_k\n",
    "            u_list.append(u_k_1)\n",
    "        \n",
    "        # Last output projection\n",
    "        u_K = u_list[-1]\n",
    "        W = self.C[self.max_hops]\n",
    "        \n",
    "        # [num_vocab, embedding_dim]\n",
    "        # => [embedding_dim, num_vocab]\n",
    "        W_T = W.weight.transpose(0, 1)\n",
    "       \n",
    "        # [batch_size, embedding_dim] x [embedding_dim, num_vocab]\n",
    "        # [batch_size, num_vocab]\n",
    "        a_hat = u_K@W_T\n",
    "        \n",
    "        a_hat = self.softmax(a_hat)\n",
    "        \n",
    "        return a_hat # , self.softmax(a_hat)"
   ]
  },
  {
   "cell_type": "markdown",
   "metadata": {},
   "source": [
    "# Build Model"
   ]
  },
  {
   "cell_type": "code",
   "execution_count": 19,
   "metadata": {
    "ExecuteTime": {
     "end_time": "2017-08-04T22:29:51.223914Z",
     "start_time": "2017-08-04T22:29:51.194394Z"
    },
    "run_control": {
     "marked": false
    },
    "scrolled": false
   },
   "outputs": [
    {
     "data": {
      "text/plain": [
       "MemN2N(\n",
       "  (C_0): Embedding(90, 20, padding_idx=0)\n",
       "  (C_1): Embedding(90, 20, padding_idx=0)\n",
       "  (C_2): Embedding(90, 20, padding_idx=0)\n",
       "  (C_3): Embedding(90, 20, padding_idx=0)\n",
       "  (softmax): Softmax()\n",
       ")"
      ]
     },
     "execution_count": 19,
     "metadata": {},
     "output_type": "execute_result"
    }
   ],
   "source": [
    "mem_n2n = MemN2N(\n",
    "    num_vocab=train_data.num_vocab,\n",
    "    embedding_dim=embedding_dim,\n",
    "    sentence_size=train_data.sentence_size,\n",
    "    max_hops=max_hops)\n",
    "mem_n2n"
   ]
  },
  {
   "cell_type": "markdown",
   "metadata": {},
   "source": [
    "# Build Loss and Optimizer"
   ]
  },
  {
   "cell_type": "code",
   "execution_count": 13,
   "metadata": {
    "ExecuteTime": {
     "end_time": "2017-08-04T22:29:51.253995Z",
     "start_time": "2017-08-04T22:29:51.226694Z"
    }
   },
   "outputs": [],
   "source": [
    "cross_entropy = nn.CrossEntropyLoss()\n",
    "optimizer = torch.optim.SGD(mem_n2n.parameters(), lr=lr)"
   ]
  },
  {
   "cell_type": "markdown",
   "metadata": {},
   "source": [
    "# Gradient Clipping and add noise\n",
    "\n",
    "(End-to-End) Memory Networks 들은 initialization에 트레이닝 결과가 매우 크게 좌우된다.\n",
    "- Add noise to gradient: https://arxiv.org/abs/1511.06807"
   ]
  },
  {
   "cell_type": "code",
   "execution_count": 14,
   "metadata": {
    "ExecuteTime": {
     "end_time": "2017-08-04T22:29:51.293184Z",
     "start_time": "2017-08-04T22:29:51.255647Z"
    }
   },
   "outputs": [],
   "source": [
    "def gradient_noise_and_clip(parameters,\n",
    "                             noise_stddev=1e-3, max_clip=40.0):\n",
    "\n",
    "    # parameters의 Variable 중 Gradient가 있는 것들만 리스트로 반환\n",
    "    parameters = list(filter(lambda p: p.grad is not None, parameters))\n",
    "    nn.utils.clip_grad_norm(parameters, max_clip)\n",
    "\n",
    "    for p in parameters:\n",
    "        noise = torch.randn(p.size()) * noise_stddev\n",
    "        if cuda:\n",
    "            noise = noise.cuda()\n",
    "        p.grad.data.add_(noise)"
   ]
  },
  {
   "cell_type": "markdown",
   "metadata": {},
   "source": [
    "## Learning rate decay\n",
    "for those who wants to use official lr_scheduler, install pytorch from source and try `optim.lr_scheduler`"
   ]
  },
  {
   "cell_type": "code",
   "execution_count": 15,
   "metadata": {
    "ExecuteTime": {
     "end_time": "2017-08-04T22:29:51.334165Z",
     "start_time": "2017-08-04T22:29:51.295865Z"
    }
   },
   "outputs": [],
   "source": [
    "def decay_learning_rate(optimizer, epoch):\n",
    "    decay_count = max(0, epoch // decay_interval)\n",
    "    lr_ = lr * (decay_ratio ** decay_count)\n",
    "    for param_group in optimizer.param_groups:\n",
    "        param_group[\"lr\"] = lr_"
   ]
  },
  {
   "cell_type": "markdown",
   "metadata": {
    "ExecuteTime": {
     "end_time": "2017-08-04T21:46:08.906861Z",
     "start_time": "2017-08-04T21:46:08.886022Z"
    }
   },
   "source": [
    "# Evaluate"
   ]
  },
  {
   "cell_type": "code",
   "execution_count": 16,
   "metadata": {
    "ExecuteTime": {
     "start_time": "2017-08-04T22:29:48.238Z"
    }
   },
   "outputs": [],
   "source": [
    "def evaluate(data=\"test\"):\n",
    "    correct = 0\n",
    "    loader = train_loader if data == \"train\" else test_loader\n",
    "    for step, (story, query, answer) in enumerate(loader):\n",
    "        story = Variable(story)\n",
    "        query = Variable(query)\n",
    "        answer = Variable(answer)\n",
    "\n",
    "        if cuda:\n",
    "            story = story.cuda()\n",
    "            query = query.cuda()\n",
    "            answer = answer.cuda()\n",
    "\n",
    "        pred_prob = mem_n2n(story, query)\n",
    "        pred = pred_prob.data.max(1)[1] # max func return (max, argmax)\n",
    "        correct += pred.eq(answer.data).cpu().sum()\n",
    "\n",
    "    acc = correct / len(loader.dataset)\n",
    "    return acc"
   ]
  },
  {
   "cell_type": "markdown",
   "metadata": {},
   "source": [
    "# Train"
   ]
  },
  {
   "cell_type": "code",
   "execution_count": 20,
   "metadata": {
    "ExecuteTime": {
     "start_time": "2017-08-04T22:29:48.244Z"
    },
    "scrolled": false
   },
   "outputs": [
    {
     "name": "stderr",
     "output_type": "stream",
     "text": [
      "  0%|                                                  | 0/100 [00:00<?, ?it/s]C:\\cosmos\\envs\\env1\\lib\\site-packages\\ipykernel_launcher.py:141: UserWarning: Implicit dimension choice for softmax has been deprecated. Change the call to include dim=X as an argument.\n",
      "C:\\cosmos\\envs\\env1\\lib\\site-packages\\ipykernel_launcher.py:198: UserWarning: Implicit dimension choice for softmax has been deprecated. Change the call to include dim=X as an argument.\n",
      "  9%|███▊                                      | 9/100 [00:07<01:12,  1.26it/s]"
     ]
    },
    {
     "name": "stdout",
     "output_type": "stream",
     "text": [
      "Epoch: 10 | Batch Loss: 4.493 | Train Accuracy: 0.03 | Test Accuracy: 0.02\n"
     ]
    },
    {
     "name": "stderr",
     "output_type": "stream",
     "text": [
      " 19%|███████▊                                 | 19/100 [00:16<01:08,  1.19it/s]"
     ]
    },
    {
     "name": "stdout",
     "output_type": "stream",
     "text": [
      "Epoch: 20 | Batch Loss: 4.492 | Train Accuracy: 0.03 | Test Accuracy: 0.02\n"
     ]
    },
    {
     "name": "stderr",
     "output_type": "stream",
     "text": [
      " 29%|███████████▉                             | 29/100 [00:24<01:00,  1.17it/s]"
     ]
    },
    {
     "name": "stdout",
     "output_type": "stream",
     "text": [
      "Epoch: 30 | Batch Loss: 4.495 | Train Accuracy: 0.03 | Test Accuracy: 0.02\n"
     ]
    },
    {
     "name": "stderr",
     "output_type": "stream",
     "text": [
      " 39%|███████████████▉                         | 39/100 [00:33<00:52,  1.15it/s]"
     ]
    },
    {
     "name": "stdout",
     "output_type": "stream",
     "text": [
      "Epoch: 40 | Batch Loss: 4.496 | Train Accuracy: 0.03 | Test Accuracy: 0.02\n"
     ]
    },
    {
     "name": "stderr",
     "output_type": "stream",
     "text": [
      " 49%|████████████████████                     | 49/100 [00:42<00:44,  1.15it/s]"
     ]
    },
    {
     "name": "stdout",
     "output_type": "stream",
     "text": [
      "Epoch: 50 | Batch Loss: 4.497 | Train Accuracy: 0.03 | Test Accuracy: 0.02\n"
     ]
    },
    {
     "name": "stderr",
     "output_type": "stream",
     "text": [
      " 59%|████████████████████████▏                | 59/100 [00:51<00:35,  1.14it/s]"
     ]
    },
    {
     "name": "stdout",
     "output_type": "stream",
     "text": [
      "Epoch: 60 | Batch Loss: 4.503 | Train Accuracy: 0.03 | Test Accuracy: 0.02\n"
     ]
    },
    {
     "name": "stderr",
     "output_type": "stream",
     "text": [
      " 69%|████████████████████████████▎            | 69/100 [01:00<00:27,  1.14it/s]"
     ]
    },
    {
     "name": "stdout",
     "output_type": "stream",
     "text": [
      "Epoch: 70 | Batch Loss: 4.496 | Train Accuracy: 0.03 | Test Accuracy: 0.02\n"
     ]
    },
    {
     "name": "stderr",
     "output_type": "stream",
     "text": [
      " 79%|████████████████████████████████▍        | 79/100 [01:09<00:18,  1.14it/s]"
     ]
    },
    {
     "name": "stdout",
     "output_type": "stream",
     "text": [
      "Epoch: 80 | Batch Loss: 4.497 | Train Accuracy: 0.03 | Test Accuracy: 0.02\n"
     ]
    },
    {
     "name": "stderr",
     "output_type": "stream",
     "text": [
      " 89%|████████████████████████████████████▍    | 89/100 [01:18<00:09,  1.14it/s]"
     ]
    },
    {
     "name": "stdout",
     "output_type": "stream",
     "text": [
      "Epoch: 90 | Batch Loss: 4.498 | Train Accuracy: 0.03 | Test Accuracy: 0.02\n"
     ]
    },
    {
     "name": "stderr",
     "output_type": "stream",
     "text": [
      " 99%|████████████████████████████████████████▌| 99/100 [01:27<00:00,  1.14it/s]"
     ]
    },
    {
     "name": "stdout",
     "output_type": "stream",
     "text": [
      "Epoch: 100 | Batch Loss: 4.491 | Train Accuracy: 0.03 | Test Accuracy: 0.02\n"
     ]
    },
    {
     "name": "stderr",
     "output_type": "stream",
     "text": [
      "100%|████████████████████████████████████████| 100/100 [01:28<00:00,  1.12it/s]\n"
     ]
    }
   ],
   "source": [
    "accuracy_history = []\n",
    "\n",
    "for epoch in tqdm(range(max_epochs)):\n",
    "    \n",
    "    for batch_i, (story, query, answer) in enumerate(train_loader):\n",
    "        story = Variable(story)\n",
    "        query = Variable(query)\n",
    "        answer = Variable(answer)\n",
    "\n",
    "        if cuda:\n",
    "            story = story.cuda()\n",
    "            query = query.cuda()\n",
    "            answer = answer.cuda()\n",
    "\n",
    "\n",
    "        answer_hat = mem_n2n(story, query)\n",
    "        loss = cross_entropy(answer_hat, answer)\n",
    "        \n",
    "        optimizer.zero_grad()\n",
    "        loss.backward()\n",
    "\n",
    "        gradient_noise_and_clip(mem_n2n.parameters(), noise_stddev=1e-3, max_clip=max_clip)\n",
    "        optimizer.step()\n",
    "\n",
    "    decay_learning_rate(optimizer, epoch)\n",
    "\n",
    "    if (epoch+1) % 10 == 0:\n",
    "        train_accuracy = evaluate(\"train\")\n",
    "        test_accuracy = evaluate(\"test\")\n",
    "        print(f\"Epoch: {epoch+1} | Batch Loss: {loss.data[0]:.3f} | Train Accuracy: {train_accuracy:.2f} | Test Accuracy: {test_accuracy:.2f}\")\n",
    "\n",
    "        accuracy_history.append([train_accuracy, test_accuracy])"
   ]
  },
  {
   "cell_type": "code",
   "execution_count": 21,
   "metadata": {
    "ExecuteTime": {
     "start_time": "2017-08-04T22:29:48.247Z"
    }
   },
   "outputs": [
    {
     "data": {
      "image/png": "[encoded data removed]",
      "text/plain": [
       "<Figure size 1080x576 with 1 Axes>"
      ]
     },
     "execution_count": 21,
     "metadata": {},
     "output_type": "execute_result"
    },
    {
     "data": {
      "image/png": "[encoded data removed]",
      "text/plain": [
       "<Figure size 1080x576 with 1 Axes>"
      ]
     },
     "metadata": {},
     "output_type": "display_data"
    }
   ],
   "source": [
    "fig = plt.figure(figsize=(15, 8))\n",
    "plt.plot(range(len(accuracy_history)), accuracy_history)\n",
    "plt.xlabel('Epochs')\n",
    "plt.ylabel('Accuracy')\n",
    "plt.legend(['Training accuracy', 'Test accuracy'])\n",
    "fig"
   ]
  },
  {
   "cell_type": "markdown",
   "metadata": {},
   "source": [
    "# Evaluation"
   ]
  },
  {
   "cell_type": "code",
   "execution_count": 22,
   "metadata": {
    "ExecuteTime": {
     "start_time": "2017-08-04T22:29:48.255Z"
    }
   },
   "outputs": [
    {
     "name": "stderr",
     "output_type": "stream",
     "text": [
      "C:\\cosmos\\envs\\env1\\lib\\site-packages\\ipykernel_launcher.py:141: UserWarning: Implicit dimension choice for softmax has been deprecated. Change the call to include dim=X as an argument.\n",
      "C:\\cosmos\\envs\\env1\\lib\\site-packages\\ipykernel_launcher.py:198: UserWarning: Implicit dimension choice for softmax has been deprecated. Change the call to include dim=X as an argument.\n"
     ]
    },
    {
     "data": {
      "text/plain": [
       "0.021"
      ]
     },
     "execution_count": 22,
     "metadata": {},
     "output_type": "execute_result"
    }
   ],
   "source": [
    "evaluate('test')"
   ]
  }
 ],
 "metadata": {
  "anaconda-cloud": {},
  "kernelspec": {
   "display_name": "Python 3",
   "language": "python",
   "name": "python3"
  },
  "language_info": {
   "codemirror_mode": {
    "name": "ipython",
    "version": 3
   },
   "file_extension": ".py",
   "mimetype": "text/x-python",
   "name": "python",
   "nbconvert_exporter": "python",
   "pygments_lexer": "ipython3",
   "version": "3.6.5"
  },
  "varInspector": {
   "cols": {
    "lenName": 16,
    "lenType": 16,
    "lenVar": 40
   },
   "kernels_config": {
    "python": {
     "delete_cmd_postfix": "",
     "delete_cmd_prefix": "del ",
     "library": "var_list.py",
     "varRefreshCmd": "print(var_dic_list())"
    },
    "r": {
     "delete_cmd_postfix": ") ",
     "delete_cmd_prefix": "rm(",
     "library": "var_list.r",
     "varRefreshCmd": "cat(var_dic_list()) "
    }
   },
   "types_to_exclude": [
    "module",
    "function",
    "builtin_function_or_method",
    "instance",
    "_Feature"
   ],
   "window_display": false
  }
 },
 "nbformat": 4,
 "nbformat_minor": 2
}
