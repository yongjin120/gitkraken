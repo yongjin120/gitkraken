{
 "cells": [
  {
   "cell_type": "markdown",
   "metadata": {},
   "source": [
    "Reference\n",
    "- https://www.lucypark.kr/slides/2014-pyconkr/\n",
    "- https://github.com/danrasband/krtpy\n",
    "- https://github.com/sublee/hangulize\n",
    "- https://github.com/what-studio/tossi\n",
    "- https://github.com/bluedisk/hangul-toolkit\n",
    "- https://github.com/zhangkaiyulw/kroman-py\n",
    "- https://github.com/iki/unidecode\n",
    "- http://findyou.readthedocs.io/ko/latest/dparser.html"
   ]
  },
  {
   "cell_type": "markdown",
   "metadata": {},
   "source": [
    "# Make sure you use Python 3!"
   ]
  },
  {
   "cell_type": "code",
   "execution_count": 1,
   "metadata": {
    "ExecuteTime": {
     "end_time": "2017-07-21T12:51:32.914868Z",
     "start_time": "2017-07-21T12:51:32.885815Z"
    }
   },
   "outputs": [
    {
     "name": "stdout",
     "output_type": "stream",
     "text": [
      "3.6.2 |Continuum Analytics, Inc.| (default, Jul 20 2017, 13:14:59) \n",
      "[GCC 4.2.1 Compatible Apple LLVM 6.0 (clang-600.0.57)]\n"
     ]
    }
   ],
   "source": [
    "import sys\n",
    "print(sys.version)"
   ]
  },
  {
   "cell_type": "markdown",
   "metadata": {},
   "source": [
    "# Hangulization\n",
    "- 영어를 제외한 외국어 => 한글\n",
    "\n",
    "- 영어 => 한글 라이브러리 없음\n",
    "    - https://github.com/danrasband/krtpy (Python3 x)\n",
    "    - https://github.com/muik/transliteration (TensorFlow Seq2Seq... too heavy)"
   ]
  },
  {
   "cell_type": "code",
   "execution_count": 2,
   "metadata": {
    "ExecuteTime": {
     "end_time": "2017-07-21T12:51:32.952820Z",
     "start_time": "2017-07-21T12:51:32.917871Z"
    },
    "collapsed": true
   },
   "outputs": [],
   "source": [
    "from hangulize import hangulize"
   ]
  },
  {
   "cell_type": "code",
   "execution_count": 3,
   "metadata": {
    "ExecuteTime": {
     "end_time": "2017-07-21T12:51:33.016625Z",
     "start_time": "2017-07-21T12:51:32.954828Z"
    }
   },
   "outputs": [
    {
     "data": {
      "text/plain": [
       "'지로 디탈리아'"
      ]
     },
     "execution_count": 3,
     "metadata": {},
     "output_type": "execute_result"
    }
   ],
   "source": [
    "hangulize(u\"Giro d'Italia\", 'ita')"
   ]
  },
  {
   "cell_type": "code",
   "execution_count": 4,
   "metadata": {
    "ExecuteTime": {
     "end_time": "2017-07-21T12:51:33.071975Z",
     "start_time": "2017-07-21T12:51:33.018995Z"
    }
   },
   "outputs": [
    {
     "data": {
      "text/plain": [
       "'오사카'"
      ]
     },
     "execution_count": 4,
     "metadata": {},
     "output_type": "execute_result"
    }
   ],
   "source": [
    "hangulize(u'オオサカ', 'jpn')"
   ]
  },
  {
   "cell_type": "code",
   "execution_count": 5,
   "metadata": {
    "ExecuteTime": {
     "end_time": "2017-07-21T12:51:33.153627Z",
     "start_time": "2017-07-21T12:51:33.075440Z"
    }
   },
   "outputs": [
    {
     "data": {
      "text/plain": [
       "'프시야치우'"
      ]
     },
     "execution_count": 5,
     "metadata": {},
     "output_type": "execute_result"
    }
   ],
   "source": [
    "hangulize(u'przyjaciół', 'pol')"
   ]
  },
  {
   "cell_type": "markdown",
   "metadata": {
    "collapsed": true
   },
   "source": [
    "# Romanization\n",
    "- 한국어 => 영어\n",
    "- 외래어의 보다 자연스러운 처리 가능\n",
    "- 영어를 기반으로 하는 라이브러리를 쓰고자 할 때 사용 가능"
   ]
  },
  {
   "cell_type": "code",
   "execution_count": 6,
   "metadata": {
    "ExecuteTime": {
     "end_time": "2017-07-21T12:51:33.182210Z",
     "start_time": "2017-07-21T12:51:33.155967Z"
    },
    "collapsed": true
   },
   "outputs": [],
   "source": [
    "import kroman"
   ]
  },
  {
   "cell_type": "code",
   "execution_count": 7,
   "metadata": {
    "ExecuteTime": {
     "end_time": "2017-07-21T12:51:33.214307Z",
     "start_time": "2017-07-21T12:51:33.184149Z"
    },
    "scrolled": true
   },
   "outputs": [
    {
     "data": {
      "text/plain": [
       "'son-mog-si-gye'"
      ]
     },
     "execution_count": 7,
     "metadata": {},
     "output_type": "execute_result"
    }
   ],
   "source": [
    "kroman.parse('손목시계')"
   ]
  },
  {
   "cell_type": "code",
   "execution_count": 8,
   "metadata": {
    "ExecuteTime": {
     "end_time": "2017-07-21T12:51:33.244931Z",
     "start_time": "2017-07-21T12:51:33.217396Z"
    }
   },
   "outputs": [
    {
     "data": {
      "text/plain": [
       "'ba-na-na'"
      ]
     },
     "execution_count": 8,
     "metadata": {},
     "output_type": "execute_result"
    }
   ],
   "source": [
    "kroman.parse('바나나')"
   ]
  },
  {
   "cell_type": "code",
   "execution_count": 9,
   "metadata": {
    "ExecuteTime": {
     "end_time": "2017-07-21T12:51:33.274974Z",
     "start_time": "2017-07-21T12:51:33.247609Z"
    }
   },
   "outputs": [
    {
     "data": {
      "text/plain": [
       "'an-nyeong hen-ri?'"
      ]
     },
     "execution_count": 9,
     "metadata": {},
     "output_type": "execute_result"
    }
   ],
   "source": [
    "kroman.parse('안녕 헨리?')"
   ]
  },
  {
   "cell_type": "code",
   "execution_count": 10,
   "metadata": {
    "ExecuteTime": {
     "end_time": "2017-07-21T12:51:33.299306Z",
     "start_time": "2017-07-21T12:51:33.278132Z"
    },
    "collapsed": true
   },
   "outputs": [],
   "source": [
    "# 임의의 단어를 영어로\n",
    "from unidecode import unidecode"
   ]
  },
  {
   "cell_type": "code",
   "execution_count": 11,
   "metadata": {
    "ExecuteTime": {
     "end_time": "2017-07-21T12:51:33.338961Z",
     "start_time": "2017-07-21T12:51:33.301912Z"
    }
   },
   "outputs": [
    {
     "data": {
      "text/plain": [
       "'paeseuteukaempeoseu'"
      ]
     },
     "execution_count": 11,
     "metadata": {},
     "output_type": "execute_result"
    }
   ],
   "source": [
    "unidecode('패스트캠퍼스')"
   ]
  },
  {
   "cell_type": "code",
   "execution_count": 12,
   "metadata": {
    "ExecuteTime": {
     "end_time": "2017-07-21T12:51:33.374400Z",
     "start_time": "2017-07-21T12:51:33.341596Z"
    }
   },
   "outputs": [
    {
     "data": {
      "text/plain": [
       "'aiseukeurim meoggo sipda'"
      ]
     },
     "execution_count": 12,
     "metadata": {},
     "output_type": "execute_result"
    }
   ],
   "source": [
    "unidecode('아이스크림 먹고 싶다')"
   ]
  },
  {
   "cell_type": "markdown",
   "metadata": {},
   "source": [
    "# 조사 선택\n",
    "- 명사/동사만으로 문장을 보다 매끄럽게 하고자 할 때"
   ]
  },
  {
   "cell_type": "code",
   "execution_count": 13,
   "metadata": {
    "ExecuteTime": {
     "end_time": "2017-07-21T12:51:33.421393Z",
     "start_time": "2017-07-21T12:51:33.376517Z"
    },
    "collapsed": true
   },
   "outputs": [],
   "source": [
    "import tossi"
   ]
  },
  {
   "cell_type": "code",
   "execution_count": 14,
   "metadata": {
    "ExecuteTime": {
     "end_time": "2017-07-21T12:51:33.445496Z",
     "start_time": "2017-07-21T12:51:33.424130Z"
    }
   },
   "outputs": [
    {
     "data": {
      "text/plain": [
       "'는'"
      ]
     },
     "execution_count": 14,
     "metadata": {},
     "output_type": "execute_result"
    }
   ],
   "source": [
    "tossi.pick('김치', '은')"
   ]
  },
  {
   "cell_type": "code",
   "execution_count": 15,
   "metadata": {
    "ExecuteTime": {
     "end_time": "2017-07-21T12:51:33.471490Z",
     "start_time": "2017-07-21T12:51:33.447345Z"
    }
   },
   "outputs": [
    {
     "data": {
      "text/plain": [
       "'집으로'"
      ]
     },
     "execution_count": 15,
     "metadata": {},
     "output_type": "execute_result"
    }
   ],
   "source": [
    "tossi.postfix('집', '으로')"
   ]
  },
  {
   "cell_type": "code",
   "execution_count": 16,
   "metadata": {
    "ExecuteTime": {
     "end_time": "2017-07-21T12:51:33.497900Z",
     "start_time": "2017-07-21T12:51:33.473662Z"
    }
   },
   "outputs": [
    {
     "data": {
      "text/plain": [
       "<Particle: 은(는)>"
      ]
     },
     "execution_count": 16,
     "metadata": {},
     "output_type": "execute_result"
    }
   ],
   "source": [
    "eun = tossi.parse('은')\n",
    "eun"
   ]
  },
  {
   "cell_type": "code",
   "execution_count": 17,
   "metadata": {
    "ExecuteTime": {
     "end_time": "2017-07-21T12:51:33.520420Z",
     "start_time": "2017-07-21T12:51:33.500093Z"
    }
   },
   "outputs": [
    {
     "data": {
      "text/plain": [
       "'는'"
      ]
     },
     "execution_count": 17,
     "metadata": {},
     "output_type": "execute_result"
    }
   ],
   "source": [
    "eun['김치']"
   ]
  },
  {
   "cell_type": "markdown",
   "metadata": {
    "ExecuteTime": {
     "end_time": "2017-07-21T11:59:20.946005Z",
     "start_time": "2017-07-21T11:59:20.926080Z"
    }
   },
   "source": [
    "ex) 주어 + 목적어 + 좋아한다"
   ]
  },
  {
   "cell_type": "code",
   "execution_count": 18,
   "metadata": {
    "ExecuteTime": {
     "end_time": "2017-07-21T12:51:33.550709Z",
     "start_time": "2017-07-21T12:51:33.522068Z"
    },
    "collapsed": true
   },
   "outputs": [],
   "source": [
    "words1 = ['나', '사탕', '먹고있다']\n",
    "words2 = ['저', '복숭아', '좋아해요']"
   ]
  },
  {
   "cell_type": "code",
   "execution_count": 19,
   "metadata": {
    "ExecuteTime": {
     "end_time": "2017-07-21T12:51:33.575418Z",
     "start_time": "2017-07-21T12:51:33.553634Z"
    },
    "collapsed": true
   },
   "outputs": [],
   "source": [
    "def combiner(words):\n",
    "    w1, w2, w3 = words\n",
    "    return \" \".join([tossi.postfix(w1, '은'), tossi.postfix(w2, '을'), w3])"
   ]
  },
  {
   "cell_type": "code",
   "execution_count": 20,
   "metadata": {
    "ExecuteTime": {
     "end_time": "2017-07-21T12:51:33.631279Z",
     "start_time": "2017-07-21T12:51:33.577406Z"
    }
   },
   "outputs": [
    {
     "data": {
      "text/plain": [
       "'나는 사탕을 먹고있다'"
      ]
     },
     "execution_count": 20,
     "metadata": {},
     "output_type": "execute_result"
    }
   ],
   "source": [
    "combiner(words1)"
   ]
  },
  {
   "cell_type": "code",
   "execution_count": 21,
   "metadata": {
    "ExecuteTime": {
     "end_time": "2017-07-21T12:51:33.682533Z",
     "start_time": "2017-07-21T12:51:33.640579Z"
    }
   },
   "outputs": [
    {
     "data": {
      "text/plain": [
       "'저는 복숭아를 좋아해요'"
      ]
     },
     "execution_count": 21,
     "metadata": {},
     "output_type": "execute_result"
    }
   ],
   "source": [
    "combiner(words2)"
   ]
  },
  {
   "cell_type": "markdown",
   "metadata": {},
   "source": [
    "# hangul-toolkit"
   ]
  },
  {
   "cell_type": "code",
   "execution_count": 22,
   "metadata": {
    "ExecuteTime": {
     "end_time": "2017-07-21T12:51:33.715207Z",
     "start_time": "2017-07-21T12:51:33.685334Z"
    },
    "collapsed": true
   },
   "outputs": [],
   "source": [
    "import hgtk"
   ]
  },
  {
   "cell_type": "markdown",
   "metadata": {},
   "source": [
    "## Compose/Decompose\n",
    "- 초성, 중성, 종성 합성 및 분리"
   ]
  },
  {
   "cell_type": "code",
   "execution_count": 23,
   "metadata": {
    "ExecuteTime": {
     "end_time": "2017-07-21T12:51:33.763420Z",
     "start_time": "2017-07-21T12:51:33.717712Z"
    }
   },
   "outputs": [
    {
     "data": {
      "text/plain": [
       "('ㄱ', 'ㅏ', 'ㅁ')"
      ]
     },
     "execution_count": 23,
     "metadata": {},
     "output_type": "execute_result"
    }
   ],
   "source": [
    "hgtk.letter.decompose(\"감\")"
   ]
  },
  {
   "cell_type": "code",
   "execution_count": 24,
   "metadata": {
    "ExecuteTime": {
     "end_time": "2017-07-21T12:51:33.799608Z",
     "start_time": "2017-07-21T12:51:33.765873Z"
    }
   },
   "outputs": [
    {
     "data": {
      "text/plain": [
       "'감'"
      ]
     },
     "execution_count": 24,
     "metadata": {},
     "output_type": "execute_result"
    }
   ],
   "source": [
    "hgtk.letter.compose(*hgtk.letter.decompose(\"감\"))"
   ]
  },
  {
   "cell_type": "code",
   "execution_count": 25,
   "metadata": {
    "ExecuteTime": {
     "end_time": "2017-07-21T12:51:33.829092Z",
     "start_time": "2017-07-21T12:51:33.804417Z"
    }
   },
   "outputs": [
    {
     "data": {
      "text/plain": [
       "'ㅎㅏㄱᴥㄱㅛᴥㅈㅗㅇᴥㅇㅣᴥ ㄸㅐㅇᴥㄸㅐㅇᴥㄸㅐㅇᴥ! hello world 1234567890 ㅋᴥㅋᴥ!'"
      ]
     },
     "execution_count": 25,
     "metadata": {},
     "output_type": "execute_result"
    }
   ],
   "source": [
    "hgtk.text.decompose(\"학교종이 땡땡땡! hello world 1234567890 ㅋㅋ!\") # ᴥ: whitespace"
   ]
  },
  {
   "cell_type": "code",
   "execution_count": 26,
   "metadata": {
    "ExecuteTime": {
     "end_time": "2017-07-21T12:51:33.866448Z",
     "start_time": "2017-07-21T12:51:33.837223Z"
    }
   },
   "outputs": [
    {
     "data": {
      "text/plain": [
       "'학 교 종이 땡 땡 때ㅇ 땡'"
      ]
     },
     "execution_count": 26,
     "metadata": {},
     "output_type": "execute_result"
    }
   ],
   "source": [
    "hgtk.text.compose('ㅎㅏㄱ 교 종이 땡 ㄸㅐㅇ 때ㅇ 땡')"
   ]
  },
  {
   "cell_type": "markdown",
   "metadata": {},
   "source": [
    "## Checker\n",
    "- 한글인지/한자인지/외래어인지/영어인지/받침이 있는지 체크"
   ]
  },
  {
   "cell_type": "code",
   "execution_count": 27,
   "metadata": {
    "ExecuteTime": {
     "end_time": "2017-07-21T12:51:33.905053Z",
     "start_time": "2017-07-21T12:51:33.869382Z"
    }
   },
   "outputs": [
    {
     "data": {
      "text/plain": [
       "True"
      ]
     },
     "execution_count": 27,
     "metadata": {},
     "output_type": "execute_result"
    }
   ],
   "source": [
    "hgtk.checker.is_hangul('한글입니다')"
   ]
  },
  {
   "cell_type": "code",
   "execution_count": 28,
   "metadata": {
    "ExecuteTime": {
     "end_time": "2017-07-21T12:51:33.934270Z",
     "start_time": "2017-07-21T12:51:33.908467Z"
    }
   },
   "outputs": [
    {
     "data": {
      "text/plain": [
       "False"
      ]
     },
     "execution_count": 28,
     "metadata": {},
     "output_type": "execute_result"
    }
   ],
   "source": [
    "hgtk.checker.is_hangul('no한글입니다')"
   ]
  },
  {
   "cell_type": "code",
   "execution_count": 29,
   "metadata": {
    "ExecuteTime": {
     "end_time": "2017-07-21T12:51:33.975106Z",
     "start_time": "2017-07-21T12:51:33.939281Z"
    }
   },
   "outputs": [
    {
     "data": {
      "text/plain": [
       "True"
      ]
     },
     "execution_count": 29,
     "metadata": {},
     "output_type": "execute_result"
    }
   ],
   "source": [
    "hgtk.checker.has_batchim('한')"
   ]
  },
  {
   "cell_type": "code",
   "execution_count": 30,
   "metadata": {
    "ExecuteTime": {
     "end_time": "2017-07-21T12:51:34.015083Z",
     "start_time": "2017-07-21T12:51:33.977042Z"
    }
   },
   "outputs": [
    {
     "data": {
      "text/plain": [
       "False"
      ]
     },
     "execution_count": 30,
     "metadata": {},
     "output_type": "execute_result"
    }
   ],
   "source": [
    "hgtk.checker.has_batchim('하')"
   ]
  },
  {
   "cell_type": "code",
   "execution_count": 31,
   "metadata": {
    "ExecuteTime": {
     "end_time": "2017-07-21T12:51:34.043948Z",
     "start_time": "2017-07-21T12:51:34.020022Z"
    }
   },
   "outputs": [
    {
     "data": {
      "text/plain": [
       "True"
      ]
     },
     "execution_count": 31,
     "metadata": {},
     "output_type": "execute_result"
    }
   ],
   "source": [
    "hgtk.checker.is_latin1('abcdefghijklmnopqrstuvwxyz')"
   ]
  },
  {
   "cell_type": "code",
   "execution_count": 32,
   "metadata": {
    "ExecuteTime": {
     "end_time": "2017-07-21T12:51:34.107353Z",
     "start_time": "2017-07-21T12:51:34.047717Z"
    }
   },
   "outputs": [
    {
     "name": "stdout",
     "output_type": "stream",
     "text": [
      "리오넬 메시\n"
     ]
    }
   ],
   "source": [
    "messi = 'Lionel Messi'\n",
    "if hgtk.checker.is_latin1(messi):\n",
    "    print(hangulize(messi, 'spa'))"
   ]
  },
  {
   "cell_type": "markdown",
   "metadata": {},
   "source": [
    "#### by Lucy Park (https://www.lucypark.kr/slides/2014-pyconkr/#32)\n",
    "\n",
    "한자, 한글, 영문이 섞여 있는 경우 Multilingual NLP에서 제안하는 다양한 접근법이 있습니다.\n",
    "\n",
    "간단한 꼼수 한 가지는: \"한자 전처리, 영문 후처리\"\n",
    "\n",
    "- 한자는 transliterate하고 (ex: '丁新闻' -> 정신문)\n",
    "- 한국어 처리를 한 후에 (ex: POS tagging)\n",
    "- 영문으로 분류된 tag에 한해 따로 stemming 등을 거침"
   ]
  },
  {
   "cell_type": "code",
   "execution_count": 42,
   "metadata": {
    "ExecuteTime": {
     "end_time": "2017-07-21T12:56:15.533000Z",
     "start_time": "2017-07-21T12:56:14.738713Z"
    },
    "collapsed": true
   },
   "outputs": [],
   "source": [
    "import nltk\n",
    "stemmer = nltk.stem.SnowballStemmer('english')"
   ]
  },
  {
   "cell_type": "code",
   "execution_count": 35,
   "metadata": {
    "ExecuteTime": {
     "end_time": "2017-07-21T12:51:36.028587Z",
     "start_time": "2017-07-21T12:51:35.992746Z"
    },
    "collapsed": true
   },
   "outputs": [],
   "source": [
    "from konlpy.tag import Twitter\n",
    "twitter = Twitter()"
   ]
  },
  {
   "cell_type": "code",
   "execution_count": 65,
   "metadata": {
    "ExecuteTime": {
     "end_time": "2017-07-21T13:06:10.209532Z",
     "start_time": "2017-07-21T13:06:10.176956Z"
    },
    "collapsed": true
   },
   "outputs": [],
   "source": [
    "sentence = 'Recurrent Neural Network 가 뭐하는 건가요?'"
   ]
  },
  {
   "cell_type": "code",
   "execution_count": 70,
   "metadata": {
    "ExecuteTime": {
     "end_time": "2017-07-21T13:13:42.093762Z",
     "start_time": "2017-07-21T13:13:42.046572Z"
    },
    "collapsed": true
   },
   "outputs": [],
   "source": [
    "def en_kr_tokenizer(sentence):\n",
    "    out_words = []\n",
    "    words = twitter.pos(sentence)\n",
    "    for word, pos in words:\n",
    "        if hgtk.checker.is_latin1(word) or pos == 'Alpha':\n",
    "            word = stemmer.stem(word)\n",
    "        out_words.append(word)\n",
    "    return out_words"
   ]
  },
  {
   "cell_type": "code",
   "execution_count": 71,
   "metadata": {
    "ExecuteTime": {
     "end_time": "2017-07-21T13:13:57.070526Z",
     "start_time": "2017-07-21T13:13:56.995681Z"
    }
   },
   "outputs": [
    {
     "data": {
      "text/plain": [
       "['recurr', 'neural', 'network', '가', '뭐', '하는', '건가', '요', '?']"
      ]
     },
     "execution_count": 71,
     "metadata": {},
     "output_type": "execute_result"
    }
   ],
   "source": [
    "en_kr_tokenizer(sentence)"
   ]
  },
  {
   "cell_type": "markdown",
   "metadata": {},
   "source": [
    "# Parser (구문분석)\n",
    "- [dparser](http://findyou.readthedocs.io/ko/latest/dparser.html)\n",
    "- [SyntaxNet](https://github.com/tensorflow/models/tree/master/syntaxnet) + [Sejong Corpus](https://ithub.korean.go.kr) + a"
   ]
  },
  {
   "cell_type": "code",
   "execution_count": 1,
   "metadata": {
    "ExecuteTime": {
     "end_time": "2017-07-25T12:58:26.900153Z",
     "start_time": "2017-07-25T12:58:26.755451Z"
    },
    "collapsed": true
   },
   "outputs": [],
   "source": [
    "import requests\n",
    "import json"
   ]
  },
  {
   "cell_type": "code",
   "execution_count": 2,
   "metadata": {
    "ExecuteTime": {
     "end_time": "2017-07-25T12:58:28.672610Z",
     "start_time": "2017-07-25T12:58:28.653760Z"
    },
    "collapsed": true
   },
   "outputs": [],
   "source": [
    "def parse(sentence):\n",
    "    dparser_url = 'http://parser.datanada.com/parse?version=1&string='\n",
    "    response = requests.get(dparser_url+sentence)\n",
    "    return json.loads(response.text)"
   ]
  },
  {
   "cell_type": "code",
   "execution_count": 3,
   "metadata": {
    "ExecuteTime": {
     "end_time": "2017-07-25T12:58:30.185175Z",
     "start_time": "2017-07-25T12:58:30.113814Z"
    },
    "scrolled": true
   },
   "outputs": [
    {
     "data": {
      "text/plain": [
       "[{'deprel': 'VP', 'form': '안녕', 'head': '4', 'id': '1', 'pos': 'NNG'},\n",
       " {'deprel': 'VP', 'form': '하', 'head': '1', 'id': '2', 'pos': 'XSA'},\n",
       " {'deprel': 'VP', 'form': '세요', 'head': '2', 'id': '3', 'pos': 'EP+EC'},\n",
       " {'deprel': 'ROOT', 'form': '반갑', 'head': '0', 'id': '4', 'pos': 'VA'},\n",
       " {'deprel': 'VP', 'form': '습니다', 'head': '4', 'id': '5', 'pos': 'EF'},\n",
       " {'deprel': 'VP', 'form': '.', 'head': '5', 'id': '6', 'pos': 'SF'}]"
      ]
     },
     "execution_count": 3,
     "metadata": {},
     "output_type": "execute_result"
    }
   ],
   "source": [
    "parse(\"안녕하세요 반갑습니다.\")"
   ]
  },
  {
   "cell_type": "markdown",
   "metadata": {},
   "source": [
    "# etc.\n",
    "\n",
    "- Curated list of Korean NLP https://github.com/datanada/Awesome-Korean-NLP\n",
    "- 국민대 강승식 교수님 형태소 분석기 http://nlp.kookmin.ac.kr/HAM/kor/\n",
    "- 울산대 형태소 분석기 http://nlplab.ulsan.ac.kr/doku.php?id=utagger\n",
    "- Rouzeta https://shleekr.github.io/"
   ]
  }
 ],
 "metadata": {
  "anaconda-cloud": {},
  "kernelspec": {
   "display_name": "Python [conda env:hangul]",
   "language": "python",
   "name": "conda-env-hangul-py"
  },
  "language_info": {
   "codemirror_mode": {
    "name": "ipython",
    "version": 3
   },
   "file_extension": ".py",
   "mimetype": "text/x-python",
   "name": "python",
   "nbconvert_exporter": "python",
   "pygments_lexer": "ipython3",
   "version": "3.6.2"
  },
  "varInspector": {
   "cols": {
    "lenName": 16,
    "lenType": 16,
    "lenVar": 40
   },
   "kernels_config": {
    "python": {
     "delete_cmd_postfix": "",
     "delete_cmd_prefix": "del ",
     "library": "var_list.py",
     "varRefreshCmd": "print(var_dic_list())"
    },
    "r": {
     "delete_cmd_postfix": ") ",
     "delete_cmd_prefix": "rm(",
     "library": "var_list.r",
     "varRefreshCmd": "cat(var_dic_list()) "
    }
   },
   "types_to_exclude": [
    "module",
    "function",
    "builtin_function_or_method",
    "instance",
    "_Feature"
   ],
   "window_display": false
  }
 },
 "nbformat": 4,
 "nbformat_minor": 2
}
