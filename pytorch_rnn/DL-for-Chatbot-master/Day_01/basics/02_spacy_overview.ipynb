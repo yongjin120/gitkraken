{
 "cells": [
  {
   "cell_type": "markdown",
   "metadata": {},
   "source": [
    "Reference:\n",
    "- https://spacy.io/docs/usage/"
   ]
  },
  {
   "cell_type": "code",
   "execution_count": 1,
   "metadata": {
    "ExecuteTime": {
     "end_time": "2017-07-25T11:43:52.956919Z",
     "start_time": "2017-07-25T11:43:52.649974Z"
    },
    "collapsed": true
   },
   "outputs": [],
   "source": [
    "import spacy"
   ]
  },
  {
   "cell_type": "markdown",
   "metadata": {},
   "source": [
    "# Load Language engine"
   ]
  },
  {
   "cell_type": "markdown",
   "metadata": {},
   "source": [
    "## First, you need to select Language and load engine of the language. This might take time (~15s).\n",
    "- If you are using spacy for the first time, you have to download via `python -m spacy download en`.\n",
    "- You can customize your pipeline via giving custom modules via keyword arguments"
   ]
  },
  {
   "cell_type": "code",
   "execution_count": 2,
   "metadata": {
    "ExecuteTime": {
     "end_time": "2017-07-25T11:44:11.441753Z",
     "start_time": "2017-07-25T11:44:01.845042Z"
    },
    "collapsed": true
   },
   "outputs": [],
   "source": [
    "nlp = spacy.load('en')"
   ]
  },
  {
   "cell_type": "code",
   "execution_count": 1,
   "metadata": {
    "ExecuteTime": {
     "end_time": "2017-08-18T05:09:27.021685Z",
     "start_time": "2017-08-18T05:09:27.006710Z"
    },
    "collapsed": true
   },
   "outputs": [],
   "source": [
    "sentence = 'New York city is located east side of America.'"
   ]
  },
  {
   "cell_type": "markdown",
   "metadata": {},
   "source": [
    "## That's it! 'nlp' engine already processed all the nlp stuffs"
   ]
  },
  {
   "cell_type": "code",
   "execution_count": 4,
   "metadata": {
    "ExecuteTime": {
     "end_time": "2017-07-25T11:44:54.016445Z",
     "start_time": "2017-07-25T11:44:53.985078Z"
    }
   },
   "outputs": [
    {
     "data": {
      "text/plain": [
       "New York city is located east side of America."
      ]
     },
     "execution_count": 4,
     "metadata": {},
     "output_type": "execute_result"
    }
   ],
   "source": [
    "nlp(sentence)"
   ]
  },
  {
   "cell_type": "markdown",
   "metadata": {},
   "source": [
    "# Brief overview of Tagging schema"
   ]
  },
  {
   "cell_type": "code",
   "execution_count": 5,
   "metadata": {
    "ExecuteTime": {
     "end_time": "2017-07-25T11:45:18.076164Z",
     "start_time": "2017-07-25T11:45:18.055353Z"
    }
   },
   "outputs": [
    {
     "name": "stdout",
     "output_type": "stream",
     "text": [
      "New\n",
      "York\n",
      "city\n",
      "is\n",
      "located\n",
      "east\n",
      "side\n",
      "of\n",
      "America\n",
      ".\n"
     ]
    }
   ],
   "source": [
    "for token in nlp(sentence):\n",
    "    print(token)"
   ]
  },
  {
   "cell_type": "code",
   "execution_count": 7,
   "metadata": {
    "ExecuteTime": {
     "end_time": "2017-07-25T11:45:46.747708Z",
     "start_time": "2017-07-25T11:45:46.719164Z"
    }
   },
   "outputs": [
    {
     "data": {
      "text/plain": [
       "New"
      ]
     },
     "execution_count": 7,
     "metadata": {},
     "output_type": "execute_result"
    }
   ],
   "source": [
    "token = nlp(sentence)[0]\n",
    "token"
   ]
  },
  {
   "cell_type": "code",
   "execution_count": 8,
   "metadata": {
    "ExecuteTime": {
     "end_time": "2017-07-25T11:45:46.970319Z",
     "start_time": "2017-07-25T11:45:46.944154Z"
    }
   },
   "outputs": [
    {
     "data": {
      "text/plain": [
       "spacy.tokens.token.Token"
      ]
     },
     "execution_count": 8,
     "metadata": {},
     "output_type": "execute_result"
    }
   ],
   "source": [
    "type(token)"
   ]
  },
  {
   "cell_type": "code",
   "execution_count": 9,
   "metadata": {
    "ExecuteTime": {
     "end_time": "2017-07-25T11:45:48.805004Z",
     "start_time": "2017-07-25T11:45:48.787375Z"
    }
   },
   "outputs": [
    {
     "data": {
      "text/plain": [
       "'new'"
      ]
     },
     "execution_count": 9,
     "metadata": {},
     "output_type": "execute_result"
    }
   ],
   "source": [
    "token.lemma_"
   ]
  },
  {
   "cell_type": "code",
   "execution_count": 10,
   "metadata": {
    "ExecuteTime": {
     "end_time": "2017-07-25T11:45:57.187436Z",
     "start_time": "2017-07-25T11:45:57.169783Z"
    }
   },
   "outputs": [
    {
     "data": {
      "text/plain": [
       "False"
      ]
     },
     "execution_count": 10,
     "metadata": {},
     "output_type": "execute_result"
    }
   ],
   "source": [
    "token.is_digit"
   ]
  },
  {
   "cell_type": "code",
   "execution_count": 11,
   "metadata": {
    "ExecuteTime": {
     "end_time": "2017-07-25T11:45:58.745810Z",
     "start_time": "2017-07-25T11:45:58.730202Z"
    }
   },
   "outputs": [
    {
     "data": {
      "text/plain": [
       "True"
      ]
     },
     "execution_count": 11,
     "metadata": {},
     "output_type": "execute_result"
    }
   ],
   "source": [
    "token.is_alpha"
   ]
  },
  {
   "cell_type": "code",
   "execution_count": 12,
   "metadata": {
    "ExecuteTime": {
     "end_time": "2017-07-25T11:46:12.066121Z",
     "start_time": "2017-07-25T11:46:12.049573Z"
    }
   },
   "outputs": [
    {
     "data": {
      "text/plain": [
       "False"
      ]
     },
     "execution_count": 12,
     "metadata": {},
     "output_type": "execute_result"
    }
   ],
   "source": [
    "token.is_oov"
   ]
  },
  {
   "cell_type": "code",
   "execution_count": 13,
   "metadata": {
    "ExecuteTime": {
     "end_time": "2017-07-25T11:46:19.199927Z",
     "start_time": "2017-07-25T11:46:19.184931Z"
    }
   },
   "outputs": [
    {
     "data": {
      "text/plain": [
       "True"
      ]
     },
     "execution_count": 13,
     "metadata": {},
     "output_type": "execute_result"
    }
   ],
   "source": [
    "token.is_title"
   ]
  },
  {
   "cell_type": "code",
   "execution_count": 14,
   "metadata": {
    "ExecuteTime": {
     "end_time": "2017-07-25T11:46:48.011285Z",
     "start_time": "2017-07-25T11:46:47.994234Z"
    }
   },
   "outputs": [
    {
     "data": {
      "text/plain": [
       "False"
      ]
     },
     "execution_count": 14,
     "metadata": {},
     "output_type": "execute_result"
    }
   ],
   "source": [
    "token.is_stop"
   ]
  },
  {
   "cell_type": "code",
   "execution_count": 15,
   "metadata": {
    "ExecuteTime": {
     "end_time": "2017-07-25T11:47:04.337961Z",
     "start_time": "2017-07-25T11:47:04.308573Z"
    }
   },
   "outputs": [
    {
     "name": "stdout",
     "output_type": "stream",
     "text": [
      "New New\n",
      "York York\n",
      "city city\n",
      "is is\n",
      "located located\n",
      "east east\n",
      "side side\n",
      "of of\n",
      "America America\n",
      ". .\n"
     ]
    }
   ],
   "source": [
    "for token in nlp(sentence):\n",
    "    print(token, token.text)"
   ]
  },
  {
   "cell_type": "markdown",
   "metadata": {},
   "source": [
    "## Tag"
   ]
  },
  {
   "cell_type": "code",
   "execution_count": 17,
   "metadata": {
    "ExecuteTime": {
     "end_time": "2017-07-25T11:47:27.024885Z",
     "start_time": "2017-07-25T11:47:26.994293Z"
    },
    "scrolled": false
   },
   "outputs": [
    {
     "name": "stdout",
     "output_type": "stream",
     "text": [
      "New NNP\n",
      "York NNP\n",
      "city NN\n",
      "is VBZ\n",
      "located VBN\n",
      "east JJ\n",
      "side NN\n",
      "of IN\n",
      "America NNP\n",
      ". .\n"
     ]
    }
   ],
   "source": [
    "for token in nlp(sentence):\n",
    "    print(token, token.tag_)"
   ]
  },
  {
   "cell_type": "markdown",
   "metadata": {},
   "source": [
    "## Part-of-speech"
   ]
  },
  {
   "cell_type": "code",
   "execution_count": 18,
   "metadata": {
    "ExecuteTime": {
     "end_time": "2017-07-25T11:48:08.002414Z",
     "start_time": "2017-07-25T11:48:07.974388Z"
    }
   },
   "outputs": [
    {
     "name": "stdout",
     "output_type": "stream",
     "text": [
      "New PROPN\n",
      "York PROPN\n",
      "city NOUN\n",
      "is VERB\n",
      "located VERB\n",
      "east ADJ\n",
      "side NOUN\n",
      "of ADP\n",
      "America PROPN\n",
      ". PUNCT\n"
     ]
    }
   ],
   "source": [
    "for word in nlp(sentence):\n",
    "    print(word.text, word.pos_)"
   ]
  },
  {
   "cell_type": "markdown",
   "metadata": {},
   "source": [
    "## All at once!"
   ]
  },
  {
   "cell_type": "code",
   "execution_count": 19,
   "metadata": {
    "ExecuteTime": {
     "end_time": "2017-07-25T11:48:16.856439Z",
     "start_time": "2017-07-25T11:48:16.829565Z"
    },
    "scrolled": true
   },
   "outputs": [
    {
     "name": "stdout",
     "output_type": "stream",
     "text": [
      "New 652 new 441 NNP 93 PROPN\n",
      "York 19784 york 441 NNP 93 PROPN\n",
      "city 1210 city 440 NN 89 NOUN\n",
      "is 488 be 459 VBZ 97 VERB\n",
      "located 14550 locate 457 VBN 97 VERB\n",
      "east 3462 east 433 JJ 82 ADJ\n",
      "side 850 side 440 NN 89 NOUN\n",
      "of 471 of 432 IN 83 ADP\n",
      "America 6413 america 441 NNP 93 PROPN\n",
      ". 419 . 419 . 94 PUNCT\n"
     ]
    }
   ],
   "source": [
    "for word in nlp(sentence):\n",
    "    print(word.text, word.lemma, word.lemma_, word.tag, word.tag_, word.pos, word.pos_)"
   ]
  },
  {
   "cell_type": "markdown",
   "metadata": {},
   "source": [
    "# Vocabulary"
   ]
  },
  {
   "cell_type": "code",
   "execution_count": 20,
   "metadata": {
    "ExecuteTime": {
     "end_time": "2017-07-25T11:48:24.340532Z",
     "start_time": "2017-07-25T11:48:24.315208Z"
    }
   },
   "outputs": [
    {
     "data": {
      "text/plain": [
       "<spacy.vocab.Vocab at 0x10e4f7048>"
      ]
     },
     "execution_count": 20,
     "metadata": {},
     "output_type": "execute_result"
    }
   ],
   "source": [
    "nlp.vocab"
   ]
  },
  {
   "cell_type": "code",
   "execution_count": 21,
   "metadata": {
    "ExecuteTime": {
     "end_time": "2017-07-25T11:48:25.112847Z",
     "start_time": "2017-07-25T11:48:25.096443Z"
    }
   },
   "outputs": [
    {
     "data": {
      "text/plain": [
       "'en'"
      ]
     },
     "execution_count": 21,
     "metadata": {},
     "output_type": "execute_result"
    }
   ],
   "source": [
    "nlp.vocab.lang"
   ]
  },
  {
   "cell_type": "code",
   "execution_count": 22,
   "metadata": {
    "ExecuteTime": {
     "end_time": "2017-07-25T11:48:29.434434Z",
     "start_time": "2017-07-25T11:48:29.412792Z"
    }
   },
   "outputs": [
    {
     "data": {
      "text/plain": [
       "1297536"
      ]
     },
     "execution_count": 22,
     "metadata": {},
     "output_type": "execute_result"
    }
   ],
   "source": [
    "len(nlp.vocab) # vocab size"
   ]
  },
  {
   "cell_type": "code",
   "execution_count": 21,
   "metadata": {
    "ExecuteTime": {
     "end_time": "2017-07-25T08:12:26.813077Z",
     "start_time": "2017-07-25T08:12:26.769648Z"
    }
   },
   "outputs": [
    {
     "data": {
      "text/plain": [
       "1297536"
      ]
     },
     "execution_count": 21,
     "metadata": {},
     "output_type": "execute_result"
    }
   ],
   "source": [
    "nlp.vocab.length # vocab size"
   ]
  },
  {
   "cell_type": "code",
   "execution_count": 23,
   "metadata": {
    "ExecuteTime": {
     "end_time": "2017-07-25T11:49:21.991785Z",
     "start_time": "2017-07-25T11:49:21.973601Z"
    },
    "collapsed": true
   },
   "outputs": [],
   "source": [
    "banana = nlp.vocab['banana']"
   ]
  },
  {
   "cell_type": "code",
   "execution_count": 24,
   "metadata": {
    "ExecuteTime": {
     "end_time": "2017-07-25T11:49:26.521219Z",
     "start_time": "2017-07-25T11:49:26.503352Z"
    }
   },
   "outputs": [
    {
     "data": {
      "text/plain": [
       "'banana'"
      ]
     },
     "execution_count": 24,
     "metadata": {},
     "output_type": "execute_result"
    }
   ],
   "source": [
    "banana.lower_"
   ]
  },
  {
   "cell_type": "markdown",
   "metadata": {},
   "source": [
    "# Word Vectors\n",
    "\n",
    "- Default: GloVe\n",
    "- If you need to train a word2vec model, I recommend Gensim."
   ]
  },
  {
   "cell_type": "code",
   "execution_count": 25,
   "metadata": {
    "ExecuteTime": {
     "end_time": "2017-07-25T11:49:46.802472Z",
     "start_time": "2017-07-25T11:49:46.775301Z"
    }
   },
   "outputs": [
    {
     "data": {
      "text/plain": [
       "'New York city is located east side of America.'"
      ]
     },
     "execution_count": 25,
     "metadata": {},
     "output_type": "execute_result"
    }
   ],
   "source": [
    "sentence"
   ]
  },
  {
   "cell_type": "code",
   "execution_count": 27,
   "metadata": {
    "ExecuteTime": {
     "end_time": "2017-07-25T11:50:05.822583Z",
     "start_time": "2017-07-25T11:50:05.792366Z"
    },
    "scrolled": true
   },
   "outputs": [
    {
     "name": "stdout",
     "output_type": "stream",
     "text": [
      "New 300\n",
      "York 300\n",
      "city 300\n",
      "is 300\n",
      "located 300\n",
      "east 300\n",
      "side 300\n",
      "of 300\n",
      "America 300\n",
      ". 300\n"
     ]
    }
   ],
   "source": [
    "for token in nlp(sentence):\n",
    "    print(token, len(token.vector))"
   ]
  },
  {
   "cell_type": "code",
   "execution_count": 25,
   "metadata": {
    "ExecuteTime": {
     "end_time": "2017-07-25T08:12:27.061032Z",
     "start_time": "2017-07-25T08:12:27.035332Z"
    }
   },
   "outputs": [
    {
     "name": "stdout",
     "output_type": "stream",
     "text": [
      "apple\n",
      ",\n",
      "peach\n",
      ",\n",
      "banana\n",
      "and\n",
      "orange\n"
     ]
    }
   ],
   "source": [
    "for token in nlp('apple, peach, banana and orange'):\n",
    "    print(token)"
   ]
  },
  {
   "cell_type": "code",
   "execution_count": 28,
   "metadata": {
    "ExecuteTime": {
     "end_time": "2017-07-25T11:50:36.516812Z",
     "start_time": "2017-07-25T11:50:36.492096Z"
    },
    "collapsed": true,
    "scrolled": false
   },
   "outputs": [],
   "source": [
    "apple, _, peach, _, banana, and_, orange = nlp('apple, peach, banana and orange')"
   ]
  },
  {
   "cell_type": "code",
   "execution_count": 29,
   "metadata": {
    "ExecuteTime": {
     "end_time": "2017-07-25T11:50:38.261182Z",
     "start_time": "2017-07-25T11:50:38.244174Z"
    }
   },
   "outputs": [
    {
     "data": {
      "text/plain": [
       "(300,)"
      ]
     },
     "execution_count": 29,
     "metadata": {},
     "output_type": "execute_result"
    }
   ],
   "source": [
    "apple.vector.shape"
   ]
  },
  {
   "cell_type": "code",
   "execution_count": 30,
   "metadata": {
    "ExecuteTime": {
     "end_time": "2017-07-25T11:50:46.221774Z",
     "start_time": "2017-07-25T11:50:46.194531Z"
    }
   },
   "outputs": [
    {
     "data": {
      "text/plain": [
       "0.27504403340499511"
      ]
     },
     "execution_count": 30,
     "metadata": {},
     "output_type": "execute_result"
    }
   ],
   "source": [
    "apple.similarity(peach)"
   ]
  },
  {
   "cell_type": "code",
   "execution_count": 31,
   "metadata": {
    "ExecuteTime": {
     "end_time": "2017-07-25T11:50:50.812172Z",
     "start_time": "2017-07-25T11:50:50.793930Z"
    }
   },
   "outputs": [
    {
     "data": {
      "text/plain": [
       "0.27504403340499511"
      ]
     },
     "execution_count": 31,
     "metadata": {},
     "output_type": "execute_result"
    }
   ],
   "source": [
    "peach.similarity(apple)"
   ]
  },
  {
   "cell_type": "code",
   "execution_count": 32,
   "metadata": {
    "ExecuteTime": {
     "end_time": "2017-07-25T11:50:54.042650Z",
     "start_time": "2017-07-25T11:50:54.024245Z"
    }
   },
   "outputs": [
    {
     "data": {
      "text/plain": [
       "0.22885475784967607"
      ]
     },
     "execution_count": 32,
     "metadata": {},
     "output_type": "execute_result"
    }
   ],
   "source": [
    "apple.similarity(orange)"
   ]
  },
  {
   "cell_type": "code",
   "execution_count": 33,
   "metadata": {
    "ExecuteTime": {
     "end_time": "2017-07-25T11:50:54.629577Z",
     "start_time": "2017-07-25T11:50:54.603600Z"
    }
   },
   "outputs": [
    {
     "data": {
      "text/plain": [
       "0.3370778377992128"
      ]
     },
     "execution_count": 33,
     "metadata": {},
     "output_type": "execute_result"
    }
   ],
   "source": [
    "peach.similarity(banana)"
   ]
  },
  {
   "cell_type": "code",
   "execution_count": 34,
   "metadata": {
    "ExecuteTime": {
     "end_time": "2017-07-25T11:51:01.310941Z",
     "start_time": "2017-07-25T11:51:01.284939Z"
    }
   },
   "outputs": [
    {
     "data": {
      "text/plain": [
       "0.088770645850664423"
      ]
     },
     "execution_count": 34,
     "metadata": {},
     "output_type": "execute_result"
    }
   ],
   "source": [
    "apple.similarity(and_)"
   ]
  },
  {
   "cell_type": "markdown",
   "metadata": {
    "ExecuteTime": {
     "end_time": "2017-07-24T03:07:56.006580Z",
     "start_time": "2017-07-24T03:07:55.977164Z"
    }
   },
   "source": [
    "## The most similar words of given word!\n",
    "- find words whose vectors are similar to given word's"
   ]
  },
  {
   "cell_type": "code",
   "execution_count": 35,
   "metadata": {
    "ExecuteTime": {
     "end_time": "2017-07-25T11:51:34.652555Z",
     "start_time": "2017-07-25T11:51:34.623796Z"
    },
    "collapsed": true
   },
   "outputs": [],
   "source": [
    "def most_similar(word):\n",
    "    queries = [w for w in word.vocab if w.is_lower == word.is_lower and w.prob >= -15]\n",
    "    by_similarity = sorted(queries, key=lambda w: word.similarity(w), reverse=True)\n",
    "    top_ten = by_similarity[:10]\n",
    "    return [lexeme.lower_ for lexeme in top_ten]"
   ]
  },
  {
   "cell_type": "code",
   "execution_count": 36,
   "metadata": {
    "ExecuteTime": {
     "end_time": "2017-07-25T11:51:36.758094Z",
     "start_time": "2017-07-25T11:51:35.848585Z"
    }
   },
   "outputs": [
    {
     "data": {
      "text/plain": [
       "['apple',\n",
       " 'blackberry',\n",
       " 'doritos',\n",
       " 'asus',\n",
       " 'onion',\n",
       " 'apples',\n",
       " 'oreo',\n",
       " 'melon',\n",
       " 'mango',\n",
       " 'dell']"
      ]
     },
     "execution_count": 36,
     "metadata": {},
     "output_type": "execute_result"
    }
   ],
   "source": [
    "most_similar(nlp.vocab['apple'])"
   ]
  },
  {
   "cell_type": "code",
   "execution_count": 37,
   "metadata": {
    "ExecuteTime": {
     "end_time": "2017-07-25T11:51:56.466298Z",
     "start_time": "2017-07-25T11:51:55.511393Z"
    }
   },
   "outputs": [
    {
     "data": {
      "text/plain": [
       "['ipad',\n",
       " 'iphone',\n",
       " 'ipod',\n",
       " 'ios',\n",
       " 'ps3',\n",
       " 'smartphone',\n",
       " 'dreamcast',\n",
       " 'netbook',\n",
       " 'smartphones',\n",
       " 'xbox']"
      ]
     },
     "execution_count": 37,
     "metadata": {},
     "output_type": "execute_result"
    }
   ],
   "source": [
    "most_similar(nlp.vocab['ipad'])"
   ]
  },
  {
   "cell_type": "code",
   "execution_count": 36,
   "metadata": {
    "ExecuteTime": {
     "end_time": "2017-07-25T08:12:30.578468Z",
     "start_time": "2017-07-25T08:12:29.595926Z"
    },
    "scrolled": true
   },
   "outputs": [
    {
     "data": {
      "text/plain": [
       "['reddit',\n",
       " 'digg',\n",
       " 'tumblr',\n",
       " 'vimeo',\n",
       " 'deviantart',\n",
       " 'github',\n",
       " 'craigslist',\n",
       " 'instagram',\n",
       " 'pinterest',\n",
       " 'wordpress']"
      ]
     },
     "execution_count": 36,
     "metadata": {},
     "output_type": "execute_result"
    }
   ],
   "source": [
    "most_similar(nlp.vocab['reddit'])"
   ]
  },
  {
   "cell_type": "code",
   "execution_count": 37,
   "metadata": {
    "ExecuteTime": {
     "end_time": "2017-07-25T08:12:31.459505Z",
     "start_time": "2017-07-25T08:12:30.580929Z"
    },
    "scrolled": true
   },
   "outputs": [
    {
     "data": {
      "text/plain": [
       "['fuck',\n",
       " 'bugger',\n",
       " 'shit',\n",
       " 'nigga',\n",
       " 'fucking',\n",
       " 'goddamn',\n",
       " 'piss',\n",
       " 'whoop',\n",
       " \"c'mon\",\n",
       " 'whoa']"
      ]
     },
     "execution_count": 37,
     "metadata": {},
     "output_type": "execute_result"
    }
   ],
   "source": [
    "most_similar(nlp.vocab['fuck'])"
   ]
  },
  {
   "cell_type": "markdown",
   "metadata": {},
   "source": [
    "# Spacy processes multiple sentences at once!"
   ]
  },
  {
   "cell_type": "code",
   "execution_count": 38,
   "metadata": {
    "ExecuteTime": {
     "end_time": "2017-07-25T11:52:11.159102Z",
     "start_time": "2017-07-25T11:52:11.135465Z"
    },
    "collapsed": true
   },
   "outputs": [],
   "source": [
    "sentences = \"I'd like to drink some beer. Why do you learn deep learning? IPad is awesome.\""
   ]
  },
  {
   "cell_type": "code",
   "execution_count": 39,
   "metadata": {
    "ExecuteTime": {
     "end_time": "2017-07-25T11:52:20.308108Z",
     "start_time": "2017-07-25T11:52:20.280147Z"
    },
    "collapsed": true
   },
   "outputs": [],
   "source": [
    "doc = nlp(sentences)"
   ]
  },
  {
   "cell_type": "code",
   "execution_count": 40,
   "metadata": {
    "ExecuteTime": {
     "end_time": "2017-07-25T11:52:20.847866Z",
     "start_time": "2017-07-25T11:52:20.827176Z"
    },
    "scrolled": true
   },
   "outputs": [
    {
     "data": {
      "text/plain": [
       "[I'd like to drink some beer.,\n",
       " Why do you learn deep learning?,\n",
       " IPad is awesome.]"
      ]
     },
     "execution_count": 40,
     "metadata": {},
     "output_type": "execute_result"
    }
   ],
   "source": [
    "list(doc.sents)"
   ]
  },
  {
   "cell_type": "markdown",
   "metadata": {},
   "source": [
    "# Parsing\n",
    "- visualizer:\n",
    "    - https://demos.explosion.ai/displacy/\n",
    "    - https://github.com/explosion/displacy"
   ]
  },
  {
   "cell_type": "code",
   "execution_count": 41,
   "metadata": {
    "ExecuteTime": {
     "end_time": "2017-07-25T11:52:43.348363Z",
     "start_time": "2017-07-25T11:52:43.319672Z"
    }
   },
   "outputs": [
    {
     "data": {
      "text/plain": [
       "London is a big city in the United Kingdom."
      ]
     },
     "execution_count": 41,
     "metadata": {},
     "output_type": "execute_result"
    }
   ],
   "source": [
    "doc = nlp('London is a big city in the United Kingdom.')\n",
    "doc"
   ]
  },
  {
   "cell_type": "code",
   "execution_count": 45,
   "metadata": {
    "ExecuteTime": {
     "end_time": "2017-07-25T11:54:30.547741Z",
     "start_time": "2017-07-25T11:54:30.516597Z"
    },
    "collapsed": true,
    "run_control": {
     "marked": false
    },
    "scrolled": false
   },
   "outputs": [],
   "source": [
    "parsed_tokens = []\n",
    "for token in doc:\n",
    "    parsed_tokens.append([token, token.pos_, token.dep_, token.head, token.head.pos_])"
   ]
  },
  {
   "cell_type": "code",
   "execution_count": 46,
   "metadata": {
    "ExecuteTime": {
     "end_time": "2017-07-25T11:54:30.722302Z",
     "start_time": "2017-07-25T11:54:30.700732Z"
    },
    "collapsed": true
   },
   "outputs": [],
   "source": [
    "import pandas as pd"
   ]
  },
  {
   "cell_type": "code",
   "execution_count": 47,
   "metadata": {
    "ExecuteTime": {
     "end_time": "2017-07-25T11:54:31.066768Z",
     "start_time": "2017-07-25T11:54:31.046953Z"
    },
    "collapsed": true
   },
   "outputs": [],
   "source": [
    "columns = ['Word', 'POS', 'Dependency', 'head', 'POS of head']"
   ]
  },
  {
   "cell_type": "code",
   "execution_count": 48,
   "metadata": {
    "ExecuteTime": {
     "end_time": "2017-07-25T11:54:31.353779Z",
     "start_time": "2017-07-25T11:54:31.314091Z"
    }
   },
   "outputs": [
    {
     "data": {
      "text/html": [
       "<div>\n",
       "<table border=\"1\" class=\"dataframe\">\n",
       "  <thead>\n",
       "    <tr style=\"text-align: right;\">\n",
       "      <th></th>\n",
       "      <th>Word</th>\n",
       "      <th>POS</th>\n",
       "      <th>Dependency</th>\n",
       "      <th>head</th>\n",
       "      <th>POS of head</th>\n",
       "    </tr>\n",
       "  </thead>\n",
       "  <tbody>\n",
       "    <tr>\n",
       "      <th>0</th>\n",
       "      <td>London</td>\n",
       "      <td>PROPN</td>\n",
       "      <td>nsubj</td>\n",
       "      <td>is</td>\n",
       "      <td>VERB</td>\n",
       "    </tr>\n",
       "    <tr>\n",
       "      <th>1</th>\n",
       "      <td>is</td>\n",
       "      <td>VERB</td>\n",
       "      <td>ROOT</td>\n",
       "      <td>is</td>\n",
       "      <td>VERB</td>\n",
       "    </tr>\n",
       "    <tr>\n",
       "      <th>2</th>\n",
       "      <td>a</td>\n",
       "      <td>DET</td>\n",
       "      <td>det</td>\n",
       "      <td>city</td>\n",
       "      <td>NOUN</td>\n",
       "    </tr>\n",
       "    <tr>\n",
       "      <th>3</th>\n",
       "      <td>big</td>\n",
       "      <td>ADJ</td>\n",
       "      <td>amod</td>\n",
       "      <td>city</td>\n",
       "      <td>NOUN</td>\n",
       "    </tr>\n",
       "    <tr>\n",
       "      <th>4</th>\n",
       "      <td>city</td>\n",
       "      <td>NOUN</td>\n",
       "      <td>attr</td>\n",
       "      <td>is</td>\n",
       "      <td>VERB</td>\n",
       "    </tr>\n",
       "    <tr>\n",
       "      <th>5</th>\n",
       "      <td>in</td>\n",
       "      <td>ADP</td>\n",
       "      <td>prep</td>\n",
       "      <td>city</td>\n",
       "      <td>NOUN</td>\n",
       "    </tr>\n",
       "    <tr>\n",
       "      <th>6</th>\n",
       "      <td>the</td>\n",
       "      <td>DET</td>\n",
       "      <td>det</td>\n",
       "      <td>Kingdom</td>\n",
       "      <td>PROPN</td>\n",
       "    </tr>\n",
       "    <tr>\n",
       "      <th>7</th>\n",
       "      <td>United</td>\n",
       "      <td>PROPN</td>\n",
       "      <td>compound</td>\n",
       "      <td>Kingdom</td>\n",
       "      <td>PROPN</td>\n",
       "    </tr>\n",
       "    <tr>\n",
       "      <th>8</th>\n",
       "      <td>Kingdom</td>\n",
       "      <td>PROPN</td>\n",
       "      <td>pobj</td>\n",
       "      <td>in</td>\n",
       "      <td>ADP</td>\n",
       "    </tr>\n",
       "    <tr>\n",
       "      <th>9</th>\n",
       "      <td>.</td>\n",
       "      <td>PUNCT</td>\n",
       "      <td>punct</td>\n",
       "      <td>is</td>\n",
       "      <td>VERB</td>\n",
       "    </tr>\n",
       "  </tbody>\n",
       "</table>\n",
       "</div>"
      ],
      "text/plain": [
       "      Word    POS Dependency     head POS of head\n",
       "0   London  PROPN      nsubj       is        VERB\n",
       "1       is   VERB       ROOT       is        VERB\n",
       "2        a    DET        det     city        NOUN\n",
       "3      big    ADJ       amod     city        NOUN\n",
       "4     city   NOUN       attr       is        VERB\n",
       "5       in    ADP       prep     city        NOUN\n",
       "6      the    DET        det  Kingdom       PROPN\n",
       "7   United  PROPN   compound  Kingdom       PROPN\n",
       "8  Kingdom  PROPN       pobj       in         ADP\n",
       "9        .  PUNCT      punct       is        VERB"
      ]
     },
     "execution_count": 48,
     "metadata": {},
     "output_type": "execute_result"
    }
   ],
   "source": [
    "pd.DataFrame(parsed_tokens, columns=columns)"
   ]
  },
  {
   "cell_type": "markdown",
   "metadata": {},
   "source": [
    "### Visualization\n",
    "- [word-level](https://demos.explosion.ai/displacy/?text=London%20is%20a%20big%20city%20in%20the%20United%20Kingdom.&model=en&cpu=1&cph=1)\n",
    "- [phrase-level](https://demos.explosion.ai/displacy/?text=London%20is%20a%20big%20city%20in%20the%20United%20Kingdom.&model=en&cpu=1&cph=0)"
   ]
  },
  {
   "cell_type": "markdown",
   "metadata": {
    "ExecuteTime": {
     "end_time": "2017-07-24T18:21:00.685736Z",
     "start_time": "2017-07-24T18:21:00.659858Z"
    }
   },
   "source": [
    "### Traversing tree"
   ]
  },
  {
   "cell_type": "code",
   "execution_count": 46,
   "metadata": {
    "ExecuteTime": {
     "end_time": "2017-07-25T08:12:32.199852Z",
     "start_time": "2017-07-25T08:12:32.177192Z"
    },
    "collapsed": true
   },
   "outputs": [],
   "source": [
    "from spacy.symbols import nsubj, VERB"
   ]
  },
  {
   "cell_type": "code",
   "execution_count": 47,
   "metadata": {
    "ExecuteTime": {
     "end_time": "2017-07-25T08:12:32.239646Z",
     "start_time": "2017-07-25T08:12:32.202024Z"
    },
    "collapsed": true
   },
   "outputs": [],
   "source": [
    "verbs = set()"
   ]
  },
  {
   "cell_type": "code",
   "execution_count": 48,
   "metadata": {
    "ExecuteTime": {
     "end_time": "2017-07-25T08:12:32.281344Z",
     "start_time": "2017-07-25T08:12:32.243638Z"
    },
    "collapsed": true
   },
   "outputs": [],
   "source": [
    "for token in doc:\n",
    "    if token.dep == nsubj and token.head.pos == VERB:\n",
    "        verbs.add(token.head)"
   ]
  },
  {
   "cell_type": "code",
   "execution_count": 49,
   "metadata": {
    "ExecuteTime": {
     "end_time": "2017-07-25T08:12:32.322416Z",
     "start_time": "2017-07-25T08:12:32.285242Z"
    }
   },
   "outputs": [
    {
     "data": {
      "text/plain": [
       "{is}"
      ]
     },
     "execution_count": 49,
     "metadata": {},
     "output_type": "execute_result"
    }
   ],
   "source": [
    "verbs"
   ]
  },
  {
   "cell_type": "markdown",
   "metadata": {},
   "source": [
    "# Entity Recognition\n",
    "\n",
    "IOB formatting (In, Begin, Out).\n",
    "\n",
    "CONLL 2002\n",
    "- geo = Geographical Entity\n",
    "- org = Organization\n",
    "- per = Person\n",
    "- gpe = Geopolitical Entity\n",
    "- tim = Time indicator\n",
    "- art = Artifact\n",
    "- eve = Event\n",
    "- nat = Natural Phenomenon"
   ]
  },
  {
   "cell_type": "code",
   "execution_count": 50,
   "metadata": {
    "ExecuteTime": {
     "end_time": "2017-07-25T08:12:32.368196Z",
     "start_time": "2017-07-25T08:12:32.325066Z"
    }
   },
   "outputs": [
    {
     "name": "stdout",
     "output_type": "stream",
     "text": [
      "London 3 GPE\n",
      "is 2 \n",
      "a 2 \n",
      "big 2 \n",
      "city 2 \n",
      "in 2 \n",
      "the 3 GPE\n",
      "United 1 GPE\n",
      "Kingdom 1 GPE\n",
      ". 2 \n"
     ]
    }
   ],
   "source": [
    "for token in nlp('London is a big city in the United Kingdom.'):\n",
    "    print(token.text, token.ent_iob, token.ent_type_) # GPE = Geopolitical Entity"
   ]
  }
 ],
 "metadata": {
  "anaconda-cloud": {},
  "kernelspec": {
   "display_name": "Python [conda env:mldemo]",
   "language": "python",
   "name": "conda-env-mldemo-py"
  },
  "language_info": {
   "codemirror_mode": {
    "name": "ipython",
    "version": 3
   },
   "file_extension": ".py",
   "mimetype": "text/x-python",
   "name": "python",
   "nbconvert_exporter": "python",
   "pygments_lexer": "ipython3",
   "version": "3.6.2"
  },
  "varInspector": {
   "cols": {
    "lenName": 16,
    "lenType": 16,
    "lenVar": 40
   },
   "kernels_config": {
    "python": {
     "delete_cmd_postfix": "",
     "delete_cmd_prefix": "del ",
     "library": "var_list.py",
     "varRefreshCmd": "print(var_dic_list())"
    },
    "r": {
     "delete_cmd_postfix": ") ",
     "delete_cmd_prefix": "rm(",
     "library": "var_list.r",
     "varRefreshCmd": "cat(var_dic_list()) "
    }
   },
   "types_to_exclude": [
    "module",
    "function",
    "builtin_function_or_method",
    "instance",
    "_Feature"
   ],
   "window_display": true
  }
 },
 "nbformat": 4,
 "nbformat_minor": 2
}
