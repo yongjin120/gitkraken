{
 "cells": [
  {
   "cell_type": "markdown",
   "metadata": {},
   "source": [
    "Reference\n",
    "- https://www.youtube.com/watch?v=PhunzHqhKoQ\n",
    "- https://github.com/rickiepark/introduction_to_ml_with_python/blob/master/07-konlpy.ipynb\n",
    "- https://github.com/justmarkham/pycon-2016-tutorial/blob/master/exercise_solution.ipynb"
   ]
  },
  {
   "cell_type": "code",
   "execution_count": null,
   "metadata": {
    "ExecuteTime": {
     "end_time": "2017-07-25T12:37:46.817289Z",
     "start_time": "2017-07-25T12:37:45.995341Z"
    },
    "collapsed": true
   },
   "outputs": [],
   "source": [
    "import konlpy\n",
    "import pandas as pd\n",
    "import numpy as np"
   ]
  },
  {
   "cell_type": "markdown",
   "metadata": {},
   "source": [
    "# Read data"
   ]
  },
  {
   "cell_type": "markdown",
   "metadata": {},
   "source": [
    "## Read train data"
   ]
  },
  {
   "cell_type": "code",
   "execution_count": null,
   "metadata": {
    "ExecuteTime": {
     "end_time": "2017-07-25T12:40:15.600340Z",
     "start_time": "2017-07-25T12:40:15.237173Z"
    },
    "scrolled": true
   },
   "outputs": [],
   "source": [
    "df_train = pd.read_csv('./datasets/naver_train.txt', delimiter='\\t', keep_default_na=False)\n",
    "print(df_train.shape)\n",
    "df_train.head()"
   ]
  },
  {
   "cell_type": "markdown",
   "metadata": {},
   "source": [
    "### `as_matrix()`: pandas dataframe => numpy array"
   ]
  },
  {
   "cell_type": "code",
   "execution_count": null,
   "metadata": {
    "ExecuteTime": {
     "end_time": "2017-07-24T14:12:56.345968Z",
     "start_time": "2017-07-24T14:12:56.321254Z"
    },
    "collapsed": true
   },
   "outputs": [],
   "source": [
    "# TODO\n",
    "X_train = \n",
    "y_train = "
   ]
  },
  {
   "cell_type": "code",
   "execution_count": null,
   "metadata": {
    "ExecuteTime": {
     "end_time": "2017-07-24T14:12:57.062079Z",
     "start_time": "2017-07-24T14:12:57.043081Z"
    }
   },
   "outputs": [],
   "source": [
    "X_train"
   ]
  },
  {
   "cell_type": "code",
   "execution_count": null,
   "metadata": {
    "ExecuteTime": {
     "end_time": "2017-07-24T14:12:58.016708Z",
     "start_time": "2017-07-24T14:12:57.990292Z"
    }
   },
   "outputs": [],
   "source": [
    "y_train"
   ]
  },
  {
   "cell_type": "markdown",
   "metadata": {},
   "source": [
    "### Positve/Negative ratio\n",
    "#### - `np.bincount`: count positive/negative values"
   ]
  },
  {
   "cell_type": "code",
   "execution_count": null,
   "metadata": {
    "ExecuteTime": {
     "end_time": "2017-07-24T14:13:00.133294Z",
     "start_time": "2017-07-24T14:13:00.110088Z"
    }
   },
   "outputs": [],
   "source": [
    "# TODO"
   ]
  },
  {
   "cell_type": "markdown",
   "metadata": {},
   "source": [
    "## Read test data"
   ]
  },
  {
   "cell_type": "code",
   "execution_count": null,
   "metadata": {
    "ExecuteTime": {
     "end_time": "2017-07-24T14:13:01.515880Z",
     "start_time": "2017-07-24T14:13:01.397055Z"
    }
   },
   "outputs": [],
   "source": [
    "df_test = # TODO\n",
    "print(df_test.shape)\n",
    "X_test = # TODO\n",
    "y_test = # TODO"
   ]
  },
  {
   "cell_type": "markdown",
   "metadata": {},
   "source": [
    "### Positve/Negative ratio"
   ]
  },
  {
   "cell_type": "code",
   "execution_count": null,
   "metadata": {
    "ExecuteTime": {
     "end_time": "2017-07-24T14:13:03.361225Z",
     "start_time": "2017-07-24T14:13:03.337321Z"
    }
   },
   "outputs": [],
   "source": [
    "# TODO"
   ]
  },
  {
   "cell_type": "markdown",
   "metadata": {},
   "source": [
    "# Tokenizer"
   ]
  },
  {
   "cell_type": "markdown",
   "metadata": {},
   "source": [
    "## Let's use Twitter POS-Tagger as tokenizer"
   ]
  },
  {
   "cell_type": "code",
   "execution_count": null,
   "metadata": {
    "ExecuteTime": {
     "end_time": "2017-07-24T14:42:56.043618Z",
     "start_time": "2017-07-24T14:42:55.692105Z"
    },
    "collapsed": true
   },
   "outputs": [],
   "source": [
    "from konlpy.tag import Twitter\n",
    "twitter = Twitter()\n",
    "\n",
    "def twitter_tokenizer(text):\n",
    "    # TODO:\n",
    "    return tokens"
   ]
  },
  {
   "cell_type": "code",
   "execution_count": null,
   "metadata": {
    "ExecuteTime": {
     "end_time": "2017-07-24T13:45:25.727495Z",
     "start_time": "2017-07-24T13:45:25.689776Z"
    },
    "collapsed": true
   },
   "outputs": [],
   "source": [
    "assert twitter_tokenizer('이 영화 좋아요') == ['이', '영화', '좋', '아요']"
   ]
  },
  {
   "cell_type": "markdown",
   "metadata": {},
   "source": [
    "# Vectorization\n",
    "- Convert text of variable length into fixed-sized vector"
   ]
  },
  {
   "cell_type": "markdown",
   "metadata": {},
   "source": [
    "# [Count Vectorizer](http://scikit-learn.org/stable/modules/generated/sklearn.feature_extraction.text.CountVectorizer.html)\n",
    "- Encode text into frequencies of vocabulary terms"
   ]
  },
  {
   "cell_type": "code",
   "execution_count": null,
   "metadata": {
    "ExecuteTime": {
     "end_time": "2017-07-24T14:48:45.892046Z",
     "start_time": "2017-07-24T14:48:45.858302Z"
    },
    "collapsed": true
   },
   "outputs": [],
   "source": [
    "from sklearn.feature_extraction.text import CountVectorizer\n",
    "vectorizer = CountVectorizer()"
   ]
  },
  {
   "cell_type": "markdown",
   "metadata": {},
   "source": [
    "## Vectorize train data"
   ]
  },
  {
   "cell_type": "code",
   "execution_count": null,
   "metadata": {
    "ExecuteTime": {
     "end_time": "2017-07-24T14:49:07.738830Z",
     "start_time": "2017-07-24T14:49:04.728974Z"
    },
    "collapsed": true
   },
   "outputs": [],
   "source": [
    "X_train_tf = vectorizer.fit_transform(X_train) # term frequency matrcies"
   ]
  },
  {
   "cell_type": "code",
   "execution_count": null,
   "metadata": {
    "ExecuteTime": {
     "end_time": "2017-07-24T14:49:31.430307Z",
     "start_time": "2017-07-24T14:49:30.727347Z"
    },
    "scrolled": true
   },
   "outputs": [],
   "source": [
    "vectorizer.get_feature_names()"
   ]
  },
  {
   "cell_type": "code",
   "execution_count": null,
   "metadata": {
    "ExecuteTime": {
     "end_time": "2017-07-24T14:49:41.669244Z",
     "start_time": "2017-07-24T14:49:41.088935Z"
    }
   },
   "outputs": [],
   "source": [
    "len(vectorizer.get_feature_names())"
   ]
  },
  {
   "cell_type": "code",
   "execution_count": null,
   "metadata": {
    "ExecuteTime": {
     "end_time": "2017-07-24T14:49:49.194136Z",
     "start_time": "2017-07-24T14:49:49.087928Z"
    }
   },
   "outputs": [],
   "source": [
    "vectorizer.vocabulary_"
   ]
  },
  {
   "cell_type": "code",
   "execution_count": null,
   "metadata": {
    "ExecuteTime": {
     "end_time": "2017-07-24T14:49:55.028983Z",
     "start_time": "2017-07-24T14:49:54.995916Z"
    }
   },
   "outputs": [],
   "source": [
    "len(vectorizer.vocabulary_)"
   ]
  },
  {
   "cell_type": "code",
   "execution_count": null,
   "metadata": {
    "ExecuteTime": {
     "end_time": "2017-07-24T14:16:44.729461Z",
     "start_time": "2017-07-24T14:16:44.691947Z"
    }
   },
   "outputs": [],
   "source": [
    "X_train_tf.shape"
   ]
  },
  {
   "cell_type": "code",
   "execution_count": null,
   "metadata": {
    "ExecuteTime": {
     "end_time": "2017-07-24T14:14:12.039258Z",
     "start_time": "2017-07-24T14:14:12.009166Z"
    }
   },
   "outputs": [],
   "source": [
    "X_train[0]"
   ]
  },
  {
   "cell_type": "markdown",
   "metadata": {
    "ExecuteTime": {
     "end_time": "2017-07-24T14:07:40.713314Z",
     "start_time": "2017-07-24T14:07:40.677114Z"
    }
   },
   "source": [
    "## sparse matrix: only stored elements are non-zero"
   ]
  },
  {
   "cell_type": "code",
   "execution_count": null,
   "metadata": {
    "ExecuteTime": {
     "end_time": "2017-07-24T14:16:47.900649Z",
     "start_time": "2017-07-24T14:16:47.863614Z"
    }
   },
   "outputs": [],
   "source": [
    "X_train_tf[0]"
   ]
  },
  {
   "cell_type": "markdown",
   "metadata": {},
   "source": [
    "##  `np.nonzero`: return indices of non-zero elements"
   ]
  },
  {
   "cell_type": "code",
   "execution_count": null,
   "metadata": {
    "ExecuteTime": {
     "end_time": "2017-07-24T14:16:50.613255Z",
     "start_time": "2017-07-24T14:16:50.574782Z"
    },
    "scrolled": true
   },
   "outputs": [],
   "source": [
    "X_train_tf[0].nonzero()"
   ]
  },
  {
   "cell_type": "code",
   "execution_count": null,
   "metadata": {
    "ExecuteTime": {
     "end_time": "2017-07-24T14:50:45.922468Z",
     "start_time": "2017-07-24T14:50:45.882920Z"
    }
   },
   "outputs": [],
   "source": [
    "print(vectorizer.vocabulary_['목소리'])\n",
    "print(vectorizer.vocabulary_['짜증나네요'])\n",
    "print(vectorizer.vocabulary_['진짜'])\n",
    "print(vectorizer.vocabulary_['더빙'])"
   ]
  },
  {
   "cell_type": "markdown",
   "metadata": {},
   "source": [
    "## Return to text"
   ]
  },
  {
   "cell_type": "code",
   "execution_count": null,
   "metadata": {
    "ExecuteTime": {
     "end_time": "2017-07-24T14:14:18.200206Z",
     "start_time": "2017-07-24T14:14:17.828932Z"
    }
   },
   "outputs": [],
   "source": [
    "vectorizer.inverse_transform(X_train_tf[0])"
   ]
  },
  {
   "cell_type": "markdown",
   "metadata": {},
   "source": [
    "# Classifier"
   ]
  },
  {
   "cell_type": "markdown",
   "metadata": {},
   "source": [
    "## [Logistic Regression (aka. Maximum-entropy Classifier)](http://scikit-learn.org/stable/modules/generated/sklearn.linear_model.LogisticRegression.html#sklearn.linear_model.LogisticRegression)"
   ]
  },
  {
   "cell_type": "code",
   "execution_count": null,
   "metadata": {
    "ExecuteTime": {
     "end_time": "2017-07-24T14:43:52.766983Z",
     "start_time": "2017-07-24T14:43:52.732995Z"
    },
    "collapsed": true
   },
   "outputs": [],
   "source": [
    "from sklearn.linear_model import LogisticRegression"
   ]
  },
  {
   "cell_type": "markdown",
   "metadata": {},
   "source": [
    "# Pipelining - connect Vectorizer and Classifier"
   ]
  },
  {
   "cell_type": "code",
   "execution_count": null,
   "metadata": {
    "ExecuteTime": {
     "end_time": "2017-07-24T15:59:32.029092Z",
     "start_time": "2017-07-24T15:59:32.004780Z"
    },
    "collapsed": true
   },
   "outputs": [],
   "source": [
    "from sklearn.pipeline import make_pipeline"
   ]
  },
  {
   "cell_type": "code",
   "execution_count": null,
   "metadata": {
    "ExecuteTime": {
     "end_time": "2017-07-24T15:59:32.436530Z",
     "start_time": "2017-07-24T15:59:32.408789Z"
    },
    "collapsed": true
   },
   "outputs": [],
   "source": [
    "pipeline = make_pipeline(CountVectorizer(tokenizer=twitter_tokenizer), LogisticRegression())"
   ]
  },
  {
   "cell_type": "markdown",
   "metadata": {},
   "source": [
    "# Train model"
   ]
  },
  {
   "cell_type": "code",
   "execution_count": null,
   "metadata": {
    "ExecuteTime": {
     "end_time": "2017-07-24T15:59:39.286746Z",
     "start_time": "2017-07-24T15:59:38.088762Z"
    }
   },
   "outputs": [],
   "source": [
    "pipeline.fit(X_train[:1000], y_train[:1000])"
   ]
  },
  {
   "cell_type": "markdown",
   "metadata": {
    "ExecuteTime": {
     "end_time": "2017-07-24T14:51:02.628732Z",
     "start_time": "2017-07-24T14:51:02.597142Z"
    }
   },
   "source": [
    "# Test model"
   ]
  },
  {
   "cell_type": "code",
   "execution_count": null,
   "metadata": {
    "ExecuteTime": {
     "end_time": "2017-07-24T15:59:40.143595Z",
     "start_time": "2017-07-24T15:59:40.117206Z"
    }
   },
   "outputs": [],
   "source": [
    "pipeline.predict(['이 영화 좋아요'])"
   ]
  },
  {
   "cell_type": "code",
   "execution_count": null,
   "metadata": {
    "ExecuteTime": {
     "end_time": "2017-07-24T15:59:40.823988Z",
     "start_time": "2017-07-24T15:59:40.793445Z"
    }
   },
   "outputs": [],
   "source": [
    "pipeline.predict_proba(['이 영화 좋아요']) # confidence"
   ]
  },
  {
   "cell_type": "code",
   "execution_count": null,
   "metadata": {
    "ExecuteTime": {
     "end_time": "2017-07-24T15:59:42.211540Z",
     "start_time": "2017-07-24T15:59:42.185104Z"
    }
   },
   "outputs": [],
   "source": [
    "pipeline.predict(['이거 정말 별로에요'])"
   ]
  },
  {
   "cell_type": "code",
   "execution_count": null,
   "metadata": {
    "ExecuteTime": {
     "end_time": "2017-07-24T15:59:43.884981Z",
     "start_time": "2017-07-24T15:59:43.845263Z"
    }
   },
   "outputs": [],
   "source": [
    "pipeline.predict_proba(['이거 정말 별로에요'])"
   ]
  },
  {
   "cell_type": "markdown",
   "metadata": {},
   "source": [
    "# Calculate Accuracy"
   ]
  },
  {
   "cell_type": "code",
   "execution_count": null,
   "metadata": {
    "ExecuteTime": {
     "end_time": "2017-07-24T15:59:47.159927Z",
     "start_time": "2017-07-24T15:59:46.047633Z"
    }
   },
   "outputs": [],
   "source": [
    "test_score = pipeline.score(X_test[:1000], y_test[:1000])\n",
    "test_score"
   ]
  },
  {
   "cell_type": "markdown",
   "metadata": {
    "ExecuteTime": {
     "end_time": "2017-07-24T14:18:35.375457Z",
     "start_time": "2017-07-24T14:18:35.339652Z"
    }
   },
   "source": [
    "# Search Best Hyperparameter\n",
    "\n",
    "## Useful Hyperparameters\n",
    "### Vectorizer\n",
    "#### - min_df: threshold to add to vocabulary => ignore too rare terms\n",
    "#### - ngram_range: lower and upper boundary of n-grams; default: (1, 1)\n",
    "### Logistic Regression\n",
    "#### - C : inverse of regularization constant => smaller values makes regularization stronger"
   ]
  },
  {
   "cell_type": "code",
   "execution_count": null,
   "metadata": {
    "ExecuteTime": {
     "end_time": "2017-07-24T15:59:54.058402Z",
     "start_time": "2017-07-24T15:59:54.033512Z"
    },
    "collapsed": true
   },
   "outputs": [],
   "source": [
    "from sklearn.model_selection import GridSearchCV"
   ]
  },
  {
   "cell_type": "code",
   "execution_count": null,
   "metadata": {
    "ExecuteTime": {
     "end_time": "2017-07-24T15:59:55.421907Z",
     "start_time": "2017-07-24T15:59:55.393783Z"
    },
    "collapsed": true
   },
   "outputs": [],
   "source": [
    "param_grid = {\n",
    "    'countvectorizer__min_df': [1, 3],\n",
    "    'countvectorizer__ngram_range': [(1, 1), (1, 2)],\n",
    "    'logisticregression__C': [0.1, 1, 10]}\n",
    "pipeline = make_pipeline(\n",
    "    CountVectorizer(tokenizer=twitter_tokenizer),\n",
    "    LogisticRegression())\n",
    "grid = GridSearchCV(pipeline, param_grid)"
   ]
  },
  {
   "cell_type": "code",
   "execution_count": null,
   "metadata": {
    "ExecuteTime": {
     "end_time": "2017-07-24T16:01:10.800933Z",
     "start_time": "2017-07-24T15:59:56.597917Z"
    },
    "scrolled": true
   },
   "outputs": [],
   "source": [
    "grid.fit(X_train[:1000], y_train[:1000])"
   ]
  },
  {
   "cell_type": "markdown",
   "metadata": {},
   "source": [
    "### Cross-validation score"
   ]
  },
  {
   "cell_type": "code",
   "execution_count": null,
   "metadata": {
    "ExecuteTime": {
     "end_time": "2017-07-24T16:01:17.306094Z",
     "start_time": "2017-07-24T16:01:17.280704Z"
    }
   },
   "outputs": [],
   "source": [
    "grid.best_score_"
   ]
  },
  {
   "cell_type": "code",
   "execution_count": null,
   "metadata": {
    "ExecuteTime": {
     "end_time": "2017-07-24T16:01:22.477233Z",
     "start_time": "2017-07-24T16:01:22.450277Z"
    }
   },
   "outputs": [],
   "source": [
    "grid.best_params_"
   ]
  },
  {
   "cell_type": "code",
   "execution_count": null,
   "metadata": {
    "ExecuteTime": {
     "end_time": "2017-07-24T16:01:23.148423Z",
     "start_time": "2017-07-24T16:01:23.121375Z"
    }
   },
   "outputs": [],
   "source": [
    "grid.best_estimator_"
   ]
  },
  {
   "cell_type": "code",
   "execution_count": null,
   "metadata": {
    "ExecuteTime": {
     "end_time": "2017-07-24T16:01:25.538154Z",
     "start_time": "2017-07-24T16:01:24.420082Z"
    }
   },
   "outputs": [],
   "source": [
    "grid.best_estimator_.score(X_test[:1000], y_test[:1000])"
   ]
  },
  {
   "cell_type": "markdown",
   "metadata": {
    "ExecuteTime": {
     "end_time": "2017-07-24T14:18:57.496460Z",
     "start_time": "2017-07-24T14:18:57.466311Z"
    }
   },
   "source": [
    "# Let's Upgrade our vectorizer"
   ]
  },
  {
   "cell_type": "markdown",
   "metadata": {},
   "source": [
    "# [TF-IDF Vectorizer](http://scikit-learn.org/stable/modules/generated/sklearn.feature_extraction.text.TfidfVectorizer.html)\n",
    "- Encode text into tf-idf features"
   ]
  },
  {
   "cell_type": "code",
   "execution_count": null,
   "metadata": {
    "ExecuteTime": {
     "end_time": "2017-07-24T16:01:52.786615Z",
     "start_time": "2017-07-24T16:01:52.756593Z"
    },
    "collapsed": true
   },
   "outputs": [],
   "source": [
    "from sklearn.feature_extraction.text import TfidfVectorizer"
   ]
  },
  {
   "cell_type": "code",
   "execution_count": null,
   "metadata": {
    "ExecuteTime": {
     "end_time": "2017-07-24T16:02:18.315682Z",
     "start_time": "2017-07-24T16:02:18.285104Z"
    },
    "collapsed": true
   },
   "outputs": [],
   "source": [
    "tfidf_param_grid = {\n",
    "    # TODO\n",
    "}\n",
    "tfidf_pipeline = make_pipeline(\n",
    "    # TODO\n",
    ")\n",
    "tfidf_grid = GridSearchCV(\n",
    "    # TODO\n",
    ")"
   ]
  },
  {
   "cell_type": "code",
   "execution_count": null,
   "metadata": {
    "ExecuteTime": {
     "end_time": "2017-07-24T16:21:10.621559Z",
     "start_time": "2017-07-24T16:21:02.956470Z"
    },
    "scrolled": false
   },
   "outputs": [],
   "source": [
    "tfidf_grid.fit(X_train[:1000], y_train[:1000])"
   ]
  },
  {
   "cell_type": "code",
   "execution_count": null,
   "metadata": {
    "ExecuteTime": {
     "end_time": "2017-07-24T16:21:24.712049Z",
     "start_time": "2017-07-24T16:21:24.672496Z"
    }
   },
   "outputs": [],
   "source": [
    "tfidf_grid.best_score_"
   ]
  },
  {
   "cell_type": "code",
   "execution_count": null,
   "metadata": {
    "ExecuteTime": {
     "end_time": "2017-07-24T16:21:25.138723Z",
     "start_time": "2017-07-24T16:21:25.112345Z"
    }
   },
   "outputs": [],
   "source": [
    "tfidf_grid.best_params_"
   ]
  },
  {
   "cell_type": "code",
   "execution_count": null,
   "metadata": {
    "ExecuteTime": {
     "end_time": "2017-07-24T16:21:25.441028Z",
     "start_time": "2017-07-24T16:21:25.404179Z"
    }
   },
   "outputs": [],
   "source": [
    "tfidf_grid.best_estimator_"
   ]
  },
  {
   "cell_type": "code",
   "execution_count": null,
   "metadata": {
    "ExecuteTime": {
     "end_time": "2017-07-24T16:21:25.892431Z",
     "start_time": "2017-07-24T16:21:25.718897Z"
    }
   },
   "outputs": [],
   "source": [
    "tfidf_grid.best_estimator_.score(X_test[:1000], y_test[:1000])"
   ]
  },
  {
   "cell_type": "markdown",
   "metadata": {},
   "source": [
    "# Let's make our tokenizer faster with mecab (multiprocessing)"
   ]
  },
  {
   "cell_type": "code",
   "execution_count": null,
   "metadata": {
    "ExecuteTime": {
     "end_time": "2017-07-24T16:15:19.641745Z",
     "start_time": "2017-07-24T16:15:19.597461Z"
    },
    "collapsed": true
   },
   "outputs": [],
   "source": [
    "from konlpy.tag import Mecab\n",
    "mecab = Mecab()\n",
    "def mecab_tokenizer(text):\n",
    "    # TODO:\n",
    "    return tokens"
   ]
  },
  {
   "cell_type": "code",
   "execution_count": null,
   "metadata": {
    "ExecuteTime": {
     "end_time": "2017-07-24T16:15:20.351666Z",
     "start_time": "2017-07-24T16:15:20.326819Z"
    },
    "collapsed": true
   },
   "outputs": [],
   "source": [
    "assert mecab_tokenizer('이 영화 좋아요') == ['이', '영화', '좋', '아요']"
   ]
  },
  {
   "cell_type": "code",
   "execution_count": null,
   "metadata": {
    "ExecuteTime": {
     "end_time": "2017-07-24T16:21:02.493946Z",
     "start_time": "2017-07-24T16:21:02.468899Z"
    },
    "collapsed": true
   },
   "outputs": [],
   "source": [
    "mecab_param_grid = {\n",
    "    # TODO\n",
    "}\n",
    "mecab_pipe = make_pipeline(\n",
    "    # TODO\n",
    ")\n",
    "mecab_grid = GridSearchCV(\n",
    "    # TODO\n",
    ")"
   ]
  },
  {
   "cell_type": "code",
   "execution_count": null,
   "metadata": {
    "ExecuteTime": {
     "end_time": "2017-07-24T16:21:10.621559Z",
     "start_time": "2017-07-24T16:21:02.956470Z"
    },
    "scrolled": false
   },
   "outputs": [],
   "source": [
    "mecab_grid.fit(X_train[:1000], y_train[:1000])"
   ]
  },
  {
   "cell_type": "code",
   "execution_count": null,
   "metadata": {
    "ExecuteTime": {
     "end_time": "2017-07-24T16:21:24.712049Z",
     "start_time": "2017-07-24T16:21:24.672496Z"
    }
   },
   "outputs": [],
   "source": [
    "mecab_grid.best_score_"
   ]
  },
  {
   "cell_type": "code",
   "execution_count": null,
   "metadata": {
    "ExecuteTime": {
     "end_time": "2017-07-24T16:21:25.138723Z",
     "start_time": "2017-07-24T16:21:25.112345Z"
    }
   },
   "outputs": [],
   "source": [
    "mecab_grid.best_params_"
   ]
  },
  {
   "cell_type": "code",
   "execution_count": null,
   "metadata": {
    "ExecuteTime": {
     "end_time": "2017-07-24T16:21:25.441028Z",
     "start_time": "2017-07-24T16:21:25.404179Z"
    }
   },
   "outputs": [],
   "source": [
    "mecab_grid.best_estimator_"
   ]
  },
  {
   "cell_type": "code",
   "execution_count": null,
   "metadata": {
    "ExecuteTime": {
     "end_time": "2017-07-24T16:21:25.892431Z",
     "start_time": "2017-07-24T16:21:25.718897Z"
    }
   },
   "outputs": [],
   "source": [
    "mecab_grid.best_estimator_.score(X_test[:1000], y_test[:1000])"
   ]
  },
  {
   "cell_type": "markdown",
   "metadata": {},
   "source": [
    "# Save model"
   ]
  },
  {
   "cell_type": "code",
   "execution_count": null,
   "metadata": {
    "collapsed": true
   },
   "outputs": [],
   "source": [
    "from sklearn.externals import joblib\n",
    "joblib.dump(mecab_grid.best_estimator_, '.katalk_bot/sentiment_engine.pkl')"
   ]
  },
  {
   "cell_type": "code",
   "execution_count": null,
   "metadata": {
    "collapsed": true
   },
   "outputs": [],
   "source": [
    "engine = joblib.load('.katalk_bot/sentiment_engine.pkl')\n",
    "engine"
   ]
  },
  {
   "cell_type": "code",
   "execution_count": null,
   "metadata": {
    "collapsed": true
   },
   "outputs": [],
   "source": [
    "mecab_grid.best_estimator_.predict_proba(['난 기분이 좋아'])[:, 1][0]"
   ]
  },
  {
   "cell_type": "markdown",
   "metadata": {
    "ExecuteTime": {
     "end_time": "2017-07-24T16:18:39.731222Z",
     "start_time": "2017-07-24T16:18:39.698485Z"
    }
   },
   "source": [
    "# Much faster! Now we can search little further in hyperparemter combinations!"
   ]
  },
  {
   "cell_type": "code",
   "execution_count": null,
   "metadata": {
    "ExecuteTime": {
     "end_time": "2017-07-24T16:20:16.569128Z",
     "start_time": "2017-07-24T16:20:16.542280Z"
    },
    "collapsed": true
   },
   "outputs": [],
   "source": [
    "mecab_param_grid = {\n",
    "    # TODO\n",
    "}\n",
    "mecab_pipe = make_pipeline(TfidfVectorizer(tokenizer=mecab_tokenizer), LogisticRegression())\n",
    "mecab_grid = GridSearchCV(mecab_pipe, mecab_param_grid)"
   ]
  },
  {
   "cell_type": "code",
   "execution_count": null,
   "metadata": {
    "ExecuteTime": {
     "end_time": "2017-07-24T16:20:51.286421Z",
     "start_time": "2017-07-24T16:20:17.455093Z"
    },
    "scrolled": true
   },
   "outputs": [],
   "source": [
    "mecab_grid.fit(X_train[:1000], y_train[:1000])"
   ]
  },
  {
   "cell_type": "code",
   "execution_count": null,
   "metadata": {
    "ExecuteTime": {
     "end_time": "2017-07-24T16:20:53.701492Z",
     "start_time": "2017-07-24T16:20:53.676615Z"
    }
   },
   "outputs": [],
   "source": [
    "mecab_grid.best_score_"
   ]
  },
  {
   "cell_type": "code",
   "execution_count": null,
   "metadata": {
    "ExecuteTime": {
     "end_time": "2017-07-24T16:20:54.314830Z",
     "start_time": "2017-07-24T16:20:54.285331Z"
    }
   },
   "outputs": [],
   "source": [
    "mecab_grid.best_params_"
   ]
  },
  {
   "cell_type": "code",
   "execution_count": null,
   "metadata": {
    "ExecuteTime": {
     "end_time": "2017-07-24T16:20:54.669441Z",
     "start_time": "2017-07-24T16:20:54.640698Z"
    },
    "scrolled": true
   },
   "outputs": [],
   "source": [
    "mecab_grid.best_estimator_"
   ]
  },
  {
   "cell_type": "markdown",
   "metadata": {},
   "source": [
    "## Hmm worse than before...\n",
    "- The model with best cross-validation score can **overfit** in training set."
   ]
  },
  {
   "cell_type": "code",
   "execution_count": null,
   "metadata": {
    "ExecuteTime": {
     "end_time": "2017-07-24T16:20:55.157785Z",
     "start_time": "2017-07-24T16:20:54.966345Z"
    },
    "scrolled": true
   },
   "outputs": [],
   "source": [
    "mecab_grid.best_estimator_.score(X_test[:1000], y_test[:1000])"
   ]
  },
  {
   "cell_type": "markdown",
   "metadata": {},
   "source": [
    "## Let's try with larger training data"
   ]
  },
  {
   "cell_type": "code",
   "execution_count": null,
   "metadata": {
    "ExecuteTime": {
     "end_time": "2017-07-24T16:29:40.994505Z",
     "start_time": "2017-07-24T16:29:40.967059Z"
    },
    "collapsed": true
   },
   "outputs": [],
   "source": [
    "mecab_param_grid = {\n",
    "    # TODO\n",
    "}\n",
    "mecab_pipe = make_pipeline(\n",
    "    # TODO\n",
    ")\n",
    "mecab_grid = GridSearchCV(\n",
    "    # TODO\n",
    ")"
   ]
  },
  {
   "cell_type": "code",
   "execution_count": null,
   "metadata": {
    "ExecuteTime": {
     "end_time": "2017-07-24T16:30:41.931770Z",
     "start_time": "2017-07-24T16:29:41.527779Z"
    },
    "scrolled": true
   },
   "outputs": [],
   "source": [
    "mecab_grid.fit(\n",
    "    # TODO\n",
    ")"
   ]
  },
  {
   "cell_type": "code",
   "execution_count": null,
   "metadata": {
    "ExecuteTime": {
     "end_time": "2017-07-24T16:30:51.552173Z",
     "start_time": "2017-07-24T16:30:51.517997Z"
    }
   },
   "outputs": [],
   "source": [
    "mecab_grid.best_score_"
   ]
  },
  {
   "cell_type": "code",
   "execution_count": null,
   "metadata": {
    "ExecuteTime": {
     "end_time": "2017-07-24T16:30:52.257888Z",
     "start_time": "2017-07-24T16:30:52.230489Z"
    }
   },
   "outputs": [],
   "source": [
    "mecab_grid.best_params_"
   ]
  },
  {
   "cell_type": "code",
   "execution_count": null,
   "metadata": {
    "ExecuteTime": {
     "end_time": "2017-07-24T16:30:52.906377Z",
     "start_time": "2017-07-24T16:30:52.880933Z"
    }
   },
   "outputs": [],
   "source": [
    "mecab_grid.best_estimator_"
   ]
  },
  {
   "cell_type": "markdown",
   "metadata": {
    "ExecuteTime": {
     "end_time": "2017-07-24T16:31:05.736606Z",
     "start_time": "2017-07-24T16:31:05.706960Z"
    }
   },
   "source": [
    "# Yayy!"
   ]
  },
  {
   "cell_type": "code",
   "execution_count": null,
   "metadata": {
    "ExecuteTime": {
     "end_time": "2017-07-24T16:30:53.590620Z",
     "start_time": "2017-07-24T16:30:53.431389Z"
    },
    "scrolled": true
   },
   "outputs": [],
   "source": [
    "mecab_grid.best_estimator_.score(X_test[:1000], y_test[:1000])"
   ]
  },
  {
   "cell_type": "markdown",
   "metadata": {},
   "source": [
    "# If you have time,\n",
    "- Gather more data\n",
    "- Try different tokenization (ex, char-level, positional-encoding)\n",
    "- Try different classifier (ex, SVM, Random Foreset)\n",
    "- [Ensemble features](http://scikit-learn.org/stable/modules/generated/sklearn.pipeline.FeatureUnion.html#sklearn.pipeline.FeatureUnion) (word-level occurence + char_level + word_vector + query length etc.)\n",
    "- [Ensemble models](http://blog.kaggle.com/2017/06/15/stacking-made-easy-an-introduction-to-stacknet-by-competitions-grandmaster-marios-michailidis-kazanova)\n",
    "- [Feature hashing](https://msdn.microsoft.com/en-us/library/azure/dn906018.aspx)"
   ]
  }
 ],
 "metadata": {
  "anaconda-cloud": {},
  "kernelspec": {
   "display_name": "Python [conda env:hangul]",
   "language": "python",
   "name": "conda-env-hangul-py"
  },
  "language_info": {
   "codemirror_mode": {
    "name": "ipython",
    "version": 3
   },
   "file_extension": ".py",
   "mimetype": "text/x-python",
   "name": "python",
   "nbconvert_exporter": "python",
   "pygments_lexer": "ipython3",
   "version": "3.6.2"
  },
  "varInspector": {
   "cols": {
    "lenName": 16,
    "lenType": 16,
    "lenVar": 40
   },
   "kernels_config": {
    "python": {
     "delete_cmd_postfix": "",
     "delete_cmd_prefix": "del ",
     "library": "var_list.py",
     "varRefreshCmd": "print(var_dic_list())"
    },
    "r": {
     "delete_cmd_postfix": ") ",
     "delete_cmd_prefix": "rm(",
     "library": "var_list.r",
     "varRefreshCmd": "cat(var_dic_list()) "
    }
   },
   "types_to_exclude": [
    "module",
    "function",
    "builtin_function_or_method",
    "instance",
    "_Feature"
   ],
   "window_display": false
  }
 },
 "nbformat": 4,
 "nbformat_minor": 2
}
