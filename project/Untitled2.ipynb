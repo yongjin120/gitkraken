{
 "cells": [
  {
   "cell_type": "code",
   "execution_count": 3,
   "metadata": {},
   "outputs": [],
   "source": [
    "from gensim.models import doc2vec\n",
    "import pandas as pd\n",
    "import pprint\n",
    "import os\n",
    "import numpy as np\n",
    "from konlpy.tag import Komoran\n",
    "from konlpy.tag import Twitter\n",
    "import time\n",
    "import pandas as pd\n"
   ]
  },
  {
   "cell_type": "code",
   "execution_count": 4,
   "metadata": {},
   "outputs": [
    {
     "data": {
      "text/plain": [
       "(['국수_output.csv',\n",
       "  '닭갈비_output.csv',\n",
       "  '불고기_output.csv',\n",
       "  '갈비탕_output.csv',\n",
       "  '김치찌개_output.csv',\n",
       "  '비빔밥_output.csv',\n",
       "  '볶음밥_output.csv',\n",
       "  '삼계탕_output.csv',\n",
       "  '냉면_output.csv',\n",
       "  '육회_output.csv',\n",
       "  '떡국_output.csv',\n",
       "  '곰국_output.csv',\n",
       "  '잡채_output.csv',\n",
       "  '삼겹살_output.csv',\n",
       "  '김밥_output.csv',\n",
       "  '칼국수_output.csv'],\n",
       " 16)"
      ]
     },
     "execution_count": 4,
     "metadata": {},
     "output_type": "execute_result"
    }
   ],
   "source": [
    "file_list = os.listdir('./dataset/food')\n",
    "file_list,len(file_list)"
   ]
  },
  {
   "cell_type": "code",
   "execution_count": 5,
   "metadata": {},
   "outputs": [
    {
     "name": "stdout",
     "output_type": "stream",
     "text": [
      "불고기_output.csv\n",
      "갈비탕_output.csv\n",
      "김치찌개_output.csv\n",
      "비빔밥_output.csv\n",
      "볶음밥_output.csv\n",
      "삼계탕_output.csv\n",
      "냉면_output.csv\n",
      "육회_output.csv\n",
      "떡국_output.csv\n",
      "곰국_output.csv\n",
      "잡채_output.csv\n",
      "삼겹살_output.csv\n",
      "김밥_output.csv\n",
      "칼국수_output.csv\n"
     ]
    }
   ],
   "source": [
    "index = ['A','B','C','D',\n",
    "             'E','F','G','H',\n",
    "             'I','J','K','L',\n",
    "             'M','N','O','P']\n",
    "df1 = pd.read_csv('./dataset/food/'+file_list[0]\n",
    "                   , engine='python'                   \n",
    "                   , names = ['name','url','review']\n",
    "                   , encoding='utf-8'                   \n",
    "                   , na_filter =True                   \n",
    "                  )\n",
    "df1['name']=index[0]\n",
    "df2 = pd.read_csv('./dataset/food/'+file_list[1]\n",
    "                   , engine='python'                   \n",
    "                   , names = ['name','url','review']\n",
    "                   , encoding='utf-8'                   \n",
    "                   , na_filter =True                   \n",
    "                  )\n",
    "df2['name']=index[1]\n",
    "df_merge=pd.concat([df1,df2], axis=0)\n",
    "\n",
    "for idx, fl in enumerate(file_list[2:]):    \n",
    "    print(fl)\n",
    "    df = pd.read_csv('./dataset/food/'+fl\n",
    "                   , engine='python'                   \n",
    "                   , names = ['name','url','review']\n",
    "                   , encoding='utf-8'                   \n",
    "                   , na_filter =True                   \n",
    "                  )\n",
    "    df['name']=index[idx+2]\n",
    "    df_merge=pd.concat([df_merge,df],axis=0)"
   ]
  },
  {
   "cell_type": "code",
   "execution_count": 6,
   "metadata": {},
   "outputs": [
    {
     "name": "stdout",
     "output_type": "stream",
     "text": [
      "10449\n"
     ]
    }
   ],
   "source": [
    "from collections import namedtuple\n",
    "TaggedDocument = namedtuple('TaggedDocument', 'words tags')\n",
    "tagged_train_docs = [TaggedDocument(d, c) for d, c in df_merge[['review', 'name']].values]\n",
    "print(len(tagged_train_docs))"
   ]
  },
  {
   "cell_type": "code",
   "execution_count": 7,
   "metadata": {},
   "outputs": [
    {
     "name": "stderr",
     "output_type": "stream",
     "text": [
      "/home/oj-pjt-03/anaconda3/envs/myPython/lib/python3.6/site-packages/gensim/models/doc2vec.py:366: UserWarning: The parameter `size` is deprecated, will be removed in 4.0.0, use `vector_size` instead.\n",
      "  warnings.warn(\"The parameter `size` is deprecated, will be removed in 4.0.0, use `vector_size` instead.\")\n"
     ]
    }
   ],
   "source": [
    "doc_vectorizer = doc2vec.Doc2Vec(size=500, \n",
    "                                 alpha=0.025,\n",
    "                                 min_alpha=0.025, \n",
    "                                 seed=1234)\n",
    "doc_vectorizer.build_vocab(tagged_train_docs)"
   ]
  },
  {
   "cell_type": "code",
   "execution_count": 8,
   "metadata": {},
   "outputs": [],
   "source": [
    "model_name = 'Doc2vec_dbow_food.model'\n",
    "doc_vectorizer.save(model_name)"
   ]
  },
  {
   "cell_type": "code",
   "execution_count": 16,
   "metadata": {},
   "outputs": [
    {
     "name": "stdout",
     "output_type": "stream",
     "text": [
      "[['바다', '산', '나들이', '가족', '여행', '휴가', '김밥', '맛잇어', '김', '단무지', '햄', '', ''], ['갈비탕', '갈비', '갈비대', '국물', '깍두기'], ['고소', '기름', '된장', '쌈장', '상추', '쌈', '회식', '고기', '육즙', '']]\n",
      "[('K', 0.04355579614639282)]\n",
      "[('E', 0.11211419850587845)]\n",
      "[('P', 0.0771707147359848)]\n"
     ]
    }
   ],
   "source": [
    "texts=['바다 산 나들이 가족 여행 휴가 김밥 맛잇어 김 단무지 햄  '.split(' '),\n",
    "       '갈비탕 갈비 갈비대 국물 깍두기'.split(' '),\n",
    "       '고소 기름 된장 쌈장 상추 쌈 회식 고기 육즙 '.split(' ')\n",
    "       ]       \n",
    "print(texts)\n",
    "for txt in texts:\n",
    "    print(doc_vectorizer.docvecs.most_similar(positive=[doc_vectorizer.infer_vector(txt)],topn=1))\n"
   ]
  },
  {
   "cell_type": "markdown",
   "metadata": {},
   "source": [
    "A : '국수_output.csv',\n",
    "B : '닭갈비_output.csv',\n",
    "C : '불고기_output.csv',\n",
    "D : '갈비탕_output.csv',\n",
    "E : '김치찌개_output.csv', \n",
    "F : '비빔밥_output.csv',\n",
    "G : '볶음밥_output.csv',\n",
    "H : '삼계탕_output.csv',\n",
    "I : '냉면_output.csv',\n",
    "J : '육회_output.csv',\n",
    "K : '떡국_output.csv',\n",
    "L : '곰국_output.csv',\n",
    "M : '잡채_output.csv',\n",
    "N: '삼겹살_output.csv',\n",
    "O : '김밥_output.csv',\n",
    "P : '칼국수_output.csv'"
   ]
  },
  {
   "cell_type": "code",
   "execution_count": null,
   "metadata": {},
   "outputs": [],
   "source": []
  }
 ],
 "metadata": {
  "kernelspec": {
   "display_name": "Python 3",
   "language": "python",
   "name": "python3"
  },
  "language_info": {
   "codemirror_mode": {
    "name": "ipython",
    "version": 3
   },
   "file_extension": ".py",
   "mimetype": "text/x-python",
   "name": "python",
   "nbconvert_exporter": "python",
   "pygments_lexer": "ipython3",
   "version": "3.6.5"
  }
 },
 "nbformat": 4,
 "nbformat_minor": 2
}
