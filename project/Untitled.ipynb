{
 "cells": [
  {
   "cell_type": "code",
   "execution_count": 1,
   "metadata": {},
   "outputs": [],
   "source": [
    "def read_data(filename):\n",
    "    with open(filename, 'r') as f:\n",
    "        data = [line.split('\\t') for line in f.read().splitlines()]\n",
    "        data = data[1:]   # header 제외\n",
    "    return data\n",
    "train_data = read_data('./dataset/ratings_train.txt')\n",
    "test_data = read_data('./dataset/ratings_test.txt')"
   ]
  },
  {
   "cell_type": "code",
   "execution_count": 2,
   "metadata": {},
   "outputs": [
    {
     "name": "stdout",
     "output_type": "stream",
     "text": [
      "150000\n",
      "3\n",
      "50000\n",
      "3\n"
     ]
    }
   ],
   "source": [
    "# row, column의 수가 제대로 읽혔는지 확인\n",
    "print(len(train_data))      # nrows: 150000\n",
    "print(len(train_data[0]))   # ncols: 3\n",
    "print(len(test_data))       # nrows: 50000\n",
    "print(len(test_data[0]))     # ncols: 3"
   ]
  },
  {
   "cell_type": "code",
   "execution_count": 3,
   "metadata": {},
   "outputs": [
    {
     "name": "stdout",
     "output_type": "stream",
     "text": [
      "(['아/Exclamation',\n",
      "  '더빙/Noun',\n",
      "  '../Punctuation',\n",
      "  '진짜/Noun',\n",
      "  '짜증/Noun',\n",
      "  '나다/Verb',\n",
      "  '목소리/Noun'],\n",
      " '0')\n"
     ]
    }
   ],
   "source": [
    "from konlpy.tag import Twitter\n",
    "pos_tagger = Twitter()\n",
    "def tokenize(doc):\n",
    "    # norm, stem은 optional\n",
    "    return ['/'.join(t) for t in pos_tagger.pos(doc, norm=True, stem=True)]\n",
    "train_docs = [(tokenize(row[1]), row[2]) for row in train_data]\n",
    "test_docs = [(tokenize(row[1]), row[2]) for row in test_data]\n",
    "# 잘 들어갔는지 확인\n",
    "from pprint import pprint\n",
    "pprint(train_docs[0])\n"
   ]
  },
  {
   "cell_type": "code",
   "execution_count": 4,
   "metadata": {},
   "outputs": [
    {
     "name": "stdout",
     "output_type": "stream",
     "text": [
      "2194536\n"
     ]
    }
   ],
   "source": [
    "tokens = [t for d in train_docs for t in d[0]]\n",
    "print(len(tokens))"
   ]
  },
  {
   "cell_type": "code",
   "execution_count": 5,
   "metadata": {},
   "outputs": [
    {
     "name": "stdout",
     "output_type": "stream",
     "text": [
      "<Text: NMSC>\n"
     ]
    }
   ],
   "source": [
    "import nltk\n",
    "text = nltk.Text(tokens, name='NMSC')\n",
    "print(text)"
   ]
  },
  {
   "cell_type": "code",
   "execution_count": 6,
   "metadata": {},
   "outputs": [
    {
     "name": "stdout",
     "output_type": "stream",
     "text": [
      "2194536\n",
      "48765\n",
      "[('./Punctuation', 68630),\n",
      " ('영화/Noun', 51365),\n",
      " ('하다/Verb', 50281),\n",
      " ('이/Josa', 39123),\n",
      " ('보다/Verb', 34764),\n",
      " ('의/Josa', 30480),\n",
      " ('../Punctuation', 29055),\n",
      " ('에/Josa', 27108),\n",
      " ('가/Josa', 26696),\n",
      " ('을/Josa', 23481)]\n"
     ]
    }
   ],
   "source": [
    "print(len(text.tokens))                 # returns number of tokens\n",
    "# => 2194536\n",
    "print(len(set(text.tokens)))            # returns number of unique tokens\n",
    "# => 48765\n",
    "pprint(text.vocab().most_common(10)) "
   ]
  },
  {
   "cell_type": "code",
   "execution_count": 7,
   "metadata": {},
   "outputs": [
    {
     "name": "stdout",
     "output_type": "stream",
     "text": [
      "[nltk_data] Downloading package stopwords to /home/oj-\n",
      "[nltk_data]     pjt-03/nltk_data...\n",
      "[nltk_data]   Package stopwords is already up-to-date!\n",
      "이/Determiner 것/Noun; 적/Suffix 인/Josa; 이/Determiner 거/Noun; 안/Noun\n",
      "되다/Verb; 것/Noun 은/Josa; 10/Number 점/Noun; 배우/Noun 들/Suffix; 수/Noun\n",
      "있다/Adjective; 이/Noun 게/Josa; 내/Noun 가/Josa; 최고/Noun 의/Josa; 네/Suffix\n",
      "요/Josa; 이/Noun 영화/Noun; 끝/Noun 까지/Josa; 들/Suffix 이/Josa; 봐/Noun\n",
      "도/Josa; 때문/Noun 에/Josa; 적/Suffix 으로/Josa; 사람/Noun 들/Suffix; 영화/Noun\n",
      "를/Josa\n"
     ]
    }
   ],
   "source": [
    "nltk.download('stopwords')\n",
    "text.collocations()"
   ]
  },
  {
   "cell_type": "code",
   "execution_count": 8,
   "metadata": {},
   "outputs": [
    {
     "data": {
      "text/plain": [
       "4"
      ]
     },
     "execution_count": 8,
     "metadata": {},
     "output_type": "execute_result"
    }
   ],
   "source": [
    "import multiprocessing\n",
    "cores = multiprocessing.cpu_count()\n",
    "cores"
   ]
  },
  {
   "cell_type": "code",
   "execution_count": 9,
   "metadata": {},
   "outputs": [],
   "source": [
    "import logging\n",
    "logging.basicConfig(format='%(asctime)s : %(levelname)s : %(message)s', level=logging.INFO)\n"
   ]
  },
  {
   "cell_type": "code",
   "execution_count": null,
   "metadata": {},
   "outputs": [],
   "source": [
    "doc_vectorizer = Doc2Vec(\n",
    "    dm=0,            # PV-DBOW / default 1\n",
    "    dbow_words=1,    # w2v simultaneous with DBOW d2v / default 0\n",
    "    window=8,        # distance between the predicted word and context words\n",
    "    size=300,        # vector size\n",
    "    alpha=0.025,     # learning-rate\n",
    "    seed=1234,\n",
    "    min_count=20,    # ignore with freq lower\n",
    "    min_alpha=0.025, # min learning-rate\n",
    "    workers=cores,   # multi cpu\n",
    "    hs = 1,          # hierarchical softmax / default 0\n",
    "    negative = 10,   # negative sampling / default 5\n",
    ")"
   ]
  },
  {
   "cell_type": "code",
   "execution_count": null,
   "metadata": {},
   "outputs": [],
   "source": [
    "selected_words = [f[0] for f in text.vocab().most_common(2000)]\n",
    "def term_exists(doc):\n",
    "    return {'exists({})'.format(word): (word in set(doc)) for word in selected_words}\n",
    "# 시간 단축을 위한 꼼수로 training corpus의 일부만 사용할 수 있음\n",
    "train_docs = train_docs[:150000]\n",
    "train_xy = [(term_exists(d), c) for d, c in train_docs]\n",
    "test_xy = [(term_exists(d), c) for d, c in test_docs]"
   ]
  },
  {
   "cell_type": "code",
   "execution_count": 15,
   "metadata": {},
   "outputs": [
    {
     "name": "stdout",
     "output_type": "stream",
     "text": [
      "0.79246\n",
      "Most Informative Features\n",
      "         exists(수준/Noun) = True                0 : 1      =     25.6 : 1.0\n",
      "          exists(굿/Noun) = True                1 : 0      =     21.0 : 1.0\n",
      "   exists(아깝다/Adjective) = True                0 : 1      =     19.5 : 1.0\n",
      "         exists(최악/Noun) = True                0 : 1      =     19.3 : 1.0\n",
      "         exists(실망/Noun) = True                0 : 1      =     17.4 : 1.0\n",
      "  exists(재미없다/Adjective) = True                0 : 1      =     16.7 : 1.0\n",
      "        exists(쓰레기/Noun) = True                0 : 1      =     15.9 : 1.0\n",
      "exists(ㅉㅉ/KoreanParticle) = True                0 : 1      =     15.7 : 1.0\n",
      "       exists(♥/Foreign) = True                1 : 0      =     14.3 : 1.0\n",
      "         exists(졸작/Noun) = True                0 : 1      =     12.3 : 1.0\n"
     ]
    }
   ],
   "source": [
    "classifier = nltk.NaiveBayesClassifier.train(train_xy)\n",
    "print(nltk.classify.accuracy(classifier, test_xy))\n",
    "# => 0.80418\n",
    "classifier.show_most_informative_features(10)"
   ]
  },
  {
   "cell_type": "code",
   "execution_count": 4,
   "metadata": {},
   "outputs": [],
   "source": [
    "from collections import namedtuple\n",
    "TaggedDocument = namedtuple('TaggedDocument', 'words tags')\n",
    "# 여기서는 15만개 training documents 전부 사용함\n",
    "tagged_train_docs = [TaggedDocument(d, [c]) for d, c in train_docs]\n",
    "#tagged_test_docs = [TaggedDocument(d, [c]) for d, c in test_docs]"
   ]
  },
  {
   "cell_type": "code",
   "execution_count": 6,
   "metadata": {},
   "outputs": [
    {
     "data": {
      "text/plain": [
       "TaggedDocument(words=['아/Exclamation', '더빙/Noun', '../Punctuation', '진짜/Noun', '짜증/Noun', '나다/Verb', '목소리/Noun'], tags=['0'])"
      ]
     },
     "execution_count": 6,
     "metadata": {},
     "output_type": "execute_result"
    }
   ],
   "source": [
    "tagged_train_docs[0]"
   ]
  },
  {
   "cell_type": "code",
   "execution_count": 8,
   "metadata": {},
   "outputs": [
    {
     "data": {
      "text/plain": [
       "4"
      ]
     },
     "execution_count": 8,
     "metadata": {},
     "output_type": "execute_result"
    }
   ],
   "source": [
    "import multiprocessing\n",
    "cores = multiprocessing.cpu_count()\n",
    "cores"
   ]
  },
  {
   "cell_type": "code",
   "execution_count": 9,
   "metadata": {},
   "outputs": [],
   "source": [
    "import logging\n",
    "logging.basicConfig(format='%(asctime)s : %(levelname)s : %(message)s', level=logging.INFO)"
   ]
  },
  {
   "cell_type": "code",
   "execution_count": 10,
   "metadata": {},
   "outputs": [
    {
     "name": "stderr",
     "output_type": "stream",
     "text": [
      "2018-06-23 15:21:54,100 : INFO : collecting all words and their counts\n",
      "2018-06-23 15:21:54,101 : INFO : PROGRESS: at example #0, processed 0 words (0/s), 0 word types, 0 tags\n",
      "2018-06-23 15:21:54,160 : INFO : PROGRESS: at example #10000, processed 149198 words (2575653/s), 12986 word types, 2 tags\n",
      "2018-06-23 15:21:54,213 : INFO : PROGRESS: at example #20000, processed 294391 words (2729577/s), 18460 word types, 2 tags\n",
      "2018-06-23 15:21:54,269 : INFO : PROGRESS: at example #30000, processed 442219 words (2711021/s), 22487 word types, 2 tags\n",
      "2018-06-23 15:21:54,324 : INFO : PROGRESS: at example #40000, processed 591431 words (2731949/s), 26000 word types, 2 tags\n",
      "2018-06-23 15:21:54,379 : INFO : PROGRESS: at example #50000, processed 737345 words (2660786/s), 28953 word types, 2 tags\n",
      "2018-06-23 15:21:54,435 : INFO : PROGRESS: at example #60000, processed 883112 words (2654152/s), 31531 word types, 2 tags\n",
      "2018-06-23 15:21:54,491 : INFO : PROGRESS: at example #70000, processed 1027398 words (2624678/s), 33970 word types, 2 tags\n",
      "2018-06-23 15:21:54,546 : INFO : PROGRESS: at example #80000, processed 1173487 words (2645969/s), 36161 word types, 2 tags\n",
      "2018-06-23 15:21:54,603 : INFO : PROGRESS: at example #90000, processed 1320861 words (2635444/s), 38351 word types, 2 tags\n",
      "2018-06-23 15:21:54,658 : INFO : PROGRESS: at example #100000, processed 1465262 words (2621527/s), 40263 word types, 2 tags\n",
      "2018-06-23 15:21:54,715 : INFO : PROGRESS: at example #110000, processed 1609954 words (2580241/s), 42139 word types, 2 tags\n",
      "2018-06-23 15:21:54,772 : INFO : PROGRESS: at example #120000, processed 1757173 words (2596187/s), 43919 word types, 2 tags\n",
      "2018-06-23 15:21:54,829 : INFO : PROGRESS: at example #130000, processed 1903018 words (2617849/s), 45532 word types, 2 tags\n",
      "2018-06-23 15:21:54,887 : INFO : PROGRESS: at example #140000, processed 2048946 words (2530767/s), 47216 word types, 2 tags\n",
      "2018-06-23 15:21:54,947 : INFO : collected 48765 word types and 2 unique tags from a corpus of 150000 examples and 2194536 words\n",
      "2018-06-23 15:21:54,947 : INFO : Loading a fresh vocabulary\n",
      "2018-06-23 15:21:54,981 : INFO : min_count=5 retains 14809 unique words (30% of original 48765, drops 33956)\n",
      "2018-06-23 15:21:54,982 : INFO : min_count=5 leaves 2141240 word corpus (97% of original 2194536, drops 53296)\n",
      "2018-06-23 15:21:55,014 : INFO : deleting the raw counts dictionary of 48765 items\n",
      "2018-06-23 15:21:55,016 : INFO : sample=0.001 downsamples 51 most-common words\n",
      "2018-06-23 15:21:55,017 : INFO : downsampling leaves estimated 1722163 word corpus (80.4% of prior 2141240)\n",
      "2018-06-23 15:21:55,055 : INFO : estimated required memory for 14809 words and 300 dimensions: 42948900 bytes\n",
      "2018-06-23 15:21:55,056 : INFO : resetting layer weights\n"
     ]
    },
    {
     "name": "stdout",
     "output_type": "stream",
     "text": [
      "Doc2Vec(dbow,d300,n5,mc5,s0.001,t3)\n"
     ]
    }
   ],
   "source": [
    "from gensim.models import doc2vec\n",
    "# 사전 구축\n",
    "doc_vectorizer = doc2vec.Doc2Vec(dm=0,\n",
    "                                                    vector_size=300, \n",
    "                                                    alpha=0.025, \n",
    "                                                    window=8, \n",
    "                                                    min_alpha=0.025, \n",
    "                                                    seed=1234)\n",
    "doc_vectorizer.build_vocab(tagged_train_docs)\n",
    "total_examples=doc_vectorizer.corpus_count\n",
    "# Train document vectors!\n",
    "print(str(doc_vectorizer))"
   ]
  },
  {
   "cell_type": "code",
   "execution_count": 11,
   "metadata": {},
   "outputs": [
    {
     "name": "stderr",
     "output_type": "stream",
     "text": [
      "/home/oj-pjt-03/anaconda3/lib/python3.6/site-packages/ipykernel_launcher.py:1: DeprecationWarning: Call to deprecated `iter` (Attribute will be removed in 4.0.0, use self.epochs instead).\n",
      "  \"\"\"Entry point for launching an IPython kernel.\n"
     ]
    },
    {
     "data": {
      "text/plain": [
       "(150000, 5)"
      ]
     },
     "execution_count": 11,
     "metadata": {},
     "output_type": "execute_result"
    }
   ],
   "source": [
    "doc_vectorizer.corpus_count, doc_vectorizer.iter"
   ]
  },
  {
   "cell_type": "code",
   "execution_count": 12,
   "metadata": {},
   "outputs": [],
   "source": [
    "import time"
   ]
  },
  {
   "cell_type": "code",
   "execution_count": 13,
   "metadata": {},
   "outputs": [
    {
     "name": "stderr",
     "output_type": "stream",
     "text": [
      "/home/oj-pjt-03/anaconda3/lib/python3.6/site-packages/ipykernel_launcher.py:5: DeprecationWarning: Call to deprecated `iter` (Attribute will be removed in 4.0.0, use self.epochs instead).\n",
      "  \"\"\"\n",
      "2018-06-23 15:22:33,228 : INFO : training model with 3 workers on 14809 vocabulary and 300 features, using sg=1 hs=0 sample=0.001 negative=5 window=8\n"
     ]
    },
    {
     "name": "stdout",
     "output_type": "stream",
     "text": [
      "0\n"
     ]
    },
    {
     "name": "stderr",
     "output_type": "stream",
     "text": [
      "2018-06-23 15:22:34,256 : INFO : EPOCH 1 - PROGRESS: at 27.96% examples, 520002 words/s, in_qsize 5, out_qsize 0\n",
      "2018-06-23 15:22:35,272 : INFO : EPOCH 1 - PROGRESS: at 57.60% examples, 532391 words/s, in_qsize 5, out_qsize 0\n",
      "2018-06-23 15:22:36,289 : INFO : EPOCH 1 - PROGRESS: at 87.31% examples, 536415 words/s, in_qsize 6, out_qsize 0\n",
      "2018-06-23 15:22:36,696 : INFO : worker thread finished; awaiting finish of 2 more threads\n",
      "2018-06-23 15:22:36,711 : INFO : worker thread finished; awaiting finish of 1 more threads\n",
      "2018-06-23 15:22:36,715 : INFO : worker thread finished; awaiting finish of 0 more threads\n",
      "2018-06-23 15:22:36,715 : INFO : EPOCH - 1 : training on 2194536 raw words (1872147 effective words) took 3.5s, 538704 effective words/s\n",
      "2018-06-23 15:22:37,723 : INFO : EPOCH 2 - PROGRESS: at 28.42% examples, 535013 words/s, in_qsize 5, out_qsize 0\n",
      "2018-06-23 15:22:38,728 : INFO : EPOCH 2 - PROGRESS: at 57.14% examples, 534596 words/s, in_qsize 5, out_qsize 0\n",
      "2018-06-23 15:22:39,760 : INFO : EPOCH 2 - PROGRESS: at 86.84% examples, 535449 words/s, in_qsize 5, out_qsize 0\n",
      "2018-06-23 15:22:40,173 : INFO : worker thread finished; awaiting finish of 2 more threads\n",
      "2018-06-23 15:22:40,183 : INFO : worker thread finished; awaiting finish of 1 more threads\n",
      "2018-06-23 15:22:40,186 : INFO : worker thread finished; awaiting finish of 0 more threads\n",
      "2018-06-23 15:22:40,187 : INFO : EPOCH - 2 : training on 2194536 raw words (1872239 effective words) took 3.5s, 540027 effective words/s\n",
      "2018-06-23 15:22:41,220 : INFO : EPOCH 3 - PROGRESS: at 29.30% examples, 539974 words/s, in_qsize 5, out_qsize 0\n",
      "2018-06-23 15:22:42,231 : INFO : EPOCH 3 - PROGRESS: at 58.51% examples, 539554 words/s, in_qsize 5, out_qsize 0\n",
      "2018-06-23 15:22:43,232 : INFO : EPOCH 3 - PROGRESS: at 87.76% examples, 541359 words/s, in_qsize 6, out_qsize 0\n",
      "2018-06-23 15:22:43,617 : INFO : worker thread finished; awaiting finish of 2 more threads\n",
      "2018-06-23 15:22:43,633 : INFO : worker thread finished; awaiting finish of 1 more threads\n",
      "2018-06-23 15:22:43,640 : INFO : worker thread finished; awaiting finish of 0 more threads\n",
      "2018-06-23 15:22:43,640 : INFO : EPOCH - 3 : training on 2194536 raw words (1871922 effective words) took 3.4s, 543350 effective words/s\n",
      "2018-06-23 15:22:44,656 : INFO : EPOCH 4 - PROGRESS: at 28.86% examples, 542284 words/s, in_qsize 6, out_qsize 0\n",
      "2018-06-23 15:22:45,663 : INFO : EPOCH 4 - PROGRESS: at 58.05% examples, 541725 words/s, in_qsize 5, out_qsize 0\n",
      "2018-06-23 15:22:46,669 : INFO : EPOCH 4 - PROGRESS: at 86.88% examples, 539241 words/s, in_qsize 5, out_qsize 0\n",
      "2018-06-23 15:22:47,084 : INFO : worker thread finished; awaiting finish of 2 more threads\n",
      "2018-06-23 15:22:47,104 : INFO : worker thread finished; awaiting finish of 1 more threads\n",
      "2018-06-23 15:22:47,116 : INFO : worker thread finished; awaiting finish of 0 more threads\n",
      "2018-06-23 15:22:47,116 : INFO : EPOCH - 4 : training on 2194536 raw words (1872416 effective words) took 3.5s, 540225 effective words/s\n",
      "2018-06-23 15:22:48,125 : INFO : EPOCH 5 - PROGRESS: at 28.86% examples, 544328 words/s, in_qsize 5, out_qsize 0\n",
      "2018-06-23 15:22:49,133 : INFO : EPOCH 5 - PROGRESS: at 58.08% examples, 542661 words/s, in_qsize 5, out_qsize 0\n",
      "2018-06-23 15:22:50,139 : INFO : EPOCH 5 - PROGRESS: at 87.33% examples, 542441 words/s, in_qsize 5, out_qsize 0\n",
      "2018-06-23 15:22:50,548 : INFO : worker thread finished; awaiting finish of 2 more threads\n",
      "2018-06-23 15:22:50,565 : INFO : worker thread finished; awaiting finish of 1 more threads\n",
      "2018-06-23 15:22:50,569 : INFO : worker thread finished; awaiting finish of 0 more threads\n",
      "2018-06-23 15:22:50,570 : INFO : EPOCH - 5 : training on 2194536 raw words (1872235 effective words) took 3.4s, 543278 effective words/s\n",
      "2018-06-23 15:22:50,570 : INFO : training on a 10972680 raw words (9360959 effective words) took 17.3s, 539824 effective words/s\n",
      "2018-06-23 15:22:50,570 : INFO : training model with 3 workers on 14809 vocabulary and 300 features, using sg=1 hs=0 sample=0.001 negative=5 window=8\n"
     ]
    },
    {
     "name": "stdout",
     "output_type": "stream",
     "text": [
      "1\n"
     ]
    },
    {
     "name": "stderr",
     "output_type": "stream",
     "text": [
      "2018-06-23 15:22:51,591 : INFO : EPOCH 1 - PROGRESS: at 28.86% examples, 541346 words/s, in_qsize 6, out_qsize 0\n",
      "2018-06-23 15:22:52,614 : INFO : EPOCH 1 - PROGRESS: at 58.53% examples, 541344 words/s, in_qsize 5, out_qsize 0\n",
      "2018-06-23 15:22:53,620 : INFO : EPOCH 1 - PROGRESS: at 87.76% examples, 541597 words/s, in_qsize 5, out_qsize 0\n",
      "2018-06-23 15:22:54,004 : INFO : worker thread finished; awaiting finish of 2 more threads\n",
      "2018-06-23 15:22:54,020 : INFO : worker thread finished; awaiting finish of 1 more threads\n",
      "2018-06-23 15:22:54,029 : INFO : worker thread finished; awaiting finish of 0 more threads\n",
      "2018-06-23 15:22:54,030 : INFO : EPOCH - 1 : training on 2194536 raw words (1872176 effective words) took 3.4s, 543205 effective words/s\n",
      "2018-06-23 15:22:55,068 : INFO : EPOCH 2 - PROGRESS: at 29.30% examples, 535838 words/s, in_qsize 5, out_qsize 0\n",
      "2018-06-23 15:22:56,089 : INFO : EPOCH 2 - PROGRESS: at 58.98% examples, 538772 words/s, in_qsize 5, out_qsize 0\n",
      "2018-06-23 15:22:57,091 : INFO : EPOCH 2 - PROGRESS: at 88.19% examples, 540442 words/s, in_qsize 5, out_qsize 0\n",
      "2018-06-23 15:22:57,456 : INFO : worker thread finished; awaiting finish of 2 more threads\n",
      "2018-06-23 15:22:57,477 : INFO : worker thread finished; awaiting finish of 1 more threads\n",
      "2018-06-23 15:22:57,478 : INFO : worker thread finished; awaiting finish of 0 more threads\n",
      "2018-06-23 15:22:57,478 : INFO : EPOCH - 2 : training on 2194536 raw words (1871196 effective words) took 3.4s, 543437 effective words/s\n",
      "2018-06-23 15:22:58,504 : INFO : EPOCH 3 - PROGRESS: at 28.86% examples, 534397 words/s, in_qsize 6, out_qsize 0\n",
      "2018-06-23 15:22:59,515 : INFO : EPOCH 3 - PROGRESS: at 58.05% examples, 536823 words/s, in_qsize 6, out_qsize 0\n",
      "2018-06-23 15:23:00,538 : INFO : EPOCH 3 - PROGRESS: at 87.76% examples, 538435 words/s, in_qsize 5, out_qsize 0\n",
      "2018-06-23 15:23:00,926 : INFO : worker thread finished; awaiting finish of 2 more threads\n",
      "2018-06-23 15:23:00,930 : INFO : worker thread finished; awaiting finish of 1 more threads\n",
      "2018-06-23 15:23:00,946 : INFO : worker thread finished; awaiting finish of 0 more threads\n",
      "2018-06-23 15:23:00,946 : INFO : EPOCH - 3 : training on 2194536 raw words (1872476 effective words) took 3.5s, 540778 effective words/s\n",
      "2018-06-23 15:23:01,969 : INFO : EPOCH 4 - PROGRESS: at 28.86% examples, 536887 words/s, in_qsize 5, out_qsize 0\n",
      "2018-06-23 15:23:02,977 : INFO : EPOCH 4 - PROGRESS: at 58.05% examples, 538741 words/s, in_qsize 6, out_qsize 0\n",
      "2018-06-23 15:23:03,980 : INFO : EPOCH 4 - PROGRESS: at 87.76% examples, 543453 words/s, in_qsize 5, out_qsize 0\n",
      "2018-06-23 15:23:04,370 : INFO : worker thread finished; awaiting finish of 2 more threads\n",
      "2018-06-23 15:23:04,385 : INFO : worker thread finished; awaiting finish of 1 more threads\n",
      "2018-06-23 15:23:04,390 : INFO : worker thread finished; awaiting finish of 0 more threads\n",
      "2018-06-23 15:23:04,390 : INFO : EPOCH - 4 : training on 2194536 raw words (1871994 effective words) took 3.4s, 544754 effective words/s\n",
      "2018-06-23 15:23:05,398 : INFO : EPOCH 5 - PROGRESS: at 28.86% examples, 544708 words/s, in_qsize 5, out_qsize 0\n",
      "2018-06-23 15:23:06,421 : INFO : EPOCH 5 - PROGRESS: at 58.05% examples, 538456 words/s, in_qsize 6, out_qsize 0\n",
      "2018-06-23 15:23:07,449 : INFO : EPOCH 5 - PROGRESS: at 87.76% examples, 538786 words/s, in_qsize 5, out_qsize 0\n",
      "2018-06-23 15:23:07,836 : INFO : worker thread finished; awaiting finish of 2 more threads\n",
      "2018-06-23 15:23:07,845 : INFO : worker thread finished; awaiting finish of 1 more threads\n",
      "2018-06-23 15:23:07,849 : INFO : worker thread finished; awaiting finish of 0 more threads\n",
      "2018-06-23 15:23:07,849 : INFO : EPOCH - 5 : training on 2194536 raw words (1871884 effective words) took 3.5s, 542262 effective words/s\n",
      "2018-06-23 15:23:07,850 : INFO : training on a 10972680 raw words (9359726 effective words) took 17.3s, 541677 effective words/s\n",
      "2018-06-23 15:23:07,850 : INFO : training model with 3 workers on 14809 vocabulary and 300 features, using sg=1 hs=0 sample=0.001 negative=5 window=8\n"
     ]
    },
    {
     "name": "stdout",
     "output_type": "stream",
     "text": [
      "2\n"
     ]
    },
    {
     "name": "stderr",
     "output_type": "stream",
     "text": [
      "2018-06-23 15:23:08,859 : INFO : EPOCH 1 - PROGRESS: at 28.86% examples, 543191 words/s, in_qsize 6, out_qsize 0\n",
      "2018-06-23 15:23:09,880 : INFO : EPOCH 1 - PROGRESS: at 58.51% examples, 542534 words/s, in_qsize 5, out_qsize 0\n",
      "2018-06-23 15:23:10,891 : INFO : EPOCH 1 - PROGRESS: at 88.23% examples, 544503 words/s, in_qsize 5, out_qsize 0\n",
      "2018-06-23 15:23:11,267 : INFO : worker thread finished; awaiting finish of 2 more threads\n",
      "2018-06-23 15:23:11,276 : INFO : worker thread finished; awaiting finish of 1 more threads\n",
      "2018-06-23 15:23:11,286 : INFO : worker thread finished; awaiting finish of 0 more threads\n",
      "2018-06-23 15:23:11,287 : INFO : EPOCH - 1 : training on 2194536 raw words (1871833 effective words) took 3.4s, 545561 effective words/s\n",
      "2018-06-23 15:23:12,296 : INFO : EPOCH 2 - PROGRESS: at 28.86% examples, 543458 words/s, in_qsize 5, out_qsize 0\n",
      "2018-06-23 15:23:13,297 : INFO : EPOCH 2 - PROGRESS: at 57.60% examples, 539857 words/s, in_qsize 5, out_qsize 0\n",
      "2018-06-23 15:23:14,311 : INFO : EPOCH 2 - PROGRESS: at 86.84% examples, 539230 words/s, in_qsize 5, out_qsize 0\n",
      "2018-06-23 15:23:14,733 : INFO : worker thread finished; awaiting finish of 2 more threads\n",
      "2018-06-23 15:23:14,740 : INFO : worker thread finished; awaiting finish of 1 more threads\n",
      "2018-06-23 15:23:14,747 : INFO : worker thread finished; awaiting finish of 0 more threads\n",
      "2018-06-23 15:23:14,748 : INFO : EPOCH - 2 : training on 2194536 raw words (1872058 effective words) took 3.5s, 541965 effective words/s\n",
      "2018-06-23 15:23:15,761 : INFO : EPOCH 3 - PROGRESS: at 28.86% examples, 541625 words/s, in_qsize 6, out_qsize 0\n",
      "2018-06-23 15:23:16,786 : INFO : EPOCH 3 - PROGRESS: at 58.06% examples, 536395 words/s, in_qsize 5, out_qsize 0\n",
      "2018-06-23 15:23:17,814 : INFO : EPOCH 3 - PROGRESS: at 88.23% examples, 540219 words/s, in_qsize 6, out_qsize 0\n",
      "2018-06-23 15:23:18,193 : INFO : worker thread finished; awaiting finish of 2 more threads\n",
      "2018-06-23 15:23:18,193 : INFO : worker thread finished; awaiting finish of 1 more threads\n",
      "2018-06-23 15:23:18,194 : INFO : worker thread finished; awaiting finish of 0 more threads\n",
      "2018-06-23 15:23:18,194 : INFO : EPOCH - 3 : training on 2194536 raw words (1871695 effective words) took 3.4s, 544152 effective words/s\n",
      "2018-06-23 15:23:19,235 : INFO : EPOCH 4 - PROGRESS: at 29.30% examples, 537824 words/s, in_qsize 5, out_qsize 0\n",
      "2018-06-23 15:23:20,262 : INFO : EPOCH 4 - PROGRESS: at 58.99% examples, 538498 words/s, in_qsize 5, out_qsize 0\n",
      "2018-06-23 15:23:21,297 : INFO : EPOCH 4 - PROGRESS: at 89.11% examples, 540291 words/s, in_qsize 5, out_qsize 0\n",
      "2018-06-23 15:23:21,637 : INFO : worker thread finished; awaiting finish of 2 more threads\n",
      "2018-06-23 15:23:21,639 : INFO : worker thread finished; awaiting finish of 1 more threads\n",
      "2018-06-23 15:23:21,653 : INFO : worker thread finished; awaiting finish of 0 more threads\n",
      "2018-06-23 15:23:21,654 : INFO : EPOCH - 4 : training on 2194536 raw words (1872116 effective words) took 3.4s, 543092 effective words/s\n",
      "2018-06-23 15:23:22,666 : INFO : EPOCH 5 - PROGRESS: at 28.86% examples, 542224 words/s, in_qsize 5, out_qsize 0\n",
      "2018-06-23 15:23:23,680 : INFO : EPOCH 5 - PROGRESS: at 58.53% examples, 544196 words/s, in_qsize 5, out_qsize 0\n",
      "2018-06-23 15:23:24,686 : INFO : EPOCH 5 - PROGRESS: at 87.76% examples, 543570 words/s, in_qsize 5, out_qsize 0\n",
      "2018-06-23 15:23:25,083 : INFO : worker thread finished; awaiting finish of 2 more threads\n",
      "2018-06-23 15:23:25,089 : INFO : worker thread finished; awaiting finish of 1 more threads\n",
      "2018-06-23 15:23:25,097 : INFO : worker thread finished; awaiting finish of 0 more threads\n",
      "2018-06-23 15:23:25,098 : INFO : EPOCH - 5 : training on 2194536 raw words (1872205 effective words) took 3.4s, 544677 effective words/s\n",
      "2018-06-23 15:23:25,099 : INFO : training on a 10972680 raw words (9359907 effective words) took 17.2s, 542681 effective words/s\n",
      "2018-06-23 15:23:25,099 : INFO : training model with 3 workers on 14809 vocabulary and 300 features, using sg=1 hs=0 sample=0.001 negative=5 window=8\n"
     ]
    },
    {
     "name": "stdout",
     "output_type": "stream",
     "text": [
      "3\n"
     ]
    },
    {
     "name": "stderr",
     "output_type": "stream",
     "text": [
      "2018-06-23 15:23:26,117 : INFO : EPOCH 1 - PROGRESS: at 28.86% examples, 539389 words/s, in_qsize 5, out_qsize 0\n",
      "2018-06-23 15:23:27,139 : INFO : EPOCH 1 - PROGRESS: at 58.53% examples, 540349 words/s, in_qsize 5, out_qsize 0\n",
      "2018-06-23 15:23:28,146 : INFO : EPOCH 1 - PROGRESS: at 88.19% examples, 543757 words/s, in_qsize 5, out_qsize 0\n",
      "2018-06-23 15:23:28,522 : INFO : worker thread finished; awaiting finish of 2 more threads\n",
      "2018-06-23 15:23:28,530 : INFO : worker thread finished; awaiting finish of 1 more threads\n",
      "2018-06-23 15:23:28,541 : INFO : worker thread finished; awaiting finish of 0 more threads\n",
      "2018-06-23 15:23:28,541 : INFO : EPOCH - 1 : training on 2194536 raw words (1872131 effective words) took 3.4s, 545032 effective words/s\n",
      "2018-06-23 15:23:29,558 : INFO : EPOCH 2 - PROGRESS: at 28.86% examples, 540071 words/s, in_qsize 5, out_qsize 0\n",
      "2018-06-23 15:23:30,576 : INFO : EPOCH 2 - PROGRESS: at 58.53% examples, 541853 words/s, in_qsize 6, out_qsize 0\n",
      "2018-06-23 15:23:31,587 : INFO : EPOCH 2 - PROGRESS: at 88.23% examples, 544020 words/s, in_qsize 5, out_qsize 0\n",
      "2018-06-23 15:23:31,950 : INFO : worker thread finished; awaiting finish of 2 more threads\n",
      "2018-06-23 15:23:31,977 : INFO : worker thread finished; awaiting finish of 1 more threads\n",
      "2018-06-23 15:23:31,981 : INFO : worker thread finished; awaiting finish of 0 more threads\n",
      "2018-06-23 15:23:31,981 : INFO : EPOCH - 2 : training on 2194536 raw words (1872113 effective words) took 3.4s, 545340 effective words/s\n",
      "2018-06-23 15:23:33,017 : INFO : EPOCH 3 - PROGRESS: at 28.86% examples, 531331 words/s, in_qsize 6, out_qsize 0\n",
      "2018-06-23 15:23:34,017 : INFO : EPOCH 3 - PROGRESS: at 58.53% examples, 542097 words/s, in_qsize 5, out_qsize 0\n",
      "2018-06-23 15:23:35,022 : INFO : EPOCH 3 - PROGRESS: at 87.76% examples, 542498 words/s, in_qsize 5, out_qsize 0\n",
      "2018-06-23 15:23:35,413 : INFO : worker thread finished; awaiting finish of 2 more threads\n",
      "2018-06-23 15:23:35,420 : INFO : worker thread finished; awaiting finish of 1 more threads\n",
      "2018-06-23 15:23:35,426 : INFO : worker thread finished; awaiting finish of 0 more threads\n",
      "2018-06-23 15:23:35,427 : INFO : EPOCH - 3 : training on 2194536 raw words (1872168 effective words) took 3.4s, 544854 effective words/s\n",
      "2018-06-23 15:23:36,451 : INFO : EPOCH 4 - PROGRESS: at 29.30% examples, 543713 words/s, in_qsize 5, out_qsize 0\n",
      "2018-06-23 15:23:37,468 : INFO : EPOCH 4 - PROGRESS: at 58.51% examples, 539659 words/s, in_qsize 5, out_qsize 0\n",
      "2018-06-23 15:23:38,502 : INFO : EPOCH 4 - PROGRESS: at 88.68% examples, 541322 words/s, in_qsize 6, out_qsize 0\n",
      "2018-06-23 15:23:38,851 : INFO : worker thread finished; awaiting finish of 2 more threads\n",
      "2018-06-23 15:23:38,862 : INFO : worker thread finished; awaiting finish of 1 more threads\n",
      "2018-06-23 15:23:38,869 : INFO : worker thread finished; awaiting finish of 0 more threads\n",
      "2018-06-23 15:23:38,870 : INFO : EPOCH - 4 : training on 2194536 raw words (1871994 effective words) took 3.4s, 544659 effective words/s\n",
      "2018-06-23 15:23:39,884 : INFO : EPOCH 5 - PROGRESS: at 28.86% examples, 540579 words/s, in_qsize 6, out_qsize 0\n",
      "2018-06-23 15:23:40,916 : INFO : EPOCH 5 - PROGRESS: at 58.53% examples, 538587 words/s, in_qsize 5, out_qsize 0\n",
      "2018-06-23 15:23:41,922 : INFO : EPOCH 5 - PROGRESS: at 87.76% examples, 539903 words/s, in_qsize 6, out_qsize 0\n",
      "2018-06-23 15:23:42,319 : INFO : worker thread finished; awaiting finish of 2 more threads\n",
      "2018-06-23 15:23:42,321 : INFO : worker thread finished; awaiting finish of 1 more threads\n",
      "2018-06-23 15:23:42,326 : INFO : worker thread finished; awaiting finish of 0 more threads\n",
      "2018-06-23 15:23:42,326 : INFO : EPOCH - 5 : training on 2194536 raw words (1872331 effective words) took 3.5s, 542691 effective words/s\n",
      "2018-06-23 15:23:42,326 : INFO : training on a 10972680 raw words (9360737 effective words) took 17.2s, 543386 effective words/s\n",
      "2018-06-23 15:23:42,327 : INFO : training model with 3 workers on 14809 vocabulary and 300 features, using sg=1 hs=0 sample=0.001 negative=5 window=8\n"
     ]
    },
    {
     "name": "stdout",
     "output_type": "stream",
     "text": [
      "4\n"
     ]
    },
    {
     "name": "stderr",
     "output_type": "stream",
     "text": [
      "2018-06-23 15:23:43,341 : INFO : EPOCH 1 - PROGRESS: at 28.86% examples, 541429 words/s, in_qsize 5, out_qsize 0\n",
      "2018-06-23 15:23:44,362 : INFO : EPOCH 1 - PROGRESS: at 58.53% examples, 541851 words/s, in_qsize 5, out_qsize 0\n",
      "2018-06-23 15:23:45,366 : INFO : EPOCH 1 - PROGRESS: at 87.76% examples, 542294 words/s, in_qsize 5, out_qsize 0\n",
      "2018-06-23 15:23:45,757 : INFO : worker thread finished; awaiting finish of 2 more threads\n",
      "2018-06-23 15:23:45,782 : INFO : worker thread finished; awaiting finish of 1 more threads\n",
      "2018-06-23 15:23:45,786 : INFO : worker thread finished; awaiting finish of 0 more threads\n",
      "2018-06-23 15:23:45,786 : INFO : EPOCH - 1 : training on 2194536 raw words (1871619 effective words) took 3.5s, 542230 effective words/s\n",
      "2018-06-23 15:23:46,812 : INFO : EPOCH 2 - PROGRESS: at 28.86% examples, 540468 words/s, in_qsize 5, out_qsize 0\n",
      "2018-06-23 15:23:47,814 : INFO : EPOCH 2 - PROGRESS: at 58.05% examples, 542019 words/s, in_qsize 5, out_qsize 0\n",
      "2018-06-23 15:23:48,822 : INFO : EPOCH 2 - PROGRESS: at 87.76% examples, 544729 words/s, in_qsize 6, out_qsize 0\n",
      "2018-06-23 15:23:49,219 : INFO : worker thread finished; awaiting finish of 2 more threads\n",
      "2018-06-23 15:23:49,225 : INFO : worker thread finished; awaiting finish of 1 more threads\n",
      "2018-06-23 15:23:49,229 : INFO : worker thread finished; awaiting finish of 0 more threads\n",
      "2018-06-23 15:23:49,229 : INFO : EPOCH - 2 : training on 2194536 raw words (1872000 effective words) took 3.4s, 546402 effective words/s\n",
      "2018-06-23 15:23:50,247 : INFO : EPOCH 3 - PROGRESS: at 28.86% examples, 538814 words/s, in_qsize 5, out_qsize 0\n",
      "2018-06-23 15:23:51,263 : INFO : EPOCH 3 - PROGRESS: at 58.53% examples, 541865 words/s, in_qsize 5, out_qsize 0\n",
      "2018-06-23 15:23:52,274 : INFO : EPOCH 3 - PROGRESS: at 88.23% examples, 544089 words/s, in_qsize 5, out_qsize 0\n",
      "2018-06-23 15:23:52,650 : INFO : worker thread finished; awaiting finish of 2 more threads\n",
      "2018-06-23 15:23:52,663 : INFO : worker thread finished; awaiting finish of 1 more threads\n",
      "2018-06-23 15:23:52,666 : INFO : worker thread finished; awaiting finish of 0 more threads\n",
      "2018-06-23 15:23:52,667 : INFO : EPOCH - 3 : training on 2194536 raw words (1872260 effective words) took 3.4s, 545703 effective words/s\n",
      "2018-06-23 15:23:53,690 : INFO : EPOCH 4 - PROGRESS: at 29.30% examples, 544529 words/s, in_qsize 5, out_qsize 0\n",
      "2018-06-23 15:23:54,695 : INFO : EPOCH 4 - PROGRESS: at 58.53% examples, 543533 words/s, in_qsize 5, out_qsize 0\n",
      "2018-06-23 15:23:55,709 : INFO : EPOCH 4 - PROGRESS: at 88.23% examples, 544629 words/s, in_qsize 5, out_qsize 0\n",
      "2018-06-23 15:23:56,084 : INFO : worker thread finished; awaiting finish of 2 more threads\n",
      "2018-06-23 15:23:56,087 : INFO : worker thread finished; awaiting finish of 1 more threads\n",
      "2018-06-23 15:23:56,097 : INFO : worker thread finished; awaiting finish of 0 more threads\n",
      "2018-06-23 15:23:56,097 : INFO : EPOCH - 4 : training on 2194536 raw words (1872647 effective words) took 3.4s, 546824 effective words/s\n",
      "2018-06-23 15:23:57,134 : INFO : EPOCH 5 - PROGRESS: at 29.30% examples, 537420 words/s, in_qsize 5, out_qsize 0\n",
      "2018-06-23 15:23:58,144 : INFO : EPOCH 5 - PROGRESS: at 58.99% examples, 542676 words/s, in_qsize 5, out_qsize 0\n",
      "2018-06-23 15:23:59,146 : INFO : EPOCH 5 - PROGRESS: at 88.66% examples, 546084 words/s, in_qsize 5, out_qsize 0\n",
      "2018-06-23 15:23:59,512 : INFO : worker thread finished; awaiting finish of 2 more threads\n",
      "2018-06-23 15:23:59,516 : INFO : worker thread finished; awaiting finish of 1 more threads\n",
      "2018-06-23 15:23:59,519 : INFO : worker thread finished; awaiting finish of 0 more threads\n",
      "2018-06-23 15:23:59,520 : INFO : EPOCH - 5 : training on 2194536 raw words (1872328 effective words) took 3.4s, 548088 effective words/s\n",
      "2018-06-23 15:23:59,520 : INFO : training on a 10972680 raw words (9360854 effective words) took 17.2s, 544473 effective words/s\n",
      "2018-06-23 15:23:59,521 : INFO : training model with 3 workers on 14809 vocabulary and 300 features, using sg=1 hs=0 sample=0.001 negative=5 window=8\n"
     ]
    },
    {
     "name": "stdout",
     "output_type": "stream",
     "text": [
      "5\n"
     ]
    },
    {
     "name": "stderr",
     "output_type": "stream",
     "text": [
      "2018-06-23 15:24:00,541 : INFO : EPOCH 1 - PROGRESS: at 28.86% examples, 541356 words/s, in_qsize 5, out_qsize 0\n",
      "2018-06-23 15:24:01,556 : INFO : EPOCH 1 - PROGRESS: at 58.05% examples, 539240 words/s, in_qsize 5, out_qsize 0\n",
      "2018-06-23 15:24:02,568 : INFO : EPOCH 1 - PROGRESS: at 87.31% examples, 539145 words/s, in_qsize 5, out_qsize 0\n",
      "2018-06-23 15:24:02,962 : INFO : worker thread finished; awaiting finish of 2 more threads\n",
      "2018-06-23 15:24:02,980 : INFO : worker thread finished; awaiting finish of 1 more threads\n",
      "2018-06-23 15:24:02,984 : INFO : worker thread finished; awaiting finish of 0 more threads\n",
      "2018-06-23 15:24:02,985 : INFO : EPOCH - 1 : training on 2194536 raw words (1871800 effective words) took 3.5s, 542382 effective words/s\n",
      "2018-06-23 15:24:03,998 : INFO : EPOCH 2 - PROGRESS: at 28.86% examples, 542334 words/s, in_qsize 5, out_qsize 0\n",
      "2018-06-23 15:24:05,016 : INFO : EPOCH 2 - PROGRESS: at 58.05% examples, 538476 words/s, in_qsize 5, out_qsize 0\n",
      "2018-06-23 15:24:06,022 : INFO : EPOCH 2 - PROGRESS: at 87.31% examples, 539979 words/s, in_qsize 5, out_qsize 0\n",
      "2018-06-23 15:24:06,433 : INFO : worker thread finished; awaiting finish of 2 more threads\n",
      "2018-06-23 15:24:06,454 : INFO : worker thread finished; awaiting finish of 1 more threads\n",
      "2018-06-23 15:24:06,458 : INFO : worker thread finished; awaiting finish of 0 more threads\n",
      "2018-06-23 15:24:06,458 : INFO : EPOCH - 2 : training on 2194536 raw words (1872373 effective words) took 3.5s, 540191 effective words/s\n",
      "2018-06-23 15:24:07,476 : INFO : EPOCH 3 - PROGRESS: at 29.30% examples, 547456 words/s, in_qsize 5, out_qsize 0\n",
      "2018-06-23 15:24:08,484 : INFO : EPOCH 3 - PROGRESS: at 58.51% examples, 544141 words/s, in_qsize 5, out_qsize 1\n",
      "2018-06-23 15:24:09,496 : INFO : EPOCH 3 - PROGRESS: at 88.19% examples, 545178 words/s, in_qsize 5, out_qsize 0\n",
      "2018-06-23 15:24:09,867 : INFO : worker thread finished; awaiting finish of 2 more threads\n",
      "2018-06-23 15:24:09,884 : INFO : worker thread finished; awaiting finish of 1 more threads\n",
      "2018-06-23 15:24:09,885 : INFO : worker thread finished; awaiting finish of 0 more threads\n",
      "2018-06-23 15:24:09,885 : INFO : EPOCH - 3 : training on 2194536 raw words (1871715 effective words) took 3.4s, 547326 effective words/s\n",
      "2018-06-23 15:24:10,901 : INFO : EPOCH 4 - PROGRESS: at 28.86% examples, 540336 words/s, in_qsize 5, out_qsize 0\n",
      "2018-06-23 15:24:11,932 : INFO : EPOCH 4 - PROGRESS: at 58.99% examples, 542898 words/s, in_qsize 5, out_qsize 0\n",
      "2018-06-23 15:24:12,937 : INFO : EPOCH 4 - PROGRESS: at 88.66% examples, 545691 words/s, in_qsize 5, out_qsize 0\n",
      "2018-06-23 15:24:13,294 : INFO : worker thread finished; awaiting finish of 2 more threads\n",
      "2018-06-23 15:24:13,309 : INFO : worker thread finished; awaiting finish of 1 more threads\n",
      "2018-06-23 15:24:13,316 : INFO : worker thread finished; awaiting finish of 0 more threads\n",
      "2018-06-23 15:24:13,317 : INFO : EPOCH - 4 : training on 2194536 raw words (1871856 effective words) took 3.4s, 546643 effective words/s\n",
      "2018-06-23 15:24:14,336 : INFO : EPOCH 5 - PROGRESS: at 29.30% examples, 546390 words/s, in_qsize 5, out_qsize 0\n",
      "2018-06-23 15:24:15,349 : INFO : EPOCH 5 - PROGRESS: at 58.53% examples, 542208 words/s, in_qsize 5, out_qsize 0\n",
      "2018-06-23 15:24:16,361 : INFO : EPOCH 5 - PROGRESS: at 88.23% examples, 544201 words/s, in_qsize 5, out_qsize 0\n",
      "2018-06-23 15:24:16,740 : INFO : worker thread finished; awaiting finish of 2 more threads\n",
      "2018-06-23 15:24:16,751 : INFO : worker thread finished; awaiting finish of 1 more threads\n",
      "2018-06-23 15:24:16,758 : INFO : worker thread finished; awaiting finish of 0 more threads\n",
      "2018-06-23 15:24:16,759 : INFO : EPOCH - 5 : training on 2194536 raw words (1872349 effective words) took 3.4s, 544945 effective words/s\n",
      "2018-06-23 15:24:16,759 : INFO : training on a 10972680 raw words (9360093 effective words) took 17.2s, 542993 effective words/s\n",
      "2018-06-23 15:24:16,760 : INFO : training model with 3 workers on 14809 vocabulary and 300 features, using sg=1 hs=0 sample=0.001 negative=5 window=8\n"
     ]
    },
    {
     "name": "stdout",
     "output_type": "stream",
     "text": [
      "6\n"
     ]
    },
    {
     "name": "stderr",
     "output_type": "stream",
     "text": [
      "2018-06-23 15:24:17,780 : INFO : EPOCH 1 - PROGRESS: at 28.86% examples, 539275 words/s, in_qsize 5, out_qsize 0\n",
      "2018-06-23 15:24:18,787 : INFO : EPOCH 1 - PROGRESS: at 58.05% examples, 540043 words/s, in_qsize 5, out_qsize 0\n",
      "2018-06-23 15:24:19,817 : INFO : EPOCH 1 - PROGRESS: at 87.76% examples, 539331 words/s, in_qsize 5, out_qsize 0\n",
      "2018-06-23 15:24:20,206 : INFO : worker thread finished; awaiting finish of 2 more threads\n",
      "2018-06-23 15:24:20,214 : INFO : worker thread finished; awaiting finish of 1 more threads\n",
      "2018-06-23 15:24:20,220 : INFO : worker thread finished; awaiting finish of 0 more threads\n",
      "2018-06-23 15:24:20,221 : INFO : EPOCH - 1 : training on 2194536 raw words (1871472 effective words) took 3.5s, 542200 effective words/s\n",
      "2018-06-23 15:24:21,242 : INFO : EPOCH 2 - PROGRESS: at 28.86% examples, 537162 words/s, in_qsize 6, out_qsize 0\n",
      "2018-06-23 15:24:22,253 : INFO : EPOCH 2 - PROGRESS: at 58.53% examples, 542285 words/s, in_qsize 5, out_qsize 0\n",
      "2018-06-23 15:24:23,260 : INFO : EPOCH 2 - PROGRESS: at 87.76% examples, 542326 words/s, in_qsize 6, out_qsize 0\n",
      "2018-06-23 15:24:23,639 : INFO : worker thread finished; awaiting finish of 2 more threads\n",
      "2018-06-23 15:24:23,650 : INFO : worker thread finished; awaiting finish of 1 more threads\n",
      "2018-06-23 15:24:23,662 : INFO : worker thread finished; awaiting finish of 0 more threads\n",
      "2018-06-23 15:24:23,663 : INFO : EPOCH - 2 : training on 2194536 raw words (1871999 effective words) took 3.4s, 545014 effective words/s\n",
      "2018-06-23 15:24:24,679 : INFO : EPOCH 3 - PROGRESS: at 28.86% examples, 540204 words/s, in_qsize 5, out_qsize 0\n",
      "2018-06-23 15:24:25,697 : INFO : EPOCH 3 - PROGRESS: at 58.53% examples, 541940 words/s, in_qsize 5, out_qsize 0\n",
      "2018-06-23 15:24:26,716 : INFO : EPOCH 3 - PROGRESS: at 88.23% examples, 542843 words/s, in_qsize 5, out_qsize 0\n",
      "2018-06-23 15:24:27,087 : INFO : worker thread finished; awaiting finish of 2 more threads\n",
      "2018-06-23 15:24:27,098 : INFO : worker thread finished; awaiting finish of 1 more threads\n",
      "2018-06-23 15:24:27,102 : INFO : worker thread finished; awaiting finish of 0 more threads\n",
      "2018-06-23 15:24:27,103 : INFO : EPOCH - 3 : training on 2194536 raw words (1872702 effective words) took 3.4s, 545470 effective words/s\n",
      "2018-06-23 15:24:28,124 : INFO : EPOCH 4 - PROGRESS: at 28.86% examples, 536925 words/s, in_qsize 5, out_qsize 0\n",
      "2018-06-23 15:24:29,131 : INFO : EPOCH 4 - PROGRESS: at 58.53% examples, 543367 words/s, in_qsize 5, out_qsize 0\n",
      "2018-06-23 15:24:30,153 : INFO : EPOCH 4 - PROGRESS: at 87.76% examples, 540327 words/s, in_qsize 5, out_qsize 0\n",
      "2018-06-23 15:24:30,534 : INFO : worker thread finished; awaiting finish of 2 more threads\n",
      "2018-06-23 15:24:30,545 : INFO : worker thread finished; awaiting finish of 1 more threads\n",
      "2018-06-23 15:24:30,551 : INFO : worker thread finished; awaiting finish of 0 more threads\n",
      "2018-06-23 15:24:30,552 : INFO : EPOCH - 4 : training on 2194536 raw words (1872330 effective words) took 3.4s, 543861 effective words/s\n",
      "2018-06-23 15:24:31,561 : INFO : EPOCH 5 - PROGRESS: at 28.86% examples, 543678 words/s, in_qsize 6, out_qsize 0\n",
      "2018-06-23 15:24:32,564 : INFO : EPOCH 5 - PROGRESS: at 58.05% examples, 543671 words/s, in_qsize 6, out_qsize 0\n",
      "2018-06-23 15:24:33,568 : INFO : EPOCH 5 - PROGRESS: at 87.31% examples, 543586 words/s, in_qsize 5, out_qsize 0\n",
      "2018-06-23 15:24:33,988 : INFO : worker thread finished; awaiting finish of 2 more threads\n",
      "2018-06-23 15:24:34,006 : INFO : worker thread finished; awaiting finish of 1 more threads\n",
      "2018-06-23 15:24:34,016 : INFO : worker thread finished; awaiting finish of 0 more threads\n",
      "2018-06-23 15:24:34,016 : INFO : EPOCH - 5 : training on 2194536 raw words (1872125 effective words) took 3.5s, 541459 effective words/s\n",
      "2018-06-23 15:24:34,017 : INFO : training on a 10972680 raw words (9360628 effective words) took 17.3s, 542427 effective words/s\n",
      "2018-06-23 15:24:34,017 : INFO : training model with 3 workers on 14809 vocabulary and 300 features, using sg=1 hs=0 sample=0.001 negative=5 window=8\n"
     ]
    },
    {
     "name": "stdout",
     "output_type": "stream",
     "text": [
      "7\n"
     ]
    },
    {
     "name": "stderr",
     "output_type": "stream",
     "text": [
      "2018-06-23 15:24:35,043 : INFO : EPOCH 1 - PROGRESS: at 28.86% examples, 535285 words/s, in_qsize 5, out_qsize 0\n",
      "2018-06-23 15:24:36,070 : INFO : EPOCH 1 - PROGRESS: at 58.51% examples, 537317 words/s, in_qsize 5, out_qsize 0\n",
      "2018-06-23 15:24:37,087 : INFO : EPOCH 1 - PROGRESS: at 88.23% examples, 539879 words/s, in_qsize 5, out_qsize 0\n",
      "2018-06-23 15:24:37,472 : INFO : worker thread finished; awaiting finish of 2 more threads\n",
      "2018-06-23 15:24:37,475 : INFO : worker thread finished; awaiting finish of 1 more threads\n",
      "2018-06-23 15:24:37,481 : INFO : worker thread finished; awaiting finish of 0 more threads\n",
      "2018-06-23 15:24:37,481 : INFO : EPOCH - 1 : training on 2194536 raw words (1872145 effective words) took 3.5s, 541614 effective words/s\n",
      "2018-06-23 15:24:38,499 : INFO : EPOCH 2 - PROGRESS: at 28.86% examples, 539106 words/s, in_qsize 5, out_qsize 0\n",
      "2018-06-23 15:24:39,500 : INFO : EPOCH 2 - PROGRESS: at 58.05% examples, 541878 words/s, in_qsize 5, out_qsize 0\n",
      "2018-06-23 15:24:40,514 : INFO : EPOCH 2 - PROGRESS: at 87.76% examples, 543388 words/s, in_qsize 5, out_qsize 0\n",
      "2018-06-23 15:24:40,917 : INFO : worker thread finished; awaiting finish of 2 more threads\n",
      "2018-06-23 15:24:40,925 : INFO : worker thread finished; awaiting finish of 1 more threads\n",
      "2018-06-23 15:24:40,930 : INFO : worker thread finished; awaiting finish of 0 more threads\n",
      "2018-06-23 15:24:40,930 : INFO : EPOCH - 2 : training on 2194536 raw words (1872462 effective words) took 3.4s, 543914 effective words/s\n",
      "2018-06-23 15:24:41,963 : INFO : EPOCH 3 - PROGRESS: at 29.30% examples, 540530 words/s, in_qsize 5, out_qsize 0\n",
      "2018-06-23 15:24:42,973 : INFO : EPOCH 3 - PROGRESS: at 58.53% examples, 539933 words/s, in_qsize 5, out_qsize 0\n",
      "2018-06-23 15:24:43,990 : INFO : EPOCH 3 - PROGRESS: at 87.76% examples, 538735 words/s, in_qsize 5, out_qsize 0\n",
      "2018-06-23 15:24:44,367 : INFO : worker thread finished; awaiting finish of 2 more threads\n",
      "2018-06-23 15:24:44,368 : INFO : worker thread finished; awaiting finish of 1 more threads\n",
      "2018-06-23 15:24:44,380 : INFO : worker thread finished; awaiting finish of 0 more threads\n",
      "2018-06-23 15:24:44,381 : INFO : EPOCH - 3 : training on 2194536 raw words (1872136 effective words) took 3.4s, 543737 effective words/s\n",
      "2018-06-23 15:24:45,389 : INFO : EPOCH 4 - PROGRESS: at 28.86% examples, 544047 words/s, in_qsize 6, out_qsize 0\n",
      "2018-06-23 15:24:46,411 : INFO : EPOCH 4 - PROGRESS: at 58.53% examples, 543020 words/s, in_qsize 6, out_qsize 0\n",
      "2018-06-23 15:24:47,411 : INFO : EPOCH 4 - PROGRESS: at 87.76% examples, 543899 words/s, in_qsize 6, out_qsize 0\n",
      "2018-06-23 15:24:47,787 : INFO : worker thread finished; awaiting finish of 2 more threads\n",
      "2018-06-23 15:24:47,806 : INFO : worker thread finished; awaiting finish of 1 more threads\n",
      "2018-06-23 15:24:47,816 : INFO : worker thread finished; awaiting finish of 0 more threads\n",
      "2018-06-23 15:24:47,817 : INFO : EPOCH - 4 : training on 2194536 raw words (1872592 effective words) took 3.4s, 546043 effective words/s\n",
      "2018-06-23 15:24:48,855 : INFO : EPOCH 5 - PROGRESS: at 29.30% examples, 536944 words/s, in_qsize 5, out_qsize 0\n",
      "2018-06-23 15:24:49,859 : INFO : EPOCH 5 - PROGRESS: at 58.99% examples, 544292 words/s, in_qsize 5, out_qsize 0\n",
      "2018-06-23 15:24:50,871 : INFO : EPOCH 5 - PROGRESS: at 88.23% examples, 542424 words/s, in_qsize 6, out_qsize 0\n",
      "2018-06-23 15:24:51,252 : INFO : worker thread finished; awaiting finish of 2 more threads\n",
      "2018-06-23 15:24:51,263 : INFO : worker thread finished; awaiting finish of 1 more threads\n",
      "2018-06-23 15:24:51,265 : INFO : worker thread finished; awaiting finish of 0 more threads\n",
      "2018-06-23 15:24:51,265 : INFO : EPOCH - 5 : training on 2194536 raw words (1872421 effective words) took 3.4s, 544020 effective words/s\n",
      "2018-06-23 15:24:51,265 : INFO : training on a 10972680 raw words (9361756 effective words) took 17.2s, 542797 effective words/s\n",
      "2018-06-23 15:24:51,266 : INFO : training model with 3 workers on 14809 vocabulary and 300 features, using sg=1 hs=0 sample=0.001 negative=5 window=8\n"
     ]
    },
    {
     "name": "stdout",
     "output_type": "stream",
     "text": [
      "8\n"
     ]
    },
    {
     "name": "stderr",
     "output_type": "stream",
     "text": [
      "2018-06-23 15:24:52,276 : INFO : EPOCH 1 - PROGRESS: at 28.86% examples, 543290 words/s, in_qsize 5, out_qsize 0\n",
      "2018-06-23 15:24:53,292 : INFO : EPOCH 1 - PROGRESS: at 58.08% examples, 539884 words/s, in_qsize 5, out_qsize 0\n",
      "2018-06-23 15:24:54,292 : INFO : EPOCH 1 - PROGRESS: at 87.76% examples, 544564 words/s, in_qsize 6, out_qsize 0\n",
      "2018-06-23 15:24:54,690 : INFO : worker thread finished; awaiting finish of 2 more threads\n",
      "2018-06-23 15:24:54,698 : INFO : worker thread finished; awaiting finish of 1 more threads\n",
      "2018-06-23 15:24:54,709 : INFO : worker thread finished; awaiting finish of 0 more threads\n",
      "2018-06-23 15:24:54,709 : INFO : EPOCH - 1 : training on 2194536 raw words (1871659 effective words) took 3.4s, 544724 effective words/s\n",
      "2018-06-23 15:24:55,720 : INFO : EPOCH 2 - PROGRESS: at 28.42% examples, 534722 words/s, in_qsize 5, out_qsize 0\n",
      "2018-06-23 15:24:56,725 : INFO : EPOCH 2 - PROGRESS: at 57.60% examples, 538529 words/s, in_qsize 5, out_qsize 0\n",
      "2018-06-23 15:24:57,729 : INFO : EPOCH 2 - PROGRESS: at 86.88% examples, 540412 words/s, in_qsize 5, out_qsize 0\n",
      "2018-06-23 15:24:58,129 : INFO : worker thread finished; awaiting finish of 2 more threads\n",
      "2018-06-23 15:24:58,152 : INFO : worker thread finished; awaiting finish of 1 more threads\n",
      "2018-06-23 15:24:58,159 : INFO : worker thread finished; awaiting finish of 0 more threads\n",
      "2018-06-23 15:24:58,160 : INFO : EPOCH - 2 : training on 2194536 raw words (1872228 effective words) took 3.4s, 543870 effective words/s\n",
      "2018-06-23 15:24:59,194 : INFO : EPOCH 3 - PROGRESS: at 29.30% examples, 538720 words/s, in_qsize 5, out_qsize 0\n",
      "2018-06-23 15:25:00,216 : INFO : EPOCH 3 - PROGRESS: at 58.99% examples, 540379 words/s, in_qsize 5, out_qsize 0\n",
      "2018-06-23 15:25:01,250 : INFO : EPOCH 3 - PROGRESS: at 89.15% examples, 541799 words/s, in_qsize 6, out_qsize 0\n",
      "2018-06-23 15:25:01,571 : INFO : worker thread finished; awaiting finish of 2 more threads\n",
      "2018-06-23 15:25:01,584 : INFO : worker thread finished; awaiting finish of 1 more threads\n",
      "2018-06-23 15:25:01,595 : INFO : worker thread finished; awaiting finish of 0 more threads\n",
      "2018-06-23 15:25:01,596 : INFO : EPOCH - 3 : training on 2194536 raw words (1872350 effective words) took 3.4s, 546007 effective words/s\n",
      "2018-06-23 15:25:02,629 : INFO : EPOCH 4 - PROGRESS: at 29.30% examples, 539936 words/s, in_qsize 5, out_qsize 0\n",
      "2018-06-23 15:25:03,645 : INFO : EPOCH 4 - PROGRESS: at 58.51% examples, 538007 words/s, in_qsize 6, out_qsize 0\n",
      "2018-06-23 15:25:04,655 : INFO : EPOCH 4 - PROGRESS: at 88.23% examples, 541758 words/s, in_qsize 5, out_qsize 0\n",
      "2018-06-23 15:25:05,024 : INFO : worker thread finished; awaiting finish of 2 more threads\n",
      "2018-06-23 15:25:05,042 : INFO : worker thread finished; awaiting finish of 1 more threads\n",
      "2018-06-23 15:25:05,050 : INFO : worker thread finished; awaiting finish of 0 more threads\n",
      "2018-06-23 15:25:05,051 : INFO : EPOCH - 4 : training on 2194536 raw words (1872177 effective words) took 3.4s, 543132 effective words/s\n",
      "2018-06-23 15:25:06,094 : INFO : EPOCH 5 - PROGRESS: at 29.30% examples, 533615 words/s, in_qsize 5, out_qsize 0\n",
      "2018-06-23 15:25:07,095 : INFO : EPOCH 5 - PROGRESS: at 58.99% examples, 543444 words/s, in_qsize 5, out_qsize 0\n",
      "2018-06-23 15:25:08,102 : INFO : EPOCH 5 - PROGRESS: at 88.23% examples, 542890 words/s, in_qsize 5, out_qsize 0\n",
      "2018-06-23 15:25:08,474 : INFO : worker thread finished; awaiting finish of 2 more threads\n",
      "2018-06-23 15:25:08,480 : INFO : worker thread finished; awaiting finish of 1 more threads\n",
      "2018-06-23 15:25:08,483 : INFO : worker thread finished; awaiting finish of 0 more threads\n",
      "2018-06-23 15:25:08,484 : INFO : EPOCH - 5 : training on 2194536 raw words (1871826 effective words) took 3.4s, 546311 effective words/s\n",
      "2018-06-23 15:25:08,485 : INFO : training on a 10972680 raw words (9360240 effective words) took 17.2s, 543617 effective words/s\n",
      "2018-06-23 15:25:08,485 : INFO : training model with 3 workers on 14809 vocabulary and 300 features, using sg=1 hs=0 sample=0.001 negative=5 window=8\n"
     ]
    },
    {
     "name": "stdout",
     "output_type": "stream",
     "text": [
      "9\n"
     ]
    },
    {
     "name": "stderr",
     "output_type": "stream",
     "text": [
      "2018-06-23 15:25:09,493 : INFO : EPOCH 1 - PROGRESS: at 28.86% examples, 543337 words/s, in_qsize 5, out_qsize 0\n",
      "2018-06-23 15:25:10,500 : INFO : EPOCH 1 - PROGRESS: at 58.53% examples, 546679 words/s, in_qsize 5, out_qsize 0\n",
      "2018-06-23 15:25:11,511 : INFO : EPOCH 1 - PROGRESS: at 87.78% examples, 544316 words/s, in_qsize 6, out_qsize 0\n",
      "2018-06-23 15:25:11,904 : INFO : worker thread finished; awaiting finish of 2 more threads\n",
      "2018-06-23 15:25:11,910 : INFO : worker thread finished; awaiting finish of 1 more threads\n",
      "2018-06-23 15:25:11,920 : INFO : worker thread finished; awaiting finish of 0 more threads\n",
      "2018-06-23 15:25:11,920 : INFO : EPOCH - 1 : training on 2194536 raw words (1871715 effective words) took 3.4s, 545743 effective words/s\n",
      "2018-06-23 15:25:12,944 : INFO : EPOCH 2 - PROGRESS: at 29.30% examples, 544117 words/s, in_qsize 5, out_qsize 0\n",
      "2018-06-23 15:25:13,949 : INFO : EPOCH 2 - PROGRESS: at 58.53% examples, 543462 words/s, in_qsize 5, out_qsize 0\n",
      "2018-06-23 15:25:14,953 : INFO : EPOCH 2 - PROGRESS: at 87.76% examples, 543319 words/s, in_qsize 6, out_qsize 0\n",
      "2018-06-23 15:25:15,340 : INFO : worker thread finished; awaiting finish of 2 more threads\n",
      "2018-06-23 15:25:15,362 : INFO : worker thread finished; awaiting finish of 1 more threads\n",
      "2018-06-23 15:25:15,367 : INFO : worker thread finished; awaiting finish of 0 more threads\n",
      "2018-06-23 15:25:15,367 : INFO : EPOCH - 2 : training on 2194536 raw words (1872513 effective words) took 3.4s, 544229 effective words/s\n",
      "2018-06-23 15:25:16,376 : INFO : EPOCH 3 - PROGRESS: at 28.86% examples, 544393 words/s, in_qsize 5, out_qsize 0\n",
      "2018-06-23 15:25:17,390 : INFO : EPOCH 3 - PROGRESS: at 58.05% examples, 540844 words/s, in_qsize 6, out_qsize 0\n",
      "2018-06-23 15:25:18,395 : INFO : EPOCH 3 - PROGRESS: at 87.33% examples, 541529 words/s, in_qsize 6, out_qsize 0\n",
      "2018-06-23 15:25:18,790 : INFO : worker thread finished; awaiting finish of 2 more threads\n",
      "2018-06-23 15:25:18,810 : INFO : worker thread finished; awaiting finish of 1 more threads\n",
      "2018-06-23 15:25:18,817 : INFO : worker thread finished; awaiting finish of 0 more threads\n",
      "2018-06-23 15:25:18,818 : INFO : EPOCH - 3 : training on 2194536 raw words (1871683 effective words) took 3.4s, 543625 effective words/s\n",
      "2018-06-23 15:25:19,831 : INFO : EPOCH 4 - PROGRESS: at 28.86% examples, 542884 words/s, in_qsize 6, out_qsize 0\n",
      "2018-06-23 15:25:20,835 : INFO : EPOCH 4 - PROGRESS: at 58.05% examples, 542619 words/s, in_qsize 6, out_qsize 0\n",
      "2018-06-23 15:25:21,853 : INFO : EPOCH 4 - PROGRESS: at 87.76% examples, 543326 words/s, in_qsize 5, out_qsize 0\n",
      "2018-06-23 15:25:22,238 : INFO : worker thread finished; awaiting finish of 2 more threads\n",
      "2018-06-23 15:25:22,249 : INFO : worker thread finished; awaiting finish of 1 more threads\n",
      "2018-06-23 15:25:22,256 : INFO : worker thread finished; awaiting finish of 0 more threads\n",
      "2018-06-23 15:25:22,257 : INFO : EPOCH - 4 : training on 2194536 raw words (1872345 effective words) took 3.4s, 545764 effective words/s\n",
      "2018-06-23 15:25:23,279 : INFO : EPOCH 5 - PROGRESS: at 28.86% examples, 536189 words/s, in_qsize 6, out_qsize 0\n",
      "2018-06-23 15:25:24,292 : INFO : EPOCH 5 - PROGRESS: at 58.53% examples, 541104 words/s, in_qsize 5, out_qsize 0\n",
      "2018-06-23 15:25:25,320 : INFO : EPOCH 5 - PROGRESS: at 88.19% examples, 540381 words/s, in_qsize 6, out_qsize 0\n",
      "2018-06-23 15:25:25,693 : INFO : worker thread finished; awaiting finish of 2 more threads\n",
      "2018-06-23 15:25:25,697 : INFO : worker thread finished; awaiting finish of 1 more threads\n",
      "2018-06-23 15:25:25,701 : INFO : worker thread finished; awaiting finish of 0 more threads\n",
      "2018-06-23 15:25:25,702 : INFO : EPOCH - 5 : training on 2194536 raw words (1871852 effective words) took 3.4s, 544289 effective words/s\n",
      "2018-06-23 15:25:25,702 : INFO : training on a 10972680 raw words (9360108 effective words) took 17.2s, 543673 effective words/s\n",
      "2018-06-23 15:25:25,702 : INFO : training model with 3 workers on 14809 vocabulary and 300 features, using sg=1 hs=0 sample=0.001 negative=5 window=8\n"
     ]
    },
    {
     "name": "stdout",
     "output_type": "stream",
     "text": [
      "10\n"
     ]
    },
    {
     "name": "stderr",
     "output_type": "stream",
     "text": [
      "2018-06-23 15:25:26,720 : INFO : EPOCH 1 - PROGRESS: at 28.86% examples, 540000 words/s, in_qsize 6, out_qsize 0\n",
      "2018-06-23 15:25:27,735 : INFO : EPOCH 1 - PROGRESS: at 58.53% examples, 543048 words/s, in_qsize 5, out_qsize 0\n",
      "2018-06-23 15:25:28,755 : INFO : EPOCH 1 - PROGRESS: at 88.19% examples, 543257 words/s, in_qsize 6, out_qsize 0\n",
      "2018-06-23 15:25:29,128 : INFO : worker thread finished; awaiting finish of 2 more threads\n",
      "2018-06-23 15:25:29,136 : INFO : worker thread finished; awaiting finish of 1 more threads\n",
      "2018-06-23 15:25:29,138 : INFO : worker thread finished; awaiting finish of 0 more threads\n",
      "2018-06-23 15:25:29,139 : INFO : EPOCH - 1 : training on 2194536 raw words (1872560 effective words) took 3.4s, 546341 effective words/s\n",
      "2018-06-23 15:25:30,154 : INFO : EPOCH 2 - PROGRESS: at 28.86% examples, 540838 words/s, in_qsize 6, out_qsize 0\n",
      "2018-06-23 15:25:31,160 : INFO : EPOCH 2 - PROGRESS: at 58.53% examples, 545448 words/s, in_qsize 6, out_qsize 0\n",
      "2018-06-23 15:25:32,164 : INFO : EPOCH 2 - PROGRESS: at 87.76% examples, 544663 words/s, in_qsize 5, out_qsize 0\n",
      "2018-06-23 15:25:32,552 : INFO : worker thread finished; awaiting finish of 2 more threads\n",
      "2018-06-23 15:25:32,569 : INFO : worker thread finished; awaiting finish of 1 more threads\n",
      "2018-06-23 15:25:32,572 : INFO : worker thread finished; awaiting finish of 0 more threads\n",
      "2018-06-23 15:25:32,573 : INFO : EPOCH - 2 : training on 2194536 raw words (1871632 effective words) took 3.4s, 546142 effective words/s\n",
      "2018-06-23 15:25:33,607 : INFO : EPOCH 3 - PROGRESS: at 29.30% examples, 540012 words/s, in_qsize 5, out_qsize 0\n",
      "2018-06-23 15:25:34,626 : INFO : EPOCH 3 - PROGRESS: at 58.99% examples, 541423 words/s, in_qsize 5, out_qsize 0\n",
      "2018-06-23 15:25:35,626 : INFO : EPOCH 3 - PROGRESS: at 88.23% examples, 542908 words/s, in_qsize 5, out_qsize 0\n",
      "2018-06-23 15:25:35,992 : INFO : worker thread finished; awaiting finish of 2 more threads\n",
      "2018-06-23 15:25:36,001 : INFO : worker thread finished; awaiting finish of 1 more threads\n",
      "2018-06-23 15:25:36,002 : INFO : worker thread finished; awaiting finish of 0 more threads\n",
      "2018-06-23 15:25:36,002 : INFO : EPOCH - 3 : training on 2194536 raw words (1872017 effective words) took 3.4s, 547211 effective words/s\n",
      "2018-06-23 15:25:37,014 : INFO : EPOCH 4 - PROGRESS: at 28.86% examples, 542496 words/s, in_qsize 5, out_qsize 0\n",
      "2018-06-23 15:25:38,027 : INFO : EPOCH 4 - PROGRESS: at 58.05% examples, 539989 words/s, in_qsize 5, out_qsize 0\n",
      "2018-06-23 15:25:39,061 : INFO : EPOCH 4 - PROGRESS: at 88.23% examples, 541523 words/s, in_qsize 5, out_qsize 0\n",
      "2018-06-23 15:25:39,425 : INFO : worker thread finished; awaiting finish of 2 more threads\n",
      "2018-06-23 15:25:39,430 : INFO : worker thread finished; awaiting finish of 1 more threads\n",
      "2018-06-23 15:25:39,435 : INFO : worker thread finished; awaiting finish of 0 more threads\n",
      "2018-06-23 15:25:39,436 : INFO : EPOCH - 4 : training on 2194536 raw words (1871586 effective words) took 3.4s, 546294 effective words/s\n",
      "2018-06-23 15:25:40,444 : INFO : EPOCH 5 - PROGRESS: at 28.86% examples, 544231 words/s, in_qsize 6, out_qsize 0\n",
      "2018-06-23 15:25:41,447 : INFO : EPOCH 5 - PROGRESS: at 58.05% examples, 543745 words/s, in_qsize 5, out_qsize 0\n",
      "2018-06-23 15:25:42,471 : INFO : EPOCH 5 - PROGRESS: at 87.76% examples, 542924 words/s, in_qsize 5, out_qsize 0\n",
      "2018-06-23 15:25:42,849 : INFO : worker thread finished; awaiting finish of 2 more threads\n",
      "2018-06-23 15:25:42,870 : INFO : worker thread finished; awaiting finish of 1 more threads\n",
      "2018-06-23 15:25:42,871 : INFO : worker thread finished; awaiting finish of 0 more threads\n",
      "2018-06-23 15:25:42,872 : INFO : EPOCH - 5 : training on 2194536 raw words (1872330 effective words) took 3.4s, 545830 effective words/s\n",
      "2018-06-23 15:25:42,872 : INFO : training on a 10972680 raw words (9360125 effective words) took 17.2s, 545162 effective words/s\n",
      "2018-06-23 15:25:42,873 : INFO : training model with 3 workers on 14809 vocabulary and 300 features, using sg=1 hs=0 sample=0.001 negative=5 window=8\n"
     ]
    },
    {
     "name": "stdout",
     "output_type": "stream",
     "text": [
      "11\n"
     ]
    },
    {
     "name": "stderr",
     "output_type": "stream",
     "text": [
      "2018-06-23 15:25:43,899 : INFO : EPOCH 1 - PROGRESS: at 29.30% examples, 544162 words/s, in_qsize 5, out_qsize 0\n",
      "2018-06-23 15:25:44,909 : INFO : EPOCH 1 - PROGRESS: at 58.53% examples, 541959 words/s, in_qsize 5, out_qsize 0\n",
      "2018-06-23 15:25:45,946 : INFO : EPOCH 1 - PROGRESS: at 88.23% examples, 539346 words/s, in_qsize 5, out_qsize 0\n",
      "2018-06-23 15:25:46,312 : INFO : worker thread finished; awaiting finish of 2 more threads\n",
      "2018-06-23 15:25:46,319 : INFO : worker thread finished; awaiting finish of 1 more threads\n",
      "2018-06-23 15:25:46,329 : INFO : worker thread finished; awaiting finish of 0 more threads\n",
      "2018-06-23 15:25:46,330 : INFO : EPOCH - 1 : training on 2194536 raw words (1871773 effective words) took 3.4s, 542928 effective words/s\n",
      "2018-06-23 15:25:47,338 : INFO : EPOCH 2 - PROGRESS: at 28.86% examples, 544076 words/s, in_qsize 5, out_qsize 0\n",
      "2018-06-23 15:25:48,345 : INFO : EPOCH 2 - PROGRESS: at 58.05% examples, 542622 words/s, in_qsize 5, out_qsize 0\n",
      "2018-06-23 15:25:49,356 : INFO : EPOCH 2 - PROGRESS: at 87.76% examples, 544700 words/s, in_qsize 5, out_qsize 0\n",
      "2018-06-23 15:25:49,752 : INFO : worker thread finished; awaiting finish of 2 more threads\n",
      "2018-06-23 15:25:49,757 : INFO : worker thread finished; awaiting finish of 1 more threads\n",
      "2018-06-23 15:25:49,773 : INFO : worker thread finished; awaiting finish of 0 more threads\n",
      "2018-06-23 15:25:49,774 : INFO : EPOCH - 2 : training on 2194536 raw words (1872318 effective words) took 3.4s, 544788 effective words/s\n",
      "2018-06-23 15:25:50,801 : INFO : EPOCH 3 - PROGRESS: at 28.86% examples, 533783 words/s, in_qsize 6, out_qsize 0\n",
      "2018-06-23 15:25:51,816 : INFO : EPOCH 3 - PROGRESS: at 58.53% examples, 539734 words/s, in_qsize 5, out_qsize 0\n",
      "2018-06-23 15:25:52,830 : INFO : EPOCH 3 - PROGRESS: at 88.23% examples, 542230 words/s, in_qsize 5, out_qsize 0\n",
      "2018-06-23 15:25:53,197 : INFO : worker thread finished; awaiting finish of 2 more threads\n",
      "2018-06-23 15:25:53,217 : INFO : worker thread finished; awaiting finish of 1 more threads\n",
      "2018-06-23 15:25:53,223 : INFO : worker thread finished; awaiting finish of 0 more threads\n",
      "2018-06-23 15:25:53,224 : INFO : EPOCH - 3 : training on 2194536 raw words (1872892 effective words) took 3.4s, 543812 effective words/s\n",
      "2018-06-23 15:25:54,235 : INFO : EPOCH 4 - PROGRESS: at 28.86% examples, 543625 words/s, in_qsize 5, out_qsize 0\n",
      "2018-06-23 15:25:55,239 : INFO : EPOCH 4 - PROGRESS: at 57.60% examples, 539298 words/s, in_qsize 5, out_qsize 0\n",
      "2018-06-23 15:25:56,240 : INFO : EPOCH 4 - PROGRESS: at 86.84% examples, 541280 words/s, in_qsize 5, out_qsize 0\n",
      "2018-06-23 15:25:56,646 : INFO : worker thread finished; awaiting finish of 2 more threads\n",
      "2018-06-23 15:25:56,672 : INFO : worker thread finished; awaiting finish of 1 more threads\n",
      "2018-06-23 15:25:56,674 : INFO : worker thread finished; awaiting finish of 0 more threads\n",
      "2018-06-23 15:25:56,675 : INFO : EPOCH - 4 : training on 2194536 raw words (1873324 effective words) took 3.4s, 544080 effective words/s\n",
      "2018-06-23 15:25:57,698 : INFO : EPOCH 5 - PROGRESS: at 28.86% examples, 536562 words/s, in_qsize 6, out_qsize 0\n",
      "2018-06-23 15:25:58,730 : INFO : EPOCH 5 - PROGRESS: at 58.99% examples, 540875 words/s, in_qsize 5, out_qsize 0\n",
      "2018-06-23 15:25:59,758 : INFO : EPOCH 5 - PROGRESS: at 89.13% examples, 543115 words/s, in_qsize 5, out_qsize 0\n",
      "2018-06-23 15:26:00,089 : INFO : worker thread finished; awaiting finish of 2 more threads\n",
      "2018-06-23 15:26:00,107 : INFO : worker thread finished; awaiting finish of 1 more threads\n",
      "2018-06-23 15:26:00,115 : INFO : worker thread finished; awaiting finish of 0 more threads\n",
      "2018-06-23 15:26:00,115 : INFO : EPOCH - 5 : training on 2194536 raw words (1872695 effective words) took 3.4s, 545486 effective words/s\n",
      "2018-06-23 15:26:00,116 : INFO : training on a 10972680 raw words (9363002 effective words) took 17.2s, 543007 effective words/s\n",
      "2018-06-23 15:26:00,117 : INFO : training model with 3 workers on 14809 vocabulary and 300 features, using sg=1 hs=0 sample=0.001 negative=5 window=8\n"
     ]
    },
    {
     "name": "stdout",
     "output_type": "stream",
     "text": [
      "12\n"
     ]
    },
    {
     "name": "stderr",
     "output_type": "stream",
     "text": [
      "2018-06-23 15:26:01,128 : INFO : EPOCH 1 - PROGRESS: at 28.86% examples, 542758 words/s, in_qsize 6, out_qsize 0\n",
      "2018-06-23 15:26:02,129 : INFO : EPOCH 1 - PROGRESS: at 58.05% examples, 543742 words/s, in_qsize 5, out_qsize 0\n",
      "2018-06-23 15:26:03,135 : INFO : EPOCH 1 - PROGRESS: at 86.88% examples, 540586 words/s, in_qsize 5, out_qsize 0\n",
      "2018-06-23 15:26:03,561 : INFO : worker thread finished; awaiting finish of 2 more threads\n",
      "2018-06-23 15:26:03,579 : INFO : worker thread finished; awaiting finish of 1 more threads\n",
      "2018-06-23 15:26:03,582 : INFO : worker thread finished; awaiting finish of 0 more threads\n",
      "2018-06-23 15:26:03,582 : INFO : EPOCH - 1 : training on 2194536 raw words (1872353 effective words) took 3.5s, 541473 effective words/s\n",
      "2018-06-23 15:26:04,595 : INFO : EPOCH 2 - PROGRESS: at 28.86% examples, 543424 words/s, in_qsize 5, out_qsize 0\n",
      "2018-06-23 15:26:05,620 : INFO : EPOCH 2 - PROGRESS: at 58.53% examples, 541666 words/s, in_qsize 5, out_qsize 0\n",
      "2018-06-23 15:26:06,644 : INFO : EPOCH 2 - PROGRESS: at 88.23% examples, 541637 words/s, in_qsize 5, out_qsize 0\n",
      "2018-06-23 15:26:07,020 : INFO : worker thread finished; awaiting finish of 2 more threads\n",
      "2018-06-23 15:26:07,027 : INFO : worker thread finished; awaiting finish of 1 more threads\n",
      "2018-06-23 15:26:07,030 : INFO : worker thread finished; awaiting finish of 0 more threads\n",
      "2018-06-23 15:26:07,031 : INFO : EPOCH - 2 : training on 2194536 raw words (1872286 effective words) took 3.4s, 544395 effective words/s\n",
      "2018-06-23 15:26:08,045 : INFO : EPOCH 3 - PROGRESS: at 27.50% examples, 515312 words/s, in_qsize 4, out_qsize 1\n",
      "2018-06-23 15:26:09,051 : INFO : EPOCH 3 - PROGRESS: at 56.68% examples, 528498 words/s, in_qsize 5, out_qsize 0\n",
      "2018-06-23 15:26:10,053 : INFO : EPOCH 3 - PROGRESS: at 85.97% examples, 533909 words/s, in_qsize 5, out_qsize 0\n",
      "2018-06-23 15:26:10,493 : INFO : worker thread finished; awaiting finish of 2 more threads\n",
      "2018-06-23 15:26:10,515 : INFO : worker thread finished; awaiting finish of 1 more threads\n",
      "2018-06-23 15:26:10,521 : INFO : worker thread finished; awaiting finish of 0 more threads\n",
      "2018-06-23 15:26:10,521 : INFO : EPOCH - 3 : training on 2194536 raw words (1871887 effective words) took 3.5s, 537243 effective words/s\n",
      "2018-06-23 15:26:11,540 : INFO : EPOCH 4 - PROGRESS: at 28.86% examples, 538907 words/s, in_qsize 6, out_qsize 0\n",
      "2018-06-23 15:26:12,565 : INFO : EPOCH 4 - PROGRESS: at 58.53% examples, 539094 words/s, in_qsize 5, out_qsize 0\n",
      "2018-06-23 15:26:13,581 : INFO : EPOCH 4 - PROGRESS: at 88.23% examples, 541351 words/s, in_qsize 6, out_qsize 0\n",
      "2018-06-23 15:26:13,949 : INFO : worker thread finished; awaiting finish of 2 more threads\n",
      "2018-06-23 15:26:13,972 : INFO : worker thread finished; awaiting finish of 1 more threads\n",
      "2018-06-23 15:26:13,977 : INFO : worker thread finished; awaiting finish of 0 more threads\n",
      "2018-06-23 15:26:13,978 : INFO : EPOCH - 4 : training on 2194536 raw words (1872148 effective words) took 3.4s, 542711 effective words/s\n",
      "2018-06-23 15:26:15,007 : INFO : EPOCH 5 - PROGRESS: at 29.30% examples, 541954 words/s, in_qsize 5, out_qsize 0\n",
      "2018-06-23 15:26:16,018 : INFO : EPOCH 5 - PROGRESS: at 58.99% examples, 544686 words/s, in_qsize 6, out_qsize 0\n",
      "2018-06-23 15:26:17,024 : INFO : EPOCH 5 - PROGRESS: at 88.23% examples, 544022 words/s, in_qsize 5, out_qsize 0\n",
      "2018-06-23 15:26:17,397 : INFO : worker thread finished; awaiting finish of 2 more threads\n",
      "2018-06-23 15:26:17,400 : INFO : worker thread finished; awaiting finish of 1 more threads\n",
      "2018-06-23 15:26:17,416 : INFO : worker thread finished; awaiting finish of 0 more threads\n",
      "2018-06-23 15:26:17,416 : INFO : EPOCH - 5 : training on 2194536 raw words (1872374 effective words) took 3.4s, 545706 effective words/s\n",
      "2018-06-23 15:26:17,417 : INFO : training on a 10972680 raw words (9361048 effective words) took 17.3s, 541114 effective words/s\n",
      "2018-06-23 15:26:17,418 : INFO : training model with 3 workers on 14809 vocabulary and 300 features, using sg=1 hs=0 sample=0.001 negative=5 window=8\n"
     ]
    },
    {
     "name": "stdout",
     "output_type": "stream",
     "text": [
      "13\n"
     ]
    },
    {
     "name": "stderr",
     "output_type": "stream",
     "text": [
      "2018-06-23 15:26:18,427 : INFO : EPOCH 1 - PROGRESS: at 29.75% examples, 560934 words/s, in_qsize 5, out_qsize 0\n",
      "2018-06-23 15:26:19,447 : INFO : EPOCH 1 - PROGRESS: at 60.34% examples, 560123 words/s, in_qsize 5, out_qsize 0\n",
      "2018-06-23 15:26:20,454 : INFO : EPOCH 1 - PROGRESS: at 90.97% examples, 562417 words/s, in_qsize 5, out_qsize 0\n",
      "2018-06-23 15:26:20,737 : INFO : worker thread finished; awaiting finish of 2 more threads\n",
      "2018-06-23 15:26:20,740 : INFO : worker thread finished; awaiting finish of 1 more threads\n",
      "2018-06-23 15:26:20,742 : INFO : worker thread finished; awaiting finish of 0 more threads\n",
      "2018-06-23 15:26:20,743 : INFO : EPOCH - 1 : training on 2194536 raw words (1871409 effective words) took 3.3s, 564090 effective words/s\n",
      "2018-06-23 15:26:21,755 : INFO : EPOCH 2 - PROGRESS: at 30.18% examples, 567530 words/s, in_qsize 6, out_qsize 0\n",
      "2018-06-23 15:26:22,755 : INFO : EPOCH 2 - PROGRESS: at 60.34% examples, 564619 words/s, in_qsize 5, out_qsize 0\n",
      "2018-06-23 15:26:23,756 : INFO : EPOCH 2 - PROGRESS: at 90.52% examples, 563747 words/s, in_qsize 5, out_qsize 0\n",
      "2018-06-23 15:26:24,032 : INFO : worker thread finished; awaiting finish of 2 more threads\n",
      "2018-06-23 15:26:24,048 : INFO : worker thread finished; awaiting finish of 1 more threads\n",
      "2018-06-23 15:26:24,053 : INFO : worker thread finished; awaiting finish of 0 more threads\n",
      "2018-06-23 15:26:24,053 : INFO : EPOCH - 2 : training on 2194536 raw words (1871755 effective words) took 3.3s, 566542 effective words/s\n",
      "2018-06-23 15:26:25,077 : INFO : EPOCH 3 - PROGRESS: at 30.18% examples, 561570 words/s, in_qsize 5, out_qsize 0\n",
      "2018-06-23 15:26:26,080 : INFO : EPOCH 3 - PROGRESS: at 60.34% examples, 561244 words/s, in_qsize 5, out_qsize 0\n",
      "2018-06-23 15:26:27,081 : INFO : EPOCH 3 - PROGRESS: at 90.52% examples, 561487 words/s, in_qsize 6, out_qsize 0\n",
      "2018-06-23 15:26:27,354 : INFO : worker thread finished; awaiting finish of 2 more threads\n",
      "2018-06-23 15:26:27,372 : INFO : worker thread finished; awaiting finish of 1 more threads\n",
      "2018-06-23 15:26:27,374 : INFO : worker thread finished; awaiting finish of 0 more threads\n",
      "2018-06-23 15:26:27,374 : INFO : EPOCH - 3 : training on 2194536 raw words (1872248 effective words) took 3.3s, 565114 effective words/s\n",
      "2018-06-23 15:26:28,413 : INFO : EPOCH 4 - PROGRESS: at 30.18% examples, 553614 words/s, in_qsize 5, out_qsize 0\n",
      "2018-06-23 15:26:29,415 : INFO : EPOCH 4 - PROGRESS: at 60.34% examples, 557386 words/s, in_qsize 5, out_qsize 0\n",
      "2018-06-23 15:26:30,437 : INFO : EPOCH 4 - PROGRESS: at 90.97% examples, 558040 words/s, in_qsize 5, out_qsize 0\n",
      "2018-06-23 15:26:30,694 : INFO : worker thread finished; awaiting finish of 2 more threads\n",
      "2018-06-23 15:26:30,706 : INFO : worker thread finished; awaiting finish of 1 more threads\n",
      "2018-06-23 15:26:30,709 : INFO : worker thread finished; awaiting finish of 0 more threads\n",
      "2018-06-23 15:26:30,710 : INFO : EPOCH - 4 : training on 2194536 raw words (1872461 effective words) took 3.3s, 562836 effective words/s\n",
      "2018-06-23 15:26:31,741 : INFO : EPOCH 5 - PROGRESS: at 30.18% examples, 558256 words/s, in_qsize 5, out_qsize 0\n",
      "2018-06-23 15:26:32,761 : INFO : EPOCH 5 - PROGRESS: at 60.34% examples, 554795 words/s, in_qsize 6, out_qsize 0\n",
      "2018-06-23 15:26:33,778 : INFO : EPOCH 5 - PROGRESS: at 90.97% examples, 557178 words/s, in_qsize 5, out_qsize 0\n",
      "2018-06-23 15:26:34,057 : INFO : worker thread finished; awaiting finish of 2 more threads\n",
      "2018-06-23 15:26:34,058 : INFO : worker thread finished; awaiting finish of 1 more threads\n",
      "2018-06-23 15:26:34,067 : INFO : worker thread finished; awaiting finish of 0 more threads\n",
      "2018-06-23 15:26:34,067 : INFO : EPOCH - 5 : training on 2194536 raw words (1872971 effective words) took 3.3s, 559280 effective words/s\n",
      "2018-06-23 15:26:34,068 : INFO : training on a 10972680 raw words (9360844 effective words) took 16.6s, 562230 effective words/s\n",
      "2018-06-23 15:26:34,068 : INFO : training model with 3 workers on 14809 vocabulary and 300 features, using sg=1 hs=0 sample=0.001 negative=5 window=8\n"
     ]
    },
    {
     "name": "stdout",
     "output_type": "stream",
     "text": [
      "14\n"
     ]
    },
    {
     "name": "stderr",
     "output_type": "stream",
     "text": [
      "2018-06-23 15:26:35,076 : INFO : EPOCH 1 - PROGRESS: at 29.75% examples, 561661 words/s, in_qsize 5, out_qsize 0\n",
      "2018-06-23 15:26:36,101 : INFO : EPOCH 1 - PROGRESS: at 60.37% examples, 559116 words/s, in_qsize 6, out_qsize 0\n",
      "2018-06-23 15:26:37,118 : INFO : EPOCH 1 - PROGRESS: at 90.98% examples, 560050 words/s, in_qsize 5, out_qsize 0\n",
      "2018-06-23 15:26:37,370 : INFO : worker thread finished; awaiting finish of 2 more threads\n",
      "2018-06-23 15:26:37,384 : INFO : worker thread finished; awaiting finish of 1 more threads\n",
      "2018-06-23 15:26:37,394 : INFO : worker thread finished; awaiting finish of 0 more threads\n",
      "2018-06-23 15:26:37,395 : INFO : EPOCH - 1 : training on 2194536 raw words (1871760 effective words) took 3.3s, 563907 effective words/s\n",
      "2018-06-23 15:26:38,411 : INFO : EPOCH 2 - PROGRESS: at 30.18% examples, 565112 words/s, in_qsize 5, out_qsize 0\n",
      "2018-06-23 15:26:39,411 : INFO : EPOCH 2 - PROGRESS: at 60.34% examples, 563602 words/s, in_qsize 5, out_qsize 0\n",
      "2018-06-23 15:26:40,423 : INFO : EPOCH 2 - PROGRESS: at 90.53% examples, 561231 words/s, in_qsize 5, out_qsize 0\n",
      "2018-06-23 15:26:40,701 : INFO : worker thread finished; awaiting finish of 2 more threads\n",
      "2018-06-23 15:26:40,702 : INFO : worker thread finished; awaiting finish of 1 more threads\n",
      "2018-06-23 15:26:40,713 : INFO : worker thread finished; awaiting finish of 0 more threads\n",
      "2018-06-23 15:26:40,713 : INFO : EPOCH - 2 : training on 2194536 raw words (1872160 effective words) took 3.3s, 565258 effective words/s\n",
      "2018-06-23 15:26:41,727 : INFO : EPOCH 3 - PROGRESS: at 30.20% examples, 566041 words/s, in_qsize 6, out_qsize 0\n",
      "2018-06-23 15:26:42,760 : INFO : EPOCH 3 - PROGRESS: at 61.28% examples, 563505 words/s, in_qsize 5, out_qsize 0\n",
      "2018-06-23 15:26:43,779 : INFO : EPOCH 3 - PROGRESS: at 91.86% examples, 562185 words/s, in_qsize 6, out_qsize 0\n",
      "2018-06-23 15:26:44,021 : INFO : worker thread finished; awaiting finish of 2 more threads\n",
      "2018-06-23 15:26:44,023 : INFO : worker thread finished; awaiting finish of 1 more threads\n",
      "2018-06-23 15:26:44,025 : INFO : worker thread finished; awaiting finish of 0 more threads\n",
      "2018-06-23 15:26:44,025 : INFO : EPOCH - 3 : training on 2194536 raw words (1872084 effective words) took 3.3s, 566144 effective words/s\n",
      "2018-06-23 15:26:45,048 : INFO : EPOCH 4 - PROGRESS: at 30.18% examples, 562609 words/s, in_qsize 6, out_qsize 0\n",
      "2018-06-23 15:26:46,062 : INFO : EPOCH 4 - PROGRESS: at 60.36% examples, 558405 words/s, in_qsize 5, out_qsize 0\n",
      "2018-06-23 15:26:47,062 : INFO : EPOCH 4 - PROGRESS: at 90.97% examples, 562719 words/s, in_qsize 5, out_qsize 0\n",
      "2018-06-23 15:26:47,332 : INFO : worker thread finished; awaiting finish of 2 more threads\n",
      "2018-06-23 15:26:47,341 : INFO : worker thread finished; awaiting finish of 1 more threads\n",
      "2018-06-23 15:26:47,344 : INFO : worker thread finished; awaiting finish of 0 more threads\n",
      "2018-06-23 15:26:47,344 : INFO : EPOCH - 4 : training on 2194536 raw words (1872125 effective words) took 3.3s, 565474 effective words/s\n",
      "2018-06-23 15:26:48,370 : INFO : EPOCH 5 - PROGRESS: at 30.18% examples, 560178 words/s, in_qsize 5, out_qsize 0\n",
      "2018-06-23 15:26:49,375 : INFO : EPOCH 5 - PROGRESS: at 60.81% examples, 563965 words/s, in_qsize 5, out_qsize 0\n",
      "2018-06-23 15:26:50,377 : INFO : EPOCH 5 - PROGRESS: at 90.97% examples, 563135 words/s, in_qsize 5, out_qsize 0\n",
      "2018-06-23 15:26:50,651 : INFO : worker thread finished; awaiting finish of 2 more threads\n",
      "2018-06-23 15:26:50,663 : INFO : worker thread finished; awaiting finish of 1 more threads\n",
      "2018-06-23 15:26:50,668 : INFO : worker thread finished; awaiting finish of 0 more threads\n",
      "2018-06-23 15:26:50,669 : INFO : EPOCH - 5 : training on 2194536 raw words (1872275 effective words) took 3.3s, 564392 effective words/s\n",
      "2018-06-23 15:26:50,669 : INFO : training on a 10972680 raw words (9360404 effective words) took 16.6s, 563869 effective words/s\n",
      "2018-06-23 15:26:50,670 : INFO : training model with 3 workers on 14809 vocabulary and 300 features, using sg=1 hs=0 sample=0.001 negative=5 window=8\n"
     ]
    },
    {
     "name": "stdout",
     "output_type": "stream",
     "text": [
      "15\n"
     ]
    },
    {
     "name": "stderr",
     "output_type": "stream",
     "text": [
      "2018-06-23 15:26:51,696 : INFO : EPOCH 1 - PROGRESS: at 30.18% examples, 560661 words/s, in_qsize 5, out_qsize 0\n",
      "2018-06-23 15:26:52,707 : INFO : EPOCH 1 - PROGRESS: at 60.82% examples, 562785 words/s, in_qsize 5, out_qsize 0\n",
      "2018-06-23 15:26:53,721 : INFO : EPOCH 1 - PROGRESS: at 90.97% examples, 560308 words/s, in_qsize 6, out_qsize 0\n",
      "2018-06-23 15:26:53,975 : INFO : worker thread finished; awaiting finish of 2 more threads\n",
      "2018-06-23 15:26:53,995 : INFO : worker thread finished; awaiting finish of 1 more threads\n",
      "2018-06-23 15:26:54,002 : INFO : worker thread finished; awaiting finish of 0 more threads\n",
      "2018-06-23 15:26:54,002 : INFO : EPOCH - 1 : training on 2194536 raw words (1872743 effective words) took 3.3s, 563376 effective words/s\n",
      "2018-06-23 15:26:55,046 : INFO : EPOCH 2 - PROGRESS: at 30.65% examples, 557834 words/s, in_qsize 5, out_qsize 0\n",
      "2018-06-23 15:26:56,050 : INFO : EPOCH 2 - PROGRESS: at 61.28% examples, 563299 words/s, in_qsize 6, out_qsize 0\n",
      "2018-06-23 15:26:57,057 : INFO : EPOCH 2 - PROGRESS: at 91.92% examples, 564666 words/s, in_qsize 6, out_qsize 0\n",
      "2018-06-23 15:26:57,310 : INFO : worker thread finished; awaiting finish of 2 more threads\n",
      "2018-06-23 15:26:57,314 : INFO : worker thread finished; awaiting finish of 1 more threads\n",
      "2018-06-23 15:26:57,318 : INFO : worker thread finished; awaiting finish of 0 more threads\n",
      "2018-06-23 15:26:57,318 : INFO : EPOCH - 2 : training on 2194536 raw words (1871800 effective words) took 3.3s, 565692 effective words/s\n",
      "2018-06-23 15:26:58,333 : INFO : EPOCH 3 - PROGRESS: at 29.73% examples, 557853 words/s, in_qsize 6, out_qsize 0\n",
      "2018-06-23 15:26:59,333 : INFO : EPOCH 3 - PROGRESS: at 60.34% examples, 564315 words/s, in_qsize 5, out_qsize 0\n",
      "2018-06-23 15:27:00,354 : INFO : EPOCH 3 - PROGRESS: at 90.52% examples, 559737 words/s, in_qsize 5, out_qsize 0\n",
      "2018-06-23 15:27:00,637 : INFO : worker thread finished; awaiting finish of 2 more threads\n",
      "2018-06-23 15:27:00,639 : INFO : worker thread finished; awaiting finish of 1 more threads\n",
      "2018-06-23 15:27:00,649 : INFO : worker thread finished; awaiting finish of 0 more threads\n",
      "2018-06-23 15:27:00,650 : INFO : EPOCH - 3 : training on 2194536 raw words (1871650 effective words) took 3.3s, 563041 effective words/s\n",
      "2018-06-23 15:27:01,658 : INFO : EPOCH 4 - PROGRESS: at 30.18% examples, 569981 words/s, in_qsize 6, out_qsize 0\n",
      "2018-06-23 15:27:02,685 : INFO : EPOCH 4 - PROGRESS: at 60.36% examples, 558510 words/s, in_qsize 5, out_qsize 0\n",
      "2018-06-23 15:27:03,686 : INFO : EPOCH 4 - PROGRESS: at 90.52% examples, 559858 words/s, in_qsize 5, out_qsize 0\n",
      "2018-06-23 15:27:03,955 : INFO : worker thread finished; awaiting finish of 2 more threads\n",
      "2018-06-23 15:27:03,972 : INFO : worker thread finished; awaiting finish of 1 more threads\n",
      "2018-06-23 15:27:03,973 : INFO : worker thread finished; awaiting finish of 0 more threads\n",
      "2018-06-23 15:27:03,974 : INFO : EPOCH - 4 : training on 2194536 raw words (1872460 effective words) took 3.3s, 564584 effective words/s\n",
      "2018-06-23 15:27:04,985 : INFO : EPOCH 5 - PROGRESS: at 29.75% examples, 560652 words/s, in_qsize 6, out_qsize 0\n",
      "2018-06-23 15:27:06,014 : INFO : EPOCH 5 - PROGRESS: at 60.34% examples, 557470 words/s, in_qsize 6, out_qsize 0\n",
      "2018-06-23 15:27:07,015 : INFO : EPOCH 5 - PROGRESS: at 90.97% examples, 561981 words/s, in_qsize 5, out_qsize 0\n",
      "2018-06-23 15:27:07,298 : INFO : worker thread finished; awaiting finish of 2 more threads\n",
      "2018-06-23 15:27:07,301 : INFO : worker thread finished; awaiting finish of 1 more threads\n",
      "2018-06-23 15:27:07,305 : INFO : worker thread finished; awaiting finish of 0 more threads\n",
      "2018-06-23 15:27:07,308 : INFO : EPOCH - 5 : training on 2194536 raw words (1872120 effective words) took 3.3s, 563056 effective words/s\n",
      "2018-06-23 15:27:07,308 : INFO : training on a 10972680 raw words (9360773 effective words) took 16.6s, 562632 effective words/s\n",
      "2018-06-23 15:27:07,308 : INFO : training model with 3 workers on 14809 vocabulary and 300 features, using sg=1 hs=0 sample=0.001 negative=5 window=8\n"
     ]
    },
    {
     "name": "stdout",
     "output_type": "stream",
     "text": [
      "16\n"
     ]
    },
    {
     "name": "stderr",
     "output_type": "stream",
     "text": [
      "2018-06-23 15:27:08,316 : INFO : EPOCH 1 - PROGRESS: at 29.75% examples, 561768 words/s, in_qsize 5, out_qsize 0\n",
      "2018-06-23 15:27:09,322 : INFO : EPOCH 1 - PROGRESS: at 59.89% examples, 560513 words/s, in_qsize 6, out_qsize 0\n",
      "2018-06-23 15:27:10,341 : INFO : EPOCH 1 - PROGRESS: at 90.52% examples, 560650 words/s, in_qsize 6, out_qsize 0\n",
      "2018-06-23 15:27:10,618 : INFO : worker thread finished; awaiting finish of 2 more threads\n",
      "2018-06-23 15:27:10,630 : INFO : worker thread finished; awaiting finish of 1 more threads\n",
      "2018-06-23 15:27:10,632 : INFO : worker thread finished; awaiting finish of 0 more threads\n",
      "2018-06-23 15:27:10,633 : INFO : EPOCH - 1 : training on 2194536 raw words (1872841 effective words) took 3.3s, 564559 effective words/s\n",
      "2018-06-23 15:27:11,657 : INFO : EPOCH 2 - PROGRESS: at 30.18% examples, 560114 words/s, in_qsize 5, out_qsize 0\n",
      "2018-06-23 15:27:12,666 : INFO : EPOCH 2 - PROGRESS: at 60.81% examples, 563015 words/s, in_qsize 5, out_qsize 0\n",
      "2018-06-23 15:27:13,677 : INFO : EPOCH 2 - PROGRESS: at 90.97% examples, 560877 words/s, in_qsize 5, out_qsize 0\n",
      "2018-06-23 15:27:13,948 : INFO : worker thread finished; awaiting finish of 2 more threads\n",
      "2018-06-23 15:27:13,958 : INFO : worker thread finished; awaiting finish of 1 more threads\n",
      "2018-06-23 15:27:13,962 : INFO : worker thread finished; awaiting finish of 0 more threads\n",
      "2018-06-23 15:27:13,962 : INFO : EPOCH - 2 : training on 2194536 raw words (1872081 effective words) took 3.3s, 563336 effective words/s\n",
      "2018-06-23 15:27:14,978 : INFO : EPOCH 3 - PROGRESS: at 29.75% examples, 556513 words/s, in_qsize 5, out_qsize 0\n",
      "2018-06-23 15:27:15,984 : INFO : EPOCH 3 - PROGRESS: at 60.34% examples, 562052 words/s, in_qsize 5, out_qsize 0\n",
      "2018-06-23 15:27:17,011 : INFO : EPOCH 3 - PROGRESS: at 90.98% examples, 560065 words/s, in_qsize 6, out_qsize 0\n",
      "2018-06-23 15:27:17,271 : INFO : worker thread finished; awaiting finish of 2 more threads\n",
      "2018-06-23 15:27:17,286 : INFO : worker thread finished; awaiting finish of 1 more threads\n",
      "2018-06-23 15:27:17,290 : INFO : worker thread finished; awaiting finish of 0 more threads\n",
      "2018-06-23 15:27:17,290 : INFO : EPOCH - 3 : training on 2194536 raw words (1872394 effective words) took 3.3s, 563592 effective words/s\n",
      "2018-06-23 15:27:18,299 : INFO : EPOCH 4 - PROGRESS: at 30.18% examples, 569029 words/s, in_qsize 6, out_qsize 0\n",
      "2018-06-23 15:27:19,303 : INFO : EPOCH 4 - PROGRESS: at 59.89% examples, 560400 words/s, in_qsize 6, out_qsize 0\n",
      "2018-06-23 15:27:20,304 : INFO : EPOCH 4 - PROGRESS: at 90.52% examples, 563882 words/s, in_qsize 5, out_qsize 0\n",
      "2018-06-23 15:27:20,596 : INFO : worker thread finished; awaiting finish of 2 more threads\n",
      "2018-06-23 15:27:20,608 : INFO : worker thread finished; awaiting finish of 1 more threads\n",
      "2018-06-23 15:27:20,610 : INFO : worker thread finished; awaiting finish of 0 more threads\n",
      "2018-06-23 15:27:20,610 : INFO : EPOCH - 4 : training on 2194536 raw words (1872641 effective words) took 3.3s, 565042 effective words/s\n",
      "2018-06-23 15:27:21,634 : INFO : EPOCH 5 - PROGRESS: at 30.18% examples, 561588 words/s, in_qsize 6, out_qsize 0\n",
      "2018-06-23 15:27:22,640 : INFO : EPOCH 5 - PROGRESS: at 60.81% examples, 564437 words/s, in_qsize 5, out_qsize 0\n",
      "2018-06-23 15:27:23,641 : INFO : EPOCH 5 - PROGRESS: at 90.98% examples, 563663 words/s, in_qsize 6, out_qsize 0\n",
      "2018-06-23 15:27:23,914 : INFO : worker thread finished; awaiting finish of 2 more threads\n",
      "2018-06-23 15:27:23,922 : INFO : worker thread finished; awaiting finish of 1 more threads\n",
      "2018-06-23 15:27:23,928 : INFO : worker thread finished; awaiting finish of 0 more threads\n",
      "2018-06-23 15:27:23,929 : INFO : EPOCH - 5 : training on 2194536 raw words (1872491 effective words) took 3.3s, 565412 effective words/s\n",
      "2018-06-23 15:27:23,930 : INFO : training on a 10972680 raw words (9362448 effective words) took 16.6s, 563318 effective words/s\n",
      "2018-06-23 15:27:23,930 : INFO : training model with 3 workers on 14809 vocabulary and 300 features, using sg=1 hs=0 sample=0.001 negative=5 window=8\n"
     ]
    },
    {
     "name": "stdout",
     "output_type": "stream",
     "text": [
      "17\n"
     ]
    },
    {
     "name": "stderr",
     "output_type": "stream",
     "text": [
      "2018-06-23 15:27:24,956 : INFO : EPOCH 1 - PROGRESS: at 29.75% examples, 551462 words/s, in_qsize 5, out_qsize 0\n",
      "2018-06-23 15:27:25,972 : INFO : EPOCH 1 - PROGRESS: at 58.53% examples, 539887 words/s, in_qsize 6, out_qsize 0\n",
      "2018-06-23 15:27:26,982 : INFO : EPOCH 1 - PROGRESS: at 88.23% examples, 542870 words/s, in_qsize 5, out_qsize 0\n",
      "2018-06-23 15:27:27,360 : INFO : worker thread finished; awaiting finish of 2 more threads\n",
      "2018-06-23 15:27:27,368 : INFO : worker thread finished; awaiting finish of 1 more threads\n",
      "2018-06-23 15:27:27,371 : INFO : worker thread finished; awaiting finish of 0 more threads\n",
      "2018-06-23 15:27:27,371 : INFO : EPOCH - 1 : training on 2194536 raw words (1871693 effective words) took 3.4s, 545056 effective words/s\n",
      "2018-06-23 15:27:28,383 : INFO : EPOCH 2 - PROGRESS: at 28.40% examples, 534073 words/s, in_qsize 6, out_qsize 0\n",
      "2018-06-23 15:27:29,390 : INFO : EPOCH 2 - PROGRESS: at 57.14% examples, 533345 words/s, in_qsize 5, out_qsize 0\n",
      "2018-06-23 15:27:30,399 : INFO : EPOCH 2 - PROGRESS: at 87.31% examples, 541570 words/s, in_qsize 5, out_qsize 0\n",
      "2018-06-23 15:27:30,799 : INFO : worker thread finished; awaiting finish of 2 more threads\n",
      "2018-06-23 15:27:30,804 : INFO : worker thread finished; awaiting finish of 1 more threads\n",
      "2018-06-23 15:27:30,805 : INFO : worker thread finished; awaiting finish of 0 more threads\n",
      "2018-06-23 15:27:30,805 : INFO : EPOCH - 2 : training on 2194536 raw words (1872465 effective words) took 3.4s, 546381 effective words/s\n",
      "2018-06-23 15:27:31,816 : INFO : EPOCH 3 - PROGRESS: at 30.18% examples, 568910 words/s, in_qsize 5, out_qsize 0\n",
      "2018-06-23 15:27:32,825 : INFO : EPOCH 3 - PROGRESS: at 60.34% examples, 562960 words/s, in_qsize 5, out_qsize 0\n",
      "2018-06-23 15:27:33,830 : INFO : EPOCH 3 - PROGRESS: at 90.52% examples, 561954 words/s, in_qsize 5, out_qsize 0\n",
      "2018-06-23 15:27:34,110 : INFO : worker thread finished; awaiting finish of 2 more threads\n",
      "2018-06-23 15:27:34,115 : INFO : worker thread finished; awaiting finish of 1 more threads\n",
      "2018-06-23 15:27:34,126 : INFO : worker thread finished; awaiting finish of 0 more threads\n",
      "2018-06-23 15:27:34,126 : INFO : EPOCH - 3 : training on 2194536 raw words (1872365 effective words) took 3.3s, 565103 effective words/s\n",
      "2018-06-23 15:27:35,144 : INFO : EPOCH 4 - PROGRESS: at 30.18% examples, 563000 words/s, in_qsize 5, out_qsize 0\n",
      "2018-06-23 15:27:36,178 : INFO : EPOCH 4 - PROGRESS: at 61.26% examples, 561508 words/s, in_qsize 6, out_qsize 0\n",
      "2018-06-23 15:27:37,190 : INFO : EPOCH 4 - PROGRESS: at 91.92% examples, 562495 words/s, in_qsize 6, out_qsize 0\n",
      "2018-06-23 15:27:37,429 : INFO : worker thread finished; awaiting finish of 2 more threads\n",
      "2018-06-23 15:27:37,434 : INFO : worker thread finished; awaiting finish of 1 more threads\n",
      "2018-06-23 15:27:37,440 : INFO : worker thread finished; awaiting finish of 0 more threads\n",
      "2018-06-23 15:27:37,440 : INFO : EPOCH - 4 : training on 2194536 raw words (1871363 effective words) took 3.3s, 565492 effective words/s\n",
      "2018-06-23 15:27:38,456 : INFO : EPOCH 5 - PROGRESS: at 29.75% examples, 557629 words/s, in_qsize 5, out_qsize 0\n",
      "2018-06-23 15:27:39,456 : INFO : EPOCH 5 - PROGRESS: at 60.34% examples, 564055 words/s, in_qsize 5, out_qsize 0\n",
      "2018-06-23 15:27:40,461 : INFO : EPOCH 5 - PROGRESS: at 90.52% examples, 562686 words/s, in_qsize 5, out_qsize 0\n",
      "2018-06-23 15:27:40,753 : INFO : worker thread finished; awaiting finish of 2 more threads\n",
      "2018-06-23 15:27:40,755 : INFO : worker thread finished; awaiting finish of 1 more threads\n",
      "2018-06-23 15:27:40,765 : INFO : worker thread finished; awaiting finish of 0 more threads\n",
      "2018-06-23 15:27:40,766 : INFO : EPOCH - 5 : training on 2194536 raw words (1872649 effective words) took 3.3s, 564288 effective words/s\n",
      "2018-06-23 15:27:40,766 : INFO : training on a 10972680 raw words (9360535 effective words) took 16.8s, 556000 effective words/s\n",
      "2018-06-23 15:27:40,766 : INFO : training model with 3 workers on 14809 vocabulary and 300 features, using sg=1 hs=0 sample=0.001 negative=5 window=8\n"
     ]
    },
    {
     "name": "stdout",
     "output_type": "stream",
     "text": [
      "18\n"
     ]
    },
    {
     "name": "stderr",
     "output_type": "stream",
     "text": [
      "2018-06-23 15:27:41,785 : INFO : EPOCH 1 - PROGRESS: at 29.75% examples, 556426 words/s, in_qsize 5, out_qsize 0\n",
      "2018-06-23 15:27:42,808 : INFO : EPOCH 1 - PROGRESS: at 60.34% examples, 557289 words/s, in_qsize 5, out_qsize 0\n",
      "2018-06-23 15:27:43,820 : INFO : EPOCH 1 - PROGRESS: at 90.98% examples, 559775 words/s, in_qsize 6, out_qsize 0\n",
      "2018-06-23 15:27:44,093 : INFO : worker thread finished; awaiting finish of 2 more threads\n",
      "2018-06-23 15:27:44,100 : INFO : worker thread finished; awaiting finish of 1 more threads\n",
      "2018-06-23 15:27:44,105 : INFO : worker thread finished; awaiting finish of 0 more threads\n",
      "2018-06-23 15:27:44,105 : INFO : EPOCH - 1 : training on 2194536 raw words (1872371 effective words) took 3.3s, 562245 effective words/s\n",
      "2018-06-23 15:27:45,114 : INFO : EPOCH 2 - PROGRESS: at 29.75% examples, 560758 words/s, in_qsize 6, out_qsize 0\n",
      "2018-06-23 15:27:46,135 : INFO : EPOCH 2 - PROGRESS: at 60.34% examples, 560089 words/s, in_qsize 5, out_qsize 0\n",
      "2018-06-23 15:27:47,148 : INFO : EPOCH 2 - PROGRESS: at 90.97% examples, 561230 words/s, in_qsize 6, out_qsize 0\n",
      "2018-06-23 15:27:47,419 : INFO : worker thread finished; awaiting finish of 2 more threads\n",
      "2018-06-23 15:27:47,426 : INFO : worker thread finished; awaiting finish of 1 more threads\n",
      "2018-06-23 15:27:47,432 : INFO : worker thread finished; awaiting finish of 0 more threads\n",
      "2018-06-23 15:27:47,432 : INFO : EPOCH - 2 : training on 2194536 raw words (1872107 effective words) took 3.3s, 563779 effective words/s\n",
      "2018-06-23 15:27:48,462 : INFO : EPOCH 3 - PROGRESS: at 30.22% examples, 557296 words/s, in_qsize 5, out_qsize 0\n",
      "2018-06-23 15:27:49,469 : INFO : EPOCH 3 - PROGRESS: at 60.81% examples, 561972 words/s, in_qsize 6, out_qsize 0\n",
      "2018-06-23 15:27:50,472 : INFO : EPOCH 3 - PROGRESS: at 90.97% examples, 561597 words/s, in_qsize 5, out_qsize 0\n",
      "2018-06-23 15:27:50,740 : INFO : worker thread finished; awaiting finish of 2 more threads\n",
      "2018-06-23 15:27:50,748 : INFO : worker thread finished; awaiting finish of 1 more threads\n",
      "2018-06-23 15:27:50,753 : INFO : worker thread finished; awaiting finish of 0 more threads\n",
      "2018-06-23 15:27:50,753 : INFO : EPOCH - 3 : training on 2194536 raw words (1871900 effective words) took 3.3s, 564670 effective words/s\n",
      "2018-06-23 15:27:51,763 : INFO : EPOCH 4 - PROGRESS: at 29.75% examples, 560786 words/s, in_qsize 5, out_qsize 0\n",
      "2018-06-23 15:27:52,784 : INFO : EPOCH 4 - PROGRESS: at 60.34% examples, 559898 words/s, in_qsize 5, out_qsize 0\n",
      "2018-06-23 15:27:53,793 : INFO : EPOCH 4 - PROGRESS: at 90.97% examples, 561966 words/s, in_qsize 6, out_qsize 0\n",
      "2018-06-23 15:27:54,065 : INFO : worker thread finished; awaiting finish of 2 more threads\n",
      "2018-06-23 15:27:54,077 : INFO : worker thread finished; awaiting finish of 1 more threads\n",
      "2018-06-23 15:27:54,078 : INFO : worker thread finished; awaiting finish of 0 more threads\n",
      "2018-06-23 15:27:54,079 : INFO : EPOCH - 4 : training on 2194536 raw words (1872987 effective words) took 3.3s, 564420 effective words/s\n",
      "2018-06-23 15:27:55,098 : INFO : EPOCH 5 - PROGRESS: at 30.18% examples, 562599 words/s, in_qsize 5, out_qsize 0\n",
      "2018-06-23 15:27:56,102 : INFO : EPOCH 5 - PROGRESS: at 60.34% examples, 561345 words/s, in_qsize 6, out_qsize 0\n",
      "2018-06-23 15:27:57,112 : INFO : EPOCH 5 - PROGRESS: at 90.97% examples, 562853 words/s, in_qsize 6, out_qsize 0\n",
      "2018-06-23 15:27:57,384 : INFO : worker thread finished; awaiting finish of 2 more threads\n",
      "2018-06-23 15:27:57,391 : INFO : worker thread finished; awaiting finish of 1 more threads\n",
      "2018-06-23 15:27:57,394 : INFO : worker thread finished; awaiting finish of 0 more threads\n",
      "2018-06-23 15:27:57,395 : INFO : EPOCH - 5 : training on 2194536 raw words (1872199 effective words) took 3.3s, 565588 effective words/s\n",
      "2018-06-23 15:27:57,395 : INFO : training on a 10972680 raw words (9361564 effective words) took 16.6s, 562996 effective words/s\n",
      "2018-06-23 15:27:57,395 : INFO : training model with 3 workers on 14809 vocabulary and 300 features, using sg=1 hs=0 sample=0.001 negative=5 window=8\n"
     ]
    },
    {
     "name": "stdout",
     "output_type": "stream",
     "text": [
      "19\n"
     ]
    },
    {
     "name": "stderr",
     "output_type": "stream",
     "text": [
      "2018-06-23 15:27:58,412 : INFO : EPOCH 1 - PROGRESS: at 29.75% examples, 556935 words/s, in_qsize 5, out_qsize 0\n",
      "2018-06-23 15:27:59,436 : INFO : EPOCH 1 - PROGRESS: at 60.34% examples, 557161 words/s, in_qsize 5, out_qsize 0\n",
      "2018-06-23 15:28:00,447 : INFO : EPOCH 1 - PROGRESS: at 90.98% examples, 559740 words/s, in_qsize 6, out_qsize 0\n",
      "2018-06-23 15:28:00,711 : INFO : worker thread finished; awaiting finish of 2 more threads\n",
      "2018-06-23 15:28:00,724 : INFO : worker thread finished; awaiting finish of 1 more threads\n",
      "2018-06-23 15:28:00,731 : INFO : worker thread finished; awaiting finish of 0 more threads\n",
      "2018-06-23 15:28:00,732 : INFO : EPOCH - 1 : training on 2194536 raw words (1872179 effective words) took 3.3s, 562331 effective words/s\n",
      "2018-06-23 15:28:01,749 : INFO : EPOCH 2 - PROGRESS: at 30.18% examples, 563885 words/s, in_qsize 5, out_qsize 0\n",
      "2018-06-23 15:28:02,750 : INFO : EPOCH 2 - PROGRESS: at 59.90% examples, 558922 words/s, in_qsize 6, out_qsize 0\n",
      "2018-06-23 15:28:03,755 : INFO : EPOCH 2 - PROGRESS: at 90.97% examples, 564959 words/s, in_qsize 6, out_qsize 0\n",
      "2018-06-23 15:28:04,032 : INFO : worker thread finished; awaiting finish of 2 more threads\n",
      "2018-06-23 15:28:04,046 : INFO : worker thread finished; awaiting finish of 1 more threads\n",
      "2018-06-23 15:28:04,053 : INFO : worker thread finished; awaiting finish of 0 more threads\n",
      "2018-06-23 15:28:04,053 : INFO : EPOCH - 2 : training on 2194536 raw words (1872500 effective words) took 3.3s, 564763 effective words/s\n",
      "2018-06-23 15:28:05,076 : INFO : EPOCH 3 - PROGRESS: at 30.18% examples, 561994 words/s, in_qsize 5, out_qsize 0\n",
      "2018-06-23 15:28:06,084 : INFO : EPOCH 3 - PROGRESS: at 60.34% examples, 560000 words/s, in_qsize 6, out_qsize 0\n",
      "2018-06-23 15:28:07,087 : INFO : EPOCH 3 - PROGRESS: at 90.97% examples, 563209 words/s, in_qsize 5, out_qsize 0\n",
      "2018-06-23 15:28:07,367 : INFO : worker thread finished; awaiting finish of 2 more threads\n",
      "2018-06-23 15:28:07,373 : INFO : worker thread finished; awaiting finish of 1 more threads\n",
      "2018-06-23 15:28:07,374 : INFO : worker thread finished; awaiting finish of 0 more threads\n",
      "2018-06-23 15:28:07,375 : INFO : EPOCH - 3 : training on 2194536 raw words (1872664 effective words) took 3.3s, 565094 effective words/s\n",
      "2018-06-23 15:28:08,381 : INFO : EPOCH 4 - PROGRESS: at 29.73% examples, 561613 words/s, in_qsize 5, out_qsize 0\n",
      "2018-06-23 15:28:09,387 : INFO : EPOCH 4 - PROGRESS: at 59.89% examples, 560268 words/s, in_qsize 5, out_qsize 0\n",
      "2018-06-23 15:28:10,407 : INFO : EPOCH 4 - PROGRESS: at 90.52% examples, 560178 words/s, in_qsize 6, out_qsize 0\n",
      "2018-06-23 15:28:10,692 : INFO : worker thread finished; awaiting finish of 2 more threads\n",
      "2018-06-23 15:28:10,701 : INFO : worker thread finished; awaiting finish of 1 more threads\n",
      "2018-06-23 15:28:10,708 : INFO : worker thread finished; awaiting finish of 0 more threads\n",
      "2018-06-23 15:28:10,708 : INFO : EPOCH - 4 : training on 2194536 raw words (1872042 effective words) took 3.3s, 562581 effective words/s\n",
      "2018-06-23 15:28:11,716 : INFO : EPOCH 5 - PROGRESS: at 29.75% examples, 560819 words/s, in_qsize 5, out_qsize 0\n",
      "2018-06-23 15:28:12,721 : INFO : EPOCH 5 - PROGRESS: at 60.34% examples, 564243 words/s, in_qsize 5, out_qsize 0\n",
      "2018-06-23 15:28:13,723 : INFO : EPOCH 5 - PROGRESS: at 90.52% examples, 563385 words/s, in_qsize 6, out_qsize 0\n",
      "2018-06-23 15:28:14,012 : INFO : worker thread finished; awaiting finish of 2 more threads\n",
      "2018-06-23 15:28:14,018 : INFO : worker thread finished; awaiting finish of 1 more threads\n",
      "2018-06-23 15:28:14,025 : INFO : worker thread finished; awaiting finish of 0 more threads\n",
      "2018-06-23 15:28:14,026 : INFO : EPOCH - 5 : training on 2194536 raw words (1871424 effective words) took 3.3s, 565175 effective words/s\n",
      "2018-06-23 15:28:14,026 : INFO : training on a 10972680 raw words (9360809 effective words) took 16.6s, 562886 effective words/s\n",
      "2018-06-23 15:28:14,027 : INFO : training model with 3 workers on 14809 vocabulary and 300 features, using sg=1 hs=0 sample=0.001 negative=5 window=8\n"
     ]
    },
    {
     "name": "stdout",
     "output_type": "stream",
     "text": [
      "20\n"
     ]
    },
    {
     "name": "stderr",
     "output_type": "stream",
     "text": [
      "2018-06-23 15:28:15,045 : INFO : EPOCH 1 - PROGRESS: at 30.18% examples, 563565 words/s, in_qsize 5, out_qsize 0\n",
      "2018-06-23 15:28:16,073 : INFO : EPOCH 1 - PROGRESS: at 60.81% examples, 559070 words/s, in_qsize 5, out_qsize 0\n",
      "2018-06-23 15:28:17,094 : INFO : EPOCH 1 - PROGRESS: at 91.44% examples, 559302 words/s, in_qsize 5, out_qsize 0\n",
      "2018-06-23 15:28:17,328 : INFO : worker thread finished; awaiting finish of 2 more threads\n",
      "2018-06-23 15:28:17,350 : INFO : worker thread finished; awaiting finish of 1 more threads\n",
      "2018-06-23 15:28:17,354 : INFO : worker thread finished; awaiting finish of 0 more threads\n",
      "2018-06-23 15:28:17,354 : INFO : EPOCH - 1 : training on 2194536 raw words (1872251 effective words) took 3.3s, 563585 effective words/s\n",
      "2018-06-23 15:28:18,379 : INFO : EPOCH 2 - PROGRESS: at 30.18% examples, 561410 words/s, in_qsize 5, out_qsize 0\n",
      "2018-06-23 15:28:19,389 : INFO : EPOCH 2 - PROGRESS: at 60.81% examples, 563140 words/s, in_qsize 6, out_qsize 0\n",
      "2018-06-23 15:28:20,411 : INFO : EPOCH 2 - PROGRESS: at 90.97% examples, 559069 words/s, in_qsize 5, out_qsize 0\n",
      "2018-06-23 15:28:20,656 : INFO : worker thread finished; awaiting finish of 2 more threads\n",
      "2018-06-23 15:28:20,679 : INFO : worker thread finished; awaiting finish of 1 more threads\n",
      "2018-06-23 15:28:20,683 : INFO : worker thread finished; awaiting finish of 0 more threads\n",
      "2018-06-23 15:28:20,684 : INFO : EPOCH - 2 : training on 2194536 raw words (1872511 effective words) took 3.3s, 563666 effective words/s\n",
      "2018-06-23 15:28:21,709 : INFO : EPOCH 3 - PROGRESS: at 30.18% examples, 560887 words/s, in_qsize 6, out_qsize 0\n",
      "2018-06-23 15:28:22,711 : INFO : EPOCH 3 - PROGRESS: at 60.36% examples, 560862 words/s, in_qsize 5, out_qsize 0\n",
      "2018-06-23 15:28:23,715 : INFO : EPOCH 3 - PROGRESS: at 90.97% examples, 563591 words/s, in_qsize 5, out_qsize 0\n",
      "2018-06-23 15:28:23,991 : INFO : worker thread finished; awaiting finish of 2 more threads\n",
      "2018-06-23 15:28:23,995 : INFO : worker thread finished; awaiting finish of 1 more threads\n",
      "2018-06-23 15:28:24,007 : INFO : worker thread finished; awaiting finish of 0 more threads\n",
      "2018-06-23 15:28:24,007 : INFO : EPOCH - 3 : training on 2194536 raw words (1872176 effective words) took 3.3s, 564578 effective words/s\n",
      "2018-06-23 15:28:25,021 : INFO : EPOCH 4 - PROGRESS: at 29.75% examples, 557695 words/s, in_qsize 5, out_qsize 0\n",
      "2018-06-23 15:28:26,043 : INFO : EPOCH 4 - PROGRESS: at 60.34% examples, 558077 words/s, in_qsize 6, out_qsize 0\n",
      "2018-06-23 15:28:27,047 : INFO : EPOCH 4 - PROGRESS: at 90.97% examples, 561642 words/s, in_qsize 6, out_qsize 0\n",
      "2018-06-23 15:28:27,321 : INFO : worker thread finished; awaiting finish of 2 more threads\n",
      "2018-06-23 15:28:27,341 : INFO : worker thread finished; awaiting finish of 1 more threads\n",
      "2018-06-23 15:28:27,343 : INFO : worker thread finished; awaiting finish of 0 more threads\n",
      "2018-06-23 15:28:27,344 : INFO : EPOCH - 4 : training on 2194536 raw words (1871530 effective words) took 3.3s, 561979 effective words/s\n",
      "2018-06-23 15:28:28,365 : INFO : EPOCH 5 - PROGRESS: at 30.18% examples, 562436 words/s, in_qsize 6, out_qsize 0\n",
      "2018-06-23 15:28:29,367 : INFO : EPOCH 5 - PROGRESS: at 59.89% examples, 557626 words/s, in_qsize 5, out_qsize 0\n",
      "2018-06-23 15:28:30,378 : INFO : EPOCH 5 - PROGRESS: at 90.52% examples, 560214 words/s, in_qsize 5, out_qsize 0\n",
      "2018-06-23 15:28:30,651 : INFO : worker thread finished; awaiting finish of 2 more threads\n",
      "2018-06-23 15:28:30,669 : INFO : worker thread finished; awaiting finish of 1 more threads\n",
      "2018-06-23 15:28:30,671 : INFO : worker thread finished; awaiting finish of 0 more threads\n",
      "2018-06-23 15:28:30,672 : INFO : EPOCH - 5 : training on 2194536 raw words (1872324 effective words) took 3.3s, 563816 effective words/s\n",
      "2018-06-23 15:28:30,672 : INFO : training on a 10972680 raw words (9360792 effective words) took 16.6s, 562368 effective words/s\n",
      "2018-06-23 15:28:30,673 : INFO : training model with 3 workers on 14809 vocabulary and 300 features, using sg=1 hs=0 sample=0.001 negative=5 window=8\n"
     ]
    },
    {
     "name": "stdout",
     "output_type": "stream",
     "text": [
      "21\n"
     ]
    },
    {
     "name": "stderr",
     "output_type": "stream",
     "text": [
      "2018-06-23 15:28:31,693 : INFO : EPOCH 1 - PROGRESS: at 30.18% examples, 563512 words/s, in_qsize 5, out_qsize 0\n",
      "2018-06-23 15:28:32,704 : INFO : EPOCH 1 - PROGRESS: at 59.89% examples, 555694 words/s, in_qsize 6, out_qsize 0\n",
      "2018-06-23 15:28:33,714 : INFO : EPOCH 1 - PROGRESS: at 90.07% examples, 556136 words/s, in_qsize 5, out_qsize 0\n",
      "2018-06-23 15:28:34,031 : INFO : worker thread finished; awaiting finish of 2 more threads\n",
      "2018-06-23 15:28:34,032 : INFO : worker thread finished; awaiting finish of 1 more threads\n",
      "2018-06-23 15:28:34,044 : INFO : worker thread finished; awaiting finish of 0 more threads\n",
      "2018-06-23 15:28:34,045 : INFO : EPOCH - 1 : training on 2194536 raw words (1872249 effective words) took 3.4s, 556501 effective words/s\n",
      "2018-06-23 15:28:35,078 : INFO : EPOCH 2 - PROGRESS: at 30.63% examples, 563873 words/s, in_qsize 6, out_qsize 0\n",
      "2018-06-23 15:28:36,083 : INFO : EPOCH 2 - PROGRESS: at 60.81% examples, 561751 words/s, in_qsize 5, out_qsize 0\n",
      "2018-06-23 15:28:37,084 : INFO : EPOCH 2 - PROGRESS: at 91.44% examples, 564731 words/s, in_qsize 5, out_qsize 0\n",
      "2018-06-23 15:28:37,347 : INFO : worker thread finished; awaiting finish of 2 more threads\n",
      "2018-06-23 15:28:37,348 : INFO : worker thread finished; awaiting finish of 1 more threads\n",
      "2018-06-23 15:28:37,350 : INFO : worker thread finished; awaiting finish of 0 more threads\n",
      "2018-06-23 15:28:37,351 : INFO : EPOCH - 2 : training on 2194536 raw words (1872473 effective words) took 3.3s, 567503 effective words/s\n",
      "2018-06-23 15:28:38,371 : INFO : EPOCH 3 - PROGRESS: at 29.30% examples, 546579 words/s, in_qsize 5, out_qsize 0\n",
      "2018-06-23 15:28:39,381 : INFO : EPOCH 3 - PROGRESS: at 55.78% examples, 517782 words/s, in_qsize 5, out_qsize 0\n",
      "2018-06-23 15:28:40,389 : INFO : EPOCH 3 - PROGRESS: at 85.53% examples, 528589 words/s, in_qsize 5, out_qsize 0\n",
      "2018-06-23 15:28:40,907 : INFO : worker thread finished; awaiting finish of 2 more threads\n",
      "2018-06-23 15:28:40,923 : INFO : worker thread finished; awaiting finish of 1 more threads\n",
      "2018-06-23 15:28:40,927 : INFO : worker thread finished; awaiting finish of 0 more threads\n",
      "2018-06-23 15:28:40,927 : INFO : EPOCH - 3 : training on 2194536 raw words (1872456 effective words) took 3.6s, 524694 effective words/s\n",
      "2018-06-23 15:28:41,935 : INFO : EPOCH 4 - PROGRESS: at 28.42% examples, 535700 words/s, in_qsize 5, out_qsize 0\n",
      "2018-06-23 15:28:42,960 : INFO : EPOCH 4 - PROGRESS: at 57.14% examples, 529406 words/s, in_qsize 5, out_qsize 0\n",
      "2018-06-23 15:28:43,983 : INFO : EPOCH 4 - PROGRESS: at 86.43% examples, 530926 words/s, in_qsize 5, out_qsize 0\n",
      "2018-06-23 15:28:44,387 : INFO : worker thread finished; awaiting finish of 2 more threads\n",
      "2018-06-23 15:28:44,399 : INFO : worker thread finished; awaiting finish of 1 more threads\n",
      "2018-06-23 15:28:44,410 : INFO : worker thread finished; awaiting finish of 0 more threads\n",
      "2018-06-23 15:28:44,411 : INFO : EPOCH - 4 : training on 2194536 raw words (1871971 effective words) took 3.5s, 538394 effective words/s\n",
      "2018-06-23 15:28:45,428 : INFO : EPOCH 5 - PROGRESS: at 28.40% examples, 532115 words/s, in_qsize 5, out_qsize 0\n",
      "2018-06-23 15:28:46,433 : INFO : EPOCH 5 - PROGRESS: at 57.60% examples, 537384 words/s, in_qsize 5, out_qsize 0\n",
      "2018-06-23 15:28:47,433 : INFO : EPOCH 5 - PROGRESS: at 86.88% examples, 540162 words/s, in_qsize 5, out_qsize 0\n",
      "2018-06-23 15:28:47,847 : INFO : worker thread finished; awaiting finish of 2 more threads\n",
      "2018-06-23 15:28:47,849 : INFO : worker thread finished; awaiting finish of 1 more threads\n",
      "2018-06-23 15:28:47,857 : INFO : worker thread finished; awaiting finish of 0 more threads\n",
      "2018-06-23 15:28:47,857 : INFO : EPOCH - 5 : training on 2194536 raw words (1872966 effective words) took 3.4s, 544907 effective words/s\n",
      "2018-06-23 15:28:47,858 : INFO : training on a 10972680 raw words (9362115 effective words) took 17.2s, 544811 effective words/s\n",
      "2018-06-23 15:28:47,858 : INFO : training model with 3 workers on 14809 vocabulary and 300 features, using sg=1 hs=0 sample=0.001 negative=5 window=8\n"
     ]
    },
    {
     "name": "stdout",
     "output_type": "stream",
     "text": [
      "22\n"
     ]
    },
    {
     "name": "stderr",
     "output_type": "stream",
     "text": [
      "2018-06-23 15:28:48,881 : INFO : EPOCH 1 - PROGRESS: at 28.42% examples, 529438 words/s, in_qsize 5, out_qsize 0\n",
      "2018-06-23 15:28:49,886 : INFO : EPOCH 1 - PROGRESS: at 58.99% examples, 548413 words/s, in_qsize 5, out_qsize 0\n",
      "2018-06-23 15:28:50,886 : INFO : EPOCH 1 - PROGRESS: at 89.13% examples, 553282 words/s, in_qsize 5, out_qsize 0\n",
      "2018-06-23 15:28:51,222 : INFO : worker thread finished; awaiting finish of 2 more threads\n",
      "2018-06-23 15:28:51,238 : INFO : worker thread finished; awaiting finish of 1 more threads\n",
      "2018-06-23 15:28:51,242 : INFO : worker thread finished; awaiting finish of 0 more threads\n",
      "2018-06-23 15:28:51,243 : INFO : EPOCH - 1 : training on 2194536 raw words (1872605 effective words) took 3.4s, 554638 effective words/s\n",
      "2018-06-23 15:28:52,281 : INFO : EPOCH 2 - PROGRESS: at 30.63% examples, 562285 words/s, in_qsize 5, out_qsize 0\n",
      "2018-06-23 15:28:53,313 : INFO : EPOCH 2 - PROGRESS: at 61.73% examples, 561685 words/s, in_qsize 6, out_qsize 0\n",
      "2018-06-23 15:28:54,349 : INFO : EPOCH 2 - PROGRESS: at 93.26% examples, 563697 words/s, in_qsize 5, out_qsize 0\n",
      "2018-06-23 15:28:54,534 : INFO : worker thread finished; awaiting finish of 2 more threads\n",
      "2018-06-23 15:28:54,548 : INFO : worker thread finished; awaiting finish of 1 more threads\n",
      "2018-06-23 15:28:54,552 : INFO : worker thread finished; awaiting finish of 0 more threads\n",
      "2018-06-23 15:28:54,552 : INFO : EPOCH - 2 : training on 2194536 raw words (1871479 effective words) took 3.3s, 566940 effective words/s\n",
      "2018-06-23 15:28:55,562 : INFO : EPOCH 3 - PROGRESS: at 30.18% examples, 568667 words/s, in_qsize 5, out_qsize 0\n",
      "2018-06-23 15:28:56,566 : INFO : EPOCH 3 - PROGRESS: at 60.81% examples, 568379 words/s, in_qsize 5, out_qsize 0\n",
      "2018-06-23 15:28:57,569 : INFO : EPOCH 3 - PROGRESS: at 90.97% examples, 565929 words/s, in_qsize 5, out_qsize 0\n",
      "2018-06-23 15:28:57,843 : INFO : worker thread finished; awaiting finish of 2 more threads\n",
      "2018-06-23 15:28:57,857 : INFO : worker thread finished; awaiting finish of 1 more threads\n",
      "2018-06-23 15:28:57,860 : INFO : worker thread finished; awaiting finish of 0 more threads\n",
      "2018-06-23 15:28:57,860 : INFO : EPOCH - 3 : training on 2194536 raw words (1871906 effective words) took 3.3s, 566993 effective words/s\n",
      "2018-06-23 15:28:58,874 : INFO : EPOCH 4 - PROGRESS: at 30.18% examples, 566287 words/s, in_qsize 5, out_qsize 0\n",
      "2018-06-23 15:28:59,875 : INFO : EPOCH 4 - PROGRESS: at 60.34% examples, 563980 words/s, in_qsize 6, out_qsize 0\n",
      "2018-06-23 15:29:00,898 : INFO : EPOCH 4 - PROGRESS: at 90.98% examples, 562161 words/s, in_qsize 5, out_qsize 0\n",
      "2018-06-23 15:29:01,167 : INFO : worker thread finished; awaiting finish of 2 more threads\n",
      "2018-06-23 15:29:01,174 : INFO : worker thread finished; awaiting finish of 1 more threads\n",
      "2018-06-23 15:29:01,178 : INFO : worker thread finished; awaiting finish of 0 more threads\n",
      "2018-06-23 15:29:01,178 : INFO : EPOCH - 4 : training on 2194536 raw words (1871982 effective words) took 3.3s, 565317 effective words/s\n",
      "2018-06-23 15:29:02,194 : INFO : EPOCH 5 - PROGRESS: at 29.75% examples, 558381 words/s, in_qsize 5, out_qsize 0\n",
      "2018-06-23 15:29:03,200 : INFO : EPOCH 5 - PROGRESS: at 60.34% examples, 562666 words/s, in_qsize 6, out_qsize 0\n",
      "2018-06-23 15:29:04,225 : INFO : EPOCH 5 - PROGRESS: at 90.97% examples, 560841 words/s, in_qsize 5, out_qsize 0\n",
      "2018-06-23 15:29:04,499 : INFO : worker thread finished; awaiting finish of 2 more threads\n",
      "2018-06-23 15:29:04,499 : INFO : worker thread finished; awaiting finish of 1 more threads\n",
      "2018-06-23 15:29:04,502 : INFO : worker thread finished; awaiting finish of 0 more threads\n",
      "2018-06-23 15:29:04,503 : INFO : EPOCH - 5 : training on 2194536 raw words (1871604 effective words) took 3.3s, 564509 effective words/s\n",
      "2018-06-23 15:29:04,503 : INFO : training on a 10972680 raw words (9359576 effective words) took 16.6s, 562309 effective words/s\n",
      "2018-06-23 15:29:04,504 : INFO : training model with 3 workers on 14809 vocabulary and 300 features, using sg=1 hs=0 sample=0.001 negative=5 window=8\n"
     ]
    },
    {
     "name": "stdout",
     "output_type": "stream",
     "text": [
      "23\n"
     ]
    },
    {
     "name": "stderr",
     "output_type": "stream",
     "text": [
      "2018-06-23 15:29:05,514 : INFO : EPOCH 1 - PROGRESS: at 29.73% examples, 561231 words/s, in_qsize 5, out_qsize 0\n",
      "2018-06-23 15:29:06,530 : INFO : EPOCH 1 - PROGRESS: at 60.34% examples, 561248 words/s, in_qsize 5, out_qsize 0\n",
      "2018-06-23 15:29:07,532 : INFO : EPOCH 1 - PROGRESS: at 90.52% examples, 561512 words/s, in_qsize 5, out_qsize 0\n",
      "2018-06-23 15:29:07,815 : INFO : worker thread finished; awaiting finish of 2 more threads\n",
      "2018-06-23 15:29:07,827 : INFO : worker thread finished; awaiting finish of 1 more threads\n",
      "2018-06-23 15:29:07,835 : INFO : worker thread finished; awaiting finish of 0 more threads\n",
      "2018-06-23 15:29:07,835 : INFO : EPOCH - 1 : training on 2194536 raw words (1872324 effective words) took 3.3s, 563484 effective words/s\n",
      "2018-06-23 15:29:08,844 : INFO : EPOCH 2 - PROGRESS: at 29.73% examples, 561756 words/s, in_qsize 5, out_qsize 0\n",
      "2018-06-23 15:29:09,851 : INFO : EPOCH 2 - PROGRESS: at 60.36% examples, 564264 words/s, in_qsize 5, out_qsize 0\n",
      "2018-06-23 15:29:10,856 : INFO : EPOCH 2 - PROGRESS: at 90.52% examples, 562888 words/s, in_qsize 5, out_qsize 0\n",
      "2018-06-23 15:29:11,138 : INFO : worker thread finished; awaiting finish of 2 more threads\n",
      "2018-06-23 15:29:11,145 : INFO : worker thread finished; awaiting finish of 1 more threads\n",
      "2018-06-23 15:29:11,146 : INFO : worker thread finished; awaiting finish of 0 more threads\n",
      "2018-06-23 15:29:11,147 : INFO : EPOCH - 2 : training on 2194536 raw words (1872417 effective words) took 3.3s, 566849 effective words/s\n",
      "2018-06-23 15:29:12,166 : INFO : EPOCH 3 - PROGRESS: at 30.20% examples, 562752 words/s, in_qsize 5, out_qsize 0\n",
      "2018-06-23 15:29:13,171 : INFO : EPOCH 3 - PROGRESS: at 60.81% examples, 565392 words/s, in_qsize 5, out_qsize 0\n",
      "2018-06-23 15:29:14,186 : INFO : EPOCH 3 - PROGRESS: at 91.44% examples, 564534 words/s, in_qsize 5, out_qsize 0\n",
      "2018-06-23 15:29:14,440 : INFO : worker thread finished; awaiting finish of 2 more threads\n",
      "2018-06-23 15:29:14,448 : INFO : worker thread finished; awaiting finish of 1 more threads\n",
      "2018-06-23 15:29:14,453 : INFO : worker thread finished; awaiting finish of 0 more threads\n",
      "2018-06-23 15:29:14,454 : INFO : EPOCH - 3 : training on 2194536 raw words (1871931 effective words) took 3.3s, 567050 effective words/s\n",
      "2018-06-23 15:29:15,463 : INFO : EPOCH 4 - PROGRESS: at 29.75% examples, 560432 words/s, in_qsize 5, out_qsize 0\n",
      "2018-06-23 15:29:16,472 : INFO : EPOCH 4 - PROGRESS: at 60.34% examples, 563029 words/s, in_qsize 5, out_qsize 0\n",
      "2018-06-23 15:29:17,491 : INFO : EPOCH 4 - PROGRESS: at 90.97% examples, 562352 words/s, in_qsize 6, out_qsize 0\n",
      "2018-06-23 15:29:17,755 : INFO : worker thread finished; awaiting finish of 2 more threads\n",
      "2018-06-23 15:29:17,769 : INFO : worker thread finished; awaiting finish of 1 more threads\n",
      "2018-06-23 15:29:17,775 : INFO : worker thread finished; awaiting finish of 0 more threads\n",
      "2018-06-23 15:29:17,775 : INFO : EPOCH - 4 : training on 2194536 raw words (1872209 effective words) took 3.3s, 564712 effective words/s\n",
      "2018-06-23 15:29:18,796 : INFO : EPOCH 5 - PROGRESS: at 30.18% examples, 562410 words/s, in_qsize 5, out_qsize 0\n",
      "2018-06-23 15:29:19,797 : INFO : EPOCH 5 - PROGRESS: at 60.34% examples, 561734 words/s, in_qsize 5, out_qsize 0\n",
      "2018-06-23 15:29:20,801 : INFO : EPOCH 5 - PROGRESS: at 90.97% examples, 564300 words/s, in_qsize 6, out_qsize 0\n",
      "2018-06-23 15:29:21,073 : INFO : worker thread finished; awaiting finish of 2 more threads\n",
      "2018-06-23 15:29:21,088 : INFO : worker thread finished; awaiting finish of 1 more threads\n",
      "2018-06-23 15:29:21,094 : INFO : worker thread finished; awaiting finish of 0 more threads\n",
      "2018-06-23 15:29:21,094 : INFO : EPOCH - 5 : training on 2194536 raw words (1872026 effective words) took 3.3s, 565048 effective words/s\n",
      "2018-06-23 15:29:21,095 : INFO : training on a 10972680 raw words (9360907 effective words) took 16.6s, 564213 effective words/s\n",
      "2018-06-23 15:29:21,096 : INFO : training model with 3 workers on 14809 vocabulary and 300 features, using sg=1 hs=0 sample=0.001 negative=5 window=8\n"
     ]
    },
    {
     "name": "stdout",
     "output_type": "stream",
     "text": [
      "24\n"
     ]
    },
    {
     "name": "stderr",
     "output_type": "stream",
     "text": [
      "2018-06-23 15:29:22,118 : INFO : EPOCH 1 - PROGRESS: at 30.18% examples, 562253 words/s, in_qsize 5, out_qsize 0\n",
      "2018-06-23 15:29:23,125 : INFO : EPOCH 1 - PROGRESS: at 60.34% examples, 560591 words/s, in_qsize 5, out_qsize 0\n",
      "2018-06-23 15:29:24,131 : INFO : EPOCH 1 - PROGRESS: at 90.53% examples, 560217 words/s, in_qsize 5, out_qsize 0\n",
      "2018-06-23 15:29:24,408 : INFO : worker thread finished; awaiting finish of 2 more threads\n",
      "2018-06-23 15:29:24,411 : INFO : worker thread finished; awaiting finish of 1 more threads\n",
      "2018-06-23 15:29:24,421 : INFO : worker thread finished; awaiting finish of 0 more threads\n",
      "2018-06-23 15:29:24,422 : INFO : EPOCH - 1 : training on 2194536 raw words (1872672 effective words) took 3.3s, 564264 effective words/s\n",
      "2018-06-23 15:29:25,451 : INFO : EPOCH 2 - PROGRESS: at 30.18% examples, 559551 words/s, in_qsize 6, out_qsize 0\n",
      "2018-06-23 15:29:26,466 : INFO : EPOCH 2 - PROGRESS: at 60.81% examples, 560875 words/s, in_qsize 5, out_qsize 0\n",
      "2018-06-23 15:29:27,474 : INFO : EPOCH 2 - PROGRESS: at 90.98% examples, 559953 words/s, in_qsize 5, out_qsize 0\n",
      "2018-06-23 15:29:27,742 : INFO : worker thread finished; awaiting finish of 2 more threads\n",
      "2018-06-23 15:29:27,750 : INFO : worker thread finished; awaiting finish of 1 more threads\n",
      "2018-06-23 15:29:27,751 : INFO : worker thread finished; awaiting finish of 0 more threads\n",
      "2018-06-23 15:29:27,752 : INFO : EPOCH - 2 : training on 2194536 raw words (1872612 effective words) took 3.3s, 563762 effective words/s\n",
      "2018-06-23 15:29:28,773 : INFO : EPOCH 3 - PROGRESS: at 30.18% examples, 562905 words/s, in_qsize 5, out_qsize 0\n",
      "2018-06-23 15:29:29,774 : INFO : EPOCH 3 - PROGRESS: at 60.36% examples, 562274 words/s, in_qsize 6, out_qsize 0\n",
      "2018-06-23 15:29:30,790 : INFO : EPOCH 3 - PROGRESS: at 90.97% examples, 562569 words/s, in_qsize 5, out_qsize 0\n",
      "2018-06-23 15:29:31,055 : INFO : worker thread finished; awaiting finish of 2 more threads\n",
      "2018-06-23 15:29:31,072 : INFO : worker thread finished; awaiting finish of 1 more threads\n",
      "2018-06-23 15:29:31,077 : INFO : worker thread finished; awaiting finish of 0 more threads\n",
      "2018-06-23 15:29:31,078 : INFO : EPOCH - 3 : training on 2194536 raw words (1872602 effective words) took 3.3s, 564379 effective words/s\n",
      "2018-06-23 15:29:32,086 : INFO : EPOCH 4 - PROGRESS: at 29.73% examples, 561400 words/s, in_qsize 5, out_qsize 0\n",
      "2018-06-23 15:29:33,095 : INFO : EPOCH 4 - PROGRESS: at 59.89% examples, 559213 words/s, in_qsize 6, out_qsize 0\n",
      "2018-06-23 15:29:34,104 : INFO : EPOCH 4 - PROGRESS: at 90.53% examples, 561488 words/s, in_qsize 5, out_qsize 0\n",
      "2018-06-23 15:29:34,398 : INFO : worker thread finished; awaiting finish of 2 more threads\n",
      "2018-06-23 15:29:34,400 : INFO : worker thread finished; awaiting finish of 1 more threads\n",
      "2018-06-23 15:29:34,402 : INFO : worker thread finished; awaiting finish of 0 more threads\n",
      "2018-06-23 15:29:34,402 : INFO : EPOCH - 4 : training on 2194536 raw words (1871837 effective words) took 3.3s, 564227 effective words/s\n",
      "2018-06-23 15:29:35,410 : INFO : EPOCH 5 - PROGRESS: at 29.75% examples, 560975 words/s, in_qsize 5, out_qsize 0\n",
      "2018-06-23 15:29:36,430 : INFO : EPOCH 5 - PROGRESS: at 60.36% examples, 560408 words/s, in_qsize 5, out_qsize 0\n",
      "2018-06-23 15:29:37,448 : INFO : EPOCH 5 - PROGRESS: at 90.97% examples, 560807 words/s, in_qsize 5, out_qsize 0\n",
      "2018-06-23 15:29:37,716 : INFO : worker thread finished; awaiting finish of 2 more threads\n",
      "2018-06-23 15:29:37,722 : INFO : worker thread finished; awaiting finish of 1 more threads\n",
      "2018-06-23 15:29:37,730 : INFO : worker thread finished; awaiting finish of 0 more threads\n",
      "2018-06-23 15:29:37,731 : INFO : EPOCH - 5 : training on 2194536 raw words (1872351 effective words) took 3.3s, 563624 effective words/s\n",
      "2018-06-23 15:29:37,731 : INFO : training on a 10972680 raw words (9362074 effective words) took 16.6s, 562800 effective words/s\n",
      "2018-06-23 15:29:37,732 : INFO : training model with 3 workers on 14809 vocabulary and 300 features, using sg=1 hs=0 sample=0.001 negative=5 window=8\n"
     ]
    },
    {
     "name": "stdout",
     "output_type": "stream",
     "text": [
      "25\n"
     ]
    },
    {
     "name": "stderr",
     "output_type": "stream",
     "text": [
      "2018-06-23 15:29:38,749 : INFO : EPOCH 1 - PROGRESS: at 30.18% examples, 564912 words/s, in_qsize 5, out_qsize 0\n",
      "2018-06-23 15:29:39,760 : INFO : EPOCH 1 - PROGRESS: at 60.34% examples, 560325 words/s, in_qsize 6, out_qsize 0\n",
      "2018-06-23 15:29:40,773 : INFO : EPOCH 1 - PROGRESS: at 90.97% examples, 561425 words/s, in_qsize 5, out_qsize 0\n",
      "2018-06-23 15:29:41,059 : INFO : worker thread finished; awaiting finish of 2 more threads\n",
      "2018-06-23 15:29:41,060 : INFO : worker thread finished; awaiting finish of 1 more threads\n",
      "2018-06-23 15:29:41,066 : INFO : worker thread finished; awaiting finish of 0 more threads\n",
      "2018-06-23 15:29:41,067 : INFO : EPOCH - 1 : training on 2194536 raw words (1871689 effective words) took 3.3s, 562498 effective words/s\n",
      "2018-06-23 15:29:42,109 : INFO : EPOCH 2 - PROGRESS: at 30.63% examples, 558835 words/s, in_qsize 5, out_qsize 0\n",
      "2018-06-23 15:29:43,122 : INFO : EPOCH 2 - PROGRESS: at 61.28% examples, 561201 words/s, in_qsize 5, out_qsize 0\n",
      "2018-06-23 15:29:44,137 : INFO : EPOCH 2 - PROGRESS: at 91.92% examples, 561873 words/s, in_qsize 5, out_qsize 0\n",
      "2018-06-23 15:29:44,381 : INFO : worker thread finished; awaiting finish of 2 more threads\n",
      "2018-06-23 15:29:44,383 : INFO : worker thread finished; awaiting finish of 1 more threads\n",
      "2018-06-23 15:29:44,385 : INFO : worker thread finished; awaiting finish of 0 more threads\n",
      "2018-06-23 15:29:44,386 : INFO : EPOCH - 2 : training on 2194536 raw words (1872445 effective words) took 3.3s, 565232 effective words/s\n",
      "2018-06-23 15:29:45,409 : INFO : EPOCH 3 - PROGRESS: at 30.20% examples, 561235 words/s, in_qsize 5, out_qsize 0\n",
      "2018-06-23 15:29:46,428 : INFO : EPOCH 3 - PROGRESS: at 60.81% examples, 560694 words/s, in_qsize 5, out_qsize 0\n",
      "2018-06-23 15:29:47,457 : INFO : EPOCH 3 - PROGRESS: at 91.92% examples, 561522 words/s, in_qsize 6, out_qsize 0\n",
      "2018-06-23 15:29:47,699 : INFO : worker thread finished; awaiting finish of 2 more threads\n",
      "2018-06-23 15:29:47,700 : INFO : worker thread finished; awaiting finish of 1 more threads\n",
      "2018-06-23 15:29:47,705 : INFO : worker thread finished; awaiting finish of 0 more threads\n",
      "2018-06-23 15:29:47,706 : INFO : EPOCH - 3 : training on 2194536 raw words (1871914 effective words) took 3.3s, 564906 effective words/s\n",
      "2018-06-23 15:29:48,746 : INFO : EPOCH 4 - PROGRESS: at 30.63% examples, 561476 words/s, in_qsize 6, out_qsize 0\n",
      "2018-06-23 15:29:49,748 : INFO : EPOCH 4 - PROGRESS: at 61.28% examples, 565464 words/s, in_qsize 5, out_qsize 0\n",
      "2018-06-23 15:29:50,751 : INFO : EPOCH 4 - PROGRESS: at 91.44% examples, 564050 words/s, in_qsize 5, out_qsize 0\n",
      "2018-06-23 15:29:51,006 : INFO : worker thread finished; awaiting finish of 2 more threads\n",
      "2018-06-23 15:29:51,008 : INFO : worker thread finished; awaiting finish of 1 more threads\n",
      "2018-06-23 15:29:51,018 : INFO : worker thread finished; awaiting finish of 0 more threads\n",
      "2018-06-23 15:29:51,018 : INFO : EPOCH - 4 : training on 2194536 raw words (1872402 effective words) took 3.3s, 566775 effective words/s\n",
      "2018-06-23 15:29:52,044 : INFO : EPOCH 5 - PROGRESS: at 30.18% examples, 559489 words/s, in_qsize 5, out_qsize 0\n",
      "2018-06-23 15:29:53,044 : INFO : EPOCH 5 - PROGRESS: at 60.81% examples, 565108 words/s, in_qsize 6, out_qsize 0\n",
      "2018-06-23 15:29:54,054 : INFO : EPOCH 5 - PROGRESS: at 90.97% examples, 562463 words/s, in_qsize 5, out_qsize 0\n",
      "2018-06-23 15:29:54,328 : INFO : worker thread finished; awaiting finish of 2 more threads\n",
      "2018-06-23 15:29:54,340 : INFO : worker thread finished; awaiting finish of 1 more threads\n",
      "2018-06-23 15:29:54,343 : INFO : worker thread finished; awaiting finish of 0 more threads\n",
      "2018-06-23 15:29:54,344 : INFO : EPOCH - 5 : training on 2194536 raw words (1872352 effective words) took 3.3s, 564015 effective words/s\n",
      "2018-06-23 15:29:54,345 : INFO : training on a 10972680 raw words (9360802 effective words) took 16.6s, 563476 effective words/s\n",
      "2018-06-23 15:29:54,345 : INFO : training model with 3 workers on 14809 vocabulary and 300 features, using sg=1 hs=0 sample=0.001 negative=5 window=8\n"
     ]
    },
    {
     "name": "stdout",
     "output_type": "stream",
     "text": [
      "26\n"
     ]
    },
    {
     "name": "stderr",
     "output_type": "stream",
     "text": [
      "2018-06-23 15:29:55,354 : INFO : EPOCH 1 - PROGRESS: at 29.30% examples, 552432 words/s, in_qsize 5, out_qsize 0\n",
      "2018-06-23 15:29:56,358 : INFO : EPOCH 1 - PROGRESS: at 59.45% examples, 556256 words/s, in_qsize 6, out_qsize 0\n",
      "2018-06-23 15:29:57,360 : INFO : EPOCH 1 - PROGRESS: at 90.07% examples, 561012 words/s, in_qsize 5, out_qsize 0\n",
      "2018-06-23 15:29:57,668 : INFO : worker thread finished; awaiting finish of 2 more threads\n",
      "2018-06-23 15:29:57,673 : INFO : worker thread finished; awaiting finish of 1 more threads\n",
      "2018-06-23 15:29:57,680 : INFO : worker thread finished; awaiting finish of 0 more threads\n",
      "2018-06-23 15:29:57,680 : INFO : EPOCH - 1 : training on 2194536 raw words (1872715 effective words) took 3.3s, 562662 effective words/s\n",
      "2018-06-23 15:29:58,691 : INFO : EPOCH 2 - PROGRESS: at 30.18% examples, 568793 words/s, in_qsize 5, out_qsize 0\n",
      "2018-06-23 15:29:59,693 : INFO : EPOCH 2 - PROGRESS: at 60.34% examples, 564865 words/s, in_qsize 5, out_qsize 0\n",
      "2018-06-23 15:30:00,703 : INFO : EPOCH 2 - PROGRESS: at 90.53% examples, 562318 words/s, in_qsize 5, out_qsize 0\n",
      "2018-06-23 15:30:00,983 : INFO : worker thread finished; awaiting finish of 2 more threads\n",
      "2018-06-23 15:30:01,000 : INFO : worker thread finished; awaiting finish of 1 more threads\n",
      "2018-06-23 15:30:01,002 : INFO : worker thread finished; awaiting finish of 0 more threads\n",
      "2018-06-23 15:30:01,003 : INFO : EPOCH - 2 : training on 2194536 raw words (1871949 effective words) took 3.3s, 564671 effective words/s\n",
      "2018-06-23 15:30:02,013 : INFO : EPOCH 3 - PROGRESS: at 29.73% examples, 560683 words/s, in_qsize 5, out_qsize 0\n",
      "2018-06-23 15:30:03,016 : INFO : EPOCH 3 - PROGRESS: at 59.90% examples, 560840 words/s, in_qsize 5, out_qsize 0\n",
      "2018-06-23 15:30:04,019 : INFO : EPOCH 3 - PROGRESS: at 90.52% examples, 563765 words/s, in_qsize 5, out_qsize 0\n",
      "2018-06-23 15:30:04,304 : INFO : worker thread finished; awaiting finish of 2 more threads\n",
      "2018-06-23 15:30:04,319 : INFO : worker thread finished; awaiting finish of 1 more threads\n",
      "2018-06-23 15:30:04,322 : INFO : worker thread finished; awaiting finish of 0 more threads\n",
      "2018-06-23 15:30:04,322 : INFO : EPOCH - 3 : training on 2194536 raw words (1872118 effective words) took 3.3s, 565390 effective words/s\n",
      "2018-06-23 15:30:05,335 : INFO : EPOCH 4 - PROGRESS: at 29.75% examples, 559590 words/s, in_qsize 6, out_qsize 0\n",
      "2018-06-23 15:30:06,339 : INFO : EPOCH 4 - PROGRESS: at 60.34% examples, 563972 words/s, in_qsize 5, out_qsize 0\n",
      "2018-06-23 15:30:07,347 : INFO : EPOCH 4 - PROGRESS: at 90.97% examples, 564782 words/s, in_qsize 6, out_qsize 0\n",
      "2018-06-23 15:30:07,625 : INFO : worker thread finished; awaiting finish of 2 more threads\n",
      "2018-06-23 15:30:07,636 : INFO : worker thread finished; awaiting finish of 1 more threads\n",
      "2018-06-23 15:30:07,641 : INFO : worker thread finished; awaiting finish of 0 more threads\n",
      "2018-06-23 15:30:07,641 : INFO : EPOCH - 4 : training on 2194536 raw words (1871883 effective words) took 3.3s, 565351 effective words/s\n",
      "2018-06-23 15:30:08,652 : INFO : EPOCH 5 - PROGRESS: at 29.75% examples, 560146 words/s, in_qsize 5, out_qsize 0\n",
      "2018-06-23 15:30:09,652 : INFO : EPOCH 5 - PROGRESS: at 59.89% examples, 561179 words/s, in_qsize 5, out_qsize 0\n",
      "2018-06-23 15:30:10,653 : INFO : EPOCH 5 - PROGRESS: at 90.52% examples, 564522 words/s, in_qsize 5, out_qsize 0\n",
      "2018-06-23 15:30:10,955 : INFO : worker thread finished; awaiting finish of 2 more threads\n",
      "2018-06-23 15:30:10,959 : INFO : worker thread finished; awaiting finish of 1 more threads\n",
      "2018-06-23 15:30:10,964 : INFO : worker thread finished; awaiting finish of 0 more threads\n",
      "2018-06-23 15:30:10,965 : INFO : EPOCH - 5 : training on 2194536 raw words (1872536 effective words) took 3.3s, 564650 effective words/s\n",
      "2018-06-23 15:30:10,965 : INFO : training on a 10972680 raw words (9361201 effective words) took 16.6s, 563253 effective words/s\n",
      "2018-06-23 15:30:10,966 : INFO : training model with 3 workers on 14809 vocabulary and 300 features, using sg=1 hs=0 sample=0.001 negative=5 window=8\n"
     ]
    },
    {
     "name": "stdout",
     "output_type": "stream",
     "text": [
      "27\n"
     ]
    },
    {
     "name": "stderr",
     "output_type": "stream",
     "text": [
      "2018-06-23 15:30:11,988 : INFO : EPOCH 1 - PROGRESS: at 30.18% examples, 562490 words/s, in_qsize 5, out_qsize 0\n",
      "2018-06-23 15:30:12,999 : INFO : EPOCH 1 - PROGRESS: at 60.34% examples, 559253 words/s, in_qsize 5, out_qsize 0\n",
      "2018-06-23 15:30:14,005 : INFO : EPOCH 1 - PROGRESS: at 90.52% examples, 559305 words/s, in_qsize 5, out_qsize 0\n",
      "2018-06-23 15:30:14,290 : INFO : worker thread finished; awaiting finish of 2 more threads\n",
      "2018-06-23 15:30:14,305 : INFO : worker thread finished; awaiting finish of 1 more threads\n",
      "2018-06-23 15:30:14,305 : INFO : worker thread finished; awaiting finish of 0 more threads\n",
      "2018-06-23 15:30:14,306 : INFO : EPOCH - 1 : training on 2194536 raw words (1872464 effective words) took 3.3s, 561856 effective words/s\n",
      "2018-06-23 15:30:15,316 : INFO : EPOCH 2 - PROGRESS: at 29.75% examples, 559832 words/s, in_qsize 5, out_qsize 0\n",
      "2018-06-23 15:30:16,321 : INFO : EPOCH 2 - PROGRESS: at 60.34% examples, 563818 words/s, in_qsize 6, out_qsize 0\n",
      "2018-06-23 15:30:17,348 : INFO : EPOCH 2 - PROGRESS: at 90.97% examples, 561088 words/s, in_qsize 5, out_qsize 0\n",
      "2018-06-23 15:30:17,618 : INFO : worker thread finished; awaiting finish of 2 more threads\n",
      "2018-06-23 15:30:17,621 : INFO : worker thread finished; awaiting finish of 1 more threads\n",
      "2018-06-23 15:30:17,624 : INFO : worker thread finished; awaiting finish of 0 more threads\n",
      "2018-06-23 15:30:17,624 : INFO : EPOCH - 2 : training on 2194536 raw words (1871576 effective words) took 3.3s, 565204 effective words/s\n",
      "2018-06-23 15:30:18,643 : INFO : EPOCH 3 - PROGRESS: at 30.18% examples, 563580 words/s, in_qsize 5, out_qsize 0\n",
      "2018-06-23 15:30:19,649 : INFO : EPOCH 3 - PROGRESS: at 60.34% examples, 561597 words/s, in_qsize 5, out_qsize 0\n",
      "2018-06-23 15:30:20,667 : INFO : EPOCH 3 - PROGRESS: at 90.97% examples, 561432 words/s, in_qsize 5, out_qsize 0\n",
      "2018-06-23 15:30:20,934 : INFO : worker thread finished; awaiting finish of 2 more threads\n",
      "2018-06-23 15:30:20,949 : INFO : worker thread finished; awaiting finish of 1 more threads\n",
      "2018-06-23 15:30:20,952 : INFO : worker thread finished; awaiting finish of 0 more threads\n",
      "2018-06-23 15:30:20,952 : INFO : EPOCH - 3 : training on 2194536 raw words (1872460 effective words) took 3.3s, 563768 effective words/s\n",
      "2018-06-23 15:30:21,975 : INFO : EPOCH 4 - PROGRESS: at 30.18% examples, 561135 words/s, in_qsize 5, out_qsize 0\n",
      "2018-06-23 15:30:22,991 : INFO : EPOCH 4 - PROGRESS: at 60.81% examples, 561489 words/s, in_qsize 5, out_qsize 0\n",
      "2018-06-23 15:30:23,995 : INFO : EPOCH 4 - PROGRESS: at 90.99% examples, 561324 words/s, in_qsize 5, out_qsize 0\n",
      "2018-06-23 15:30:24,261 : INFO : worker thread finished; awaiting finish of 2 more threads\n",
      "2018-06-23 15:30:24,274 : INFO : worker thread finished; awaiting finish of 1 more threads\n",
      "2018-06-23 15:30:24,277 : INFO : worker thread finished; awaiting finish of 0 more threads\n",
      "2018-06-23 15:30:24,278 : INFO : EPOCH - 4 : training on 2194536 raw words (1872662 effective words) took 3.3s, 564049 effective words/s\n",
      "2018-06-23 15:30:25,297 : INFO : EPOCH 5 - PROGRESS: at 30.18% examples, 564267 words/s, in_qsize 6, out_qsize 0\n",
      "2018-06-23 15:30:26,325 : INFO : EPOCH 5 - PROGRESS: at 60.81% examples, 559882 words/s, in_qsize 6, out_qsize 0\n",
      "2018-06-23 15:30:27,332 : INFO : EPOCH 5 - PROGRESS: at 91.44% examples, 562291 words/s, in_qsize 6, out_qsize 0\n",
      "2018-06-23 15:30:27,590 : INFO : worker thread finished; awaiting finish of 2 more threads\n",
      "2018-06-23 15:30:27,601 : INFO : worker thread finished; awaiting finish of 1 more threads\n",
      "2018-06-23 15:30:27,605 : INFO : worker thread finished; awaiting finish of 0 more threads\n",
      "2018-06-23 15:30:27,605 : INFO : EPOCH - 5 : training on 2194536 raw words (1872349 effective words) took 3.3s, 564040 effective words/s\n",
      "2018-06-23 15:30:27,606 : INFO : training on a 10972680 raw words (9361511 effective words) took 16.6s, 562614 effective words/s\n",
      "2018-06-23 15:30:27,606 : INFO : training model with 3 workers on 14809 vocabulary and 300 features, using sg=1 hs=0 sample=0.001 negative=5 window=8\n"
     ]
    },
    {
     "name": "stdout",
     "output_type": "stream",
     "text": [
      "28\n"
     ]
    },
    {
     "name": "stderr",
     "output_type": "stream",
     "text": [
      "2018-06-23 15:30:28,631 : INFO : EPOCH 1 - PROGRESS: at 30.18% examples, 560540 words/s, in_qsize 6, out_qsize 0\n",
      "2018-06-23 15:30:29,642 : INFO : EPOCH 1 - PROGRESS: at 60.81% examples, 562803 words/s, in_qsize 5, out_qsize 0\n",
      "2018-06-23 15:30:30,662 : INFO : EPOCH 1 - PROGRESS: at 90.97% examples, 559039 words/s, in_qsize 6, out_qsize 0\n",
      "2018-06-23 15:30:30,931 : INFO : worker thread finished; awaiting finish of 2 more threads\n",
      "2018-06-23 15:30:30,934 : INFO : worker thread finished; awaiting finish of 1 more threads\n",
      "2018-06-23 15:30:30,938 : INFO : worker thread finished; awaiting finish of 0 more threads\n",
      "2018-06-23 15:30:30,939 : INFO : EPOCH - 1 : training on 2194536 raw words (1872291 effective words) took 3.3s, 563008 effective words/s\n",
      "2018-06-23 15:30:31,962 : INFO : EPOCH 2 - PROGRESS: at 29.30% examples, 544469 words/s, in_qsize 6, out_qsize 0\n",
      "2018-06-23 15:30:32,968 : INFO : EPOCH 2 - PROGRESS: at 59.89% examples, 555663 words/s, in_qsize 5, out_qsize 0\n",
      "2018-06-23 15:30:33,976 : INFO : EPOCH 2 - PROGRESS: at 89.59% examples, 553724 words/s, in_qsize 5, out_qsize 0\n",
      "2018-06-23 15:30:34,294 : INFO : worker thread finished; awaiting finish of 2 more threads\n",
      "2018-06-23 15:30:34,302 : INFO : worker thread finished; awaiting finish of 1 more threads\n",
      "2018-06-23 15:30:34,314 : INFO : worker thread finished; awaiting finish of 0 more threads\n",
      "2018-06-23 15:30:34,314 : INFO : EPOCH - 2 : training on 2194536 raw words (1871939 effective words) took 3.4s, 555630 effective words/s\n",
      "2018-06-23 15:30:35,326 : INFO : EPOCH 3 - PROGRESS: at 29.75% examples, 558688 words/s, in_qsize 5, out_qsize 0\n",
      "2018-06-23 15:30:36,331 : INFO : EPOCH 3 - PROGRESS: at 60.34% examples, 563251 words/s, in_qsize 6, out_qsize 0\n",
      "2018-06-23 15:30:37,334 : INFO : EPOCH 3 - PROGRESS: at 90.97% examples, 565377 words/s, in_qsize 6, out_qsize 0\n",
      "2018-06-23 15:30:37,604 : INFO : worker thread finished; awaiting finish of 2 more threads\n",
      "2018-06-23 15:30:37,623 : INFO : worker thread finished; awaiting finish of 1 more threads\n",
      "2018-06-23 15:30:37,633 : INFO : worker thread finished; awaiting finish of 0 more threads\n",
      "2018-06-23 15:30:37,634 : INFO : EPOCH - 3 : training on 2194536 raw words (1872099 effective words) took 3.3s, 564899 effective words/s\n",
      "2018-06-23 15:30:38,648 : INFO : EPOCH 4 - PROGRESS: at 29.75% examples, 557512 words/s, in_qsize 5, out_qsize 0\n",
      "2018-06-23 15:30:39,672 : INFO : EPOCH 4 - PROGRESS: at 60.81% examples, 561532 words/s, in_qsize 5, out_qsize 0\n",
      "2018-06-23 15:30:40,682 : INFO : EPOCH 4 - PROGRESS: at 91.44% examples, 562679 words/s, in_qsize 5, out_qsize 0\n",
      "2018-06-23 15:30:40,939 : INFO : worker thread finished; awaiting finish of 2 more threads\n",
      "2018-06-23 15:30:40,945 : INFO : worker thread finished; awaiting finish of 1 more threads\n",
      "2018-06-23 15:30:40,951 : INFO : worker thread finished; awaiting finish of 0 more threads\n",
      "2018-06-23 15:30:40,952 : INFO : EPOCH - 4 : training on 2194536 raw words (1871232 effective words) took 3.3s, 565042 effective words/s\n",
      "2018-06-23 15:30:41,977 : INFO : EPOCH 5 - PROGRESS: at 30.18% examples, 560060 words/s, in_qsize 6, out_qsize 0\n",
      "2018-06-23 15:30:42,982 : INFO : EPOCH 5 - PROGRESS: at 60.81% examples, 564018 words/s, in_qsize 5, out_qsize 0\n",
      "2018-06-23 15:30:43,983 : INFO : EPOCH 5 - PROGRESS: at 90.98% examples, 563410 words/s, in_qsize 6, out_qsize 0\n",
      "2018-06-23 15:30:44,245 : INFO : worker thread finished; awaiting finish of 2 more threads\n",
      "2018-06-23 15:30:44,259 : INFO : worker thread finished; awaiting finish of 1 more threads\n",
      "2018-06-23 15:30:44,262 : INFO : worker thread finished; awaiting finish of 0 more threads\n",
      "2018-06-23 15:30:44,263 : INFO : EPOCH - 5 : training on 2194536 raw words (1872066 effective words) took 3.3s, 566579 effective words/s\n",
      "2018-06-23 15:30:44,263 : INFO : training on a 10972680 raw words (9359627 effective words) took 16.7s, 561923 effective words/s\n",
      "2018-06-23 15:30:44,263 : INFO : training model with 3 workers on 14809 vocabulary and 300 features, using sg=1 hs=0 sample=0.001 negative=5 window=8\n"
     ]
    },
    {
     "name": "stdout",
     "output_type": "stream",
     "text": [
      "29\n"
     ]
    },
    {
     "name": "stderr",
     "output_type": "stream",
     "text": [
      "2018-06-23 15:30:45,274 : INFO : EPOCH 1 - PROGRESS: at 29.75% examples, 560571 words/s, in_qsize 5, out_qsize 0\n",
      "2018-06-23 15:30:46,304 : INFO : EPOCH 1 - PROGRESS: at 60.36% examples, 557408 words/s, in_qsize 5, out_qsize 0\n",
      "2018-06-23 15:30:47,309 : INFO : EPOCH 1 - PROGRESS: at 90.97% examples, 561184 words/s, in_qsize 5, out_qsize 0\n",
      "2018-06-23 15:30:47,578 : INFO : worker thread finished; awaiting finish of 2 more threads\n",
      "2018-06-23 15:30:47,584 : INFO : worker thread finished; awaiting finish of 1 more threads\n",
      "2018-06-23 15:30:47,594 : INFO : worker thread finished; awaiting finish of 0 more threads\n",
      "2018-06-23 15:30:47,594 : INFO : EPOCH - 1 : training on 2194536 raw words (1872759 effective words) took 3.3s, 563545 effective words/s\n",
      "2018-06-23 15:30:48,619 : INFO : EPOCH 2 - PROGRESS: at 30.18% examples, 559792 words/s, in_qsize 5, out_qsize 0\n",
      "2018-06-23 15:30:49,624 : INFO : EPOCH 2 - PROGRESS: at 60.81% examples, 563697 words/s, in_qsize 5, out_qsize 0\n",
      "2018-06-23 15:30:50,634 : INFO : EPOCH 2 - PROGRESS: at 91.00% examples, 561615 words/s, in_qsize 5, out_qsize 0\n",
      "2018-06-23 15:30:50,897 : INFO : worker thread finished; awaiting finish of 2 more threads\n",
      "2018-06-23 15:30:50,903 : INFO : worker thread finished; awaiting finish of 1 more threads\n",
      "2018-06-23 15:30:50,906 : INFO : worker thread finished; awaiting finish of 0 more threads\n",
      "2018-06-23 15:30:50,907 : INFO : EPOCH - 2 : training on 2194536 raw words (1872220 effective words) took 3.3s, 566063 effective words/s\n",
      "2018-06-23 15:30:51,916 : INFO : EPOCH 3 - PROGRESS: at 29.75% examples, 560234 words/s, in_qsize 5, out_qsize 0\n",
      "2018-06-23 15:30:52,919 : INFO : EPOCH 3 - PROGRESS: at 59.89% examples, 560277 words/s, in_qsize 5, out_qsize 0\n",
      "2018-06-23 15:30:53,932 : INFO : EPOCH 3 - PROGRESS: at 90.52% examples, 561602 words/s, in_qsize 5, out_qsize 0\n",
      "2018-06-23 15:30:54,207 : INFO : worker thread finished; awaiting finish of 2 more threads\n",
      "2018-06-23 15:30:54,230 : INFO : worker thread finished; awaiting finish of 1 more threads\n",
      "2018-06-23 15:30:54,234 : INFO : worker thread finished; awaiting finish of 0 more threads\n",
      "2018-06-23 15:30:54,234 : INFO : EPOCH - 3 : training on 2194536 raw words (1871685 effective words) took 3.3s, 563553 effective words/s\n",
      "2018-06-23 15:30:55,248 : INFO : EPOCH 4 - PROGRESS: at 29.75% examples, 558822 words/s, in_qsize 5, out_qsize 0\n",
      "2018-06-23 15:30:56,273 : INFO : EPOCH 4 - PROGRESS: at 60.34% examples, 557957 words/s, in_qsize 5, out_qsize 0\n",
      "2018-06-23 15:30:57,279 : INFO : EPOCH 4 - PROGRESS: at 91.44% examples, 563957 words/s, in_qsize 5, out_qsize 0\n",
      "2018-06-23 15:30:57,538 : INFO : worker thread finished; awaiting finish of 2 more threads\n",
      "2018-06-23 15:30:57,552 : INFO : worker thread finished; awaiting finish of 1 more threads\n",
      "2018-06-23 15:30:57,561 : INFO : worker thread finished; awaiting finish of 0 more threads\n",
      "2018-06-23 15:30:57,561 : INFO : EPOCH - 4 : training on 2194536 raw words (1872096 effective words) took 3.3s, 564096 effective words/s\n",
      "2018-06-23 15:30:58,569 : INFO : EPOCH 5 - PROGRESS: at 29.73% examples, 561393 words/s, in_qsize 5, out_qsize 0\n",
      "2018-06-23 15:30:59,577 : INFO : EPOCH 5 - PROGRESS: at 59.90% examples, 559637 words/s, in_qsize 6, out_qsize 0\n",
      "2018-06-23 15:31:00,584 : INFO : EPOCH 5 - PROGRESS: at 90.52% examples, 562179 words/s, in_qsize 5, out_qsize 0\n",
      "2018-06-23 15:31:00,880 : INFO : worker thread finished; awaiting finish of 2 more threads\n",
      "2018-06-23 15:31:00,881 : INFO : worker thread finished; awaiting finish of 1 more threads\n",
      "2018-06-23 15:31:00,885 : INFO : worker thread finished; awaiting finish of 0 more threads\n",
      "2018-06-23 15:31:00,885 : INFO : EPOCH - 5 : training on 2194536 raw words (1872377 effective words) took 3.3s, 564268 effective words/s\n",
      "2018-06-23 15:31:00,886 : INFO : training on a 10972680 raw words (9361137 effective words) took 16.6s, 563170 effective words/s\n"
     ]
    }
   ],
   "source": [
    "for epoch in range(30):\n",
    "    print(epoch)\n",
    "    doc_vectorizer.train(tagged_train_docs, \n",
    "                         total_examples=doc_vectorizer.corpus_count, \n",
    "                         epochs=doc_vectorizer.iter)\n",
    "    doc_vectorizer.alpha -= 0.002 # decrease the learning rate\n",
    "    doc_vectorizer.min_alpha = doc_vectorizer.alpha # fix the learning rate, no decay\n"
   ]
  },
  {
   "cell_type": "code",
   "execution_count": 14,
   "metadata": {},
   "outputs": [
    {
     "name": "stderr",
     "output_type": "stream",
     "text": [
      "2018-06-23 16:17:43,011 : INFO : saving Doc2Vec object under Doc2vec_dm_naver.model, separately None\n",
      "2018-06-23 16:17:43,352 : INFO : saved Doc2vec_dm_naver.model\n"
     ]
    }
   ],
   "source": [
    "model_name = 'Doc2vec_dm_naver.model'\n",
    "doc_vectorizer.save(model_name)"
   ]
  },
  {
   "cell_type": "code",
   "execution_count": 15,
   "metadata": {},
   "outputs": [
    {
     "name": "stderr",
     "output_type": "stream",
     "text": [
      "2018-06-23 16:18:00,620 : INFO : loading Doc2Vec object from Doc2vec_dm_naver.model\n",
      "2018-06-23 16:18:00,880 : INFO : loading vocabulary recursively from Doc2vec_dm_naver.model.vocabulary.* with mmap=None\n",
      "2018-06-23 16:18:00,881 : INFO : loading trainables recursively from Doc2vec_dm_naver.model.trainables.* with mmap=None\n",
      "2018-06-23 16:18:00,881 : INFO : loading wv recursively from Doc2vec_dm_naver.model.wv.* with mmap=None\n",
      "2018-06-23 16:18:00,882 : INFO : loading docvecs recursively from Doc2vec_dm_naver.model.docvecs.* with mmap=None\n",
      "2018-06-23 16:18:00,883 : INFO : loaded Doc2vec_dm_naver.model\n"
     ]
    }
   ],
   "source": [
    "doc_dbow_naver = doc2vec.Doc2Vec.load(model_name)\n"
   ]
  },
  {
   "cell_type": "code",
   "execution_count": 19,
   "metadata": {},
   "outputs": [
    {
     "name": "stdout",
     "output_type": "stream",
     "text": [
      "[('에반스/Noun', 0.24304839968681335),\n",
      " ('비중/Noun', 0.22372911870479584),\n",
      " ('업자/Noun', 0.21670472621917725),\n",
      " ('의드/Noun', 0.20631510019302368),\n",
      " ('극장판/Noun', 0.20278209447860718),\n",
      " ('세바퀴/Noun', 0.19723764061927795),\n",
      " ('빛/Noun', 0.19628781080245972),\n",
      " ('고혹/Noun', 0.1916559338569641),\n",
      " ('조이/Noun', 0.18985727429389954),\n",
      " ('게/Noun', 0.18824177980422974)]\n"
     ]
    },
    {
     "name": "stderr",
     "output_type": "stream",
     "text": [
      "/home/oj-pjt-03/anaconda3/lib/python3.6/site-packages/ipykernel_launcher.py:1: DeprecationWarning: Call to deprecated `most_similar` (Method will be removed in 4.0.0, use self.wv.most_similar() instead).\n",
      "  \"\"\"Entry point for launching an IPython kernel.\n"
     ]
    }
   ],
   "source": [
    "pprint(doc_dbow_naver.most_similar('남자/Noun'))\n"
   ]
  },
  {
   "cell_type": "code",
   "execution_count": 21,
   "metadata": {},
   "outputs": [
    {
     "name": "stdout",
     "output_type": "stream",
     "text": [
      "[['이게', '영화야?', ''], ['애니는', '일본이', '갑인듯'], ['롭', '코헨의', '몰락의', 'OO점', ''], ['감동적이다....', ''], ['제임스', '헷필드', '50먹고', '더', '파워풀해졌어ㅋㅋㅋㅋ']]\n",
      "[('1', -0.09687576442956924), ('0', -0.0998920425772667)]\n",
      "[('0', 0.0011044591665267944), ('1', -0.0052378810942173)]\n",
      "[('1', -0.015255899168550968), ('0', -0.048225872218608856)]\n",
      "[('1', -0.00586763396859169), ('0', -0.01486484706401825)]\n",
      "[('0', -0.01680712029337883), ('1', -0.08324410766363144)]\n"
     ]
    }
   ],
   "source": [
    "texts=['이게 영화야? '.split(' '),\n",
    "       '애니는 일본이 갑인듯'.split(' '),\n",
    "       '롭 코헨의 몰락의 OO점 '.split(' '),\n",
    "       '감동적이다.... '.split(' '),\n",
    "       '제임스 헷필드 50먹고 더 파워풀해졌어ㅋㅋㅋㅋ'.split(' ')\n",
    "       ]       \n",
    "print(texts)\n",
    "for txt in texts:\n",
    "    print(doc_vectorizer.docvecs.most_similar(positive=[doc_vectorizer.infer_vector(txt)],topn=2))\n"
   ]
  }
 ],
 "metadata": {
  "kernelspec": {
   "display_name": "Python 3",
   "language": "python",
   "name": "python3"
  },
  "language_info": {
   "codemirror_mode": {
    "name": "ipython",
    "version": 3
   },
   "file_extension": ".py",
   "mimetype": "text/x-python",
   "name": "python",
   "nbconvert_exporter": "python",
   "pygments_lexer": "ipython3",
   "version": "3.6.5"
  }
 },
 "nbformat": 4,
 "nbformat_minor": 2
}
